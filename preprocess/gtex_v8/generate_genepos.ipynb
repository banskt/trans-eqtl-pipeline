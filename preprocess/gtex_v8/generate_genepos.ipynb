{
 "cells": [
  {
   "cell_type": "code",
   "execution_count": 5,
   "metadata": {},
   "outputs": [
    {
     "name": "stdout",
     "output_type": "stream",
     "text": [
      "The autoreload extension is already loaded. To reload it, use:\n",
      "  %reload_ext autoreload\n"
     ]
    }
   ],
   "source": [
    "%load_ext autoreload\n",
    "%autoreload 2\n",
    "import numpy as np\n",
    "import matplotlib.pyplot as plt\n",
    "import os\n",
    "import sys\n",
    "sys.path.append('../')\n",
    "sys.path.append('/usr/users/fsimone/tejaas')\n",
    "from iotools import readgtf\n",
    "\n",
    "gtf_file = \"/cbscratch/franco/datasets/GENCODE/gencode.v26.annotation.gtf.gz\"\n",
    "gene_info = readgtf.gencode_v12(gtf_file, trim=False)"
   ]
  },
  {
   "cell_type": "code",
   "execution_count": 6,
   "metadata": {},
   "outputs": [],
   "source": [
    "with open(\"/cbscratch/franco/datasets/GENCODE/genepos.gencode.v26.txt\", 'w') as outstream:\n",
    "    outstream.write(\"geneid\\tchr\\tleft\\tright\\n\")\n",
    "    for x in gene_info:\n",
    "        outstream.write(\"{:s}\\tchr{:d}\\t{:d}\\t{:d}\\n\".format(x.ensembl_id, x.chrom, x.start, x.end))"
   ]
  },
  {
   "cell_type": "code",
   "execution_count": null,
   "metadata": {},
   "outputs": [],
   "source": []
  }
 ],
 "metadata": {
  "kernelspec": {
   "display_name": "Python 3",
   "language": "python",
   "name": "python3"
  },
  "language_info": {
   "codemirror_mode": {
    "name": "ipython",
    "version": 3
   },
   "file_extension": ".py",
   "mimetype": "text/x-python",
   "name": "python",
   "nbconvert_exporter": "python",
   "pygments_lexer": "ipython3",
   "version": "3.6.7"
  }
 },
 "nbformat": 4,
 "nbformat_minor": 2
}
