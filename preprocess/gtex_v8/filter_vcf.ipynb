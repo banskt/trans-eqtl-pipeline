{
 "cells": [
  {
   "cell_type": "code",
   "execution_count": 15,
   "metadata": {},
   "outputs": [
    {
     "name": "stdout",
     "output_type": "stream",
     "text": [
      "57 indels deleted\n",
      "164 complement snps deleted\n",
      "779 SNPs with MAF < 0.01\n"
     ]
    }
   ],
   "source": [
    "import os, re\n",
    "import gzip\n",
    "import collections\n",
    "import argparse\n",
    "\n",
    "vcffile = \"/cbscratch/franco/datasets/gtex_v8/genotypes/vcfs/GTEX_v8_2019-07-29_WGS_838Indiv_Freeze_NoMissingGT_chr22.vcf.gz\"\n",
    "\n",
    "SNP_COMPLEMENT = {'A':'T', 'C':'G', 'G':'C', 'T':'A'}\n",
    "\n",
    "dosage = list()\n",
    "snpinfo = list()\n",
    "linenum = 0\n",
    "indels_filter=0\n",
    "complement_filter=0\n",
    "maf_filter=0\n",
    "with gzip.open(vcffile, 'r') as vcf:\n",
    "    for line in vcf:\n",
    "        linestrip = line.decode().strip()\n",
    "        if linestrip[:2] == '##': continue\n",
    "        if linestrip[:6] == '#CHROM':\n",
    "            linesplit = linestrip.split(\"\\t\")\n",
    "            donor_ids = linesplit[9:]\n",
    "        else:\n",
    "            linesplit = linestrip.split(\"\\t\")\n",
    "            chrom = int(linesplit[0][3:])\n",
    "            pos   = int(linesplit[1])\n",
    "            varid = linesplit[2]\n",
    "            ref   = linesplit[3]\n",
    "            alt   = linesplit[4]\n",
    "\n",
    "            gtindx = linesplit[8].split(':').index(\"GT\")\n",
    "            gt = [x.split(':')[gtindx] for x in linesplit[9:]]\n",
    "            ds = [ float(int(x[0]) + int(x[2])) if len(x) == 3 and x[0] != \".\" and x[2] != \".\" else \".\" for x in gt ]\n",
    "\n",
    "            ds_notna = [float(x) for x in ds if x != \".\"]\n",
    "            freq = sum(ds_notna) / 2 / len(ds_notna)\n",
    "            maf = freq\n",
    "            snpdosage = [float(x) if x != '.' else 2 * freq for x in ds]\n",
    "\n",
    "            linenum+=1\n",
    "            if linenum > 1000:\n",
    "                break\n",
    "            # Skip indels\n",
    "            if len(ref) > 1 or len(alt) > 1:\n",
    "                indels_filter +=1\n",
    "                continue\n",
    "            # Skip ambiguous strands\n",
    "            if SNP_COMPLEMENT[ref] == alt:\n",
    "                complement_filter +=1\n",
    "                continue\n",
    "            if maf < 0.01:\n",
    "                maf_filter +=1\n",
    "                continue\n",
    "            \n",
    "print(\"{:d} indels deleted\".format(indels_filter))\n",
    "print(\"{:d} complement snps deleted\".format(complement_filter))\n",
    "print(\"{:d} SNPs with MAF < 0.01\".format(maf_filter))"
   ]
  },
  {
   "cell_type": "code",
   "execution_count": null,
   "metadata": {},
   "outputs": [],
   "source": []
  }
 ],
 "metadata": {
  "kernelspec": {
   "display_name": "Python 3",
   "language": "python",
   "name": "python3"
  },
  "language_info": {
   "codemirror_mode": {
    "name": "ipython",
    "version": 3
   },
   "file_extension": ".py",
   "mimetype": "text/x-python",
   "name": "python",
   "nbconvert_exporter": "python",
   "pygments_lexer": "ipython3",
   "version": "3.6.7"
  }
 },
 "nbformat": 4,
 "nbformat_minor": 2
}
