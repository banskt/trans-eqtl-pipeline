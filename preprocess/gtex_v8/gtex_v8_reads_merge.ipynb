{
 "cells": [
  {
   "cell_type": "code",
   "execution_count": 7,
   "metadata": {},
   "outputs": [
    {
     "name": "stdout",
     "output_type": "stream",
     "text": [
      "Processed 1000 genes\n",
      "Processed 2000 genes\n",
      "Processed 3000 genes\n",
      "Processed 4000 genes\n",
      "Processed 5000 genes\n",
      "Processed 6000 genes\n",
      "Processed 7000 genes\n",
      "Processed 8000 genes\n",
      "Processed 9000 genes\n",
      "Processed 10000 genes\n",
      "Processed 11000 genes\n",
      "Processed 12000 genes\n",
      "Processed 13000 genes\n",
      "Processed 14000 genes\n",
      "Processed 15000 genes\n",
      "Processed 16000 genes\n",
      "Processed 17000 genes\n",
      "Processed 18000 genes\n",
      "Processed 19000 genes\n",
      "Processed 20000 genes\n",
      "Processed 21000 genes\n",
      "Processed 22000 genes\n",
      "Processed 23000 genes\n",
      "Processed 24000 genes\n",
      "Processed 25000 genes\n",
      "Processed 26000 genes\n",
      "Processed 27000 genes\n",
      "Processed 28000 genes\n",
      "Processed 29000 genes\n",
      "Processed 30000 genes\n",
      "Processed 31000 genes\n",
      "Processed 32000 genes\n",
      "Processed 33000 genes\n",
      "Processed 34000 genes\n",
      "Processed 35000 genes\n",
      "Processed 36000 genes\n",
      "Processed 37000 genes\n",
      "Processed 38000 genes\n",
      "Processed 39000 genes\n",
      "Processed 40000 genes\n",
      "Processed 41000 genes\n",
      "Processed 42000 genes\n",
      "Processed 43000 genes\n",
      "Processed 44000 genes\n",
      "Processed 45000 genes\n",
      "Processed 46000 genes\n",
      "Processed 47000 genes\n",
      "Processed 48000 genes\n",
      "Processed 49000 genes\n",
      "Processed 50000 genes\n",
      "Processed 51000 genes\n",
      "Processed 52000 genes\n",
      "Processed 53000 genes\n"
     ]
    }
   ],
   "source": [
    "import gzip\n",
    "import numpy as np\n",
    "import re\n",
    "\n",
    "inmatx = \"/cbscratch/franco/datasets/gtex_v8/expression/gtex_portal/phASER_GTEx_v8_matrix.txt.gz\"\n",
    "outmatx = \"/cbscratch/franco/datasets/gtex_v8/expression/gtex_portal/phASER_GTEx_v8_matrix_collapsed_counts.txt.gz\"\n",
    "\n",
    "l=0\n",
    "with gzip.open(outmatx, 'wb') as outstream:\n",
    "    with gzip.open(inmatx) as instream:\n",
    "        header = instream.readline().decode()\n",
    "        harr   = header.split()\n",
    "        sample_ids = harr[4:]\n",
    "        idline = \"\\t\".join(sample_ids)\n",
    "        hline  = harr[1]+\"\\t\"+idline+\"\\n\"\n",
    "        outstream.write(hline.encode())\n",
    "        for line in instream:\n",
    "            arr = line.decode().rstrip().split()\n",
    "            if re.search(r'[XYM]', arr[0][3:]):\n",
    "                continue\n",
    "            counts = [np.sum(np.array(x.split(\"|\"), dtype=int)) for x in arr[4:] ]\n",
    "            countline = arr[1]+\"\\t\"+\"\\t\".join([str(i) for i in counts])+\"\\n\"\n",
    "            outstream.write(countline.encode())\n",
    "            l += 1\n",
    "            if (l % 1000) == 0:\n",
    "                print(\"Processed {:d} genes\".format(l))"
   ]
  }
 ],
 "metadata": {
  "kernelspec": {
   "display_name": "Python 3",
   "language": "python",
   "name": "python3"
  },
  "language_info": {
   "codemirror_mode": {
    "name": "ipython",
    "version": 3
   },
   "file_extension": ".py",
   "mimetype": "text/x-python",
   "name": "python",
   "nbconvert_exporter": "python",
   "pygments_lexer": "ipython3",
   "version": "3.6.7"
  }
 },
 "nbformat": 4,
 "nbformat_minor": 2
}
