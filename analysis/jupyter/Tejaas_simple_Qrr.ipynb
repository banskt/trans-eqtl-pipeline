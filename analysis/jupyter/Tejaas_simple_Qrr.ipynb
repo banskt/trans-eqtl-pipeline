{
 "cells": [
  {
   "cell_type": "code",
   "execution_count": 19,
   "metadata": {},
   "outputs": [],
   "source": [
    "import os, re\n",
    "import sys\n",
    "# sys.path.append('../')\n",
    "# sys.path.append('/usr/users/fsimone/tejaas')\n",
    "\n",
    "import numpy as np\n",
    "import collections\n",
    "# import gzip\n",
    "import random\n",
    "\n",
    "from scipy import stats\n",
    "from sklearn.decomposition import PCA\n"
   ]
  },
  {
   "cell_type": "code",
   "execution_count": 7,
   "metadata": {},
   "outputs": [],
   "source": [
    "SNPINFO_FIELDS = ['chrom', 'varid', 'bp_pos', 'ref_allele', 'alt_allele', 'maf']\n",
    "class SnpInfo(collections.namedtuple('_SnpInfo', SNPINFO_FIELDS)):\n",
    "    __slots__ = ()\n",
    "\n",
    "SNP_COMPLEMENT = {'A':'T', 'C':'G', 'G':'C', 'T':'A'}\n",
    "\n",
    "def normalize_and_center_dosage(dosage, snpinfo):\n",
    "    f = [snp.maf for snp in snpinfo]\n",
    "    f = np.array(f).reshape(-1, 1)\n",
    "    gtnorm = (dosage - (2 * f)) / np.sqrt(2 * f * (1 - f))\n",
    "    gtcent = dosage - np.mean(dosage, axis = 1).reshape(-1, 1)\n",
    "    return gtnorm, gtcent #rr uses gtcent\n",
    "\n",
    "def normalize_expr(Y):\n",
    "    if isinstance(Y, pd.DataFrame):\n",
    "        Y_cent = (Y.values - np.mean(Y.values, axis = 1).reshape(-1, 1)) / np.std(Y.values, axis = 1).reshape(-1, 1)\n",
    "        Y_cent = pd.DataFrame(Y_cent, index=Y.index, columns=Y.columns)\n",
    "        Y_cent.index.name = Y.index.name\n",
    "    else:\n",
    "        Y_cent = (Y - np.mean(Y, axis = 1).reshape(-1, 1)) / np.std(Y, axis = 1).reshape(-1, 1)\n",
    "    return Y_cent\n",
    "\n",
    "def sample_from_maf(nsample, maf):\n",
    "    dosage = np.zeros(nsample)\n",
    "    mafratios = np.array([(1 - maf)**2, 2 * maf * (1 - maf), maf**2])\n",
    "    nfreq  = np.random.multinomial(nsample, mafratios, size=1)[0]\n",
    "    f1 = np.repeat(0, nfreq[0])\n",
    "    f2 = np.repeat(1, nfreq[1])\n",
    "    f3 = np.repeat(2, nfreq[2])\n",
    "    x  = np.concatenate((f1,f2,f3))\n",
    "    dosage = np.random.permutation(x)\n",
    "    # gtnorm = (dosage - (2 * maf2d)) / np.sqrt(2 * maf2d * (1 - maf2d))\n",
    "    gtcent = dosage - np.mean(dosage)\n",
    "\n",
    "    return gtcent, dosage\n",
    "\n",
    "def simulate_gt(nsnps, nsample):\n",
    "    mafs = np.linspace(0.1, 0.9, nsnps)\n",
    "    gtcent = np.zeros((nsnps, nsample))\n",
    "    dosage = np.zeros((nsnps, nsample))\n",
    "    snpinfo = list()\n",
    "    for i in range(nsnps):\n",
    "        gtcent[i,:], dosage[i,:] = sample_from_maf(nsample, mafs[i])\n",
    "        this_snp = SnpInfo(chrom      = 1,\n",
    "                           bp_pos     = i*100,\n",
    "                           varid      = \"rsid\"+str(i),\n",
    "                           ref_allele = \"A\",\n",
    "                           alt_allele = \"G\",\n",
    "                           maf        = mafs[i])\n",
    "        snpinfo.append(this_snp)\n",
    "    return gtcent, dosage, snpinfo\n",
    "\n",
    "def knn_correction(expr, dosage, K, f=1):\n",
    "    assert (expr.shape[0] == dosage.shape[1])\n",
    "    pca = PCA(n_components=int(f * min(expr.shape[0], expr.shape[1]) ))\n",
    "#     print(\"Original dimension: {:d} x {:d}\".format(expr.shape[0], expr.shape[1]))\n",
    "    pca.fit(expr) # requires N x G\n",
    "    expr_pca = pca.transform(expr)\n",
    "#     print(\"Reduced dimension: {:d} x {:d}\".format(expr_pca.shape[0], expr_pca.shape[1]))\n",
    "\n",
    "    def gene_distance(a, b):\n",
    "        return np.linalg.norm(a - b)\n",
    "\n",
    "    nsample = expr.shape[0]\n",
    "    distance_matrix = np.zeros((nsample, nsample))\n",
    "    for i in range(nsample):\n",
    "        for j in range(i+1, nsample):\n",
    "            dist = gene_distance(expr_pca[i,:], expr_pca[j,:])\n",
    "            distance_matrix[i, j] = dist\n",
    "            distance_matrix[j, i] = dist\n",
    "\n",
    "    kneighbor = K\n",
    "    gx_knn = np.zeros_like(expr)\n",
    "    gt_knn = np.zeros_like(dosage)\n",
    "    neighbor_list = list()\n",
    "\n",
    "    for i in range(nsample):\n",
    "        neighbors = np.argsort(distance_matrix[i, :])[:kneighbor + 1][1:]\n",
    "        gx_knn[i, :] = expr[i, :] - np.mean(expr[neighbors, :], axis = 0)\n",
    "        # noisy_neighbors = np.random.choice(neighbors, size = int(2 * kneighbor / 3), replace = False)\n",
    "        # noisy_neighbors = np.random.choice(neighbors, size = kneighbor, replace = True )\n",
    "        noisy_neighbors = neighbors\n",
    "        gt_knn[:, i] = dosage[:, i] - np.mean(dosage[:, noisy_neighbors], axis = 1)\n",
    "        neighbor_list.append(neighbors)\n",
    "\n",
    "    return gx_knn, gt_knn\n",
    "\n",
    "# # PCA correction - Won't work: makes some singular values == 0\n",
    "# AKANKSHA: Use this to simulate CCLM correction\n",
    "def PCA_correction(gx, nComp = 5):\n",
    "    pca = PCA()\n",
    "    pca.fit(gx.T)\n",
    "    gx_pca = np.dot(pca.transform(gx.T)[:, nComp:], pca.components_[nComp:,:]).T\n",
    "    gx_pca_norm = normalize_expr(gx_pca)\n",
    "    return gx_pca_norm"
   ]
  },
  {
   "cell_type": "code",
   "execution_count": 4,
   "metadata": {},
   "outputs": [],
   "source": [
    "def pvals_perm(GT, R, W):\n",
    "    mu2, mu4 = moment_data(GT)\n",
    "    N = GT.shape[1]\n",
    "    q11 = np.sum(W)\n",
    "    q2  = np.sum(np.diag(W))\n",
    "    muQ = mu2 * (N * q2 - q11) / (N - 1)\n",
    "\n",
    "    v31 = - mu4 / (N - 1)\n",
    "    v22 = v31 + (N * mu2 * mu2 / (N - 1)) #(N*(mu2**2) - mu4)/(N-1)\n",
    "    v211 = - (v31 + v22) / (N - 2)\n",
    "    v1111 = - 3 * v211 / (N - 3)\n",
    "\n",
    "    q31 = np.dot(np.diag(W),np.sum(W,axis = 1))\n",
    "    q4 = np.sum(np.square(np.diag(W)))\n",
    "    q22 = np.sum(np.square(W))\n",
    "    q211 = np.sum(np.square(np.sum(W,axis = 1)))\n",
    "\n",
    "    sigma2 = v1111*(q11**2 - 2*q2*q11 - 4*q211 + 8*q31 + 2*q22 + q2**2 - 6*q4) + 2*v211*(q2*q11 + 2*q211 - 6*q31 - 2*q22 - q2**2 + 6*q4) + v22*(q2**2 + 2*q22 - 3*q4) + 4*v31*(q31 - q4) + mu4*q4\n",
    "\n",
    "    sigma2 = sigma2 - muQ**2\n",
    "    sigmaQ = np.sqrt(sigma2)\n",
    "    p = 1 - stats.norm.cdf(R, loc=muQ, scale=sigmaQ)\n",
    "    return p, muQ, sigmaQ\n",
    "\n",
    "def moment_data(GT):   #GT ixN\n",
    "    GT2 = np.square(GT)\n",
    "    GT4 = np.square(GT2)\n",
    "    mu2 = np.mean(GT2)\n",
    "    mu4 = np.mean(GT4)\n",
    "    return mu2, mu4"
   ]
  },
  {
   "cell_type": "code",
   "execution_count": 15,
   "metadata": {},
   "outputs": [],
   "source": [
    "import pandas as pd\n",
    "tissue=\"as\"\n",
    "df = pd.read_csv(\"/cbscratch/franco/trans-eqtl/new_preprocess_feb2020_freeze/gtex_v8/expression/tpms/{:s}_tpms_qcfilter.txt.protein_coding_lncRNA_filtered\".format(tissue), header=0, index_col=0, sep=\"\\t\")\n",
    "gx_norm = normalize_expr(df)"
   ]
  },
  {
   "cell_type": "code",
   "execution_count": 16,
   "metadata": {},
   "outputs": [],
   "source": [
    "nsnps   = 10\n",
    "nsample = gx_norm.shape[1]\n",
    "gt_cent, dosage, snpinfo = simulate_gt(nsnps, nsample)\n",
    "# gt_norm, gt_cent = normalize_and_center_dosage(dosage, snp_info)"
   ]
  },
  {
   "cell_type": "code",
   "execution_count": 17,
   "metadata": {},
   "outputs": [
    {
     "name": "stdout",
     "output_type": "stream",
     "text": [
      "(15673, 581)\n",
      "(10, 581)\n"
     ]
    }
   ],
   "source": [
    "print(gx_norm.shape)\n",
    "print(gt_cent.shape)"
   ]
  },
  {
   "cell_type": "code",
   "execution_count": 20,
   "metadata": {},
   "outputs": [],
   "source": [
    "def tejaas_rr(myGT, myGX, sigmax2, sb2):\n",
    "    nsnps  = myGT.shape[0]\n",
    "    Rscore = np.zeros(nsnps)\n",
    "    pvals  = np.zeros(nsnps)\n",
    "    muQ    = np.zeros(nsnps)\n",
    "    sigmaQ = np.zeros(nsnps)\n",
    "    Keff   = np.zeros(nsnps)\n",
    "\n",
    "    Yt = myGX.T\n",
    "    U, S, Vt = np.linalg.svd(Yt, full_matrices=False)\n",
    "    S2 = np.square(S)\n",
    "    \n",
    "    for j in range(nsnps):       \n",
    "        S2mod = S2 + (sigmax2[j] / sb2[j])\n",
    "        Keff[j] = np.sum(S2/S2mod)\n",
    "        \n",
    "        W = np.dot(U, np.dot(np.diag(S2 / S2mod), U.T)) / sigmax2[j]\n",
    "        Rscore[j] = np.sum(np.square(np.dot(U.T, myGT[j,:])) * (S2 / S2mod)) / sigmax2[j]\n",
    "        \n",
    "        pvals[j], muQ[j], sigmaQ[j] = pvals_perm(myGT[j, :].reshape(1, -1), Rscore[j], W)\n",
    "               \n",
    "    return pvals, Rscore, muQ, sigmaQ\n",
    "\n",
    "myGT     = gt_cent # centered genotype with I x N dimensions\n",
    "myGX     = gx_norm # normalized expression with G x N dimensions\n",
    "sigmax2  = np.var(gt_cent, axis = 1)\n",
    "sb2      = np.repeat(0.1*0.1, gt_cent.shape[0])\n",
    "\n",
    "\n",
    "pvals, qscores, muq, sigmaq = tejaas_rr(myGT, myGX, sigmax2, sb2)\n"
   ]
  },
  {
   "cell_type": "code",
   "execution_count": 21,
   "metadata": {},
   "outputs": [
    {
     "data": {
      "text/plain": [
       "array([0.91843845, 0.72760191, 0.46101529, 0.3730149 , 0.58740355,\n",
       "       0.26223988, 0.66657896, 0.9323613 , 0.23600721, 0.67487841])"
      ]
     },
     "execution_count": 21,
     "metadata": {},
     "output_type": "execute_result"
    }
   ],
   "source": [
    "pvals"
   ]
  },
  {
   "cell_type": "code",
   "execution_count": 22,
   "metadata": {},
   "outputs": [
    {
     "data": {
      "text/plain": [
       "array([580.26279521, 579.59529348, 579.13145437, 578.88778053,\n",
       "       578.87592011, 578.93962931, 578.88255463, 579.16205642,\n",
       "       579.59899833, 580.03396361])"
      ]
     },
     "execution_count": 22,
     "metadata": {},
     "output_type": "execute_result"
    }
   ],
   "source": [
    "qscores"
   ]
  },
  {
   "cell_type": "code",
   "execution_count": null,
   "metadata": {},
   "outputs": [],
   "source": []
  }
 ],
 "metadata": {
  "kernelspec": {
   "display_name": "Python 3",
   "language": "python",
   "name": "python3"
  },
  "language_info": {
   "codemirror_mode": {
    "name": "ipython",
    "version": 3
   },
   "file_extension": ".py",
   "mimetype": "text/x-python",
   "name": "python",
   "nbconvert_exporter": "python",
   "pygments_lexer": "ipython3",
   "version": "3.7.3"
  }
 },
 "nbformat": 4,
 "nbformat_minor": 2
}
