{
 "cells": [
  {
   "cell_type": "code",
   "execution_count": 15,
   "metadata": {},
   "outputs": [],
   "source": [
    "import os\n",
    "import sys\n",
    "sys.path.append('../')\n",
    "from utils import utils\n",
    "import json\n",
    "json_file = \"../gtex_v8_metadata.json\"\n",
    "with open(json_file) as instream:\n",
    "    gtex_meta = json.load(instream)\n",
    "    \n",
    "tissue_file = \"/usr/users/fsimone/trans-eqtl-pipeline/main/tissues.txt\"\n",
    "tissues, orig_descriptions = utils.read_tissues(tissue_file, plain=True)\n",
    "tissues, descriptions = utils.read_tissues(tissue_file)\n",
    "tissue_names   = dict()\n",
    "tissue_colors  = dict()\n",
    "tissue_samples = dict()\n",
    "for tshort, tfull in zip(tissues, descriptions):\n",
    "    tissue_names[tshort] = tfull\n",
    "    tissue_colors[tshort] = \"#\" + gtex_meta[tfull.replace(\" \", \"_\")][\"colorHex\"]\n",
    "    tissue_samples[tshort] = gtex_meta[tfull.replace(\" \", \"_\")][\"rnaSeqAndGenotypeSampleCount\"]"
   ]
  },
  {
   "cell_type": "code",
   "execution_count": 16,
   "metadata": {},
   "outputs": [
    {
     "name": "stdout",
     "output_type": "stream",
     "text": [
      "Adipose - Subcutaneous\tas\t60\n",
      "Adipose - Visceral (Omentum)\tav\t60\n",
      "Adrenal Gland\tag\t30\n",
      "Artery - Aorta\taa\t60\n",
      "Artery - Coronary\tac\t30\n",
      "Artery - Tibial\tat\t60\n",
      "Brain - Amygdala\tbam\t15\n",
      "Brain - Anterior cingulate cortex (BA24)\tban\t15\n",
      "Brain - Caudate (basal ganglia)\tbca\t30\n",
      "Brain - Cerebellar Hemisphere\tbceh\t30\n",
      "Brain - Cerebellum\tbce\t30\n",
      "Brain - Cortex\tbco\t30\n",
      "Brain - Frontal Cortex (BA9)\tbfr\t30\n",
      "Brain - Hippocampus\tbhi\t30\n",
      "Brain - Hypothalamus\tbhy\t30\n",
      "Brain - Nucleus accumbens (basal ganglia)\tbnu\t30\n",
      "Brain - Putamen (basal ganglia)\tbpu\t30\n",
      "Brain - Spinal cord (cervical c-1)\tbsp\t15\n",
      "Brain - Substantia nigra\tbsu\t15\n",
      "Breast - Mammary Tissue\tbr\t60\n",
      "Cells - EBV-transformed lymphocytes\tebv\t15\n",
      "Cells - Cultured fibroblasts\tfib\t60\n",
      "Colon - Sigmoid\tcols\t45\n",
      "Colon - Transverse\tcolt\t60\n",
      "Esophagus - Gastroesophageal Junction\tesog\t45\n",
      "Esophagus - Mucosa\tesom\t60\n",
      "Esophagus - Muscularis\tesomu\t60\n",
      "Heart - Atrial Appendage\thaa\t60\n",
      "Heart - Left Ventricle\thlv\t60\n",
      "Kidney - Cortex\tkc\t15\n",
      "Liver\tliv\t30\n",
      "Lung\tlu\t60\n",
      "Minor Salivary Gland\tmsg\t15\n",
      "Muscle - Skeletal\tms\t60\n",
      "Nerve - Tibial\tnt\t60\n",
      "Pancreas\tpan\t45\n",
      "Pituitary\tpit\t30\n",
      "Skin - Not Sun Exposed (Suprapubic)\tsnse\t60\n",
      "Skin - Sun Exposed (Lower leg)\tsse\t60\n",
      "Small Intestine - Terminal Ileum\tsi\t30\n",
      "Spleen\tspl\t30\n",
      "Stomach\tsto\t45\n",
      "Thyroid\tthy\t60\n",
      "Whole Blood\twb\t60\n",
      "Ovary\tov\t30\n",
      "Prostate\tpro\t30\n",
      "Testis\ttes\t45\n",
      "Uterus\tut\t15\n",
      "Vagina\tva\t15\n",
      "Bladder\tbl\t15\n"
     ]
    }
   ],
   "source": [
    "def set_NPEER(nsample):\n",
    "    if nsample <= 0:\n",
    "        raise\n",
    "    if nsample < 150:\n",
    "        return 15\n",
    "    if 150 <= nsample < 250:\n",
    "        return 30\n",
    "    if 250 <= nsample < 350:\n",
    "        return 45\n",
    "    if nsample >= 350:\n",
    "        return 60\n",
    "    \n",
    "for tshort, desc in zip(tissues, orig_descriptions):\n",
    "    print(\"{:s}\\t{:s}\\t{:d}\".format(desc, tshort, set_NPEER(tissue_samples[tshort])))"
   ]
  },
  {
   "cell_type": "code",
   "execution_count": null,
   "metadata": {},
   "outputs": [],
   "source": []
  }
 ],
 "metadata": {
  "kernelspec": {
   "display_name": "Python 3",
   "language": "python",
   "name": "python3"
  },
  "language_info": {
   "codemirror_mode": {
    "name": "ipython",
    "version": 3
   },
   "file_extension": ".py",
   "mimetype": "text/x-python",
   "name": "python",
   "nbconvert_exporter": "python",
   "pygments_lexer": "ipython3",
   "version": "3.6.7"
  }
 },
 "nbformat": 4,
 "nbformat_minor": 2
}
