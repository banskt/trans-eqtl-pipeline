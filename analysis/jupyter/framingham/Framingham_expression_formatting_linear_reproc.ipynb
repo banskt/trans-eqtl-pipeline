{
 "cells": [
  {
   "cell_type": "code",
   "execution_count": 1,
   "metadata": {},
   "outputs": [
    {
     "data": {
      "text/html": [
       "<div>\n",
       "<style scoped>\n",
       "    .dataframe tbody tr th:only-of-type {\n",
       "        vertical-align: middle;\n",
       "    }\n",
       "\n",
       "    .dataframe tbody tr th {\n",
       "        vertical-align: top;\n",
       "    }\n",
       "\n",
       "    .dataframe thead th {\n",
       "        text-align: right;\n",
       "    }\n",
       "</style>\n",
       "<table border=\"1\" class=\"dataframe\">\n",
       "  <thead>\n",
       "    <tr style=\"text-align: right;\">\n",
       "      <th></th>\n",
       "      <th>KAW101122_FHS_OFF_13A07.CEL</th>\n",
       "      <th>KAW101122_FHS_OFF_13A08.CEL</th>\n",
       "      <th>KAW101122_FHS_OFF_13A09.CEL</th>\n",
       "      <th>KAW101122_FHS_OFF_13A10.CEL</th>\n",
       "      <th>KAW101122_FHS_OFF_13A11.CEL</th>\n",
       "      <th>KAW101122_FHS_OFF_13A12.CEL</th>\n",
       "      <th>KAW101122_FHS_OFF_13B07.CEL</th>\n",
       "      <th>KAW101122_FHS_OFF_13B08.CEL</th>\n",
       "      <th>KAW101122_FHS_OFF_13B10.CEL</th>\n",
       "      <th>KAW101122_FHS_OFF_13B12.CEL</th>\n",
       "      <th>...</th>\n",
       "      <th>RWX110726_FHS_OFF_43F11.CEL</th>\n",
       "      <th>RWX110726_FHS_OFF_43F12.CEL</th>\n",
       "      <th>RWX110726_FHS_OFF_43G07.CEL</th>\n",
       "      <th>RWX110726_FHS_OFF_43G08.CEL</th>\n",
       "      <th>RWX110726_FHS_OFF_43G12.CEL</th>\n",
       "      <th>RWX110726_FHS_OFF_43H08.CEL</th>\n",
       "      <th>RWX110726_FHS_OFF_43H09.CEL</th>\n",
       "      <th>RWX110726_FHS_OFF_43H10.CEL</th>\n",
       "      <th>RWX110726_FHS_OFF_43H11.CEL</th>\n",
       "      <th>RWX110726_FHS_OFF_43H12.CEL</th>\n",
       "    </tr>\n",
       "    <tr>\n",
       "      <th>probeset_id</th>\n",
       "      <th></th>\n",
       "      <th></th>\n",
       "      <th></th>\n",
       "      <th></th>\n",
       "      <th></th>\n",
       "      <th></th>\n",
       "      <th></th>\n",
       "      <th></th>\n",
       "      <th></th>\n",
       "      <th></th>\n",
       "      <th></th>\n",
       "      <th></th>\n",
       "      <th></th>\n",
       "      <th></th>\n",
       "      <th></th>\n",
       "      <th></th>\n",
       "      <th></th>\n",
       "      <th></th>\n",
       "      <th></th>\n",
       "      <th></th>\n",
       "      <th></th>\n",
       "    </tr>\n",
       "  </thead>\n",
       "  <tbody>\n",
       "    <tr>\n",
       "      <th>3948543</th>\n",
       "      <td>6.67817</td>\n",
       "      <td>6.37971</td>\n",
       "      <td>7.06811</td>\n",
       "      <td>6.78611</td>\n",
       "      <td>7.15288</td>\n",
       "      <td>6.97518</td>\n",
       "      <td>7.67341</td>\n",
       "      <td>7.05253</td>\n",
       "      <td>6.61224</td>\n",
       "      <td>6.82546</td>\n",
       "      <td>...</td>\n",
       "      <td>7.16723</td>\n",
       "      <td>6.74604</td>\n",
       "      <td>6.76553</td>\n",
       "      <td>6.80014</td>\n",
       "      <td>7.51435</td>\n",
       "      <td>7.16899</td>\n",
       "      <td>6.90484</td>\n",
       "      <td>6.51067</td>\n",
       "      <td>6.77604</td>\n",
       "      <td>7.37774</td>\n",
       "    </tr>\n",
       "    <tr>\n",
       "      <th>3063807</th>\n",
       "      <td>6.56876</td>\n",
       "      <td>6.72635</td>\n",
       "      <td>6.69571</td>\n",
       "      <td>6.56056</td>\n",
       "      <td>6.85085</td>\n",
       "      <td>6.57536</td>\n",
       "      <td>6.85846</td>\n",
       "      <td>6.72605</td>\n",
       "      <td>6.49165</td>\n",
       "      <td>6.59188</td>\n",
       "      <td>...</td>\n",
       "      <td>6.70922</td>\n",
       "      <td>6.77961</td>\n",
       "      <td>6.53724</td>\n",
       "      <td>6.52577</td>\n",
       "      <td>6.33055</td>\n",
       "      <td>6.55037</td>\n",
       "      <td>6.28101</td>\n",
       "      <td>7.34123</td>\n",
       "      <td>6.44462</td>\n",
       "      <td>6.59874</td>\n",
       "    </tr>\n",
       "    <tr>\n",
       "      <th>3096575</th>\n",
       "      <td>9.54707</td>\n",
       "      <td>9.70149</td>\n",
       "      <td>10.08249</td>\n",
       "      <td>9.57383</td>\n",
       "      <td>9.81699</td>\n",
       "      <td>9.67372</td>\n",
       "      <td>9.55754</td>\n",
       "      <td>9.48058</td>\n",
       "      <td>8.93595</td>\n",
       "      <td>9.54441</td>\n",
       "      <td>...</td>\n",
       "      <td>9.41789</td>\n",
       "      <td>10.01994</td>\n",
       "      <td>10.46640</td>\n",
       "      <td>9.40273</td>\n",
       "      <td>10.10550</td>\n",
       "      <td>10.14921</td>\n",
       "      <td>10.64162</td>\n",
       "      <td>10.90012</td>\n",
       "      <td>10.11623</td>\n",
       "      <td>10.55677</td>\n",
       "    </tr>\n",
       "    <tr>\n",
       "      <th>2949118</th>\n",
       "      <td>8.60419</td>\n",
       "      <td>8.72484</td>\n",
       "      <td>8.59416</td>\n",
       "      <td>8.51129</td>\n",
       "      <td>9.01269</td>\n",
       "      <td>8.68304</td>\n",
       "      <td>8.65250</td>\n",
       "      <td>8.31159</td>\n",
       "      <td>8.13737</td>\n",
       "      <td>8.78796</td>\n",
       "      <td>...</td>\n",
       "      <td>9.89928</td>\n",
       "      <td>8.85238</td>\n",
       "      <td>8.84170</td>\n",
       "      <td>8.64460</td>\n",
       "      <td>8.60613</td>\n",
       "      <td>8.85688</td>\n",
       "      <td>8.38733</td>\n",
       "      <td>9.59147</td>\n",
       "      <td>8.34878</td>\n",
       "      <td>8.54850</td>\n",
       "    </tr>\n",
       "    <tr>\n",
       "      <th>3227645</th>\n",
       "      <td>6.41693</td>\n",
       "      <td>6.56696</td>\n",
       "      <td>6.48838</td>\n",
       "      <td>6.63988</td>\n",
       "      <td>6.82505</td>\n",
       "      <td>6.50736</td>\n",
       "      <td>6.85953</td>\n",
       "      <td>6.53436</td>\n",
       "      <td>6.66297</td>\n",
       "      <td>6.50209</td>\n",
       "      <td>...</td>\n",
       "      <td>6.64757</td>\n",
       "      <td>7.06138</td>\n",
       "      <td>6.91763</td>\n",
       "      <td>6.61521</td>\n",
       "      <td>6.84290</td>\n",
       "      <td>6.86014</td>\n",
       "      <td>6.57947</td>\n",
       "      <td>7.03491</td>\n",
       "      <td>6.35289</td>\n",
       "      <td>6.74932</td>\n",
       "    </tr>\n",
       "  </tbody>\n",
       "</table>\n",
       "<p>5 rows × 2311 columns</p>\n",
       "</div>"
      ],
      "text/plain": [
       "             KAW101122_FHS_OFF_13A07.CEL  KAW101122_FHS_OFF_13A08.CEL  \\\n",
       "probeset_id                                                             \n",
       "3948543                          6.67817                      6.37971   \n",
       "3063807                          6.56876                      6.72635   \n",
       "3096575                          9.54707                      9.70149   \n",
       "2949118                          8.60419                      8.72484   \n",
       "3227645                          6.41693                      6.56696   \n",
       "\n",
       "             KAW101122_FHS_OFF_13A09.CEL  KAW101122_FHS_OFF_13A10.CEL  \\\n",
       "probeset_id                                                             \n",
       "3948543                          7.06811                      6.78611   \n",
       "3063807                          6.69571                      6.56056   \n",
       "3096575                         10.08249                      9.57383   \n",
       "2949118                          8.59416                      8.51129   \n",
       "3227645                          6.48838                      6.63988   \n",
       "\n",
       "             KAW101122_FHS_OFF_13A11.CEL  KAW101122_FHS_OFF_13A12.CEL  \\\n",
       "probeset_id                                                             \n",
       "3948543                          7.15288                      6.97518   \n",
       "3063807                          6.85085                      6.57536   \n",
       "3096575                          9.81699                      9.67372   \n",
       "2949118                          9.01269                      8.68304   \n",
       "3227645                          6.82505                      6.50736   \n",
       "\n",
       "             KAW101122_FHS_OFF_13B07.CEL  KAW101122_FHS_OFF_13B08.CEL  \\\n",
       "probeset_id                                                             \n",
       "3948543                          7.67341                      7.05253   \n",
       "3063807                          6.85846                      6.72605   \n",
       "3096575                          9.55754                      9.48058   \n",
       "2949118                          8.65250                      8.31159   \n",
       "3227645                          6.85953                      6.53436   \n",
       "\n",
       "             KAW101122_FHS_OFF_13B10.CEL  KAW101122_FHS_OFF_13B12.CEL  \\\n",
       "probeset_id                                                             \n",
       "3948543                          6.61224                      6.82546   \n",
       "3063807                          6.49165                      6.59188   \n",
       "3096575                          8.93595                      9.54441   \n",
       "2949118                          8.13737                      8.78796   \n",
       "3227645                          6.66297                      6.50209   \n",
       "\n",
       "                        ...               RWX110726_FHS_OFF_43F11.CEL  \\\n",
       "probeset_id             ...                                             \n",
       "3948543                 ...                                   7.16723   \n",
       "3063807                 ...                                   6.70922   \n",
       "3096575                 ...                                   9.41789   \n",
       "2949118                 ...                                   9.89928   \n",
       "3227645                 ...                                   6.64757   \n",
       "\n",
       "             RWX110726_FHS_OFF_43F12.CEL  RWX110726_FHS_OFF_43G07.CEL  \\\n",
       "probeset_id                                                             \n",
       "3948543                          6.74604                      6.76553   \n",
       "3063807                          6.77961                      6.53724   \n",
       "3096575                         10.01994                     10.46640   \n",
       "2949118                          8.85238                      8.84170   \n",
       "3227645                          7.06138                      6.91763   \n",
       "\n",
       "             RWX110726_FHS_OFF_43G08.CEL  RWX110726_FHS_OFF_43G12.CEL  \\\n",
       "probeset_id                                                             \n",
       "3948543                          6.80014                      7.51435   \n",
       "3063807                          6.52577                      6.33055   \n",
       "3096575                          9.40273                     10.10550   \n",
       "2949118                          8.64460                      8.60613   \n",
       "3227645                          6.61521                      6.84290   \n",
       "\n",
       "             RWX110726_FHS_OFF_43H08.CEL  RWX110726_FHS_OFF_43H09.CEL  \\\n",
       "probeset_id                                                             \n",
       "3948543                          7.16899                      6.90484   \n",
       "3063807                          6.55037                      6.28101   \n",
       "3096575                         10.14921                     10.64162   \n",
       "2949118                          8.85688                      8.38733   \n",
       "3227645                          6.86014                      6.57947   \n",
       "\n",
       "             RWX110726_FHS_OFF_43H10.CEL  RWX110726_FHS_OFF_43H11.CEL  \\\n",
       "probeset_id                                                             \n",
       "3948543                          6.51067                      6.77604   \n",
       "3063807                          7.34123                      6.44462   \n",
       "3096575                         10.90012                     10.11623   \n",
       "2949118                          9.59147                      8.34878   \n",
       "3227645                          7.03491                      6.35289   \n",
       "\n",
       "             RWX110726_FHS_OFF_43H12.CEL  \n",
       "probeset_id                               \n",
       "3948543                          7.37774  \n",
       "3063807                          6.59874  \n",
       "3096575                         10.55677  \n",
       "2949118                          8.54850  \n",
       "3227645                          6.74932  \n",
       "\n",
       "[5 rows x 2311 columns]"
      ]
     },
     "execution_count": 1,
     "metadata": {},
     "output_type": "execute_result"
    }
   ],
   "source": [
    "import pandas as pd\n",
    "import numpy as np\n",
    "\n",
    "infile_off = \"/cbscratch/franco/datasets/FHS/expression/linear_reprocessed/OFF_joehannes/Gene_OFF_reproc.txt\"\n",
    "expr_off_df = pd.read_csv(infile_off, sep=\"\\t\", header=0, index_col=0)\n",
    "expr_off_df.head()"
   ]
  },
  {
   "cell_type": "code",
   "execution_count": 4,
   "metadata": {
    "scrolled": true
   },
   "outputs": [
    {
     "data": {
      "text/plain": [
       "probeset_id\n",
       "3948543     6.71283\n",
       "3063807     6.57269\n",
       "3096575     9.87784\n",
       "2949118     8.45521\n",
       "3227645     6.69854\n",
       "4014076     3.99710\n",
       "2637819     2.67878\n",
       "3850234     7.07005\n",
       "3719161     9.23236\n",
       "2916345     6.80361\n",
       "2342904     5.72457\n",
       "3817464     6.88729\n",
       "2408437     6.55008\n",
       "3932148     7.69588\n",
       "3375091     7.02206\n",
       "3653619     6.80110\n",
       "2818035     5.79864\n",
       "3063795     6.60852\n",
       "2359282     7.62471\n",
       "2981874    11.03926\n",
       "3227634     6.58014\n",
       "2375664     8.67825\n",
       "3948528     6.25186\n",
       "3178480     5.16574\n",
       "2490351     4.13952\n",
       "3719150     5.34079\n",
       "3866605     7.76917\n",
       "2473965     6.84331\n",
       "3407849     3.37914\n",
       "3506153     7.21031\n",
       "             ...   \n",
       "2674290     6.99732\n",
       "2328521     6.84818\n",
       "3275308     3.25081\n",
       "3096534     5.51408\n",
       "3809752     3.91466\n",
       "2536484     8.89431\n",
       "2536392     7.35538\n",
       "3551770     8.04151\n",
       "2674391     5.28687\n",
       "3959696     5.68820\n",
       "3749750     9.26580\n",
       "2674478     2.14624\n",
       "3475186     2.28341\n",
       "3570073     6.79291\n",
       "3475005     7.20240\n",
       "3676735     9.89572\n",
       "2383793     6.26033\n",
       "2674305     8.54517\n",
       "3275448     6.40545\n",
       "3556050    10.60143\n",
       "3619193     1.81492\n",
       "3096490     8.12921\n",
       "3556314     6.13914\n",
       "3725906     2.65562\n",
       "3809814     2.22700\n",
       "2674321     7.34711\n",
       "2320138     9.95659\n",
       "3819701     7.42922\n",
       "2968418     7.39770\n",
       "3275568     4.94070\n",
       "Name: RWX100623_FHS_CCS_06A05.CEL, Length: 22011, dtype: float64"
      ]
     },
     "execution_count": 4,
     "metadata": {},
     "output_type": "execute_result"
    }
   ],
   "source": [
    "expr_off_df['RWX100623_FHS_CCS_06A05.CEL']"
   ]
  },
  {
   "cell_type": "code",
   "execution_count": 8,
   "metadata": {},
   "outputs": [
    {
     "name": "stdout",
     "output_type": "stream",
     "text": [
      "(22011, 2311)\n"
     ]
    }
   ],
   "source": [
    "print(expr_off_df.shape)"
   ]
  },
  {
   "cell_type": "code",
   "execution_count": 9,
   "metadata": {},
   "outputs": [],
   "source": [
    "U, S, Vt = np.linalg.svd(expr_off_df.values.T, full_matrices=False)"
   ]
  },
  {
   "cell_type": "code",
   "execution_count": 17,
   "metadata": {},
   "outputs": [
    {
     "data": {
      "image/png": "[encoded data removed]",
      "text/plain": [
       "<Figure size 432x288 with 1 Axes>"
      ]
     },
     "metadata": {},
     "output_type": "display_data"
    }
   ],
   "source": [
    "import matplotlib.pyplot as plt\n",
    "\n",
    "plt.scatter(np.arange(0,len(S)), S, alpha = 0.1, label=\"Adjusted\")\n",
    "\n",
    "# plt.scatter(np.arange(0,len(S)), np.log10(S[0:]), alpha = 0.1, label=\"Adjusted\")\n",
    "# plt.scatter(np.arange(0,len(S1)), np.log10(S1[0:]), alpha = 0.1, label=\"Unadjusted\")\n",
    "plt.legend()\n",
    "plt.show()"
   ]
  },
  {
   "cell_type": "code",
   "execution_count": 19,
   "metadata": {},
   "outputs": [
    {
     "name": "stdout",
     "output_type": "stream",
     "text": [
      "[48047.35753419  1208.0184822    864.90320079   595.69109141\n",
      "   549.06759866   476.85218852   458.20719607   418.33964559\n",
      "   360.34951852   325.57674526]\n",
      "[17.04680034 17.01831227 16.98805872 16.96075972 16.92333417 16.89433109\n",
      " 16.87411992 16.85746671 16.75692491 16.68725604]\n"
     ]
    }
   ],
   "source": [
    "print(S[:10])\n",
    "print(S[-10:])"
   ]
  },
  {
   "cell_type": "code",
   "execution_count": 12,
   "metadata": {},
   "outputs": [
    {
     "data": {
      "image/png": "[encoded data removed]",
      "text/plain": [
       "<Figure size 432x288 with 1 Axes>"
      ]
     },
     "metadata": {},
     "output_type": "display_data"
    }
   ],
   "source": [
    "plt.hist(expr_off_df.values[0,:], bins=50, alpha=0.2, label=\"no-adj\")\n",
    "plt.show()\n"
   ]
  },
  {
   "cell_type": "code",
   "execution_count": 1,
   "metadata": {},
   "outputs": [],
   "source": [
    "# import pandas as pd\n",
    "# import numpy as np\n",
    "\n",
    "# c1_infile_off = \"/cbscratch/franco/datasets/FHS/expression/c1/FinalFile_Gene_OFF_2446_c1.txt.gz\"\n",
    "# c1_infile_gen3 = \"/cbscratch/franco/datasets/FHS/expression/c1/Final_Gene_GENIII_3180_c1.txt.gz\"\n",
    "# c2_infile_off = \"/cbscratch/franco/datasets/FHS/expression/c2/FinalFile_Gene_OFF_2446_c2.txt.gz\"\n",
    "# c2_infile_gen3 = \"/cbscratch/franco/datasets/FHS/expression/c2/Final_Gene_GENIII_3180_c2.txt.gz\"\n",
    "\n",
    "# expr_c1_off_df = pd.read_csv(c1_infile_off, sep=\"\\t\", header=0, index_col=0)\n",
    "# expr_c2_off_df = pd.read_csv(c2_infile_off, sep=\"\\t\", header=0, index_col=0)\n",
    "\n",
    "# expr_off_df = pd.concat([expr_c1_off_df, expr_c2_off_df], axis=1)\n",
    "\n",
    "# expr_c1_gen3_df = pd.read_csv(c1_infile_gen3, sep=\"\\t\", header=0, index_col=0)\n",
    "# expr_c2_gen3_df = pd.read_csv(c2_infile_gen3, sep=\"\\t\", header=0, index_col=0)\n",
    "\n",
    "# expr_gen3_df = pd.concat([expr_c1_gen3_df, expr_c2_gen3_df], axis=1)\n",
    "\n"
   ]
  },
  {
   "cell_type": "code",
   "execution_count": 13,
   "metadata": {
    "scrolled": true
   },
   "outputs": [],
   "source": [
    "# datfile = \"/cbscratch/franco/datasets/FHS/provisional_annotations.txt\"\n",
    "datfile = \"/cbscratch/franco/datasets/FHS/compiled_annotations.txt\"\n",
    "df = pd.read_csv(datfile, sep=\"\\t\", header=0)\n",
    "\n",
    "# Here filter by pedegree or whatever?\n",
    "import matplotlib.pyplot as plt\n",
    "uniq_pedno = np.sort(np.array(df.groupby(\"pedno\").count().dbGaP_Sample_ID))\n",
    "\n",
    "df_pedno_first_rep = df.groupby(\"pedno\").first()\n",
    "\n",
    "# df_pedno = df.sort_values(by=['pedno'])\n",
    "# df_pedno[[\"pedno\", \"dbGaP_Subject_ID\", \"age\"]]"
   ]
  },
  {
   "cell_type": "code",
   "execution_count": 27,
   "metadata": {},
   "outputs": [
    {
     "name": "stdout",
     "output_type": "stream",
     "text": [
      "OFF 1983\n"
     ]
    }
   ],
   "source": [
    "# use full set of sample ids\n",
    "id_dict = dict(zip(list(df.sampid), list(df.shareid)))\n",
    "\n",
    "# Use subset of representatives\n",
    "# id_dict = dict(zip(list(df_pedno_first_rep.sampid), list(df_pedno_first_rep.shareid)))\n",
    "\n",
    "\n",
    "new_off_columns  = [(i,id_dict[k]) for i,k in enumerate(list(expr_off_df.columns)) if k in id_dict]\n",
    "print(\"OFF\",len(new_off_columns))"
   ]
  },
  {
   "cell_type": "code",
   "execution_count": 28,
   "metadata": {},
   "outputs": [],
   "source": [
    "ix_off  = np.array([i[0] for i in new_off_columns])\n",
    "#ix_gen3 = np.array([i[0] for i in new_gen3_columns])\n",
    "\n",
    "final_expr_off = expr_off_df.iloc[:, ix_off]\n",
    "final_expr_off.columns = [i[1] for i in new_off_columns]\n",
    "\n",
    "# final_expr_gen3 = expr_gen3_df.iloc[:, ix_gen3]\n",
    "# final_expr_gen3.columns = [i[1] for i in new_gen3_columns]"
   ]
  },
  {
   "cell_type": "code",
   "execution_count": 29,
   "metadata": {},
   "outputs": [],
   "source": [
    "# final_expr_FHS = pd.concat([final_expr_gen3 , final_expr_off], axis=1)\n",
    "# print(final_expr_FHS.shape) # G x N\n",
    "\n",
    "# final_expr_FHS.to_csv(\"/cbscratch/franco/datasets/FHS/expression/fhs.formatted.expr.txt\", sep=\"\\t\")\n",
    "\n",
    "final_expr_off.to_csv(\"/cbscratch/franco/datasets/FHS/expression/linear_reprocessed/fhs.linear.OFF.txt\", sep=\"\\t\")\n",
    "# final_expr_off.to_csv(\"/cbscratch/franco/datasets/FHS/expression/linear_reprocessed/fhs.linear.OFF.one_pedno_rep.txt\", sep=\"\\t\")"
   ]
  },
  {
   "cell_type": "code",
   "execution_count": 30,
   "metadata": {},
   "outputs": [],
   "source": [
    "def normalize_expr(Y):\n",
    "    if isinstance(Y, pd.DataFrame):\n",
    "        Y_cent = (Y.values - np.mean(Y.values, axis = 1).reshape(-1, 1)) / np.std(Y.values, axis = 1).reshape(-1, 1)\n",
    "        Y_cent = pd.DataFrame(Y_cent, index=Y.index, columns=Y.columns)\n",
    "        Y_cent.index.name = Y.index.name\n",
    "    else:\n",
    "        Y_cent = (Y - np.mean(Y, axis = 1).reshape(-1, 1)) / np.std(Y, axis = 1).reshape(-1, 1)\n",
    "    return Y_cent\n",
    "\n",
    "norm_expr = normalize_expr(final_expr_off)\n",
    "U, S, Vt = np.linalg.svd(norm_expr.values.T, full_matrices=False)"
   ]
  },
  {
   "cell_type": "code",
   "execution_count": 32,
   "metadata": {},
   "outputs": [
    {
     "name": "stderr",
     "output_type": "stream",
     "text": [
      "No handles with labels found to put in legend.\n"
     ]
    },
    {
     "data": {
      "image/png": "[encoded data removed]",
      "text/plain": [
       "<Figure size 432x288 with 1 Axes>"
      ]
     },
     "metadata": {},
     "output_type": "display_data"
    }
   ],
   "source": [
    "plt.scatter(np.arange(0,len(S)), S, alpha = 0.1)\n",
    "plt.legend()\n",
    "plt.show()"
   ]
  },
  {
   "cell_type": "code",
   "execution_count": 33,
   "metadata": {},
   "outputs": [
    {
     "name": "stdout",
     "output_type": "stream",
     "text": [
      "[4.54176629e+01 4.52901358e+01 4.52209858e+01 4.51119257e+01\n",
      " 4.49985721e+01 4.49524332e+01 4.47554304e+01 4.46190101e+01\n",
      " 4.43186390e+01 1.51257036e-10]\n"
     ]
    }
   ],
   "source": [
    "print(S[-10:])\n"
   ]
  },
  {
   "cell_type": "code",
   "execution_count": 104,
   "metadata": {},
   "outputs": [],
   "source": [
    "np.savetxt(\"/cbscratch/franco/datasets/FHS/genotypes/representative_samples.txt\", list(final_expr_FHS.columns),  fmt='%d')"
   ]
  },
  {
   "cell_type": "code",
   "execution_count": 64,
   "metadata": {},
   "outputs": [
    {
     "data": {
      "text/plain": [
       "Index(['dbGaP_Sample_ID', 'shareid', 'sampid', 'BODY_SITE', 'ANALYTE_TYPE',\n",
       "       'dbGaP_Subject_ID', 'BioSample Accession', 'SUBJECT_ID', 'SAMPLE_ID',\n",
       "       'SAMPLE_SOURCE', 'SOURCE_SAMPLE_ID', 'STUDY', 'fshare', 'mshare', 'sex',\n",
       "       'twinid', 'idtype', 'birthyr', 'age', 'Sample_ID', 'Subject_ID',\n",
       "       'Subject_Consent', 'cel_files', 'RevisedSabreID', 'all_probeset_mean',\n",
       "       'all_probeset_stdev', 'neg_control_mean', 'neg_control_stdev',\n",
       "       'pos_control_mean', 'pos_control_stdev', 'all_probeset_rle_mean',\n",
       "       'all_probeset_mad_residual_mean', 'mm_mean'],\n",
       "      dtype='object')"
      ]
     },
     "execution_count": 64,
     "metadata": {},
     "output_type": "execute_result"
    }
   ],
   "source": [
    "df_pedno_first_rep.columns"
   ]
  },
  {
   "cell_type": "code",
   "execution_count": 88,
   "metadata": {},
   "outputs": [
    {
     "name": "stdout",
     "output_type": "stream",
     "text": [
      "(17873, 11)\n",
      "893\n",
      "892\n"
     ]
    }
   ],
   "source": [
    "from sklearn import linear_model\n",
    "\n",
    "def _normalize_expr(Y):\n",
    "    newY = (Y - np.mean(Y, axis = 1).reshape(-1, 1)) / np.std(Y, axis = 1).reshape(-1, 1)\n",
    "    return newY\n",
    "\n",
    "# iterates over each Gene and fits Lasso linear model\n",
    "def correct_lasso_iterative(expression_df, df_cov, alpha=0.05):   \n",
    "    #sort donors\n",
    "    sort_df_cov = df_cov[expression_df.columns]\n",
    "    \n",
    "    residuals = np.zeros(expression_df.shape)\n",
    "    coefs = np.zeros((expression_df.shape[0], sort_df_cov.shape[0]))\n",
    "    for i in range(expression_df.shape[0]):\n",
    "        reg = linear_model.Lasso(alpha = alpha)\n",
    "        reg.fit(sort_df_cov.T, expression_df.iloc[i])\n",
    "\n",
    "        # print(i, reg.score(sort_df_cov.T, expression_df.iloc[i].T), reg.coef_)\n",
    "        residuals[i] = expression_df.iloc[i] - reg.predict(sort_df_cov.T).T\n",
    "        coefs[i,:] = reg.coef_\n",
    "    df_residuals = pd.DataFrame(residuals, columns=expression_df.columns, index=expression_df.index)\n",
    "    return df_residuals, coefs\n",
    "\n",
    "\n",
    "df_cov = pd.DataFrame( df_pedno_first_rep[[  'all_probeset_mean','age', 'sex',\n",
    "                               'all_probeset_stdev', 'neg_control_mean', 'neg_control_stdev',\n",
    "                               'pos_control_mean', 'pos_control_stdev', 'all_probeset_rle_mean',\n",
    "                               'all_probeset_mad_residual_mean', 'mm_mean' ]].values.T, columns=df_pedno_first_rep.shareid, index=[  'all_probeset_mean','age', 'sex',\n",
    "                               'all_probeset_stdev', 'neg_control_mean', 'neg_control_stdev',\n",
    "                               'pos_control_mean', 'pos_control_stdev', 'all_probeset_rle_mean',\n",
    "                               'all_probeset_mad_residual_mean', 'mm_mean' ])\n",
    "\n",
    "means = np.mean(df_cov.T)\n",
    "stds = np.std(df_cov.T)\n",
    "diff = (df_cov.T - means) / stds\n",
    "scaled_df_cov = diff.T\n",
    "\n",
    "# Correct with LASSO iterative\n",
    "lasso_expr_it, lasso_coefs = correct_lasso_iterative(final_expr_FHS, scaled_df_cov)\n",
    "print(lasso_coefs.shape)\n",
    "print(np.linalg.matrix_rank(final_expr_FHS))\n",
    "print(np.linalg.matrix_rank(lasso_expr_it))"
   ]
  },
  {
   "cell_type": "code",
   "execution_count": 91,
   "metadata": {
    "scrolled": true
   },
   "outputs": [],
   "source": [
    "lasso_expr_it.to_csv(\"/cbscratch/franco/datasets/FHS/expression/fhs_lasso.formatted.expr.one_pedno_rep.txt\", sep=\"\\t\")"
   ]
  },
  {
   "cell_type": "code",
   "execution_count": 93,
   "metadata": {},
   "outputs": [
    {
     "data": {
      "image/png": "[encoded data removed]",
      "text/plain": [
       "<Figure size 432x288 with 1 Axes>"
      ]
     },
     "metadata": {},
     "output_type": "display_data"
    }
   ],
   "source": [
    "import matplotlib.pyplot as plt\n",
    "plt.hist(np.sum(lasso_coefs != 0, axis=1))\n",
    "plt.show()"
   ]
  },
  {
   "cell_type": "code",
   "execution_count": 95,
   "metadata": {},
   "outputs": [
    {
     "data": {
      "text/plain": [
       "9"
      ]
     },
     "execution_count": 95,
     "metadata": {},
     "output_type": "execute_result"
    }
   ],
   "source": [
    "max(np.sum(lasso_coefs != 0, axis=1))"
   ]
  },
  {
   "cell_type": "code",
   "execution_count": 55,
   "metadata": {
    "scrolled": true
   },
   "outputs": [],
   "source": [
    "#######################################\n",
    "# Read in file with probe annotations from affymetrix (slightly preprocessed)\n",
    "#######################################\n",
    "\n",
    "# affy_map_file = \"/cbscratch/franco/datasets/FHS/expression/HuEx-1_0-st-v2.na36.hg19.transcript.tab.csv\"\n",
    "# affy_map_file = \"/cbscratch/franco/datasets/FHS/expression/ENSG_gene_affy_header.tsv\"\n",
    "affy_map_file = \"/cbscratch/franco/datasets/FHS/expression/gene_assignment_short.affy\"\n",
    "dtype_dict = {'transcript_cluster_id':int,\\\n",
    "              'probeset_id':int,\\\n",
    "              'seqname':str,\\\n",
    "              'strand':str,\\\n",
    "              'start':str,\\\n",
    "              'stop':str,\\\n",
    "              'total_probes':str,\\\n",
    "              'gene_assignment':str}\n",
    "affy_df = pd.read_csv(affy_map_file, sep=\"\\t\", comment=\"#\", header=0, dtype=dtype_dict)"
   ]
  },
  {
   "cell_type": "code",
   "execution_count": 56,
   "metadata": {},
   "outputs": [
    {
     "data": {
      "text/html": [
       "<div>\n",
       "<style scoped>\n",
       "    .dataframe tbody tr th:only-of-type {\n",
       "        vertical-align: middle;\n",
       "    }\n",
       "\n",
       "    .dataframe tbody tr th {\n",
       "        vertical-align: top;\n",
       "    }\n",
       "\n",
       "    .dataframe thead th {\n",
       "        text-align: right;\n",
       "    }\n",
       "</style>\n",
       "<table border=\"1\" class=\"dataframe\">\n",
       "  <thead>\n",
       "    <tr style=\"text-align: right;\">\n",
       "      <th></th>\n",
       "      <th>transcript_cluster_id</th>\n",
       "      <th>probeset_id</th>\n",
       "      <th>seqname</th>\n",
       "      <th>strand</th>\n",
       "      <th>start</th>\n",
       "      <th>stop</th>\n",
       "      <th>total_probes</th>\n",
       "      <th>gene_assignment</th>\n",
       "    </tr>\n",
       "  </thead>\n",
       "  <tbody>\n",
       "    <tr>\n",
       "      <th>0</th>\n",
       "      <td>2315100</td>\n",
       "      <td>2315100</td>\n",
       "      <td>chr1</td>\n",
       "      <td>+</td>\n",
       "      <td>11884</td>\n",
       "      <td>14409</td>\n",
       "      <td>20</td>\n",
       "      <td>NR_046018 // DDX11L1 // DEAD/H (Asp-Glu-Ala-As...</td>\n",
       "    </tr>\n",
       "    <tr>\n",
       "      <th>1</th>\n",
       "      <td>2315113</td>\n",
       "      <td>2315113</td>\n",
       "      <td>chr1</td>\n",
       "      <td>+</td>\n",
       "      <td>27563</td>\n",
       "      <td>27813</td>\n",
       "      <td>4</td>\n",
       "      <td>---</td>\n",
       "    </tr>\n",
       "    <tr>\n",
       "      <th>2</th>\n",
       "      <td>2315115</td>\n",
       "      <td>2315115</td>\n",
       "      <td>chr1</td>\n",
       "      <td>+</td>\n",
       "      <td>28425</td>\n",
       "      <td>29158</td>\n",
       "      <td>4</td>\n",
       "      <td>---</td>\n",
       "    </tr>\n",
       "    <tr>\n",
       "      <th>3</th>\n",
       "      <td>2315117</td>\n",
       "      <td>2315117</td>\n",
       "      <td>chr1</td>\n",
       "      <td>+</td>\n",
       "      <td>30623</td>\n",
       "      <td>30667</td>\n",
       "      <td>4</td>\n",
       "      <td>XR_936215 // LOC105376912 // uncharacterized L...</td>\n",
       "    </tr>\n",
       "    <tr>\n",
       "      <th>4</th>\n",
       "      <td>2315119</td>\n",
       "      <td>2315119</td>\n",
       "      <td>chr1</td>\n",
       "      <td>+</td>\n",
       "      <td>35690</td>\n",
       "      <td>35804</td>\n",
       "      <td>4</td>\n",
       "      <td>---</td>\n",
       "    </tr>\n",
       "  </tbody>\n",
       "</table>\n",
       "</div>"
      ],
      "text/plain": [
       "   transcript_cluster_id  probeset_id seqname strand  start   stop  \\\n",
       "0                2315100      2315100    chr1      +  11884  14409   \n",
       "1                2315113      2315113    chr1      +  27563  27813   \n",
       "2                2315115      2315115    chr1      +  28425  29158   \n",
       "3                2315117      2315117    chr1      +  30623  30667   \n",
       "4                2315119      2315119    chr1      +  35690  35804   \n",
       "\n",
       "  total_probes                                    gene_assignment  \n",
       "0           20  NR_046018 // DDX11L1 // DEAD/H (Asp-Glu-Ala-As...  \n",
       "1            4                                                ---  \n",
       "2            4                                                ---  \n",
       "3            4  XR_936215 // LOC105376912 // uncharacterized L...  \n",
       "4            4                                                ---  "
      ]
     },
     "execution_count": 56,
     "metadata": {},
     "output_type": "execute_result"
    }
   ],
   "source": [
    "# np.sum(affy_df.mrna_assignment.str.contains(\"gene:\")) # 19576\n",
    "# np.sum(affy_df.mrna_assignment.str.contains(\"ENSG\"))\n",
    "# np.sum(affy_df.mrna_assignment.str.contains(\"protein_coding\")) #9007\n",
    "affy_df.head()"
   ]
  },
  {
   "cell_type": "code",
   "execution_count": 57,
   "metadata": {},
   "outputs": [],
   "source": [
    "# ensembl_ids = affy_df.mrna_assignment.str.extract(r'(ENSG[0-9]*)')\n",
    "# affy_df[\"ensemble_id\"] = ensembl_ids\n",
    "# affy_df.head()"
   ]
  },
  {
   "cell_type": "code",
   "execution_count": 58,
   "metadata": {},
   "outputs": [
    {
     "name": "stdout",
     "output_type": "stream",
     "text": [
      "(17865, 8)\n"
     ]
    }
   ],
   "source": [
    "FINAL_expr_annotations = affy_df[affy_df.transcript_cluster_id.isin(final_expr_FHS.index)]\n",
    "FINAL_expr_annotations.to_csv(\"/cbscratch/franco/datasets/FHS/probe_annotations.affy\", sep=\"\\t\", header=True, index=False)\n",
    "print(FINAL_expr_annotations.shape)"
   ]
  },
  {
   "cell_type": "code",
   "execution_count": 59,
   "metadata": {},
   "outputs": [],
   "source": [
    "import collections\n",
    "\n",
    "GENEINFO_FIELDS = ['name', 'ensembl_id', 'chrom', 'start', 'end']\n",
    "class GeneInfo(collections.namedtuple('_GeneInfo', GENEINFO_FIELDS)):\n",
    "    __slots__ = ()\n",
    "    \n",
    "def affy_exon_chip(filepath, include_chrom = 0, include_chroms=['{:d}'.format(x + 1) for x in range(22)]):\n",
    "    geneinfo = list()\n",
    "    try:\n",
    "        with open(filepath, 'r') as mfile:\n",
    "            next(mfile) # skip header\n",
    "            for line in mfile:\n",
    "                linesplit = line.strip().split('\\t')\n",
    "                if linesplit[0][0] == '#' : continue \n",
    "\n",
    "                chrom = linesplit[2][3:]\n",
    "                if include_chrom > 0:\n",
    "                    include_chroms = ['{:d}'.format(include_chrom)]\n",
    "                if chrom not in include_chroms: continue\n",
    "\n",
    "                # TSS: gene start (0-based coordinates for BED)\n",
    "                if linesplit[3] == '+':\n",
    "                    start = np.int64(linesplit[4]) - 1\n",
    "                    end   = np.int64(linesplit[5])\n",
    "                elif linesplit[3] == '-':\n",
    "                    start = np.int64(linesplit[4])  # last base of gene\n",
    "                    end   = np.int64(linesplit[5]) - 1\n",
    "                else:\n",
    "                    raise ValueError('Strand not specified.')\n",
    "\n",
    "                gene_name = linesplit[7].split(\"//\")[0].rstrip()\n",
    "                transcript_cluster_id = linesplit[0]\n",
    "                this_gene = GeneInfo(name       = gene_name,\n",
    "                                     ensembl_id = transcript_cluster_id,\n",
    "                                     chrom      = int(chrom),\n",
    "                                     start      = start,\n",
    "                                     end        = end)\n",
    "\n",
    "                geneinfo.append(this_gene)\n",
    "    except IOError as err:\n",
    "        raise IOError('{:s}: {:s}'.format(annotfile, err.strerror))\n",
    "\n",
    "    return geneinfo\n",
    "\n",
    "gene_info = affy_exon_chip(\"/cbscratch/franco/datasets/FHS/probe_annotations.affy\")"
   ]
  },
  {
   "cell_type": "code",
   "execution_count": null,
   "metadata": {},
   "outputs": [],
   "source": []
  }
 ],
 "metadata": {
  "kernelspec": {
   "display_name": "Python 3",
   "language": "python",
   "name": "python3"
  },
  "language_info": {
   "codemirror_mode": {
    "name": "ipython",
    "version": 3
   },
   "file_extension": ".py",
   "mimetype": "text/x-python",
   "name": "python",
   "nbconvert_exporter": "python",
   "pygments_lexer": "ipython3",
   "version": "3.6.7"
  }
 },
 "nbformat": 4,
 "nbformat_minor": 2
}
