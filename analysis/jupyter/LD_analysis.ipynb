{
 "cells": [
  {
   "cell_type": "code",
   "execution_count": 5,
   "metadata": {},
   "outputs": [],
   "source": [
    "import time\n",
    "import sys, os, collections\n",
    "import numpy as np\n",
    "sys.path.append('../')\n",
    "from operator import attrgetter\n",
    "\n",
    "def read_ldfile(ldfile):\n",
    "    ldict = collections.defaultdict(lambda: False)\n",
    "    with open(ldfile) as instream:\n",
    "        next(instream)\n",
    "        for line in instream:\n",
    "            arr = line.rstrip().split()\n",
    "            chrm = int(arr[0])\n",
    "            pos1 = str(arr[1])\n",
    "            pos2 = str(arr[2])\n",
    "            n = int(arr[3])\n",
    "            r2 = float(arr[4])\n",
    "            if ldict[pos1]:\n",
    "                ldict[pos1][pos2] = r2\n",
    "            else:\n",
    "                ldict[pos1] = collections.defaultdict(lambda: False)\n",
    "                ldict[pos1][pos2] = r2\n",
    "                \n",
    "            if ldict[pos2]:\n",
    "                ldict[pos2][pos1] = r2\n",
    "            else:\n",
    "                ldict[pos2] = collections.defaultdict(lambda: False)\n",
    "                ldict[pos2][pos1] = r2\n",
    "    return ldict\n",
    "\n",
    "import mpmath\n",
    "\n",
    "mpmath.mp.dps = 500\n",
    "def pval(x): return float(1 - 0.5 * (1 + mpmath.erf(x/mpmath.sqrt(2))))\n",
    "   \n",
    "SNPRES_FIELDS = ['rsid', 'chrom', 'pos', 'q', 'mu', 'sigma', 'p', 'logp']\n",
    "class SNPRes(collections.namedtuple('_SNPRes', SNPRES_FIELDS)):\n",
    "    __slots__ = ()\n",
    "        \n",
    "def tejaas(filepath, chrom):\n",
    "    res = list()\n",
    "    with open(filepath, 'r') as mfile:\n",
    "        next(mfile)\n",
    "        for line in mfile:\n",
    "            arr   = line.strip().split(\"\\t\")\n",
    "            rsid  = arr[0]\n",
    "            pos   = int(arr[1])\n",
    "            p     = float(arr[5])\n",
    "            q     = float(arr[2])\n",
    "            mu    = float(arr[3])\n",
    "            sigma = float(arr[4])\n",
    "            if sigma == 0:\n",
    "                continue\n",
    "            p = p if p != 0 else pval( (q - mu) / sigma)\n",
    "            logp = np.log10(p) # mpmath.log10\n",
    "            res.append(SNPRes(rsid=rsid, chrom=chrom, pos=pos, q=q, mu=mu, sigma=sigma, p=p, logp=-logp))\n",
    "    return res\n",
    "\n",
    "def tejaas_write(snplist, filepath):\n",
    "    with open(filepath, 'w') as mfile:\n",
    "        mfile.write(\"ID\\tPos\\tQ\\tMu\\tSigma\\tP\\n\")\n",
    "        for snp in snplist:\n",
    "            fmtstring = \"{:s}\\t{:d}\\t{:g}\\t{:g}\\t{:g}\\t{:g}\\n\"\n",
    "            mfile.write(fmtstring.format(snp.rsid, snp.pos, snp.q, snp.mu, snp.sigma, snp.p))"
   ]
  },
  {
   "cell_type": "code",
   "execution_count": 6,
   "metadata": {},
   "outputs": [],
   "source": [
    "from operator import attrgetter\n",
    "\n",
    "def prune_region(region, myldict):\n",
    "    start = time.time()\n",
    "    sorted_region = sorted(region, key=attrgetter('logp'), reverse=True)\n",
    "    rejected = collections.defaultdict(lambda: False)\n",
    "    accepted = []\n",
    "    for snp in sorted_region:\n",
    "        if rejected[str(snp.pos)]:\n",
    "            continue\n",
    "        accepted.append(snp)\n",
    "        if myldict[str(snp.pos)]:\n",
    "            for r in myldict[str(snp.pos)].keys():\n",
    "                rejected[r] = True\n",
    "    took = time.time() - start\n",
    "    # print(\"LD prunning took\", took)\n",
    "    return sorted(accepted, key=attrgetter('pos'), reverse=False)\n",
    "    "
   ]
  },
  {
   "cell_type": "code",
   "execution_count": 10,
   "metadata": {
    "scrolled": true
   },
   "outputs": [
    {
     "name": "stdout",
     "output_type": "stream",
     "text": [
      "Loading CHR  1 - 16.051 seconds\n",
      "/cbscratch/franco/trans-eqtl/dev-pipeline/gtex_v6_norm/lasso/gtex-ms/tejaas/permnull_sb0.05/chr1/rr.txt\n",
      "/cbscratch/franco/trans-eqtl/dev-pipeline/gtex_v6_norm/lasso/gtex-ms/tejaas_rand/permnull_sb0.05/chr1/rr.txt\n",
      "/cbscratch/franco/trans-eqtl/dev-pipeline/gtex_v6_norm/norm/gtex-ms/tejaas/permnull_sb0.05/chr1/rr.txt\n",
      "/cbscratch/franco/trans-eqtl/dev-pipeline/gtex_v6_norm/norm/gtex-ms/tejaas_rand/permnull_sb0.05/chr1/rr.txt\n",
      "Loading CHR  2 - 18.3665 seconds\n",
      "/cbscratch/franco/trans-eqtl/dev-pipeline/gtex_v6_norm/lasso/gtex-ms/tejaas/permnull_sb0.05/chr2/rr.txt\n",
      "/cbscratch/franco/trans-eqtl/dev-pipeline/gtex_v6_norm/lasso/gtex-ms/tejaas_rand/permnull_sb0.05/chr2/rr.txt\n",
      "/cbscratch/franco/trans-eqtl/dev-pipeline/gtex_v6_norm/norm/gtex-ms/tejaas/permnull_sb0.05/chr2/rr.txt\n",
      "/cbscratch/franco/trans-eqtl/dev-pipeline/gtex_v6_norm/norm/gtex-ms/tejaas_rand/permnull_sb0.05/chr2/rr.txt\n",
      "Loading CHR  3 - 17.669 seconds\n",
      "/cbscratch/franco/trans-eqtl/dev-pipeline/gtex_v6_norm/lasso/gtex-ms/tejaas/permnull_sb0.05/chr3/rr.txt\n",
      "/cbscratch/franco/trans-eqtl/dev-pipeline/gtex_v6_norm/lasso/gtex-ms/tejaas_rand/permnull_sb0.05/chr3/rr.txt\n",
      "/cbscratch/franco/trans-eqtl/dev-pipeline/gtex_v6_norm/norm/gtex-ms/tejaas/permnull_sb0.05/chr3/rr.txt\n",
      "/cbscratch/franco/trans-eqtl/dev-pipeline/gtex_v6_norm/norm/gtex-ms/tejaas_rand/permnull_sb0.05/chr3/rr.txt\n"
     ]
    }
   ],
   "source": [
    "from utils import utils\n",
    "# tissue_file = \"/usr/users/fsimone/trans-eqtl-pipeline/main/tissues.txt\"\n",
    "# tissuenames, descriptions = utils.read_tissues(tissue_file)\n",
    "# tissues = [\"gtex-\"+t for t in tissuenames]\n",
    "tissues = [\"gtex-ms\"]\n",
    "\n",
    "expressions = [\"lasso\", \"norm\"] \n",
    "randmethods = [\"tejaas_rand_\"+str(i) for i in range(11,51)]\n",
    "methods = [\"tejaas\", \"tejaas_rand\"] #randmethods\n",
    "basedir = \"/cbscratch/franco/trans-eqtl/dev-pipeline/gtex_v6_norm/\"\n",
    "chroms = np.arange(1,23)\n",
    "isworst = True\n",
    "\n",
    "\n",
    "for chrm in chroms: #range(1,23):\n",
    "    start = time.time()\n",
    "    print(\"Loading CHR \", chrm, end=\"\")\n",
    "    ldfile = \"/cbscratch/franco/datasets/gtex/genotypes/vcfs_allsamples/LD/chr{:d}_ld_window_100000.geno.ld\".format(chrm)\n",
    "    myldict = read_ldfile(ldfile)\n",
    "    took = time.time() - start\n",
    "    print(\" - {:g} seconds\".format(took))\n",
    "        \n",
    "    # Do the actual pruning on all datasets and stuff\n",
    "    for tissue in tissues:\n",
    "        for expr in expressions:\n",
    "            pruned_snps = list()\n",
    "            for method in methods:\n",
    "                inputfile = os.path.join(basedir,expr,tissue,method,\"permnull_sb0.05/chr\"+str(chrm)+\"/rr.txt\")\n",
    "                print(inputfile)\n",
    "                \n",
    "                # prune snps\n",
    "                snplist = tejaas(inputfile, chrm)\n",
    "                pruned_snps = prune_region(snplist, myldict)\n",
    "                \n",
    "                 # write pruned snps\n",
    "                pruned_outfile = inputfile+\".ld.new\"\n",
    "                tejaas_write(pruned_snps, pruned_outfile)"
   ]
  },
  {
   "cell_type": "code",
   "execution_count": 105,
   "metadata": {},
   "outputs": [
    {
     "data": {
      "image/png": "[encoded data removed]",
      "text/plain": [
       "<Figure size 1008x504 with 1 Axes>"
      ]
     },
     "metadata": {},
     "output_type": "display_data"
    }
   ],
   "source": [
    "import matplotlib.pyplot as plt\n",
    "\n",
    "s = 50\n",
    "n = 250\n",
    "pos = np.array([x.pos for x in snplist[s:n]])\n",
    "values = [x.logp for x in snplist[s:n]]\n",
    "\n",
    "fig = plt.figure(figsize=(14,7))\n",
    "ax1 = fig.add_subplot(121)\n",
    "ax1.scatter(np.arange(n-s), values)\n",
    "plt.show()\n",
    "\n"
   ]
  },
  {
   "cell_type": "code",
   "execution_count": 98,
   "metadata": {},
   "outputs": [
    {
     "data": {
      "text/plain": [
       "<matplotlib.image.AxesImage at 0x2aab0c7496d8>"
      ]
     },
     "execution_count": 98,
     "metadata": {},
     "output_type": "execute_result"
    },
    {
     "data": {
      "image/png": "[encoded data removed]",
      "text/plain": [
       "<Figure size 432x288 with 1 Axes>"
      ]
     },
     "metadata": {},
     "output_type": "display_data"
    }
   ],
   "source": [
    "import itertools\n",
    "\n",
    "ldmatrix = np.zeros( [len(pos) , len(pos)] )\n",
    "pairs = [x for x in itertools.combinations(pos, 2)]\n",
    "inds = [x for x in itertools.combinations(np.arange(len(pos)), 2)]\n",
    "for n, p in enumerate(pairs):\n",
    "    p1,p2 = p\n",
    "    i, j = inds[n]\n",
    "    if myldict[str(p1)] and myldict[str(p1)][str(p2)]:\n",
    "        ldmatrix[j,i] = myldict[str(p1)][str(p2)]\n",
    "\n",
    "plt.imshow(ldmatrix)"
   ]
  },
  {
   "cell_type": "code",
   "execution_count": 131,
   "metadata": {},
   "outputs": [
    {
     "data": {
      "image/png": "[encoded data removed]",
      "text/plain": [
       "<Figure size 1008x504 with 2 Axes>"
      ]
     },
     "metadata": {},
     "output_type": "display_data"
    }
   ],
   "source": [
    "s = 50\n",
    "n = 250\n",
    "pos = np.array([x.pos for x in snplist[s:n]])\n",
    "values = [x.logp for x in snplist[s:n]]\n",
    "\n",
    "fig = plt.figure(figsize=(14,7))\n",
    "ax1 = fig.add_subplot(121)\n",
    "ax1.scatter(np.arange(n-s), values)\n",
    "\n",
    "clumped_snplist = sorted(accepted, key=attrgetter('pos'), reverse=False)\n",
    "pos = np.array([x.pos for x in clumped_snplist])\n",
    "values = [x.logp for x in clumped_snplist]\n",
    "\n",
    "ax2 = fig.add_subplot(122)\n",
    "ax2.scatter(np.arange(len(clumped_snplist)), values)\n",
    "plt.show()"
   ]
  },
  {
   "cell_type": "code",
   "execution_count": null,
   "metadata": {},
   "outputs": [],
   "source": []
  }
 ],
 "metadata": {
  "kernelspec": {
   "display_name": "Python 3",
   "language": "python",
   "name": "python3"
  },
  "language_info": {
   "codemirror_mode": {
    "name": "ipython",
    "version": 3
   },
   "file_extension": ".py",
   "mimetype": "text/x-python",
   "name": "python",
   "nbconvert_exporter": "python",
   "pygments_lexer": "ipython3",
   "version": "3.6.7"
  }
 },
 "nbformat": 4,
 "nbformat_minor": 2
}
