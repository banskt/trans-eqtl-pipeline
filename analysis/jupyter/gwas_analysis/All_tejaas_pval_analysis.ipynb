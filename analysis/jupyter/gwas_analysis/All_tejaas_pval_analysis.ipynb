{
 "cells": [
  {
   "cell_type": "code",
   "execution_count": 1,
   "metadata": {},
   "outputs": [],
   "source": [
    "import sys\n",
    "import os\n",
    "import numpy as np\n",
    "import pandas as pd\n",
    "\n",
    "variants_file = \"/cbscratch/franco/trans-eqtl/dev-pipeline/gtex_v8_lncRNA_freeze/raw/all_variants_pvalues_tejaas.txt\"\n",
    "variants_df = pd.read_csv(variants_file, sep=\"\\t\", header=0, index_col=0)\n",
    "variants_df.drop(\"gtex_v8-bl\", axis=1, inplace=True)"
   ]
  },
  {
   "cell_type": "code",
   "execution_count": 2,
   "metadata": {},
   "outputs": [],
   "source": [
    "shapeit_file = \"/cbscratch/franco/from_saikat/gtex_v8_202003/all_variants_pvalues_tejaas.txt\"\n",
    "shapeit_df = pd.read_csv(shapeit_file, sep=\"\\t\", header=0, index_col=0)"
   ]
  },
  {
   "cell_type": "code",
   "execution_count": 3,
   "metadata": {},
   "outputs": [],
   "source": [
    "# Collect best p-val for each variant across all 49 tissues\n",
    "best_pvals = np.max(variants_df, axis=1)\n",
    "best_pvals_shapeit = np.max(shapeit_df, axis=1)"
   ]
  },
  {
   "cell_type": "code",
   "execution_count": 4,
   "metadata": {},
   "outputs": [
    {
     "data": {
      "text/plain": [
       "<Figure size 640x480 with 2 Axes>"
      ]
     },
     "metadata": {},
     "output_type": "display_data"
    }
   ],
   "source": [
    "import matplotlib.pyplot as plt\n",
    "\n",
    "nchoose = 500000\n",
    "idx = np.sort(np.random.choice(len(best_pvals), nchoose, replace = False))\n",
    "pvals = [np.power(10, -best_pvals.values[i]) for i in idx]\n",
    "\n",
    "fig = plt.figure()\n",
    "ax1 = fig.add_subplot(121)\n",
    "ax1.hist(pvals, bins=100)\n",
    "ax1.set_title(\"P-value distribution\")\n",
    "\n",
    "\n",
    "nchoose = 500000\n",
    "idx = np.sort(np.random.choice(len(best_pvals_shapeit), nchoose, replace = False))\n",
    "pvals_shapeit = [np.power(10, -best_pvals_shapeit.values[i]) for i in idx]\n",
    "\n",
    "ax2 = fig.add_subplot(122)\n",
    "ax2.hist(pvals_shapeit, bins=100)\n",
    "ax2.set_title(\"P-value distribution (SHAPEIT2)\")\n",
    "plt.show()"
   ]
  },
  {
   "cell_type": "markdown",
   "metadata": {},
   "source": [
    "# Load dbSNP and GWAS catalog"
   ]
  },
  {
   "cell_type": "code",
   "execution_count": 5,
   "metadata": {},
   "outputs": [],
   "source": [
    "import gzip \n",
    "\n",
    "dbsnp_dict = dict()\n",
    "with gzip.open(\"/cbscratch/franco/datasets/gtex_v8/genotypes/GTEx_Analysis_2017-06-05_v8_WholeGenomeSeq_838Indiv_Analysis_Freeze.lookup_table.txt.gz\") as instream:\n",
    "    next(instream)\n",
    "    for line in instream:\n",
    "        arr = line.decode().rstrip().split()\n",
    "        #if len(arr[3]) == 1 and len(arr[4]) == 1:\n",
    "        dbsnp_dict[arr[2]] = arr[6]"
   ]
  },
  {
   "cell_type": "code",
   "execution_count": 6,
   "metadata": {},
   "outputs": [
    {
     "name": "stdout",
     "output_type": "stream",
     "text": [
      "DISEASE/TRAIT CHR_ID CHR_POS SNPS MERGED SNP_ID_CURRENT P-VALUE\n",
      "Skipped 326 GWAS snps\n",
      "182308 GWAS SNPs loaded\n"
     ]
    }
   ],
   "source": [
    "import collections\n",
    "import re \n",
    "gwas_cat = \"/cbscratch/franco/datasets/GWAScatalog/gwas_catalog_v1.0-associations_e98_r2019-12-16.tsv\"\n",
    "gwas_pos_dict = collections.defaultdict(dict)\n",
    "skip = 0\n",
    "loaded = 0\n",
    "weird_snps = list()\n",
    "gwas_rsid_dict = collections.defaultdict(lambda: False)\n",
    "gwas_rsid_trait = dict()\n",
    "gwas_rsid_list = list()\n",
    "with open(gwas_cat) as instream:\n",
    "    header = instream.readline().rstrip().split(\"\\t\")\n",
    "    # header[17] SNP_GENE_IDS\n",
    "    print( header[7], header[11], header[12], header[21], header[22], header[23], header[27])\n",
    "    for line in instream:\n",
    "        arr = line.rstrip().split(\"\\t\")\n",
    "        # df_gwas.iloc[:,[12,23,27]]\n",
    "        trait = arr[7]\n",
    "        chrm  = arr[11]\n",
    "        bp_pos= arr[12]\n",
    "        snps  = arr[21]\n",
    "        snp_id_current = arr[23]\n",
    "        pval  = arr[27]\n",
    "        if re.search(\";\", snps):\n",
    "            bp_pos_arr = bp_pos.split(\";\")\n",
    "            snps_arr   = snps.split(\";\")\n",
    "            chrm_arr   = chrm.split(\";\")\n",
    "            # print(bp_pos_arr, snps_arr)\n",
    "            if len(bp_pos_arr) != len(snps_arr) and len(snps_arr) != len(chrm_arr):\n",
    "                if len(bp_pos_arr) == len(chrm_arr):\n",
    "                    new_snps_arr = [s.strip() for s in snps_arr if s.strip().startswith('rs')]\n",
    "                    if len(new_snps_arr) == len(bp_pos_arr):\n",
    "#                         print(\"good!\", new_snps_arr, bp_pos_arr, chrm_arr)\n",
    "                        for i in range(len(new_snps_arr)):\n",
    "                            gwas_rsid_list.append(new_snps_arr[i])\n",
    "                            gwas_pos_dict[chrm_arr[i]][bp_pos_arr[i]] = new_snps_arr[i]\n",
    "                            loaded += 1\n",
    "                    else:\n",
    "#                         print(\"wtf!\", snps_arr, new_snps_arr, bp_pos_arr, chrm_arr)\n",
    "                        skip += 1\n",
    "                else:\n",
    "                    skip += 1\n",
    "                    print(bp_pos_arr, snps_arr, chrm_arr)\n",
    "                    weird_snps.append((bp_pos_arr, snps_arr, chrm_arr))\n",
    "                    continue\n",
    "            else:\n",
    "                for s in snps_arr:\n",
    "                    if s.strip().startswith('rs'):\n",
    "                        gwas_rsid_dict[s.strip()] = True\n",
    "                        gwas_rsid_trait[s.strip()] = trait\n",
    "                        gwas_rsid_list.append(s.strip())\n",
    "                        loaded += 1\n",
    "                    else:\n",
    "                        pass\n",
    "#                         print(\"WTF, \",s)\n",
    "            if len(bp_pos_arr) == len(snps_arr) and len(snps_arr) == len(chrm_arr):\n",
    "                for i in range(len(snps_arr)):\n",
    "                    gwas_pos_dict[chrm_arr[i]][bp_pos_arr[i]] = snps_arr[i]\n",
    "                    loaded += 1\n",
    "        else:\n",
    "            if snps.startswith('rs'):\n",
    "                gwas_rsid_dict[snps] = True\n",
    "                gwas_rsid_trait[snps] = trait\n",
    "                gwas_rsid_list.append(snps)\n",
    "                gwas_pos_dict[chrm][bp_pos] = snps\n",
    "                loaded += 1\n",
    "            else:\n",
    "                pass\n",
    "                # print(\"not rs snp?!\", snps, chrm, bp_pos)\n",
    "print(\"Skipped {:d} GWAS snps\".format(skip))\n",
    "print(\"{:d} GWAS SNPs loaded\".format(loaded))"
   ]
  },
  {
   "cell_type": "code",
   "execution_count": 7,
   "metadata": {},
   "outputs": [
    {
     "name": "stdout",
     "output_type": "stream",
     "text": [
      "GTEx SNPs in GWAS catalog: 40661\n",
      "fraction of snps in GWAS: 0.00899125508067496\n",
      "GTEx SNPs in GWAS catalog (SHAPEIT2): 79461\n",
      "fraction of snps in GWAS (SHAPEIT2): 0.009872581195243181\n"
     ]
    }
   ],
   "source": [
    "gwas_variants = list()\n",
    "for variant_id in list(variants_df.index):\n",
    "    dbsnp_id = dbsnp_dict.get(variant_id, False)\n",
    "    if dbsnp_id and gwas_rsid_dict[dbsnp_id]:\n",
    "        gwas_variants.append(variant_id)        \n",
    "print(\"GTEx SNPs in GWAS catalog:\", len(gwas_variants))\n",
    "print(\"fraction of snps in GWAS:\", len(gwas_variants)/variants_df.shape[0])\n",
    "\n",
    "gwas_variants_shapeit = list()\n",
    "for variant_id in list(shapeit_df.index):\n",
    "    dbsnp_id = dbsnp_dict.get(variant_id, False)\n",
    "    if dbsnp_id and gwas_rsid_dict[dbsnp_id]:\n",
    "        gwas_variants_shapeit.append(variant_id)\n",
    "print(\"GTEx SNPs in GWAS catalog (SHAPEIT2):\", len(gwas_variants_shapeit))\n",
    "print(\"fraction of snps in GWAS (SHAPEIT2):\", len(gwas_variants_shapeit)/shapeit_df.shape[0])\n",
    "\n",
    "# SNPs in GWAS catalog: 95512\n",
    "# GTEx SNPs in GWAS catalog: 35452\n",
    "# Total nº of GTEx SNPS: 4522283\n",
    "# fraction of snps in GWAS: 0.007839403239469975"
   ]
  },
  {
   "cell_type": "code",
   "execution_count": 8,
   "metadata": {},
   "outputs": [],
   "source": [
    "gwas_variants_pvals = best_pvals.loc[gwas_variants]\n",
    "gwas_variants_pvals_shapeit = best_pvals_shapeit.loc[gwas_variants_shapeit]"
   ]
  },
  {
   "cell_type": "code",
   "execution_count": 9,
   "metadata": {
    "scrolled": true
   },
   "outputs": [],
   "source": [
    "# Get proportions for all pvals\n",
    "mt_cutoff = 0.05/49\n",
    "cutoffs = -np.log10(np.array([1, 0.1, 0.05, 0.01, mt_cutoff, 1e-4, 1e-5] + [np.power(10.0, -i) for i in range(6,15)]))\n",
    "#cutoffs = np.linspace(-np.log10(0.05), -np.log10(1e-20), 100)\n",
    "fractions = list()\n",
    "fractions_shapeit = list()\n",
    "for c in cutoffs:\n",
    "    pass_snps = np.sum(best_pvals > c)\n",
    "    fractions.append( pass_snps / len(best_pvals))\n",
    "    pass_snps = np.sum(best_pvals_shapeit > c)\n",
    "    fractions_shapeit.append( pass_snps / len(best_pvals_shapeit))"
   ]
  },
  {
   "cell_type": "code",
   "execution_count": 10,
   "metadata": {
    "scrolled": false
   },
   "outputs": [],
   "source": [
    "# Get proportions for all GWAS pvals\n",
    "fractions_gwas = list()\n",
    "fractions_gwas_shapeit = list()\n",
    "for c in cutoffs:\n",
    "    pass_snps = np.sum(gwas_variants_pvals > c)\n",
    "    fractions_gwas.append( pass_snps / len(gwas_variants_pvals))\n",
    "\n",
    "    pass_snps = np.sum(gwas_variants_pvals_shapeit > c)\n",
    "    fractions_gwas_shapeit.append( pass_snps / len(gwas_variants_pvals_shapeit))"
   ]
  },
  {
   "cell_type": "code",
   "execution_count": 18,
   "metadata": {},
   "outputs": [
    {
     "data": {
      "text/plain": [
       "[1.0,\n",
       " 0.8795236830600827,\n",
       " 0.76979569832317,\n",
       " 0.4518231167753102,\n",
       " 0.15882553126374443,\n",
       " 0.054987934191646125,\n",
       " 0.022392008638114864,\n",
       " 0.010640200978134274,\n",
       " 0.005656213907886791,\n",
       " 0.003200153550761861,\n",
       " 0.001903684488564736,\n",
       " 0.0011620236946692634,\n",
       " 0.000717115669231669,\n",
       " 0.00046060806013245966,\n",
       " 0.0002960893867102081,\n",
       " 0.00018220885336012806]"
      ]
     },
     "execution_count": 18,
     "metadata": {},
     "output_type": "execute_result"
    }
   ],
   "source": [
    "fractions"
   ]
  },
  {
   "cell_type": "code",
   "execution_count": 15,
   "metadata": {},
   "outputs": [
    {
     "data": {
      "image/png": "[encoded data removed]",
      "text/plain": [
       "<Figure size 1008x576 with 2 Axes>"
      ]
     },
     "metadata": {},
     "output_type": "display_data"
    }
   ],
   "source": [
    "fig = plt.figure(figsize=(14,8))\n",
    "# ax1 = fig.add_subplot(221)\n",
    "# ax1.plot(cutoffs, fractions, marker='o', label=\"all\")\n",
    "# ax1.plot(cutoffs, fractions_gwas, marker='s', label=\"gwas\")\n",
    "# ax1.set_xlabel(\"$-log_{10} p-value$\")\n",
    "# ax1.set_ylabel(\"$log_{10}$ Proportion of variants < p-value\")\n",
    "# ax1.legend()\n",
    "\n",
    "ax2 = fig.add_subplot(121)\n",
    "ax2.plot(cutoffs, np.log10(fractions_shapeit), marker='o', label=\"all shapeit2\")\n",
    "ax2.plot(cutoffs, np.log10(fractions_gwas_shapeit), marker='s', label=\"gwas shapeit2\")\n",
    "ax2.set_xlabel(\"$-log_{10} p-value$\")\n",
    "ax2.set_ylabel(\"$log_{10}$ Proportion of variants < p-value\")\n",
    "ax2.legend()\n",
    "\n",
    "\n",
    "ax3 = fig.add_subplot(122)\n",
    "# ax3.plot(cutoffs, np.array(fractions_gwas) / np.array(fractions), marker='^', color=\"orange\", label=\"enrichemnt\")\n",
    "# ax3.set_ylabel(\"Enrichment\")\n",
    "# ax3.legend()\n",
    "# ax1.set_ylim(0,0.2)\n",
    "\n",
    "\n",
    "# ax3 = fig.add_subplot(224)\n",
    "ax3.plot(cutoffs, np.array(fractions_gwas_shapeit) / np.array(fractions_shapeit), marker='^', color=\"green\", label=\"enrichemnt shapeit2\")\n",
    "ax3.set_ylabel(\"Enrichment\")\n",
    "ax3.legend()\n",
    "\n",
    "\n",
    "plt.show()"
   ]
  },
  {
   "cell_type": "code",
   "execution_count": null,
   "metadata": {},
   "outputs": [],
   "source": [
    "# ##### GWAS CATALOG\n",
    "# ## orange line\n",
    "# # of SNPs that are GWAS below pval < c / # All GWAS SNPs   ---->> DEFINE\n",
    "# # for example\n",
    "# ALL GWAS SNPs = 40000\n",
    "# ALL SNPs = 8000000\n",
    "\n",
    "# orange_line = nº of GWAS SNPs that have pval < c TEJAAS (200) / 40000\n",
    "\n",
    "# ## blue line\n",
    "# # of SNPs below pval < c / # All SNPs\n",
    "\n",
    "# blue line = nº of SNPs that have pval < c TEJAAS (1000 ) / 8000000\n",
    "\n",
    "# green line = orange / blue @ each c cutoff\n",
    "\n"
   ]
  }
 ],
 "metadata": {
  "kernelspec": {
   "display_name": "Python 3",
   "language": "python",
   "name": "python3"
  },
  "language_info": {
   "codemirror_mode": {
    "name": "ipython",
    "version": 3
   },
   "file_extension": ".py",
   "mimetype": "text/x-python",
   "name": "python",
   "nbconvert_exporter": "python",
   "pygments_lexer": "ipython3",
   "version": "3.7.3"
  }
 },
 "nbformat": 4,
 "nbformat_minor": 2
}
