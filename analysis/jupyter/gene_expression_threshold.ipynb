{
 "cells": [
  {
   "cell_type": "markdown",
   "metadata": {},
   "source": [
    "## Check the thresholding of gene expression\n",
    "\n",
    "Genes are thresholded based on the following expression rules:\n",
    "  - TPM >= tpm_threshold in >= sample_frac_threshold * samples\n",
    "  - read counts >= count_threshold in sample_frac_threshold * samples"
   ]
  },
  {
   "cell_type": "code",
   "execution_count": 1,
   "metadata": {},
   "outputs": [],
   "source": [
    "import os\n",
    "import pandas as pd\n",
    "import numpy as np\n",
    "\n",
    "import matplotlib.pyplot as plt\n",
    "#plt.switch_backend('agg')\n",
    "import matplotlib\n",
    "import sys\n",
    "sys.path.append('../')\n",
    "from utils import mpl_stylesheet\n",
    "mpl_stylesheet.banskt_presentation(fontfamily = 'latex-clearsans', fontsize = 18, colors = 'banskt', dpi = 72)\n",
    "\n",
    "def read_gct(gct_file):\n",
    "    df = pd.read_csv(gct_file, sep='\\t', skiprows=2, index_col=0)\n",
    "    df.drop('Description', axis=1, inplace=True)\n",
    "    df.index.name = 'gene_id'\n",
    "    colnames = ['-'.join(x.split('-')[:2]) for x in df.columns]\n",
    "    df.columns = colnames\n",
    "    return df\n",
    "\n",
    "def read_samples(sample_file):\n",
    "    with open(sample_file, 'r') as infile:\n",
    "        content = infile.readlines()\n",
    "    samples = [x.strip() for x in content]\n",
    "    return samples"
   ]
  },
  {
   "cell_type": "code",
   "execution_count": 2,
   "metadata": {},
   "outputs": [],
   "source": [
    "tissuedir = \"/scratch/sbanerj/trans-eqtl/input/gtex_v8/preprocess_gx/Adipose_Subcutaneous\"\n",
    "tpmfile = os.path.join(tissuedir, \"all_genes_tpm.gct\")\n",
    "countsfile = os.path.join(tissuedir, \"all_genes_counts.gct\")\n",
    "vcf_sample_list = os.path.join( tissuedir,  \"../vcf_samples.list\")"
   ]
  },
  {
   "cell_type": "code",
   "execution_count": 3,
   "metadata": {},
   "outputs": [],
   "source": [
    "tpm_df = read_gct(tpmfile)\n",
    "counts_df = read_gct(countsfile)\n",
    "\n",
    "gxdonors = list(tpm_df.columns)\n",
    "genes = list(tpm_df.index)\n",
    "gtdonors = read_samples(vcf_sample_list)\n",
    "common_ix = [x for x in gxdonors if x in gtdonors]\n",
    "tpm_df = tpm_df[common_ix]\n",
    "counts_df = counts_df[common_ix]"
   ]
  },
  {
   "cell_type": "code",
   "execution_count": 10,
   "metadata": {},
   "outputs": [],
   "source": [
    "tpm_threshold = 0.1\n",
    "sample_frac_threshold = 0.2\n",
    "count_threshold = 6\n",
    "\n",
    "ns = tpm_df.shape[1]\n",
    "mask = (\n",
    "    (np.sum(tpm_df >= tpm_threshold, axis = 1) >= sample_frac_threshold * ns) &\n",
    "    (np.sum(counts_df >= count_threshold, axis = 1) >= sample_frac_threshold * ns)\n",
    ").values\n",
    "\n",
    "tpm_df_masked = tpm_df.loc[mask]\n",
    "counts_df_masked = counts_df.loc[mask]"
   ]
  },
  {
   "cell_type": "code",
   "execution_count": 11,
   "metadata": {},
   "outputs": [
    {
     "data": {
      "image/png": "[encoded data removed]",
      "text/plain": [
       "<Figure size 864x360 with 2 Axes>"
      ]
     },
     "metadata": {
      "needs_background": "light"
     },
     "output_type": "display_data"
    }
   ],
   "source": [
    "fig = plt.figure(figsize = (12, 5))\n",
    "ax1 = fig.add_subplot(121)\n",
    "ax2 = fig.add_subplot(122)\n",
    "geneix = 6\n",
    "ax1.hist(tpm_df_masked.loc[tpm_df_masked.index[geneix]])\n",
    "ax2.hist(counts_df_masked.loc[counts_df_masked.index[geneix]])\n",
    "plt.show()"
   ]
  },
  {
   "cell_type": "code",
   "execution_count": null,
   "metadata": {},
   "outputs": [],
   "source": []
  }
 ],
 "metadata": {
  "kernelspec": {
   "display_name": "Python 3",
   "language": "python",
   "name": "python3"
  },
  "language_info": {
   "codemirror_mode": {
    "name": "ipython",
    "version": 3
   },
   "file_extension": ".py",
   "mimetype": "text/x-python",
   "name": "python",
   "nbconvert_exporter": "python",
   "pygments_lexer": "ipython3",
   "version": "3.6.8"
  }
 },
 "nbformat": 4,
 "nbformat_minor": 2
}
