{
 "cells": [
  {
   "cell_type": "code",
   "execution_count": 6,
   "metadata": {},
   "outputs": [],
   "source": [
    "import os, sys\n",
    "sys.path.append('../')\n",
    "from utils import utils\n",
    "import json\n",
    "import numpy as np\n",
    "\n",
    "tissue_file = \"/usr/users/fsimone/trans-eqtl-pipeline/main/tissues.txt\"\n",
    "tissues, descriptions = utils.read_tissues(tissue_file)\n",
    "\n",
    "json_file = \"../gtex_v8_metadata.json\"\n",
    "with open(json_file) as instream:\n",
    "    gtex_meta = json.load(instream)\n",
    "tissue_colors = dict()\n",
    "tissue_names = dict()\n",
    "tissue_samples = dict()\n",
    "\n",
    "for tshort, tfull in zip(tissues, descriptions):\n",
    "    tissue_names[tshort] = tfull\n",
    "    tissue_colors[tshort] = \"#\" + gtex_meta[tfull.replace(\" \", \"_\")][\"colorHex\"]\n",
    "    tissue_samples[tshort] = gtex_meta[tfull.replace(\" \", \"_\")][\"rnaSeqAndGenotypeSampleCount\"]\n"
   ]
  },
  {
   "cell_type": "code",
   "execution_count": 9,
   "metadata": {},
   "outputs": [],
   "source": [
    "import mpmath\n",
    "import collections\n",
    "mpmath.mp.dps = 50\n",
    "def pvalue(x): return float(mpmath.log10(1 - 0.5 * (1 + mpmath.erf(x/mpmath.sqrt(2)))))\n",
    "\n",
    "SNPRES_FIELDS = ['rsid', 'chrom', 'pos', 'logp', 'target', 'maf']\n",
    "class SNPRes(collections.namedtuple('_SNPRes', SNPRES_FIELDS)):\n",
    "    __slots__ = ()\n",
    "\n",
    "def tejaas(filepath, mafcutoff=0.01):\n",
    "    res = list()\n",
    "    with open(filepath, 'r') as mfile:\n",
    "        next(mfile)\n",
    "        for line in mfile:\n",
    "            arr   = line.strip().split(\"\\t\")\n",
    "            rsid  = arr[0]\n",
    "            pos   = int(arr[1])\n",
    "            p     = float(arr[5])\n",
    "            chrom = int(arr[6])\n",
    "            q     = float(arr[2])\n",
    "            mu    = float(arr[3])\n",
    "            sigma = float(arr[4])\n",
    "            maf   = float(arr[7])\n",
    "            if maf < mafcutoff or maf > (1-mafcutoff):\n",
    "                continue\n",
    "            if sigma == 0:\n",
    "                continue\n",
    "            logp  = np.log10(p) if p != 0 else pvalue( (q - mu) / sigma)\n",
    "            res.append(SNPRes(rsid=rsid, chrom=chrom, pos=pos, logp=-logp, target=None, maf=maf))\n",
    "    return res\n",
    "\n",
    "alltranseqtls = list()\n",
    "transeqtl_dict = dict()\n",
    "tejaas_file = \"/cbscratch/franco/trans-eqtl/dev-pipeline/gtex_v8_lncRNA_freeze/summary_5e-08/{:s}/tejaas/trans_eqtls.txt\"\n",
    "for tissue in tissues:\n",
    "    tissue_tejaas_file = tejaas_dir.format(tissue)\n",
    "    tissue_trans_eqtls = tejaas(tissue_tejaas_file)\n",
    "    transeqtl_dict[tissue] = tissue_trans_eqtls\n",
    "    alltranseqtls += tissue_trans_eqtls\n",
    "    "
   ]
  },
  {
   "cell_type": "code",
   "execution_count": 10,
   "metadata": {},
   "outputs": [
    {
     "data": {
      "text/plain": [
       "21610"
      ]
     },
     "execution_count": 10,
     "metadata": {},
     "output_type": "execute_result"
    }
   ],
   "source": [
    "alltranseqtls_ids = [x.rsid for x in alltranseqtls]\n",
    "len(set(alltranseqtls_ids))"
   ]
  },
  {
   "cell_type": "code",
   "execution_count": 22,
   "metadata": {},
   "outputs": [
    {
     "name": "stdout",
     "output_type": "stream",
     "text": [
      "162\n",
      "142\n",
      "bam ['chr2_218830602_T_C_b38']\n",
      "ban ['chr2_218830602_T_C_b38', 'chr14_87900975_C_T_b38']\n",
      "ms ['chr2_218830602_T_C_b38', 'chr17_61209908_C_T_b38']\n",
      "pro ['chr18_7175423_G_A_b38']\n"
     ]
    }
   ],
   "source": [
    "gtex_file = \"/cbscratch/franco/datasets/gtex_v8/expression/gtex_portal/eQTLs/GTEx_Analysis_v8_trans_eGenes_fdr05.txt\"\n",
    "gtex_trans_dict = collections.defaultdict(list)\n",
    "gtex_trans_list = list()\n",
    "with open(gtex_file) as instream:\n",
    "    next(instream)\n",
    "    for line in instream:\n",
    "        arr = line.strip().split(\"\\t\")\n",
    "        gtex_trans_list.append(arr[6])\n",
    "print(len(gtex_trans_list))\n",
    "print(len(set(gtex_trans_list)))\n",
    "gtex_tejaas_intersection = set.intersection(set(gtex_trans_list), set(alltranseqtls_ids))\n",
    "for tissue in tissues:\n",
    "    res = [x for x in transeqtl_dict[tissue] if x.rsid in gtex_tejaas_intersection]\n",
    "    if len(res) > 0:\n",
    "        print(tissue, [x.rsid for x in res])\n",
    "\n",
    "# chr17_61209908_C_T_b38 originally in Nerve Tibial\n",
    "# chr2_218830602_T_C_b38 originally in Cell Cultured fibroblasts\n",
    "# chr14_87900975_C_T_b38 originally in Whole Blood\n",
    "# chr18_7175423_G_A_b38 originally  in Testis"
   ]
  }
 ],
 "metadata": {
  "kernelspec": {
   "display_name": "Python 3",
   "language": "python",
   "name": "python3"
  },
  "language_info": {
   "codemirror_mode": {
    "name": "ipython",
    "version": 3
   },
   "file_extension": ".py",
   "mimetype": "text/x-python",
   "name": "python",
   "nbconvert_exporter": "python",
   "pygments_lexer": "ipython3",
   "version": "3.6.7"
  }
 },
 "nbformat": 4,
 "nbformat_minor": 2
}
