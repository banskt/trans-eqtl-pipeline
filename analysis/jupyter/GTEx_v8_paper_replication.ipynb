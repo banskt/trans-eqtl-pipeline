{
 "cells": [
  {
   "cell_type": "code",
   "execution_count": 40,
   "metadata": {},
   "outputs": [],
   "source": [
    "import os, sys\n",
    "sys.path.append('../')\n",
    "from utils import utils\n",
    "import json\n",
    "import numpy as np\n",
    "\n",
    "tissue_file = \"/usr/users/fsimone/trans-eqtl-pipeline/analysis/plots/tissue_table.txt\"\n",
    "tissues, descriptions, tstrings = utils.read_tissues_str(tissue_file)\n",
    "\n",
    "json_file = \"../gtex_v8_metadata.json\"\n",
    "with open(json_file) as instream:\n",
    "    gtex_meta = json.load(instream)\n",
    "tissue_colors = dict()\n",
    "tissue_names = dict()\n",
    "tissue_samples = dict()\n",
    "\n",
    "tshorst_dict = dict(zip(tstrings, tissues))\n",
    "\n",
    "for tshort, tfull in zip(tissues, descriptions):\n",
    "    tissue_names[tshort] = tfull\n",
    "    tissue_colors[tshort] = \"#\" + gtex_meta[tfull.replace(\" \", \"_\")][\"colorHex\"]\n",
    "    tissue_samples[tshort] = gtex_meta[tfull.replace(\" \", \"_\")][\"rnaSeqAndGenotypeSampleCount\"]\n",
    "\n",
    "special_tissues = ['ag', 'haa', 'liv', 'msg', 'pan', 'pit', 'si', 'spl', 'va', 'wb']"
   ]
  },
  {
   "cell_type": "code",
   "execution_count": 41,
   "metadata": {},
   "outputs": [],
   "source": [
    "import mpmath\n",
    "import collections\n",
    "mpmath.mp.dps = 50\n",
    "def pvalue(x): return float(mpmath.log10(1 - 0.5 * (1 + mpmath.erf(x/mpmath.sqrt(2)))))\n",
    "\n",
    "SNPRES_FIELDS = ['rsid', 'chrom', 'pos', 'logp', 'target', 'maf']\n",
    "class SNPRes(collections.namedtuple('_SNPRes', SNPRES_FIELDS)):\n",
    "    __slots__ = ()\n",
    "\n",
    "def tejaas(filepath, mafcutoff=0.01):\n",
    "    res = list()\n",
    "    with open(filepath, 'r') as mfile:\n",
    "        next(mfile)\n",
    "        for line in mfile:\n",
    "            arr   = line.strip().split(\"\\t\")\n",
    "            rsid  = arr[0]\n",
    "            pos   = int(arr[2])\n",
    "            p     = float(arr[7])\n",
    "            chrom = int(arr[1])\n",
    "            q     = float(arr[4])\n",
    "            mu    = float(arr[5])\n",
    "            sigma = float(arr[6])\n",
    "            maf   = float(arr[3])\n",
    "            if maf < mafcutoff or maf > (1-mafcutoff):\n",
    "                continue\n",
    "            if sigma == 0:\n",
    "                continue\n",
    "            logp  = np.log10(p) if p != 0 else pvalue( (q - mu) / sigma)\n",
    "            res.append(SNPRes(rsid=rsid, chrom=chrom, pos=pos, logp=-logp, target=None, maf=maf))\n",
    "    return res\n",
    "\n",
    "alltranseqtls = list()\n",
    "transeqtl_dict = dict()\n",
    "tejaas_file = \"/cbscratch/franco/trans-eqtl/protein_coding_lncRNA_gamma01_knn30_cut5e-8/{:s}/trans_eqtls.txt\"\n",
    "for tissue in tissues:\n",
    "    if tissue in special_tissues:\n",
    "        tejaas_file = \"/cbscratch/franco/trans-eqtl/protein_coding_lncRNA_optim_gamma_knn30_cut5e-8/{:s}/trans_eqtls.txt\"\n",
    "    else:\n",
    "        tejaas_file = \"/cbscratch/franco/trans-eqtl/protein_coding_lncRNA_gamma01_knn30_cut5e-8/{:s}/trans_eqtls.txt\"\n",
    "    tissue_tejaas_file = tejaas_file.format(tissue)\n",
    "    tissue_trans_eqtls = tejaas(tissue_tejaas_file)\n",
    "    transeqtl_dict[tissue] = tissue_trans_eqtls\n",
    "    alltranseqtls += tissue_trans_eqtls\n",
    "    "
   ]
  },
  {
   "cell_type": "code",
   "execution_count": 42,
   "metadata": {},
   "outputs": [
    {
     "data": {
      "text/plain": [
       "109577"
      ]
     },
     "execution_count": 42,
     "metadata": {},
     "output_type": "execute_result"
    }
   ],
   "source": [
    "alltranseqtls_ids = [x.rsid for x in alltranseqtls]\n",
    "len(set(alltranseqtls_ids))"
   ]
  },
  {
   "cell_type": "code",
   "execution_count": 47,
   "metadata": {},
   "outputs": [
    {
     "name": "stdout",
     "output_type": "stream",
     "text": [
      "GTEx nº trans-eQTLs: 162\n",
      "GTEx nº unique trans-eQTLs: 142\n",
      "TEJAAS tissue: ag\n",
      "Global matches ['chr9_25575432_A_G_b38', 'chr10_15169740_A_G_b38', 'chr18_52052163_G_A_b38']\n",
      "TEJAAS tissue: ac\n",
      "Global matches ['chr18_52052163_G_A_b38']\n",
      "TEJAAS tissue: bam\n",
      "Global matches ['chr2_218830602_T_C_b38']\n",
      "TEJAAS tissue: ban\n",
      "Global matches ['chr2_218830602_T_C_b38', 'chr14_87900975_C_T_b38']\n",
      "TEJAAS tissue: liv\n",
      "Global matches ['chr9_25575432_A_G_b38']\n",
      "TEJAAS tissue: ms\n",
      "Global matches ['chr2_218830602_T_C_b38']\n",
      "TEJAAS tissue: pro\n",
      "Global matches ['chr9_25575432_A_G_b38', 'chr18_7175423_G_A_b38']\n",
      "TEJAAS tissue: si\n",
      "Global matches ['chr9_25575432_A_G_b38', 'chr17_61209908_C_T_b38', 'chr18_47702814_T_C_b38']\n",
      "TEJAAS tissue: spl\n",
      "Global matches ['chr17_61209908_C_T_b38']\n",
      "TEJAAS tissue: tes\n",
      "Global matches ['chr17_61209908_C_T_b38']\n",
      "TEJAAS tissue: thy\n",
      "Global matches ['chr9_97826557_A_G_b38']\n",
      "--->thy - chr9_97826557_A_G_b38\n",
      "TEJAAS tissue: wb\n",
      "Global matches ['chr6_28324929_T_C_b38', 'chr17_61209908_C_T_b38']\n",
      "\n",
      "\n",
      "Total Replicated trans-eQTLs: 19\n",
      "Tissue Replicated trans-eQTLs: 1\n"
     ]
    }
   ],
   "source": [
    "gtex_file = \"/cbscratch/franco/datasets/gtex_v8/expression/gtex_portal/eQTLs/GTEx_Analysis_v8_trans_eGenes_fdr05.txt\"\n",
    "gtex_trans_dict = collections.defaultdict(list)\n",
    "gtex_trans_list = list()\n",
    "gtex_trans_dict = collections.defaultdict(list)\n",
    "with open(gtex_file) as instream:\n",
    "    next(instream)\n",
    "    for line in instream:\n",
    "        arr = line.strip().split(\"\\t\")\n",
    "        tstring = gtex_meta[arr[0]]['tissueSiteDetailAbbr']\n",
    "        gtex_trans_list.append(arr[6])\n",
    "        gtex_trans_dict[tshorst_dict[tstring]].append(arr[6])\n",
    "print(f\"GTEx nº trans-eQTLs: {len(gtex_trans_list)}\")\n",
    "print(f\"GTEx nº unique trans-eQTLs: {len(set(gtex_trans_list))}\")\n",
    "gtex_tejaas_intersection = set.intersection(set(gtex_trans_list), set(alltranseqtls_ids))\n",
    "all_global_matches = list()\n",
    "all_tissue_matches = list()\n",
    "for tissue in tissues:\n",
    "    res = [x for x in transeqtl_dict[tissue] if x.rsid in gtex_tejaas_intersection]\n",
    "    if len(res) > 0:\n",
    "        print(f\"TEJAAS tissue: {tissue}\")\n",
    "        print(f\"Global matches {[x.rsid for x in res]}\")\n",
    "        all_global_matches += [x.rsid for x in res]\n",
    "        for k in gtex_trans_dict.keys():\n",
    "            for snp in res:\n",
    "                if snp.rsid in gtex_trans_dict[k] and tissue == k:\n",
    "                    print(f\"--->{k} - {snp.rsid}\")\n",
    "                    all_tissue_matches += [snp.rsid]\n",
    "\n",
    "# chr17_61209908_C_T_b38 originally in Nerve Tibial\n",
    "# chr2_218830602_T_C_b38 originally in Cell Cultured fibroblasts\n",
    "# chr14_87900975_C_T_b38 originally in Whole Blood\n",
    "# chr18_7175423_G_A_b38 originally  in Testis\n",
    "print(f\"\\n\\nTotal Replicated trans-eQTLs: {len(all_global_matches)}\")\n",
    "print(f\"Tissue Replicated trans-eQTLs: {len(all_tissue_matches)}\")"
   ]
  },
  {
   "cell_type": "code",
   "execution_count": 48,
   "metadata": {},
   "outputs": [
    {
     "data": {
      "text/plain": [
       "['chr9_97826557_A_G_b38']"
      ]
     },
     "execution_count": 48,
     "metadata": {},
     "output_type": "execute_result"
    }
   ],
   "source": [
    "all_tissue_matches"
   ]
  }
 ],
 "metadata": {
  "kernelspec": {
   "display_name": "Python 3",
   "language": "python",
   "name": "python3"
  },
  "language_info": {
   "codemirror_mode": {
    "name": "ipython",
    "version": 3
   },
   "file_extension": ".py",
   "mimetype": "text/x-python",
   "name": "python",
   "nbconvert_exporter": "python",
   "pygments_lexer": "ipython3",
   "version": "3.6.7"
  }
 },
 "nbformat": 4,
 "nbformat_minor": 2
}
