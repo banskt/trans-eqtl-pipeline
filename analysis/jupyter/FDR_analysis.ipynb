{
 "cells": [
  {
   "cell_type": "code",
   "execution_count": 2,
   "metadata": {},
   "outputs": [
    {
     "name": "stdout",
     "output_type": "stream",
     "text": [
      "gtex-ms tejaas lasso 1 2 3 4 5 6 7 8 9 10 11 12 13 14 15 16 17 18 19 20 21 22 \n",
      "gtex-ms tejaas_rand lasso 1 2 3 4 5 6 7 8 9 10 11 12 13 14 15 16 17 18 19 20 21 22 \n"
     ]
    }
   ],
   "source": [
    "import sys, os\n",
    "import numpy as np\n",
    "import collections\n",
    "import mpmath\n",
    "\n",
    "mpmath.mp.dps = 500\n",
    "def pval(x): return float(mpmath.log10(1 - 0.5 * (1 + mpmath.erf(x/mpmath.sqrt(2)))))\n",
    "\n",
    "SNPRES_FIELDS = ['rsid', 'chrom', 'pos', 'logp']\n",
    "class SNPRes(collections.namedtuple('_SNPRes', SNPRES_FIELDS)):\n",
    "    __slots__ = ()\n",
    "\n",
    "def tejaas(filepath, chrom):\n",
    "    res = list()\n",
    "    with open(filepath, 'r') as mfile:\n",
    "        next(mfile)\n",
    "        for line in mfile:\n",
    "            arr   = line.strip().split(\"\\t\")\n",
    "            rsid  = arr[0]\n",
    "            pos   = int(arr[1])\n",
    "            p     = float(arr[5])\n",
    "            q     = float(arr[2])\n",
    "            mu    = float(arr[3])\n",
    "            sigma = float(arr[4])\n",
    "            if sigma == 0:\n",
    "                continue\n",
    "            logp  = np.log10(p) if p != 0 else pval( (q - mu) / sigma)\n",
    "            res.append(SNPRes(rsid=rsid, chrom=chrom, pos=pos, logp=-logp))\n",
    "#             res.append(SNPRes(rsid=rsid, chrom=chrom, pos=pos, logp=, TFdist=None, TFname=None))\n",
    "    return res\n",
    "\n",
    "\n",
    "datadir = \"/cbscratch/franco/trans-eqtl/dev-pipeline/gtex_v6_norm\"\n",
    "chrms = np.arange(1,23)\n",
    "tissues = [\"gtex-ms\"]\n",
    "expressions = [\"lasso\"] \n",
    "sbs = [\"0.05\"]\n",
    "methods = [\"tejaas\", \"tejaas_rand\"]\n",
    "snp_res_dict = collections.defaultdict(dict)\n",
    "\n",
    "for sb in sbs:\n",
    "    for expr in expressions:\n",
    "        snp_res_dict[sb][expr] = collections.defaultdict(dict)\n",
    "        for tissue in tissues:\n",
    "            snp_res_dict[sb][expr][tissue] = collections.defaultdict(dict)\n",
    "            for method in methods:\n",
    "                snp_res = list()\n",
    "                print(tissue, method, expr, end=\" \")\n",
    "                for chrom in chrms:\n",
    "                    print(chrom, end=\" \")\n",
    "                    inputfile = os.path.join(datadir,expr,tissue,method,\"permnull_sb\"+sb,\"chr\"+str(chrom),\"rr.txt.ld.new\")\n",
    "                    snp_res += tejaas(inputfile, chrom)\n",
    "                print(\"\")\n",
    "                snp_res_dict[sb][expr][tissue][method] = snp_res"
   ]
  },
  {
   "cell_type": "code",
   "execution_count": 3,
   "metadata": {},
   "outputs": [],
   "source": [
    "from operator import attrgetter\n",
    "\n",
    "mysb=\"0.05\"\n",
    "myexpr=\"lasso\"\n",
    "mytissue=\"gtex-ms\"\n",
    "mymethod=\"tejaas\"\n",
    "snplist = snp_res_dict[mysb][myexpr][mytissue][mymethod]\n",
    "sorted_list = sorted(snplist, key=attrgetter('logp'), reverse=True)\n",
    "\n",
    "mymethod=\"tejaas_rand\"\n",
    "snplist_random = snp_res_dict[mysb][myexpr][mytissue][mymethod]\n",
    "sorted_list_random = sorted(snplist_random, key=attrgetter('logp'), reverse=True)"
   ]
  },
  {
   "cell_type": "code",
   "execution_count": 7,
   "metadata": {},
   "outputs": [
    {
     "name": "stdout",
     "output_type": "stream",
     "text": [
      "Total SNPs: 525787\n"
     ]
    }
   ],
   "source": [
    "# Benjamini Hochberg\n",
    "\n",
    "alpha = 0.05\n",
    "M = len(sorted_list)\n",
    "print(\"Total SNPs: {:d}\".format(M))\n",
    "thresholds = -np.log10( np.arange(1, M+1) *  (alpha / M ) )"
   ]
  },
  {
   "cell_type": "code",
   "execution_count": 16,
   "metadata": {},
   "outputs": [
    {
     "name": "stdout",
     "output_type": "stream",
     "text": [
      "rs149320310, rs142125886, rs6826551, rs186244366, rs7117007, rs4781088, rs76730163, rs193195607, rs185123150, rs3102567, rs186187911, rs79335590, rs28412121, rs186157005, rs113443759, rs71382284, rs6930957, rs36159928, rs143314019, rs188831770, rs4581711, rs62219297, rs10134993, rs2116711, rs3989636, rs13008864, rs8141164, rs211756, rs193078978, rs10910140, 29 (SNPRes(rsid='rs10910140', chrom=1, pos=233510079, logp=5.355315281604121), 5.5447185849853735)\n"
     ]
    }
   ],
   "source": [
    "limit=0\n",
    "counter=0\n",
    "k = 0\n",
    "for i, e in enumerate(zip(sorted_list, thresholds)):\n",
    "    snp, t = e\n",
    "    print(e[0].rsid, end= \", \")\n",
    "    if snp.logp < t:\n",
    "        print(i, e)\n",
    "        k = i\n",
    "        counter += 1\n",
    "        if counter >= limit:\n",
    "            break\n",
    "        "
   ]
  },
  {
   "cell_type": "code",
   "execution_count": 9,
   "metadata": {},
   "outputs": [
    {
     "name": "stdout",
     "output_type": "stream",
     "text": [
      "91 (SNPRes(rsid='rs11074974', chrom=16, pos=11487344, logp=5.046846521241486), 5.0580520123594805)\n"
     ]
    }
   ],
   "source": [
    "limit=0\n",
    "counter=0\n",
    "k = 0\n",
    "for i, e in enumerate(zip(sorted_list_random, thresholds)):\n",
    "    snp, t = e\n",
    "    if snp.logp < t:\n",
    "        print(i, e)\n",
    "        k = i\n",
    "        counter += 1\n",
    "        if counter >= limit:\n",
    "            break"
   ]
  },
  {
   "cell_type": "code",
   "execution_count": 10,
   "metadata": {},
   "outputs": [],
   "source": [
    "import matplotlib.pyplot as plt\n",
    "\n",
    "pvals = np.power(10, [-x.logp for x in sorted_list])\n",
    "pvals_random = np.power(10, [-x.logp for x in sorted_list_random])"
   ]
  },
  {
   "cell_type": "code",
   "execution_count": 11,
   "metadata": {},
   "outputs": [
    {
     "data": {
      "image/png": "[encoded data removed]",
      "text/plain": [
       "<Figure size 432x288 with 1 Axes>"
      ]
     },
     "metadata": {},
     "output_type": "display_data"
    }
   ],
   "source": [
    "plt.hist(pvals_random, bins=50, label=\"random\", alpha = 0.3)\n",
    "plt.hist(pvals, bins=50, label=\"actual\", alpha = 0.3)\n",
    "plt.legend()\n",
    "plt.show()"
   ]
  },
  {
   "cell_type": "code",
   "execution_count": null,
   "metadata": {},
   "outputs": [],
   "source": []
  }
 ],
 "metadata": {
  "kernelspec": {
   "display_name": "Python 3",
   "language": "python",
   "name": "python3"
  }
 },
 "nbformat": 4,
 "nbformat_minor": 2
}
