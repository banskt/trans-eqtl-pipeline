{
 "cells": [
  {
   "cell_type": "code",
   "execution_count": 7,
   "metadata": {},
   "outputs": [],
   "source": [
    "import numpy as np\n",
    "import os\n",
    "\n",
    "basedir = \"/cbscratch/franco/trans-eqtl/dev-pipeline/precorr\"\n",
    "\n",
    "outdir = basedir+\"/lmcorrected_age_precorr/gtex-ms/tejaas/permnull_sb0.05/\"\n",
    "outdir_random = basedir +\"/lmcorrected_age_precorr/gtex-ms/tejaas_rand/permnull_sb0.05/\"\n",
    "\n",
    "outdir_norm = basedir +\"/norm/gtex-ms/tejaas/permnull_sb0.05/\"\n",
    "outdir_norm_random = basedir +\"/norm/gtex-ms/tejaas_rand/permnull_sb0.05/\"\n",
    "\n",
    "#outdir_peer = \"/scratch/sbanerj/trans-eqtl/dev-pipeline/gtex-ms_35peer/tejaas/permnull_sb0.01/chr7\"\n",
    "#outfiles_peer = glob.glob( outdir_peer + \"/chunk*_rr.txt\")"
   ]
  },
  {
   "cell_type": "code",
   "execution_count": 8,
   "metadata": {
    "scrolled": true
   },
   "outputs": [
    {
     "name": "stdout",
     "output_type": "stream",
     "text": [
      "Loading  /cbscratch/franco/trans-eqtl/dev-pipeline/precorr/lmcorrected_age_precorr/gtex-ms/tejaas/permnull_sb0.05/chr6/rr.txt\n",
      "Loading  /cbscratch/franco/trans-eqtl/dev-pipeline/precorr/lmcorrected_age_precorr/gtex-ms/tejaas_rand/permnull_sb0.05/chr6/rr.txt\n",
      "Loading  /cbscratch/franco/trans-eqtl/dev-pipeline/precorr/norm/gtex-ms/tejaas/permnull_sb0.05/chr6/rr.txt.ld\n",
      "Loading  /cbscratch/franco/trans-eqtl/dev-pipeline/precorr/norm/gtex-ms/tejaas_rand/permnull_sb0.05/chr6/rr.txt.ld\n",
      "Loading  /cbscratch/franco/trans-eqtl/dev-pipeline/precorr/norm/gtex-ms/tejaas/permnull_sb0.05/chr6/rr.txt\n",
      "Loading  /cbscratch/franco/trans-eqtl/dev-pipeline/precorr/norm/gtex-ms/tejaas_rand/permnull_sb0.05/chr6/rr.txt\n",
      "Loading  /cbscratch/franco/trans-eqtl/dev-pipeline/precorr/lmcorrected_age_precorr/gtex-ms/tejaas/permnull_sb0.05/chr7/rr.txt\n",
      "Loading  /cbscratch/franco/trans-eqtl/dev-pipeline/precorr/lmcorrected_age_precorr/gtex-ms/tejaas_rand/permnull_sb0.05/chr7/rr.txt\n",
      "Loading  /cbscratch/franco/trans-eqtl/dev-pipeline/precorr/norm/gtex-ms/tejaas/permnull_sb0.05/chr7/rr.txt.ld\n",
      "Loading  /cbscratch/franco/trans-eqtl/dev-pipeline/precorr/norm/gtex-ms/tejaas_rand/permnull_sb0.05/chr7/rr.txt.ld\n",
      "Loading  /cbscratch/franco/trans-eqtl/dev-pipeline/precorr/norm/gtex-ms/tejaas/permnull_sb0.05/chr7/rr.txt\n",
      "Loading  /cbscratch/franco/trans-eqtl/dev-pipeline/precorr/norm/gtex-ms/tejaas_rand/permnull_sb0.05/chr7/rr.txt\n"
     ]
    }
   ],
   "source": [
    "def read_tejaas_rr_pvals(filename):\n",
    "    print(\"Loading \", filename)\n",
    "    pvals = list()\n",
    "    with open(filename, \"r\") as mfile:\n",
    "        next(mfile)\n",
    "        for line in mfile:\n",
    "            pvals.append(float(line.split()[5]))\n",
    "    pvals = np.array(pvals)\n",
    "    return pvals\n",
    "\n",
    "pvals = np.array([])\n",
    "pvals_random = np.array([])\n",
    "pvals_norm = np.array([])\n",
    "pvals_norm_random = np.array([])\n",
    "pvals_norm_ld = np.array([])\n",
    "pvals_norm_ld_random = np.array([])\n",
    "for chrm in range(6,8):\n",
    "    outfile = os.path.join(outdir+\"chr\"+str(chrm), \"rr.txt\")\n",
    "    outfile_random = os.path.join(outdir_random+\"chr\"+str(chrm), \"rr.txt\")\n",
    "    pvals = np.append(pvals, read_tejaas_rr_pvals(outfile))\n",
    "    pvals_random = np.append(pvals_random, read_tejaas_rr_pvals(outfile_random))\n",
    "    \n",
    "    outfile_norm_ld = os.path.join(outdir_norm+\"chr\"+str(chrm), \"rr.txt.ld\")\n",
    "    outfile_norm_ld_random = os.path.join(outdir_norm_random+\"chr\"+str(chrm), \"rr.txt.ld\")\n",
    "    pvals_norm_ld = np.append(pvals_norm_ld, read_tejaas_rr_pvals(outfile_norm_ld))\n",
    "    pvals_norm_ld_random = np.append(pvals_norm_ld_random, read_tejaas_rr_pvals(outfile_norm_ld_random))\n",
    "    \n",
    "    outfile_norm = os.path.join(outdir_norm+\"chr\"+str(chrm), \"rr.txt\")\n",
    "    outfile_norm_random = os.path.join(outdir_norm_random+\"chr\"+str(chrm), \"rr.txt\")\n",
    "    pvals_norm = np.append(pvals_norm, read_tejaas_rr_pvals(outfile_norm))\n",
    "    pvals_norm_random = np.append(pvals_norm_random, read_tejaas_rr_pvals(outfile_norm_random))"
   ]
  },
  {
   "cell_type": "code",
   "execution_count": 12,
   "metadata": {},
   "outputs": [
    {
     "data": {
      "image/png": "[encoded data removed]",
      "text/plain": [
       "<Figure size 1008x576 with 3 Axes>"
      ]
     },
     "metadata": {},
     "output_type": "display_data"
    }
   ],
   "source": [
    "import matplotlib.pyplot as plt\n",
    "import sys\n",
    "\n",
    "fig = plt.figure(figsize=(14,8))\n",
    "ax1 = fig.add_subplot(131)\n",
    "ax2 = fig.add_subplot(132)\n",
    "ax3 = fig.add_subplot(133)\n",
    "\n",
    "ax1.hist(pvals_norm_ld_random, bins=30, density=True, alpha=0.3, label=\"random\")\n",
    "ax1.hist(pvals_norm_ld, bins=30, density=True, alpha=0.3, label=\"actual\")\n",
    "ax1.legend()\n",
    "ax1.set_title(\"Normalized GX - LD filtered - Not Corrected\")\n",
    "ax1.set_ylim(0,10.5)\n",
    "\n",
    "ax2.hist(pvals_norm_random, bins=30, density=True, alpha=0.3, label=\"random\")\n",
    "ax2.hist(pvals_norm, bins=30, density=True, alpha=0.3, label=\"actual\")\n",
    "ax2.legend()\n",
    "ax2.set_title(\"Normalized GX - Not Corrected\")\n",
    "ax2.set_ylim(0,10.5)\n",
    "\n",
    "ax3.hist(pvals_random, bins=30, density=True, alpha=0.3, label=\"random\")\n",
    "ax3.hist(pvals, bins=30, density=True, alpha=0.3, label=\"actual\")\n",
    "ax3.legend()\n",
    "ax3.set_title(\"Corrected (raw RPKMs) + Normalized\")\n",
    "ax3.set_ylim(0,10.5)\n",
    "\n",
    "plt.show()"
   ]
  },
  {
   "cell_type": "code",
   "execution_count": null,
   "metadata": {},
   "outputs": [],
   "source": []
  }
 ],
 "metadata": {
  "kernelspec": {
   "display_name": "Python 3",
   "language": "python",
   "name": "python3"
  },
  "language_info": {
   "codemirror_mode": {
    "name": "ipython",
    "version": 3
   },
   "file_extension": ".py",
   "mimetype": "text/x-python",
   "name": "python",
   "nbconvert_exporter": "python",
   "pygments_lexer": "ipython3",
   "version": "3.6.7"
  }
 },
 "nbformat": 4,
 "nbformat_minor": 2
}
