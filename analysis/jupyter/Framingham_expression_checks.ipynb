{
 "cells": [
  {
   "cell_type": "code",
   "execution_count": 7,
   "metadata": {},
   "outputs": [
    {
     "data": {
      "text/html": [
       "<div>\n",
       "<style scoped>\n",
       "    .dataframe tbody tr th:only-of-type {\n",
       "        vertical-align: middle;\n",
       "    }\n",
       "\n",
       "    .dataframe tbody tr th {\n",
       "        vertical-align: top;\n",
       "    }\n",
       "\n",
       "    .dataframe thead th {\n",
       "        text-align: right;\n",
       "    }\n",
       "</style>\n",
       "<table border=\"1\" class=\"dataframe\">\n",
       "  <thead>\n",
       "    <tr style=\"text-align: right;\">\n",
       "      <th></th>\n",
       "      <th>RWX100623_FHS_CCS_06A05.CEL</th>\n",
       "      <th>RWX110118_FHS_OFF_21H06.CEL</th>\n",
       "      <th>RWX100603_FHS_CCS_04A06.CEL</th>\n",
       "      <th>RWX110324_FHS_OFF_30D04.CEL</th>\n",
       "      <th>KAW101122_FHS_OFF_13H11.CEL</th>\n",
       "      <th>RWX100601_FHS_CCS_03D10.CEL</th>\n",
       "      <th>RWX110119_FHS_OFF_21D09.CEL</th>\n",
       "      <th>RWX110726_FHS_OFF_43H08.CEL</th>\n",
       "      <th>RWX110209_FHS_OFF_25A06.CEL</th>\n",
       "      <th>RWX110324_FHS_OFF_30B02.CEL</th>\n",
       "      <th>...</th>\n",
       "      <th>RWX110207_FHS_OFF_24G06.CEL</th>\n",
       "      <th>KAW101227_FHS_OFF_18D12.CEL</th>\n",
       "      <th>RWX100512_FHS_CCS_01G07.CEL</th>\n",
       "      <th>RWX110201_FHS_OFF_23B12.CEL</th>\n",
       "      <th>RWX101122_FHS_OFF_13E02.CEL</th>\n",
       "      <th>RWX100609_FHS_CCS_05H06.CEL</th>\n",
       "      <th>NRC101220_FHS_OFF_17D07.CEL</th>\n",
       "      <th>RWX110201_FHS_OFF_23F07.CEL</th>\n",
       "      <th>RW101206_FHS_OFF_15F07.CEL</th>\n",
       "      <th>KAW110316_FHS_OFF_28B12.CEL</th>\n",
       "    </tr>\n",
       "    <tr>\n",
       "      <th>transcript_cluster_id</th>\n",
       "      <th></th>\n",
       "      <th></th>\n",
       "      <th></th>\n",
       "      <th></th>\n",
       "      <th></th>\n",
       "      <th></th>\n",
       "      <th></th>\n",
       "      <th></th>\n",
       "      <th></th>\n",
       "      <th></th>\n",
       "      <th></th>\n",
       "      <th></th>\n",
       "      <th></th>\n",
       "      <th></th>\n",
       "      <th></th>\n",
       "      <th></th>\n",
       "      <th></th>\n",
       "      <th></th>\n",
       "      <th></th>\n",
       "      <th></th>\n",
       "      <th></th>\n",
       "    </tr>\n",
       "  </thead>\n",
       "  <tbody>\n",
       "    <tr>\n",
       "      <th>2315554</th>\n",
       "      <td>5.850247</td>\n",
       "      <td>5.975302</td>\n",
       "      <td>6.005539</td>\n",
       "      <td>5.974684</td>\n",
       "      <td>5.943496</td>\n",
       "      <td>5.889458</td>\n",
       "      <td>5.941573</td>\n",
       "      <td>6.015204</td>\n",
       "      <td>6.029130</td>\n",
       "      <td>5.936949</td>\n",
       "      <td>...</td>\n",
       "      <td>5.861014</td>\n",
       "      <td>6.099288</td>\n",
       "      <td>6.300427</td>\n",
       "      <td>5.835536</td>\n",
       "      <td>5.973168</td>\n",
       "      <td>5.995979</td>\n",
       "      <td>5.900428</td>\n",
       "      <td>5.912507</td>\n",
       "      <td>6.173873</td>\n",
       "      <td>5.861184</td>\n",
       "    </tr>\n",
       "    <tr>\n",
       "      <th>2315633</th>\n",
       "      <td>6.318152</td>\n",
       "      <td>6.268921</td>\n",
       "      <td>6.202544</td>\n",
       "      <td>6.275100</td>\n",
       "      <td>6.514476</td>\n",
       "      <td>6.011879</td>\n",
       "      <td>6.219289</td>\n",
       "      <td>6.007688</td>\n",
       "      <td>5.891831</td>\n",
       "      <td>6.246820</td>\n",
       "      <td>...</td>\n",
       "      <td>6.173590</td>\n",
       "      <td>6.316441</td>\n",
       "      <td>6.333753</td>\n",
       "      <td>6.253038</td>\n",
       "      <td>6.255415</td>\n",
       "      <td>6.307235</td>\n",
       "      <td>6.140306</td>\n",
       "      <td>6.284929</td>\n",
       "      <td>6.259625</td>\n",
       "      <td>6.263931</td>\n",
       "    </tr>\n",
       "    <tr>\n",
       "      <th>2315674</th>\n",
       "      <td>5.907794</td>\n",
       "      <td>5.999079</td>\n",
       "      <td>5.968927</td>\n",
       "      <td>5.886197</td>\n",
       "      <td>5.948602</td>\n",
       "      <td>5.920605</td>\n",
       "      <td>6.003136</td>\n",
       "      <td>5.904047</td>\n",
       "      <td>5.986377</td>\n",
       "      <td>5.925429</td>\n",
       "      <td>...</td>\n",
       "      <td>5.655715</td>\n",
       "      <td>6.093673</td>\n",
       "      <td>5.842138</td>\n",
       "      <td>5.884624</td>\n",
       "      <td>5.952230</td>\n",
       "      <td>6.014596</td>\n",
       "      <td>6.002784</td>\n",
       "      <td>5.896910</td>\n",
       "      <td>5.917240</td>\n",
       "      <td>5.981729</td>\n",
       "    </tr>\n",
       "    <tr>\n",
       "      <th>2315739</th>\n",
       "      <td>5.924951</td>\n",
       "      <td>5.926334</td>\n",
       "      <td>5.729575</td>\n",
       "      <td>5.856251</td>\n",
       "      <td>5.976879</td>\n",
       "      <td>5.669940</td>\n",
       "      <td>5.904225</td>\n",
       "      <td>5.894574</td>\n",
       "      <td>5.768180</td>\n",
       "      <td>5.787109</td>\n",
       "      <td>...</td>\n",
       "      <td>5.719064</td>\n",
       "      <td>6.050852</td>\n",
       "      <td>6.045072</td>\n",
       "      <td>5.804630</td>\n",
       "      <td>5.870402</td>\n",
       "      <td>5.800264</td>\n",
       "      <td>5.832620</td>\n",
       "      <td>5.939303</td>\n",
       "      <td>5.976715</td>\n",
       "      <td>5.617899</td>\n",
       "    </tr>\n",
       "    <tr>\n",
       "      <th>2315894</th>\n",
       "      <td>7.718723</td>\n",
       "      <td>7.741709</td>\n",
       "      <td>7.609998</td>\n",
       "      <td>7.653434</td>\n",
       "      <td>7.698336</td>\n",
       "      <td>7.643283</td>\n",
       "      <td>7.611183</td>\n",
       "      <td>7.563349</td>\n",
       "      <td>7.776175</td>\n",
       "      <td>7.896180</td>\n",
       "      <td>...</td>\n",
       "      <td>7.568735</td>\n",
       "      <td>7.554984</td>\n",
       "      <td>8.141521</td>\n",
       "      <td>7.382388</td>\n",
       "      <td>7.498539</td>\n",
       "      <td>7.670622</td>\n",
       "      <td>7.689099</td>\n",
       "      <td>7.783286</td>\n",
       "      <td>7.644522</td>\n",
       "      <td>7.670739</td>\n",
       "    </tr>\n",
       "  </tbody>\n",
       "</table>\n",
       "<p>5 rows × 2311 columns</p>\n",
       "</div>"
      ],
      "text/plain": [
       "                       RWX100623_FHS_CCS_06A05.CEL  \\\n",
       "transcript_cluster_id                                \n",
       "2315554                                   5.850247   \n",
       "2315633                                   6.318152   \n",
       "2315674                                   5.907794   \n",
       "2315739                                   5.924951   \n",
       "2315894                                   7.718723   \n",
       "\n",
       "                       RWX110118_FHS_OFF_21H06.CEL  \\\n",
       "transcript_cluster_id                                \n",
       "2315554                                   5.975302   \n",
       "2315633                                   6.268921   \n",
       "2315674                                   5.999079   \n",
       "2315739                                   5.926334   \n",
       "2315894                                   7.741709   \n",
       "\n",
       "                       RWX100603_FHS_CCS_04A06.CEL  \\\n",
       "transcript_cluster_id                                \n",
       "2315554                                   6.005539   \n",
       "2315633                                   6.202544   \n",
       "2315674                                   5.968927   \n",
       "2315739                                   5.729575   \n",
       "2315894                                   7.609998   \n",
       "\n",
       "                       RWX110324_FHS_OFF_30D04.CEL  \\\n",
       "transcript_cluster_id                                \n",
       "2315554                                   5.974684   \n",
       "2315633                                   6.275100   \n",
       "2315674                                   5.886197   \n",
       "2315739                                   5.856251   \n",
       "2315894                                   7.653434   \n",
       "\n",
       "                       KAW101122_FHS_OFF_13H11.CEL  \\\n",
       "transcript_cluster_id                                \n",
       "2315554                                   5.943496   \n",
       "2315633                                   6.514476   \n",
       "2315674                                   5.948602   \n",
       "2315739                                   5.976879   \n",
       "2315894                                   7.698336   \n",
       "\n",
       "                       RWX100601_FHS_CCS_03D10.CEL  \\\n",
       "transcript_cluster_id                                \n",
       "2315554                                   5.889458   \n",
       "2315633                                   6.011879   \n",
       "2315674                                   5.920605   \n",
       "2315739                                   5.669940   \n",
       "2315894                                   7.643283   \n",
       "\n",
       "                       RWX110119_FHS_OFF_21D09.CEL  \\\n",
       "transcript_cluster_id                                \n",
       "2315554                                   5.941573   \n",
       "2315633                                   6.219289   \n",
       "2315674                                   6.003136   \n",
       "2315739                                   5.904225   \n",
       "2315894                                   7.611183   \n",
       "\n",
       "                       RWX110726_FHS_OFF_43H08.CEL  \\\n",
       "transcript_cluster_id                                \n",
       "2315554                                   6.015204   \n",
       "2315633                                   6.007688   \n",
       "2315674                                   5.904047   \n",
       "2315739                                   5.894574   \n",
       "2315894                                   7.563349   \n",
       "\n",
       "                       RWX110209_FHS_OFF_25A06.CEL  \\\n",
       "transcript_cluster_id                                \n",
       "2315554                                   6.029130   \n",
       "2315633                                   5.891831   \n",
       "2315674                                   5.986377   \n",
       "2315739                                   5.768180   \n",
       "2315894                                   7.776175   \n",
       "\n",
       "                       RWX110324_FHS_OFF_30B02.CEL  \\\n",
       "transcript_cluster_id                                \n",
       "2315554                                   5.936949   \n",
       "2315633                                   6.246820   \n",
       "2315674                                   5.925429   \n",
       "2315739                                   5.787109   \n",
       "2315894                                   7.896180   \n",
       "\n",
       "                                  ...               \\\n",
       "transcript_cluster_id             ...                \n",
       "2315554                           ...                \n",
       "2315633                           ...                \n",
       "2315674                           ...                \n",
       "2315739                           ...                \n",
       "2315894                           ...                \n",
       "\n",
       "                       RWX110207_FHS_OFF_24G06.CEL  \\\n",
       "transcript_cluster_id                                \n",
       "2315554                                   5.861014   \n",
       "2315633                                   6.173590   \n",
       "2315674                                   5.655715   \n",
       "2315739                                   5.719064   \n",
       "2315894                                   7.568735   \n",
       "\n",
       "                       KAW101227_FHS_OFF_18D12.CEL  \\\n",
       "transcript_cluster_id                                \n",
       "2315554                                   6.099288   \n",
       "2315633                                   6.316441   \n",
       "2315674                                   6.093673   \n",
       "2315739                                   6.050852   \n",
       "2315894                                   7.554984   \n",
       "\n",
       "                       RWX100512_FHS_CCS_01G07.CEL  \\\n",
       "transcript_cluster_id                                \n",
       "2315554                                   6.300427   \n",
       "2315633                                   6.333753   \n",
       "2315674                                   5.842138   \n",
       "2315739                                   6.045072   \n",
       "2315894                                   8.141521   \n",
       "\n",
       "                       RWX110201_FHS_OFF_23B12.CEL  \\\n",
       "transcript_cluster_id                                \n",
       "2315554                                   5.835536   \n",
       "2315633                                   6.253038   \n",
       "2315674                                   5.884624   \n",
       "2315739                                   5.804630   \n",
       "2315894                                   7.382388   \n",
       "\n",
       "                       RWX101122_FHS_OFF_13E02.CEL  \\\n",
       "transcript_cluster_id                                \n",
       "2315554                                   5.973168   \n",
       "2315633                                   6.255415   \n",
       "2315674                                   5.952230   \n",
       "2315739                                   5.870402   \n",
       "2315894                                   7.498539   \n",
       "\n",
       "                       RWX100609_FHS_CCS_05H06.CEL  \\\n",
       "transcript_cluster_id                                \n",
       "2315554                                   5.995979   \n",
       "2315633                                   6.307235   \n",
       "2315674                                   6.014596   \n",
       "2315739                                   5.800264   \n",
       "2315894                                   7.670622   \n",
       "\n",
       "                       NRC101220_FHS_OFF_17D07.CEL  \\\n",
       "transcript_cluster_id                                \n",
       "2315554                                   5.900428   \n",
       "2315633                                   6.140306   \n",
       "2315674                                   6.002784   \n",
       "2315739                                   5.832620   \n",
       "2315894                                   7.689099   \n",
       "\n",
       "                       RWX110201_FHS_OFF_23F07.CEL  \\\n",
       "transcript_cluster_id                                \n",
       "2315554                                   5.912507   \n",
       "2315633                                   6.284929   \n",
       "2315674                                   5.896910   \n",
       "2315739                                   5.939303   \n",
       "2315894                                   7.783286   \n",
       "\n",
       "                       RW101206_FHS_OFF_15F07.CEL  KAW110316_FHS_OFF_28B12.CEL  \n",
       "transcript_cluster_id                                                           \n",
       "2315554                                  6.173873                     5.861184  \n",
       "2315633                                  6.259625                     6.263931  \n",
       "2315674                                  5.917240                     5.981729  \n",
       "2315739                                  5.976715                     5.617899  \n",
       "2315894                                  7.644522                     7.670739  \n",
       "\n",
       "[5 rows x 2311 columns]"
      ]
     },
     "execution_count": 7,
     "metadata": {},
     "output_type": "execute_result"
    }
   ],
   "source": [
    "import pandas as pd\n",
    "import numpy as np\n",
    "\n",
    "c1_infile_off = \"/cbscratch/franco/datasets/FHS/expression/c1/FinalFile_Gene_OFF_2446_c1.txt.gz\"\n",
    "c1_infile_gen3 = \"/cbscratch/franco/datasets/FHS/expression/c1/Final_Gene_GENIII_3180_c1.txt.gz\"\n",
    "\n",
    "expr_df = pd.read_csv(c1_infile_off, sep=\"\\t\", header=0, index_col=0)\n",
    "\n",
    "infile = \"/cbscratch/franco/datasets/FHS/expression/c1/FinalFile_Gene_OFF_2446_Adjusted_c1.txt.gz\"\n",
    "expr_adj_df = pd.read_csv(infile, sep=\"\\t\", header=0, index_col=0)\n",
    "expr_adj_df.head()\n"
   ]
  },
  {
   "cell_type": "code",
   "execution_count": 8,
   "metadata": {},
   "outputs": [
    {
     "name": "stdout",
     "output_type": "stream",
     "text": [
      "(17873, 2311)\n",
      "(17873, 2311)\n",
      "2311\n",
      "2311\n"
     ]
    }
   ],
   "source": [
    "print(expr_df.shape)\n",
    "print(expr_adj_df.shape)\n",
    "print(np.linalg.matrix_rank(expr_df.values.T))\n",
    "print(np.linalg.matrix_rank(expr_adj_df.values.T))"
   ]
  },
  {
   "cell_type": "code",
   "execution_count": 9,
   "metadata": {},
   "outputs": [],
   "source": [
    "U, S, Vt = np.linalg.svd(expr_adj_df.values.T, full_matrices=False)\n",
    "U1, S1, Vt1 = np.linalg.svd(expr_df.values.T, full_matrices=False)"
   ]
  },
  {
   "cell_type": "code",
   "execution_count": 10,
   "metadata": {},
   "outputs": [
    {
     "data": {
      "image/png": "[encoded data removed]",
      "text/plain": [
       "<Figure size 432x288 with 1 Axes>"
      ]
     },
     "metadata": {},
     "output_type": "display_data"
    }
   ],
   "source": [
    "import matplotlib.pyplot as plt\n",
    "\n",
    "plt.scatter(np.arange(0,len(S)), np.log10(S[0:]), alpha = 0.1, label=\"Adjusted\")\n",
    "plt.scatter(np.arange(0,len(S1)), np.log10(S1[0:]), alpha = 0.1, label=\"Unadjusted\")\n",
    "plt.legend()\n",
    "plt.show()"
   ]
  },
  {
   "cell_type": "code",
   "execution_count": 11,
   "metadata": {},
   "outputs": [
    {
     "data": {
      "image/png": "[encoded data removed]",
      "text/plain": [
       "<Figure size 432x288 with 1 Axes>"
      ]
     },
     "metadata": {},
     "output_type": "display_data"
    }
   ],
   "source": [
    "plt.hist(expr_adj_df.values[0,:], bins=50, alpha=0.2)\n",
    "plt.hist(expr_df.values[0,:], bins=50, alpha=0.2)\n",
    "plt.show()\n"
   ]
  },
  {
   "cell_type": "code",
   "execution_count": 1,
   "metadata": {},
   "outputs": [],
   "source": [
    "import pandas as pd\n",
    "import numpy as np\n",
    "\n",
    "c1_infile_off = \"/cbscratch/franco/datasets/FHS/expression/c1/FinalFile_Gene_OFF_2446_c1.txt.gz\"\n",
    "c1_infile_gen3 = \"/cbscratch/franco/datasets/FHS/expression/c1/Final_Gene_GENIII_3180_c1.txt.gz\"\n",
    "c2_infile_off = \"/cbscratch/franco/datasets/FHS/expression/c2/FinalFile_Gene_OFF_2446_c2.txt.gz\"\n",
    "c2_infile_gen3 = \"/cbscratch/franco/datasets/FHS/expression/c2/Final_Gene_GENIII_3180_c2.txt.gz\"\n",
    "\n",
    "expr_c1_off_df = pd.read_csv(c1_infile_off, sep=\"\\t\", header=0, index_col=0)\n",
    "expr_c2_off_df = pd.read_csv(c2_infile_off, sep=\"\\t\", header=0, index_col=0)\n",
    "\n",
    "expr_off_df = pd.concat([expr_c1_off_df, expr_c2_off_df], axis=1)\n",
    "\n",
    "expr_c1_gen3_df = pd.read_csv(c1_infile_gen3, sep=\"\\t\", header=0, index_col=0)\n",
    "expr_c2_gen3_df = pd.read_csv(c2_infile_gen3, sep=\"\\t\", header=0, index_col=0)\n",
    "\n",
    "expr_gen3_df = pd.concat([expr_c1_gen3_df, expr_c2_gen3_df], axis=1)\n",
    "\n"
   ]
  },
  {
   "cell_type": "code",
   "execution_count": 2,
   "metadata": {},
   "outputs": [
    {
     "name": "stdout",
     "output_type": "stream",
     "text": [
      "(17873, 2311)\n",
      "(17873, 131)\n",
      "(17873, 2442)\n",
      "(17873, 3062)\n",
      "(17873, 114)\n",
      "(17873, 3176)\n"
     ]
    }
   ],
   "source": [
    "print(expr_c1_off_df.shape)\n",
    "print(expr_c2_off_df.shape)\n",
    "print(expr_off_df.shape)\n",
    "\n",
    "print(expr_c1_gen3_df.shape)\n",
    "print(expr_c2_gen3_df.shape)\n",
    "print(expr_gen3_df.shape)"
   ]
  },
  {
   "cell_type": "code",
   "execution_count": 46,
   "metadata": {
    "scrolled": true
   },
   "outputs": [],
   "source": [
    "# datfile = \"/cbscratch/franco/datasets/FHS/provisional_annotations.txt\"\n",
    "datfile = \"/cbscratch/franco/datasets/FHS/compiled_annotations.txt\"\n",
    "df = pd.read_csv(datfile, sep=\"\\t\", header=0)\n",
    "\n",
    "# Here filter by pedegree or whatever?\n",
    "import matplotlib.pyplot as plt\n",
    "uniq_pedno = np.sort(np.array(df.groupby(\"pedno\").count().dbGaP_Sample_ID))\n",
    "\n",
    "df_pedno_first_rep = df.groupby(\"pedno\").first()\n",
    "\n",
    "# df_pedno = df.sort_values(by=['pedno'])\n",
    "# df_pedno[[\"pedno\", \"dbGaP_Subject_ID\", \"age\"]]"
   ]
  },
  {
   "cell_type": "code",
   "execution_count": 47,
   "metadata": {},
   "outputs": [
    {
     "name": "stdout",
     "output_type": "stream",
     "text": [
      "OFF 425\n",
      "GEN3 468\n"
     ]
    }
   ],
   "source": [
    "id_dict = dict(zip(list(df.sampid), list(df.shareid)))\n",
    "\n",
    "id_dict = dict(zip(list(df_pedno_first_rep.sampid), list(df_pedno_first_rep.shareid)))\n",
    "\n",
    "\n",
    "new_off_columns  = [(i,id_dict[k]) for i,k in enumerate(list(expr_off_df.columns)) if k in id_dict]\n",
    "new_gen3_columns = [(i,id_dict[k]) for i,k in enumerate(list(expr_gen3_df.columns)) if k in id_dict]\n",
    "print(\"OFF\",len(new_off_columns))\n",
    "print(\"GEN3\",len(new_gen3_columns))\n",
    "\n",
    "# OFF 2270 vs 2090\n",
    "# GEN3 3173 vs 3011\n",
    "# 5443 vs (5101)"
   ]
  },
  {
   "cell_type": "code",
   "execution_count": 48,
   "metadata": {},
   "outputs": [],
   "source": [
    "ix_off  = np.array([i[0] for i in new_off_columns])\n",
    "ix_gen3 = np.array([i[0] for i in new_gen3_columns])\n",
    "\n",
    "final_expr_off = expr_off_df.iloc[:, ix_off]\n",
    "final_expr_off.columns = [i[1] for i in new_off_columns]\n",
    "\n",
    "final_expr_gen3 = expr_gen3_df.iloc[:, ix_gen3]\n",
    "final_expr_gen3.columns = [i[1] for i in new_gen3_columns]"
   ]
  },
  {
   "cell_type": "code",
   "execution_count": 54,
   "metadata": {},
   "outputs": [
    {
     "name": "stdout",
     "output_type": "stream",
     "text": [
      "(17873, 893)\n"
     ]
    }
   ],
   "source": [
    "final_expr_FHS = pd.concat([final_expr_gen3 , final_expr_off], axis=1)\n",
    "print(final_expr_FHS.shape) # G x N\n",
    "# final_expr_FHS.to_csv(\"/cbscratch/franco/datasets/FHS/expression/fhs.formatted.expr.txt\", sep=\"\\t\")\n",
    "final_expr_FHS.to_csv(\"/cbscratch/franco/datasets/FHS/expression/fhs.formatted.expr.one_pedno_rep.txt\", sep=\"\\t\")"
   ]
  },
  {
   "cell_type": "code",
   "execution_count": 104,
   "metadata": {},
   "outputs": [],
   "source": [
    "np.savetxt(\"/cbscratch/franco/datasets/FHS/genotypes/representative_samples.txt\", list(final_expr_FHS.columns),  fmt='%d')"
   ]
  },
  {
   "cell_type": "code",
   "execution_count": 64,
   "metadata": {},
   "outputs": [
    {
     "data": {
      "text/plain": [
       "Index(['dbGaP_Sample_ID', 'shareid', 'sampid', 'BODY_SITE', 'ANALYTE_TYPE',\n",
       "       'dbGaP_Subject_ID', 'BioSample Accession', 'SUBJECT_ID', 'SAMPLE_ID',\n",
       "       'SAMPLE_SOURCE', 'SOURCE_SAMPLE_ID', 'STUDY', 'fshare', 'mshare', 'sex',\n",
       "       'twinid', 'idtype', 'birthyr', 'age', 'Sample_ID', 'Subject_ID',\n",
       "       'Subject_Consent', 'cel_files', 'RevisedSabreID', 'all_probeset_mean',\n",
       "       'all_probeset_stdev', 'neg_control_mean', 'neg_control_stdev',\n",
       "       'pos_control_mean', 'pos_control_stdev', 'all_probeset_rle_mean',\n",
       "       'all_probeset_mad_residual_mean', 'mm_mean'],\n",
       "      dtype='object')"
      ]
     },
     "execution_count": 64,
     "metadata": {},
     "output_type": "execute_result"
    }
   ],
   "source": [
    "df_pedno_first_rep.columns"
   ]
  },
  {
   "cell_type": "code",
   "execution_count": 88,
   "metadata": {},
   "outputs": [
    {
     "name": "stdout",
     "output_type": "stream",
     "text": [
      "(17873, 11)\n",
      "893\n",
      "892\n"
     ]
    }
   ],
   "source": [
    "from sklearn import linear_model\n",
    "\n",
    "def _normalize_expr(Y):\n",
    "    newY = (Y - np.mean(Y, axis = 1).reshape(-1, 1)) / np.std(Y, axis = 1).reshape(-1, 1)\n",
    "    return newY\n",
    "\n",
    "# iterates over each Gene and fits Lasso linear model\n",
    "def correct_lasso_iterative(expression_df, df_cov, alpha=0.05):   \n",
    "    #sort donors\n",
    "    sort_df_cov = df_cov[expression_df.columns]\n",
    "    \n",
    "    residuals = np.zeros(expression_df.shape)\n",
    "    coefs = np.zeros((expression_df.shape[0], sort_df_cov.shape[0]))\n",
    "    for i in range(expression_df.shape[0]):\n",
    "        reg = linear_model.Lasso(alpha = alpha)\n",
    "        reg.fit(sort_df_cov.T, expression_df.iloc[i])\n",
    "\n",
    "        # print(i, reg.score(sort_df_cov.T, expression_df.iloc[i].T), reg.coef_)\n",
    "        residuals[i] = expression_df.iloc[i] - reg.predict(sort_df_cov.T).T\n",
    "        coefs[i,:] = reg.coef_\n",
    "    df_residuals = pd.DataFrame(residuals, columns=expression_df.columns, index=expression_df.index)\n",
    "    return df_residuals, coefs\n",
    "\n",
    "\n",
    "df_cov = pd.DataFrame( df_pedno_first_rep[[  'all_probeset_mean','age', 'sex',\n",
    "                               'all_probeset_stdev', 'neg_control_mean', 'neg_control_stdev',\n",
    "                               'pos_control_mean', 'pos_control_stdev', 'all_probeset_rle_mean',\n",
    "                               'all_probeset_mad_residual_mean', 'mm_mean' ]].values.T, columns=df_pedno_first_rep.shareid, index=[  'all_probeset_mean','age', 'sex',\n",
    "                               'all_probeset_stdev', 'neg_control_mean', 'neg_control_stdev',\n",
    "                               'pos_control_mean', 'pos_control_stdev', 'all_probeset_rle_mean',\n",
    "                               'all_probeset_mad_residual_mean', 'mm_mean' ])\n",
    "\n",
    "means = np.mean(df_cov.T)\n",
    "stds = np.std(df_cov.T)\n",
    "diff = (df_cov.T - means) / stds\n",
    "scaled_df_cov = diff.T\n",
    "\n",
    "# Correct with LASSO iterative\n",
    "lasso_expr_it, lasso_coefs = correct_lasso_iterative(final_expr_FHS, scaled_df_cov)\n",
    "print(lasso_coefs.shape)\n",
    "print(np.linalg.matrix_rank(final_expr_FHS))\n",
    "print(np.linalg.matrix_rank(lasso_expr_it))"
   ]
  },
  {
   "cell_type": "code",
   "execution_count": 91,
   "metadata": {
    "scrolled": true
   },
   "outputs": [],
   "source": [
    "lasso_expr_it.to_csv(\"/cbscratch/franco/datasets/FHS/expression/fhs_lasso.formatted.expr.one_pedno_rep.txt\", sep=\"\\t\")"
   ]
  },
  {
   "cell_type": "code",
   "execution_count": 93,
   "metadata": {},
   "outputs": [
    {
     "data": {
      "image/png": "[encoded data removed]",
      "text/plain": [
       "<Figure size 432x288 with 1 Axes>"
      ]
     },
     "metadata": {},
     "output_type": "display_data"
    }
   ],
   "source": [
    "import matplotlib.pyplot as plt\n",
    "plt.hist(np.sum(lasso_coefs != 0, axis=1))\n",
    "plt.show()"
   ]
  },
  {
   "cell_type": "code",
   "execution_count": 95,
   "metadata": {},
   "outputs": [
    {
     "data": {
      "text/plain": [
       "9"
      ]
     },
     "execution_count": 95,
     "metadata": {},
     "output_type": "execute_result"
    }
   ],
   "source": [
    "max(np.sum(lasso_coefs != 0, axis=1))"
   ]
  },
  {
   "cell_type": "code",
   "execution_count": 55,
   "metadata": {
    "scrolled": true
   },
   "outputs": [],
   "source": [
    "#######################################\n",
    "# Read in file with probe annotations from affymetrix (slightly preprocessed)\n",
    "#######################################\n",
    "\n",
    "# affy_map_file = \"/cbscratch/franco/datasets/FHS/expression/HuEx-1_0-st-v2.na36.hg19.transcript.tab.csv\"\n",
    "# affy_map_file = \"/cbscratch/franco/datasets/FHS/expression/ENSG_gene_affy_header.tsv\"\n",
    "affy_map_file = \"/cbscratch/franco/datasets/FHS/expression/gene_assignment_short.affy\"\n",
    "dtype_dict = {'transcript_cluster_id':int,\\\n",
    "              'probeset_id':int,\\\n",
    "              'seqname':str,\\\n",
    "              'strand':str,\\\n",
    "              'start':str,\\\n",
    "              'stop':str,\\\n",
    "              'total_probes':str,\\\n",
    "              'gene_assignment':str}\n",
    "affy_df = pd.read_csv(affy_map_file, sep=\"\\t\", comment=\"#\", header=0, dtype=dtype_dict)"
   ]
  },
  {
   "cell_type": "code",
   "execution_count": 56,
   "metadata": {},
   "outputs": [
    {
     "data": {
      "text/html": [
       "<div>\n",
       "<style scoped>\n",
       "    .dataframe tbody tr th:only-of-type {\n",
       "        vertical-align: middle;\n",
       "    }\n",
       "\n",
       "    .dataframe tbody tr th {\n",
       "        vertical-align: top;\n",
       "    }\n",
       "\n",
       "    .dataframe thead th {\n",
       "        text-align: right;\n",
       "    }\n",
       "</style>\n",
       "<table border=\"1\" class=\"dataframe\">\n",
       "  <thead>\n",
       "    <tr style=\"text-align: right;\">\n",
       "      <th></th>\n",
       "      <th>transcript_cluster_id</th>\n",
       "      <th>probeset_id</th>\n",
       "      <th>seqname</th>\n",
       "      <th>strand</th>\n",
       "      <th>start</th>\n",
       "      <th>stop</th>\n",
       "      <th>total_probes</th>\n",
       "      <th>gene_assignment</th>\n",
       "    </tr>\n",
       "  </thead>\n",
       "  <tbody>\n",
       "    <tr>\n",
       "      <th>0</th>\n",
       "      <td>2315100</td>\n",
       "      <td>2315100</td>\n",
       "      <td>chr1</td>\n",
       "      <td>+</td>\n",
       "      <td>11884</td>\n",
       "      <td>14409</td>\n",
       "      <td>20</td>\n",
       "      <td>NR_046018 // DDX11L1 // DEAD/H (Asp-Glu-Ala-As...</td>\n",
       "    </tr>\n",
       "    <tr>\n",
       "      <th>1</th>\n",
       "      <td>2315113</td>\n",
       "      <td>2315113</td>\n",
       "      <td>chr1</td>\n",
       "      <td>+</td>\n",
       "      <td>27563</td>\n",
       "      <td>27813</td>\n",
       "      <td>4</td>\n",
       "      <td>---</td>\n",
       "    </tr>\n",
       "    <tr>\n",
       "      <th>2</th>\n",
       "      <td>2315115</td>\n",
       "      <td>2315115</td>\n",
       "      <td>chr1</td>\n",
       "      <td>+</td>\n",
       "      <td>28425</td>\n",
       "      <td>29158</td>\n",
       "      <td>4</td>\n",
       "      <td>---</td>\n",
       "    </tr>\n",
       "    <tr>\n",
       "      <th>3</th>\n",
       "      <td>2315117</td>\n",
       "      <td>2315117</td>\n",
       "      <td>chr1</td>\n",
       "      <td>+</td>\n",
       "      <td>30623</td>\n",
       "      <td>30667</td>\n",
       "      <td>4</td>\n",
       "      <td>XR_936215 // LOC105376912 // uncharacterized L...</td>\n",
       "    </tr>\n",
       "    <tr>\n",
       "      <th>4</th>\n",
       "      <td>2315119</td>\n",
       "      <td>2315119</td>\n",
       "      <td>chr1</td>\n",
       "      <td>+</td>\n",
       "      <td>35690</td>\n",
       "      <td>35804</td>\n",
       "      <td>4</td>\n",
       "      <td>---</td>\n",
       "    </tr>\n",
       "  </tbody>\n",
       "</table>\n",
       "</div>"
      ],
      "text/plain": [
       "   transcript_cluster_id  probeset_id seqname strand  start   stop  \\\n",
       "0                2315100      2315100    chr1      +  11884  14409   \n",
       "1                2315113      2315113    chr1      +  27563  27813   \n",
       "2                2315115      2315115    chr1      +  28425  29158   \n",
       "3                2315117      2315117    chr1      +  30623  30667   \n",
       "4                2315119      2315119    chr1      +  35690  35804   \n",
       "\n",
       "  total_probes                                    gene_assignment  \n",
       "0           20  NR_046018 // DDX11L1 // DEAD/H (Asp-Glu-Ala-As...  \n",
       "1            4                                                ---  \n",
       "2            4                                                ---  \n",
       "3            4  XR_936215 // LOC105376912 // uncharacterized L...  \n",
       "4            4                                                ---  "
      ]
     },
     "execution_count": 56,
     "metadata": {},
     "output_type": "execute_result"
    }
   ],
   "source": [
    "# np.sum(affy_df.mrna_assignment.str.contains(\"gene:\")) # 19576\n",
    "# np.sum(affy_df.mrna_assignment.str.contains(\"ENSG\"))\n",
    "# np.sum(affy_df.mrna_assignment.str.contains(\"protein_coding\")) #9007\n",
    "affy_df.head()"
   ]
  },
  {
   "cell_type": "code",
   "execution_count": 57,
   "metadata": {},
   "outputs": [],
   "source": [
    "# ensembl_ids = affy_df.mrna_assignment.str.extract(r'(ENSG[0-9]*)')\n",
    "# affy_df[\"ensemble_id\"] = ensembl_ids\n",
    "# affy_df.head()"
   ]
  },
  {
   "cell_type": "code",
   "execution_count": 58,
   "metadata": {},
   "outputs": [
    {
     "name": "stdout",
     "output_type": "stream",
     "text": [
      "(17865, 8)\n"
     ]
    }
   ],
   "source": [
    "FINAL_expr_annotations = affy_df[affy_df.transcript_cluster_id.isin(final_expr_FHS.index)]\n",
    "FINAL_expr_annotations.to_csv(\"/cbscratch/franco/datasets/FHS/probe_annotations.affy\", sep=\"\\t\", header=True, index=False)\n",
    "print(FINAL_expr_annotations.shape)"
   ]
  },
  {
   "cell_type": "code",
   "execution_count": 59,
   "metadata": {},
   "outputs": [],
   "source": [
    "import collections\n",
    "\n",
    "GENEINFO_FIELDS = ['name', 'ensembl_id', 'chrom', 'start', 'end']\n",
    "class GeneInfo(collections.namedtuple('_GeneInfo', GENEINFO_FIELDS)):\n",
    "    __slots__ = ()\n",
    "    \n",
    "def affy_exon_chip(filepath, include_chrom = 0, include_chroms=['{:d}'.format(x + 1) for x in range(22)]):\n",
    "    geneinfo = list()\n",
    "    try:\n",
    "        with open(filepath, 'r') as mfile:\n",
    "            next(mfile) # skip header\n",
    "            for line in mfile:\n",
    "                linesplit = line.strip().split('\\t')\n",
    "                if linesplit[0][0] == '#' : continue \n",
    "\n",
    "                chrom = linesplit[2][3:]\n",
    "                if include_chrom > 0:\n",
    "                    include_chroms = ['{:d}'.format(include_chrom)]\n",
    "                if chrom not in include_chroms: continue\n",
    "\n",
    "                # TSS: gene start (0-based coordinates for BED)\n",
    "                if linesplit[3] == '+':\n",
    "                    start = np.int64(linesplit[4]) - 1\n",
    "                    end   = np.int64(linesplit[5])\n",
    "                elif linesplit[3] == '-':\n",
    "                    start = np.int64(linesplit[4])  # last base of gene\n",
    "                    end   = np.int64(linesplit[5]) - 1\n",
    "                else:\n",
    "                    raise ValueError('Strand not specified.')\n",
    "\n",
    "                gene_name = linesplit[7].split(\"//\")[0].rstrip()\n",
    "                transcript_cluster_id = linesplit[0]\n",
    "                this_gene = GeneInfo(name       = gene_name,\n",
    "                                     ensembl_id = transcript_cluster_id,\n",
    "                                     chrom      = int(chrom),\n",
    "                                     start      = start,\n",
    "                                     end        = end)\n",
    "\n",
    "                geneinfo.append(this_gene)\n",
    "    except IOError as err:\n",
    "        raise IOError('{:s}: {:s}'.format(annotfile, err.strerror))\n",
    "\n",
    "    return geneinfo\n",
    "\n",
    "gene_info = affy_exon_chip(\"/cbscratch/franco/datasets/FHS/probe_annotations.affy\")"
   ]
  },
  {
   "cell_type": "code",
   "execution_count": null,
   "metadata": {},
   "outputs": [],
   "source": []
  }
 ],
 "metadata": {
  "kernelspec": {
   "display_name": "Python 3",
   "language": "python",
   "name": "python3"
  },
  "language_info": {
   "codemirror_mode": {
    "name": "ipython",
    "version": 3
   },
   "file_extension": ".py",
   "mimetype": "text/x-python",
   "name": "python",
   "nbconvert_exporter": "python",
   "pygments_lexer": "ipython3",
   "version": "3.6.7"
  }
 },
 "nbformat": 4,
 "nbformat_minor": 2
}
