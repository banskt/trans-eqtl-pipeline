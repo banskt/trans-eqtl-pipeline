{
 "cells": [
  {
   "cell_type": "code",
   "execution_count": 1,
   "metadata": {},
   "outputs": [],
   "source": [
    "import os\n",
    "import numpy as np\n",
    "import gzip\n",
    "import collections\n",
    "\n",
    "GENEINFO_FIELDS = ['name', 'ensembl_id', 'chrom', 'start', 'end']\n",
    "class GeneInfo(collections.namedtuple('_GeneInfo', GENEINFO_FIELDS)):\n",
    "    __slots__ = ()\n",
    "\n",
    "def gencode_v12(filepath, feature = 'gene', trim=False, biotype=['protein_coding'], include_chrom = 0, include_chroms=['{:d}'.format(x + 1) for x in range(22)]):\n",
    "    annotfile = os.path.realpath(filepath)\n",
    "    geneinfo = list()\n",
    "    try:\n",
    "        with gzip.open(annotfile, 'r') as mfile:\n",
    "            for line in mfile:\n",
    "                linesplit = line.decode().strip().split('\\t')\n",
    "                if linesplit[0][0] == '#' or linesplit[2] != feature: continue # skip header\n",
    "\n",
    "                chrom = linesplit[0][3:]\n",
    "                if include_chrom > 0:\n",
    "                    include_chroms = ['{:d}'.format(include_chrom)]\n",
    "                if chrom not in include_chroms: continue\n",
    "\n",
    "                # Any particular biotype selected?\n",
    "                infolist = linesplit[8].split(';')\n",
    "                if len(biotype) > 0:\n",
    "                    rowtype = infolist[2].strip().split(' ')[1].replace('\"','')\n",
    "                    if rowtype not in biotype: continue\n",
    "\n",
    "                # TSS: gene start (0-based coordinates for BED)\n",
    "                if linesplit[6] == '+':\n",
    "                    start = np.int64(linesplit[3]) - 1\n",
    "                    end   = np.int64(linesplit[4])\n",
    "                elif linesplit[6] == '-':\n",
    "                    start = np.int64(linesplit[3])  # last base of gene\n",
    "                    end   = np.int64(linesplit[4]) - 1\n",
    "                else:\n",
    "                    raise ValueError('Strand not specified.')\n",
    "\n",
    "                # For simulation\n",
    "                if linesplit[1] == 'SIMULATION':\n",
    "                    start = np.int64(linesplit[3])\n",
    "                    end   = np.int64(linesplit[4])\n",
    "\n",
    "                gene_id = infolist[0].strip().split(' ')[1].replace('\"','')\n",
    "                if trim:\n",
    "                    gene_id = gene_id.split(\".\")[0]\n",
    "                gene_name = infolist[4].strip().split(' ')[1].replace('\"','')\n",
    "                this_gene = GeneInfo(name       = gene_name,\n",
    "                                     ensembl_id = gene_id,\n",
    "                                     chrom      = int(chrom),\n",
    "                                     start      = start,\n",
    "                                     end        = end)\n",
    "\n",
    "                geneinfo.append(this_gene)\n",
    "    except IOError as err:\n",
    "        raise IOError('{:s}: {:s}'.format(annotfile, err.strerror))\n",
    "\n",
    "    return geneinfo"
   ]
  },
  {
   "cell_type": "code",
   "execution_count": 3,
   "metadata": {},
   "outputs": [],
   "source": [
    "base_dir = \"/cbscratch/franco/datasets\"\n",
    "gtffile = os.path.join(base_dir, \"gtex/gencode.v19.annotation.gtf.gz\")\n",
    "genemapfile = os.path.join(base_dir, \"crossmappability/hg19_gencode19_75merExon_36merUTR_2mismatch_gene_mappability.txt.gz\")\n",
    "crossmapfile = os.path.join(base_dir, \"crossmappability/hg19_gencode19_75merExon_36merUTR_2mismatch_cross_mappability.txt.gz\")"
   ]
  },
  {
   "cell_type": "code",
   "execution_count": 4,
   "metadata": {},
   "outputs": [],
   "source": [
    "gene_info = gencode_v12(gtffile, trim=False)"
   ]
  },
  {
   "cell_type": "code",
   "execution_count": 26,
   "metadata": {},
   "outputs": [],
   "source": [
    "def read_crossmap(crossmapfile):\n",
    "    gene_ids = collections.defaultdict(lambda: False)\n",
    "    with gzip.open(crossmapfile, 'r') as instream:\n",
    "        for line in instream:\n",
    "            arr = line.rstrip().split()\n",
    "            gene_ids[arr[0].decode('utf-8')] = True\n",
    "            gene_ids[arr[1].decode('utf-8')] = True\n",
    "    return gene_ids\n",
    "\n",
    "cross_gene_ids = read_crossmap(crossmapfile)            "
   ]
  },
  {
   "cell_type": "code",
   "execution_count": 35,
   "metadata": {},
   "outputs": [],
   "source": [
    "def read_genemapp(genemapfile):\n",
    "    gene_mapp = collections.defaultdict(lambda: False)\n",
    "    with gzip.open(genemapfile, 'r') as instream:\n",
    "        for line in instream:\n",
    "            gene_id, mapp = line.rstrip().split()\n",
    "            if mapp != b'NA':\n",
    "                gene_mapp[gene_id.decode('utf-8')] = float(mapp)\n",
    "    return gene_mapp\n",
    "\n",
    "gene_mapp = read_genemapp(genemapfile)"
   ]
  },
  {
   "cell_type": "code",
   "execution_count": 32,
   "metadata": {},
   "outputs": [
    {
     "name": "stdout",
     "output_type": "stream",
     "text": [
      "Discarded  12415 genes\n"
     ]
    }
   ],
   "source": [
    "good_cross_genes = list()\n",
    "counter = 0\n",
    "for g in gene_info:\n",
    "    if not cross_gene_ids[g.ensembl_id]:\n",
    "        good_cross_genes.append(g.ensembl_id)\n",
    "    else:\n",
    "        counter += 1\n",
    "print(\"Discarded \",counter,\"genes, only\", len(good_cross_genes), \"remain\")"
   ]
  },
  {
   "cell_type": "code",
   "execution_count": 39,
   "metadata": {},
   "outputs": [
    {
     "name": "stdout",
     "output_type": "stream",
     "text": [
      "6913\n"
     ]
    }
   ],
   "source": [
    "good_gene_mapp = list()\n",
    "for g in gene_info:\n",
    "    if gene_mapp[g.ensembl_id] and gene_mapp[g.ensembl_id] >= 0.8:\n",
    "        if not cross_gene_ids[g.ensembl_id]:\n",
    "            good_gene_mapp.append(g.ensembl_id)\n",
    "print(len(good_gene_mapp))"
   ]
  },
  {
   "cell_type": "code",
   "execution_count": 41,
   "metadata": {},
   "outputs": [],
   "source": [
    "with open(\"non_crossmap_genes.txt\", 'w') as outstream:\n",
    "    for g in good_gene_mapp:\n",
    "        outstream.write(g+\"\\n\")"
   ]
  },
  {
   "cell_type": "code",
   "execution_count": 103,
   "metadata": {},
   "outputs": [],
   "source": [
    "import pandas as pd\n",
    "# gxfile = \"/cbscratch/franco/trans-eqtl/preprocess/gtex/expression/lmcorrected/ms_age_lmcorrected.txt.gencode_filtered\"\n",
    "gxfile = \"/cbscratch/franco/trans-eqtl/preprocess/gtex/expression/lmcorrected/ms_lmcorrected.txt.gencode_filtered\"\n",
    "\n",
    "expr_df = pd.read_csv(gxfile, header=0, sep=\"\\t\", index_col=0)"
   ]
  },
  {
   "cell_type": "code",
   "execution_count": 104,
   "metadata": {},
   "outputs": [
    {
     "data": {
      "text/html": [
       "<div>\n",
       "<style scoped>\n",
       "    .dataframe tbody tr th:only-of-type {\n",
       "        vertical-align: middle;\n",
       "    }\n",
       "\n",
       "    .dataframe tbody tr th {\n",
       "        vertical-align: top;\n",
       "    }\n",
       "\n",
       "    .dataframe thead th {\n",
       "        text-align: right;\n",
       "    }\n",
       "</style>\n",
       "<table border=\"1\" class=\"dataframe\">\n",
       "  <thead>\n",
       "    <tr style=\"text-align: right;\">\n",
       "      <th></th>\n",
       "      <th>GTEX-P4PP</th>\n",
       "      <th>GTEX-SNOS</th>\n",
       "      <th>GTEX-PW2O</th>\n",
       "      <th>GTEX-RU72</th>\n",
       "      <th>GTEX-U3ZH</th>\n",
       "      <th>GTEX-PLZ4</th>\n",
       "      <th>GTEX-WOFL</th>\n",
       "      <th>GTEX-R55D</th>\n",
       "      <th>GTEX-Q2AG</th>\n",
       "      <th>GTEX-QDT8</th>\n",
       "      <th>...</th>\n",
       "      <th>GTEX-139T8</th>\n",
       "      <th>GTEX-13FH7</th>\n",
       "      <th>GTEX-YF7O</th>\n",
       "      <th>GTEX-11TTK</th>\n",
       "      <th>GTEX-Y3IK</th>\n",
       "      <th>GTEX-YEC3</th>\n",
       "      <th>GTEX-11ONC</th>\n",
       "      <th>GTEX-ZZPT</th>\n",
       "      <th>GTEX-ZVTK</th>\n",
       "      <th>GTEX-XBEC</th>\n",
       "    </tr>\n",
       "    <tr>\n",
       "      <th>gene_id</th>\n",
       "      <th></th>\n",
       "      <th></th>\n",
       "      <th></th>\n",
       "      <th></th>\n",
       "      <th></th>\n",
       "      <th></th>\n",
       "      <th></th>\n",
       "      <th></th>\n",
       "      <th></th>\n",
       "      <th></th>\n",
       "      <th></th>\n",
       "      <th></th>\n",
       "      <th></th>\n",
       "      <th></th>\n",
       "      <th></th>\n",
       "      <th></th>\n",
       "      <th></th>\n",
       "      <th></th>\n",
       "      <th></th>\n",
       "      <th></th>\n",
       "      <th></th>\n",
       "    </tr>\n",
       "  </thead>\n",
       "  <tbody>\n",
       "    <tr>\n",
       "      <th>ENSG00000237683.5</th>\n",
       "      <td>-0.597753</td>\n",
       "      <td>0.233754</td>\n",
       "      <td>0.291836</td>\n",
       "      <td>-0.857528</td>\n",
       "      <td>-0.630497</td>\n",
       "      <td>0.881766</td>\n",
       "      <td>1.004344</td>\n",
       "      <td>-0.103786</td>\n",
       "      <td>-0.633435</td>\n",
       "      <td>-0.633051</td>\n",
       "      <td>...</td>\n",
       "      <td>0.122772</td>\n",
       "      <td>-0.360906</td>\n",
       "      <td>0.490602</td>\n",
       "      <td>-1.494378</td>\n",
       "      <td>-0.093524</td>\n",
       "      <td>-0.695693</td>\n",
       "      <td>-0.314581</td>\n",
       "      <td>0.001704</td>\n",
       "      <td>-0.471035</td>\n",
       "      <td>0.261044</td>\n",
       "    </tr>\n",
       "    <tr>\n",
       "      <th>ENSG00000187634.6</th>\n",
       "      <td>-0.071724</td>\n",
       "      <td>-1.865905</td>\n",
       "      <td>-0.035175</td>\n",
       "      <td>-0.258311</td>\n",
       "      <td>-1.152482</td>\n",
       "      <td>-0.983320</td>\n",
       "      <td>-0.020053</td>\n",
       "      <td>-0.078396</td>\n",
       "      <td>0.971627</td>\n",
       "      <td>0.049531</td>\n",
       "      <td>...</td>\n",
       "      <td>-1.038728</td>\n",
       "      <td>-0.458834</td>\n",
       "      <td>-0.029502</td>\n",
       "      <td>-1.186068</td>\n",
       "      <td>-1.226412</td>\n",
       "      <td>0.144836</td>\n",
       "      <td>-0.783816</td>\n",
       "      <td>-0.610025</td>\n",
       "      <td>-0.967914</td>\n",
       "      <td>0.259983</td>\n",
       "    </tr>\n",
       "    <tr>\n",
       "      <th>ENSG00000188976.6</th>\n",
       "      <td>2.202888</td>\n",
       "      <td>0.824060</td>\n",
       "      <td>0.544913</td>\n",
       "      <td>0.323927</td>\n",
       "      <td>1.587304</td>\n",
       "      <td>1.478509</td>\n",
       "      <td>0.361334</td>\n",
       "      <td>1.070309</td>\n",
       "      <td>-0.851450</td>\n",
       "      <td>0.182099</td>\n",
       "      <td>...</td>\n",
       "      <td>1.171302</td>\n",
       "      <td>0.353094</td>\n",
       "      <td>1.696849</td>\n",
       "      <td>-0.354579</td>\n",
       "      <td>0.523577</td>\n",
       "      <td>0.023943</td>\n",
       "      <td>0.316319</td>\n",
       "      <td>1.346614</td>\n",
       "      <td>-0.846325</td>\n",
       "      <td>-0.774932</td>\n",
       "    </tr>\n",
       "    <tr>\n",
       "      <th>ENSG00000187961.9</th>\n",
       "      <td>2.105193</td>\n",
       "      <td>1.263074</td>\n",
       "      <td>0.363695</td>\n",
       "      <td>0.733010</td>\n",
       "      <td>-0.275304</td>\n",
       "      <td>0.790844</td>\n",
       "      <td>1.727083</td>\n",
       "      <td>0.039136</td>\n",
       "      <td>0.330289</td>\n",
       "      <td>-0.886084</td>\n",
       "      <td>...</td>\n",
       "      <td>2.009995</td>\n",
       "      <td>-0.427792</td>\n",
       "      <td>0.660678</td>\n",
       "      <td>-1.442781</td>\n",
       "      <td>-2.573787</td>\n",
       "      <td>-0.904839</td>\n",
       "      <td>-0.787884</td>\n",
       "      <td>2.153558</td>\n",
       "      <td>0.165084</td>\n",
       "      <td>-0.775429</td>\n",
       "    </tr>\n",
       "    <tr>\n",
       "      <th>ENSG00000187583.6</th>\n",
       "      <td>-0.555998</td>\n",
       "      <td>0.381398</td>\n",
       "      <td>0.001875</td>\n",
       "      <td>-0.418035</td>\n",
       "      <td>-2.345332</td>\n",
       "      <td>-0.116200</td>\n",
       "      <td>-1.103694</td>\n",
       "      <td>-0.733140</td>\n",
       "      <td>-0.670420</td>\n",
       "      <td>0.081721</td>\n",
       "      <td>...</td>\n",
       "      <td>-0.571852</td>\n",
       "      <td>-1.097629</td>\n",
       "      <td>-1.347004</td>\n",
       "      <td>-1.292339</td>\n",
       "      <td>-0.476408</td>\n",
       "      <td>-0.405794</td>\n",
       "      <td>-0.053295</td>\n",
       "      <td>-1.776364</td>\n",
       "      <td>1.206002</td>\n",
       "      <td>1.475219</td>\n",
       "    </tr>\n",
       "  </tbody>\n",
       "</table>\n",
       "<p>5 rows × 361 columns</p>\n",
       "</div>"
      ],
      "text/plain": [
       "                   GTEX-P4PP  GTEX-SNOS  GTEX-PW2O  GTEX-RU72  GTEX-U3ZH  \\\n",
       "gene_id                                                                    \n",
       "ENSG00000237683.5  -0.597753   0.233754   0.291836  -0.857528  -0.630497   \n",
       "ENSG00000187634.6  -0.071724  -1.865905  -0.035175  -0.258311  -1.152482   \n",
       "ENSG00000188976.6   2.202888   0.824060   0.544913   0.323927   1.587304   \n",
       "ENSG00000187961.9   2.105193   1.263074   0.363695   0.733010  -0.275304   \n",
       "ENSG00000187583.6  -0.555998   0.381398   0.001875  -0.418035  -2.345332   \n",
       "\n",
       "                   GTEX-PLZ4  GTEX-WOFL  GTEX-R55D  GTEX-Q2AG  GTEX-QDT8  \\\n",
       "gene_id                                                                    \n",
       "ENSG00000237683.5   0.881766   1.004344  -0.103786  -0.633435  -0.633051   \n",
       "ENSG00000187634.6  -0.983320  -0.020053  -0.078396   0.971627   0.049531   \n",
       "ENSG00000188976.6   1.478509   0.361334   1.070309  -0.851450   0.182099   \n",
       "ENSG00000187961.9   0.790844   1.727083   0.039136   0.330289  -0.886084   \n",
       "ENSG00000187583.6  -0.116200  -1.103694  -0.733140  -0.670420   0.081721   \n",
       "\n",
       "                     ...      GTEX-139T8  GTEX-13FH7  GTEX-YF7O  GTEX-11TTK  \\\n",
       "gene_id              ...                                                      \n",
       "ENSG00000237683.5    ...        0.122772   -0.360906   0.490602   -1.494378   \n",
       "ENSG00000187634.6    ...       -1.038728   -0.458834  -0.029502   -1.186068   \n",
       "ENSG00000188976.6    ...        1.171302    0.353094   1.696849   -0.354579   \n",
       "ENSG00000187961.9    ...        2.009995   -0.427792   0.660678   -1.442781   \n",
       "ENSG00000187583.6    ...       -0.571852   -1.097629  -1.347004   -1.292339   \n",
       "\n",
       "                   GTEX-Y3IK  GTEX-YEC3  GTEX-11ONC  GTEX-ZZPT  GTEX-ZVTK  \\\n",
       "gene_id                                                                     \n",
       "ENSG00000237683.5  -0.093524  -0.695693   -0.314581   0.001704  -0.471035   \n",
       "ENSG00000187634.6  -1.226412   0.144836   -0.783816  -0.610025  -0.967914   \n",
       "ENSG00000188976.6   0.523577   0.023943    0.316319   1.346614  -0.846325   \n",
       "ENSG00000187961.9  -2.573787  -0.904839   -0.787884   2.153558   0.165084   \n",
       "ENSG00000187583.6  -0.476408  -0.405794   -0.053295  -1.776364   1.206002   \n",
       "\n",
       "                   GTEX-XBEC  \n",
       "gene_id                       \n",
       "ENSG00000237683.5   0.261044  \n",
       "ENSG00000187634.6   0.259983  \n",
       "ENSG00000188976.6  -0.774932  \n",
       "ENSG00000187961.9  -0.775429  \n",
       "ENSG00000187583.6   1.475219  \n",
       "\n",
       "[5 rows x 361 columns]"
      ]
     },
     "execution_count": 104,
     "metadata": {},
     "output_type": "execute_result"
    }
   ],
   "source": [
    "expr_df.head()"
   ]
  },
  {
   "cell_type": "code",
   "execution_count": 105,
   "metadata": {},
   "outputs": [],
   "source": [
    "curr_index = expr_df.index\n",
    "genelist = list()\n",
    "for g in good_gene_mapp:\n",
    "    if g in curr_index:\n",
    "        genelist.append(g)\n",
    "        \n",
    "new_expr = expr_df.loc[genelist]"
   ]
  },
  {
   "cell_type": "code",
   "execution_count": 106,
   "metadata": {},
   "outputs": [],
   "source": [
    "outfile = gxfile+\".crossmap_filtered\"\n",
    "if not os.path.exists(outfile):\n",
    "    new_expr.to_csv(outfile, doublequote=False, sep=\"\\t\")"
   ]
  },
  {
   "cell_type": "code",
   "execution_count": 112,
   "metadata": {},
   "outputs": [
    {
     "name": "stdout",
     "output_type": "stream",
     "text": [
      "6\n",
      "7\n",
      "8\n"
     ]
    },
    {
     "data": {
      "image/png": "[encoded data removed]",
      "text/plain": [
       "<Figure size 432x288 with 1 Axes>"
      ]
     },
     "metadata": {},
     "output_type": "display_data"
    }
   ],
   "source": [
    "import pandas as pd\n",
    "import matplotlib.pyplot as plt\n",
    "\n",
    "chrms = [6, 7, 8]\n",
    "pvallist1 = list()\n",
    "pvallist2 = list()\n",
    "for chrom in chrms:\n",
    "    print(chrom)\n",
    "    inputfile = \"/cbscratch/franco/trans-eqtl/dev-pipeline/norm/gtex-ms/tejaas/permnull_sb0.05/chr\"+str(chrom)+\"/rr.txt\"\n",
    "    df = pd.read_table(inputfile, header=0)\n",
    "    pvallist1 += list(df.P)\n",
    "    inputfile = \"/cbscratch/franco/trans-eqtl/dev-pipeline/norm/gtex-ms/tejaas_rand/permnull_sb0.05/chr\"+str(chrom)+\"/rr.txt\"\n",
    "    df = pd.read_table(inputfile, header=0)\n",
    "    pvallist2 += list(df.P)\n",
    "\n",
    "plt.hist(pvallist1, bins = 30, alpha=0.3, label=\"sb0.05\")\n",
    "plt.hist(pvallist2, bins = 30, alpha=0.3, label=\"sb0.05 rand\")\n",
    "# plt.ylim(0, 100000)\n",
    "plt.legend()\n",
    "plt.show()"
   ]
  },
  {
   "cell_type": "code",
   "execution_count": 111,
   "metadata": {},
   "outputs": [
    {
     "name": "stdout",
     "output_type": "stream",
     "text": [
      "6\n",
      "7\n",
      "8\n"
     ]
    },
    {
     "data": {
      "image/png": "[encoded data removed]",
      "text/plain": [
       "<Figure size 432x288 with 1 Axes>"
      ]
     },
     "metadata": {},
     "output_type": "display_data"
    }
   ],
   "source": [
    "import pandas as pd\n",
    "\n",
    "chrms = [6, 7, 8]\n",
    "pvallist1 = list()\n",
    "pvallist2 = list()\n",
    "for chrom in chrms:\n",
    "    print(chrom)\n",
    "    inputfile = \"/cbscratch/franco/trans-eqtl/dev-pipeline/norm_crossmap/gtex-ms/tejaas/permnull_sb0.05/chr\"+str(chrom)+\"/rr.txt\"\n",
    "    df = pd.read_table(inputfile, header=0)\n",
    "    pvallist1 += list(df.P)\n",
    "    inputfile = \"/cbscratch/franco/trans-eqtl/dev-pipeline/norm_crossmap/gtex-ms/tejaas_rand/permnull_sb0.05/chr\"+str(chrom)+\"/rr.txt\"\n",
    "    df = pd.read_table(inputfile, header=0)\n",
    "    pvallist2 += list(df.P)\n",
    "\n",
    "    \n",
    "plt.hist(pvallist1, bins = 30, alpha=0.3, label=\"sb0.05\")\n",
    "plt.hist(pvallist2, bins = 30, alpha=0.3, label=\"sb0.05 rand\")\n",
    "# plt.ylim(0, 150000)\n",
    "plt.legend()\n",
    "plt.show()"
   ]
  },
  {
   "cell_type": "code",
   "execution_count": 113,
   "metadata": {},
   "outputs": [
    {
     "name": "stdout",
     "output_type": "stream",
     "text": [
      "6\n",
      "7\n",
      "8\n"
     ]
    },
    {
     "data": {
      "image/png": "[encoded data removed]",
      "text/plain": [
       "<Figure size 432x288 with 1 Axes>"
      ]
     },
     "metadata": {},
     "output_type": "display_data"
    }
   ],
   "source": [
    "import pandas as pd\n",
    "\n",
    "chrms = [6, 7, 8]\n",
    "pvallist1 = list()\n",
    "pvallist2 = list()\n",
    "for chrom in chrms:\n",
    "    print(chrom)\n",
    "    inputfile = \"/cbscratch/franco/trans-eqtl/dev-pipeline/lm_crossmap/gtex-ms/tejaas/permnull_sb0.05/chr\"+str(chrom)+\"/rr.txt\"\n",
    "    df = pd.read_table(inputfile, header=0)\n",
    "    pvallist1 += list(df.P)\n",
    "    inputfile = \"/cbscratch/franco/trans-eqtl/dev-pipeline/lm_crossmap/gtex-ms/tejaas_rand/permnull_sb0.05/chr\"+str(chrom)+\"/rr.txt\"\n",
    "    df = pd.read_table(inputfile, header=0)\n",
    "    pvallist2 += list(df.P)\n",
    "\n",
    "    \n",
    "plt.hist(pvallist1, bins = 30, alpha=0.3, label=\"sb0.05\")\n",
    "plt.hist(pvallist2, bins = 30, alpha=0.3, label=\"sb0.05 rand\")\n",
    "# plt.ylim(0, 150000)\n",
    "plt.legend()\n",
    "plt.show()"
   ]
  },
  {
   "cell_type": "code",
   "execution_count": 85,
   "metadata": {},
   "outputs": [],
   "source": [
    "from statsmodels.stats import multitest\n",
    "reject, bhlist, _a, _b = multitest.multipletests(np.array(pvallist2), method=\"fdr_bh\")"
   ]
  },
  {
   "cell_type": "code",
   "execution_count": 86,
   "metadata": {},
   "outputs": [
    {
     "data": {
      "text/plain": [
       "array([], dtype=float64)"
      ]
     },
     "execution_count": 86,
     "metadata": {},
     "output_type": "execute_result"
    }
   ],
   "source": [
    "np.array(pvallist1)[(bhlist < 0.05)]"
   ]
  },
  {
   "cell_type": "code",
   "execution_count": null,
   "metadata": {},
   "outputs": [],
   "source": []
  }
 ],
 "metadata": {
  "kernelspec": {
   "display_name": "Python 3",
   "language": "python",
   "name": "python3"
  },
  "language_info": {
   "codemirror_mode": {
    "name": "ipython",
    "version": 3
   },
   "file_extension": ".py",
   "mimetype": "text/x-python",
   "name": "python",
   "nbconvert_exporter": "python",
   "pygments_lexer": "ipython3",
   "version": "3.6.7"
  }
 },
 "nbformat": 4,
 "nbformat_minor": 2
}
