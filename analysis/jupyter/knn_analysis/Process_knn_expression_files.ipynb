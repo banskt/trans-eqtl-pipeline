{
 "cells": [
  {
   "cell_type": "code",
   "execution_count": 1,
   "metadata": {},
   "outputs": [],
   "source": [
    "%load_ext autoreload\n",
    "%autoreload 2\n",
    "import sys\n",
    "sys.path.append('../../')\n",
    "sys.path.append('/usr/users/fsimone/tejaas')\n",
    "import numpy as np\n",
    "import scipy.stats as ss\n",
    "import random\n",
    "import os\n",
    "import pandas as pd\n",
    "from iotools.readRPKM import ReadRPKM\n",
    "import matplotlib.pyplot as plt\n",
    "from sklearn import linear_model\n",
    "from sklearn.decomposition import PCA\n",
    "\n",
    "def knn_correction(expr, K, f=1):\n",
    "    pca = PCA(n_components=int(f * min(expr.shape[0], expr.shape[1])))\n",
    "    pca.fit(expr) # requires N x G\n",
    "    expr_pca = pca.transform(expr)\n",
    "\n",
    "    def gene_distance(a, b):\n",
    "        return np.linalg.norm(a - b)\n",
    "\n",
    "    nsample = expr.shape[0]\n",
    "    distance_matrix = np.zeros((nsample, nsample))\n",
    "    for i in range(nsample):\n",
    "        for j in range(i+1, nsample):\n",
    "            dist = gene_distance(expr_pca[i,:], expr_pca[j,:])\n",
    "            distance_matrix[i, j] = dist\n",
    "            distance_matrix[j, i] = dist\n",
    "\n",
    "    kneighbor = K\n",
    "    gx_knn = np.zeros_like(expr)\n",
    "    neighbor_list = list()\n",
    "\n",
    "    neighbour_comp = np.zeros(expr.shape)\n",
    "    for i in range(nsample):\n",
    "        neighbors = np.argsort(distance_matrix[i, :])[:kneighbor + 1][1:]\n",
    "        gx_knn[i, :] = expr[i, :] - np.mean(expr[neighbors, :], axis = 0)\n",
    "        # noisy_neighbors = np.random.choice(neighbors, size = int(2 * kneighbor / 3), replace = False)\n",
    "        # noisy_neighbors = np.random.choice(neighbors, size = kneighbor, replace = True )\n",
    "        neighbour_comp[i,:] = np.mean(expr[neighbors, :], axis = 0)\n",
    "\n",
    "    return gx_knn, neighbour_comp"
   ]
  },
  {
   "cell_type": "code",
   "execution_count": 2,
   "metadata": {},
   "outputs": [],
   "source": [
    "import operator\n",
    "import json\n",
    "from utils import utils\n",
    "json_file = \"../../gtex_v8_metadata.json\"\n",
    "tissue_file = \"../../plots/tissues.txt\"\n",
    "tshorts, tfulls_plain = utils.read_tissues(tissue_file, plain=True)\n",
    "_, tfulls = utils.read_tissues(tissue_file)\n",
    "with open(json_file) as instream:\n",
    "    gtex_meta = json.load(instream)\n",
    "tissue_colors  = dict()\n",
    "tissue_names   = dict()\n",
    "tissue_samples = dict()\n",
    "for tshort, tfull in zip(tshorts, tfulls_plain):\n",
    "    tissue_names[tshort] = tfull\n",
    "for tshort, tfull in zip(tshorts, tfulls):\n",
    "    tissue_colors[tshort] = \"#\" + gtex_meta[tfull.replace(\" \", \"_\")][\"colorHex\"]\n",
    "    tissue_samples[tshort] = gtex_meta[tfull.replace(\" \", \"_\")][\"rnaSeqAndGenotypeSampleCount\"]\n",
    "\n",
    "sorted_tissues = [x[0] for x in sorted(tissue_samples.items(), key=operator.itemgetter(1))]\n",
    "select_tissues = tshorts"
   ]
  },
  {
   "cell_type": "code",
   "execution_count": 17,
   "metadata": {},
   "outputs": [
    {
     "name": "stdout",
     "output_type": "stream",
     "text": [
      "as\n",
      "av\n",
      "ag\n",
      "aa\n",
      "ac\n",
      "at\n",
      "bam\n",
      "ban\n",
      "bca\n",
      "bceh\n",
      "bce\n",
      "bco\n",
      "bfr\n",
      "bhi\n",
      "bhy\n",
      "bnu\n",
      "bpu\n",
      "bsp\n",
      "bsu\n",
      "br\n",
      "ebv\n",
      "fib\n",
      "cols\n",
      "colt\n",
      "esog\n",
      "esom\n",
      "esomu\n",
      "haa\n",
      "hlv\n",
      "kc\n",
      "liv\n",
      "lu\n",
      "msg\n",
      "ms\n",
      "nt\n",
      "pan\n",
      "pit\n",
      "snse\n",
      "sse\n",
      "si\n",
      "spl\n",
      "sto\n",
      "thy\n",
      "wb\n",
      "ov\n",
      "pro\n",
      "tes\n",
      "ut\n",
      "va\n"
     ]
    }
   ],
   "source": [
    "K = 30\n",
    "for tissue in tshorts:\n",
    "    if tissue not in select_tissues:\n",
    "        continue\n",
    "    print(tissue)\n",
    "    gx_file = \"/cbscratch/franco/trans-eqtl/new_preprocess_feb2020_freeze/gtex_v8/expression/tpms/{:s}_tpms_qcfilter.txt.protein_coding_lncRNA_filtered\".format(tissue)\n",
    "    gx_knn_file = \"/cbscratch/franco/trans-eqtl/new_preprocess_feb2020_freeze/gtex_v8/expression/tpms/{:s}_knn{:d}.txt.protein_coding_lncRNA_filtered\".format(tissue, K)\n",
    "    rpkm = ReadRPKM(gx_file, \"gtex\")\n",
    "    expression = rpkm.expression\n",
    "    expr_donors = rpkm.donor_ids\n",
    "    gene_names = rpkm.gene_names\n",
    "\n",
    "    gx_corr, nb_comp = knn_correction(expression.T, K)\n",
    "    df = pd.DataFrame(gx_corr.T, columns=expr_donors, index=gene_names)\n",
    "    df.index.name = \"gene_id\"\n",
    "    df.to_csv(gx_knn_file, sep=\"\\t\", doublequote=False)"
   ]
  },
  {
   "cell_type": "code",
   "execution_count": 28,
   "metadata": {
    "scrolled": true
   },
   "outputs": [
    {
     "name": "stdout",
     "output_type": "stream",
     "text": [
      "as\n",
      "av\n",
      "ag\n",
      "aa\n",
      "ac\n",
      "at\n",
      "bam\n",
      "ban\n",
      "bca\n",
      "bceh\n",
      "bce\n",
      "bco\n",
      "bfr\n",
      "bhi\n",
      "bhy\n",
      "bnu\n",
      "bpu\n",
      "bsp\n",
      "bsu\n",
      "br\n",
      "ebv\n",
      "fib\n",
      "cols\n",
      "colt\n",
      "esog\n",
      "esom\n",
      "esomu\n",
      "haa\n",
      "hlv\n",
      "kc\n",
      "liv\n",
      "lu\n",
      "msg\n",
      "ms\n",
      "nt\n",
      "pan\n",
      "pit\n",
      "snse\n",
      "sse\n",
      "si\n",
      "spl\n",
      "sto\n",
      "thy\n",
      "wb\n",
      "ov\n",
      "pro\n",
      "tes\n",
      "ut\n",
      "va\n"
     ]
    }
   ],
   "source": [
    "def normalize_expr(Y):\n",
    "    if isinstance(Y, pd.DataFrame):\n",
    "        Y_cent = (Y.values - np.mean(Y.values, axis = 1).reshape(-1, 1)) / np.std(Y.values, axis = 1).reshape(-1, 1)\n",
    "        Y_cent = pd.DataFrame(Y_cent, index=Y.index, columns=Y.columns)\n",
    "        Y_cent.index.name = Y.index.name\n",
    "    else:\n",
    "        Y_cent = (Y - np.mean(Y, axis = 1).reshape(-1, 1)) / np.std(Y, axis = 1).reshape(-1, 1)\n",
    "    return Y_cent\n",
    "\n",
    "K=30\n",
    "for tissue in tshorts:\n",
    "    print(tissue)\n",
    "    gx_knn_file = \"/cbscratch/franco/trans-eqtl/new_preprocess_feb2020_freeze/gtex_v8/expression/tpms/{:s}_knn{:d}.txt.protein_coding_lncRNA_filtered\".format(tissue, K)\n",
    "    gx_knn_norm_file = \"/cbscratch/franco/trans-eqtl/new_preprocess_feb2020_freeze/gtex_v8/expression/tpms/{:s}_knn{:d}_norm.txt.protein_coding_lncRNA_filtered\".format(tissue, K)\n",
    "    df = pd.read_csv(gx_knn_file, sep=\"\\t\", header=0, index_col=0)\n",
    "    df_norm = normalize_expr(df)\n",
    "    df_norm.to_csv(gx_knn_norm_file, sep=\"\\t\", doublequote=False)\n",
    "    "
   ]
  },
  {
   "cell_type": "code",
   "execution_count": 2,
   "metadata": {},
   "outputs": [],
   "source": [
    "import pandas as pd\n",
    "import numpy as np\n",
    "gx_file = \"/cbscratch/franco/trans-eqtl/new_preprocess_feb2020_freeze/gtex_v8/expression/tpms/as_tpms_qcfilter.txt.protein_coding_lncRNA_filtered\"\n",
    "df = pd.read_csv(gx_file, sep=\"\\t\", header=0, index_col=0)"
   ]
  },
  {
   "cell_type": "code",
   "execution_count": 3,
   "metadata": {},
   "outputs": [
    {
     "data": {
      "text/plain": [
       "array([ 1.16754951e-16, -6.21992417e-17, -1.57456759e-16, ...,\n",
       "        6.40336894e-16,  9.97480927e-17,  8.00564434e-16])"
      ]
     },
     "execution_count": 3,
     "metadata": {},
     "output_type": "execute_result"
    }
   ],
   "source": [
    "np.mean(df.values, axis=1)"
   ]
  },
  {
   "cell_type": "code",
   "execution_count": 4,
   "metadata": {},
   "outputs": [
    {
     "data": {
      "text/plain": [
       "array([1., 1., 1., ..., 1., 1., 1.])"
      ]
     },
     "execution_count": 4,
     "metadata": {},
     "output_type": "execute_result"
    }
   ],
   "source": [
    "np.var(df.values, axis=1)"
   ]
  }
 ],
 "metadata": {
  "kernelspec": {
   "display_name": "Python 3",
   "language": "python",
   "name": "python3"
  },
  "language_info": {
   "codemirror_mode": {
    "name": "ipython",
    "version": 3
   },
   "file_extension": ".py",
   "mimetype": "text/x-python",
   "name": "python",
   "nbconvert_exporter": "python",
   "pygments_lexer": "ipython3",
   "version": "3.6.7"
  }
 },
 "nbformat": 4,
 "nbformat_minor": 2
}
