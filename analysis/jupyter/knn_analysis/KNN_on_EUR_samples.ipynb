{
 "cells": [
  {
   "cell_type": "code",
   "execution_count": 30,
   "metadata": {},
   "outputs": [],
   "source": [
    "import os, sys\n",
    "import numpy as np\n",
    "import pandas as pd\n",
    "import re\n",
    "from sklearn.decomposition import PCA\n",
    "\n",
    "def read_samples(samplefile):\n",
    "    if os.path.exists(samplefile):\n",
    "        with open(samplefile, 'r') as samfile:\n",
    "            sample = 0\n",
    "            samplenames = list()\n",
    "            next(samfile)\n",
    "            next(samfile)\n",
    "            for line in samfile:\n",
    "                if re.search('^#', line):\n",
    "                    continue\n",
    "                sample += 1\n",
    "                samplenames.append(line.strip().split()[0])\n",
    "        nsample = sample\n",
    "        samplenames = samplenames\n",
    "        return samplenames, nsample\n",
    "\n",
    "def knn_correction_noDS(expr, K, pc=30):\n",
    "    print(f\"ncomp: {pc}\")\n",
    "    pca = PCA(n_components=pc )\n",
    "#     print(\"Original dimension: {:d} x {:d}\".format(expr.shape[0], expr.shape[1]))\n",
    "    pca.fit(expr) # requires N x G\n",
    "    expr_pca = pca.transform(expr)\n",
    "#     print(\"Reduced dimension: {:d} x {:d}\".format(expr_pca.shape[0], expr_pca.shape[1]))\n",
    "\n",
    "    def gene_distance(a, b):\n",
    "        return np.linalg.norm(a - b)\n",
    "\n",
    "    nsample = expr.shape[0]\n",
    "    distance_matrix = np.zeros((nsample, nsample))\n",
    "    for i in range(nsample):\n",
    "        for j in range(i+1, nsample):\n",
    "            dist = gene_distance(expr_pca[i,:], expr_pca[j,:])\n",
    "            distance_matrix[i, j] = dist\n",
    "            distance_matrix[j, i] = dist\n",
    "\n",
    "    kneighbor = K\n",
    "    gx_knn = np.zeros_like(expr)\n",
    "    neighbor_list = list()\n",
    "\n",
    "    for i in range(nsample):\n",
    "        neighbors = np.argsort(distance_matrix[i, :])[:kneighbor + 1][1:]\n",
    "        gx_knn[i, :] = expr[i, :] - np.mean(expr[neighbors, :], axis = 0)\n",
    "        # noisy_neighbors = np.random.choice(neighbors, size = int(2 * kneighbor / 3), replace = False)\n",
    "        # noisy_neighbors = np.random.choice(neighbors, size = kneighbor, replace = True )\n",
    "        noisy_neighbors = neighbors\n",
    "        neighbor_list.append(neighbors)\n",
    "\n",
    "    return gx_knn\n",
    "    \n",
    "def knn_correction(expr, dosage, K, f=1):\n",
    "    print(expr.shape, dosage.shape)\n",
    "    assert (gx.shape[0] == dosage.shape[1])\n",
    "    pca = PCA(n_components=int(f * min(expr.shape[0], expr.shape[1]) ))\n",
    "#     print(\"Original dimension: {:d} x {:d}\".format(expr.shape[0], expr.shape[1]))\n",
    "    pca.fit(expr) # requires N x G\n",
    "    expr_pca = pca.transform(expr)\n",
    "#     print(\"Reduced dimension: {:d} x {:d}\".format(expr_pca.shape[0], expr_pca.shape[1]))\n",
    "\n",
    "    def gene_distance(a, b):\n",
    "        return np.linalg.norm(a - b)\n",
    "\n",
    "    nsample = expr.shape[0]\n",
    "    distance_matrix = np.zeros((nsample, nsample))\n",
    "    for i in range(nsample):\n",
    "        for j in range(i+1, nsample):\n",
    "            dist = gene_distance(expr_pca[i,:], expr_pca[j,:])\n",
    "            distance_matrix[i, j] = dist\n",
    "            distance_matrix[j, i] = dist\n",
    "\n",
    "    kneighbor = K\n",
    "    gx_knn = np.zeros_like(expr)\n",
    "    gt_knn = np.zeros_like(dosage)\n",
    "    neighbor_list = list()\n",
    "\n",
    "    for i in range(nsample):\n",
    "        neighbors = np.argsort(distance_matrix[i, :])[:kneighbor + 1][1:]\n",
    "        gx_knn[i, :] = expr[i, :] - np.mean(expr[neighbors, :], axis = 0)\n",
    "        # noisy_neighbors = np.random.choice(neighbors, size = int(2 * kneighbor / 3), replace = False)\n",
    "        # noisy_neighbors = np.random.choice(neighbors, size = kneighbor, replace = True )\n",
    "        noisy_neighbors = neighbors\n",
    "        gt_knn[:, i] = dosage[:, i] - np.mean(dosage[:, noisy_neighbors], axis = 1)\n",
    "        neighbor_list.append(neighbors)\n",
    "\n",
    "    return gx_knn, gt_knn"
   ]
  },
  {
   "cell_type": "code",
   "execution_count": 3,
   "metadata": {},
   "outputs": [
    {
     "name": "stdout",
     "output_type": "stream",
     "text": [
      "(15673, 581)\n",
      "Matrix rank: 580\n"
     ]
    }
   ],
   "source": [
    "# Load real expression\n",
    "tissue=\"as\"\n",
    "# - No corrections\n",
    "df = pd.read_csv(\"/cbscratch/franco/trans-eqtl/new_preprocess_feb2020_freeze/gtex_v8/expression/tpms/{:s}_tpms_qcfilter.txt.protein_coding_lncRNA_filtered\".format(tissue), header=0, index_col=0, sep=\"\\t\")\n",
    "\n",
    "# pub data reminder\n",
    "# df = pd.read_csv(\"/cbscratch/franco/trans-eqtl/new_preprocess_nov2019_pub/gtex_v8/expression/tpms/{:s}_tpms_qcfilter.txt.protein_coding_lncRNA_filtered\".format(tissue), header=0, index_col=0, sep=\"\\t\")\n",
    "ngene, nsample = df.shape\n",
    "gx_donors = list(df.columns)\n",
    "gx = df.values\n",
    "gene_names = list(df.index)\n",
    "print(gx.shape)\n",
    "print(\"Matrix rank:\", np.linalg.matrix_rank(gx))"
   ]
  },
  {
   "cell_type": "code",
   "execution_count": 8,
   "metadata": {},
   "outputs": [
    {
     "name": "stdout",
     "output_type": "stream",
     "text": [
      "(15673, 581)\n",
      "(15673, 415)\n",
      "(15673, 405)\n"
     ]
    }
   ],
   "source": [
    "def select_samples(user_samples, expr_samples):\n",
    "    common_samples = [x for x in expr_samples if x in user_samples]\n",
    "    samples_idx = [expr_samples.index(x) for x in common_samples]\n",
    "    return samples_idx\n",
    "\n",
    "samplefile_eur = \"/cbscratch/franco/datasets/gtex_v8/genotypes/gtex_v8_eur.sample\"\n",
    "samplefile_eur_noadm = \"/cbscratch/franco/datasets/gtex_v8/genotypes/gtex_v8_eur_noADM.sample\"\n",
    "samplefile_all = \"/cbscratch/franco/datasets/gtex_v8/genotypes/gtex_v8.sample\"\n",
    "\n",
    "samplenames, nsample = read_samples(samplefile_eur)\n",
    "exprmask_eur = select_samples(samplenames, gx_donors)\n",
    "\n",
    "samplenames, nsample = read_samples(samplefile_eur_noadm)\n",
    "exprmask_eur_noadm = select_samples(samplenames, gx_donors)\n",
    "\n",
    "samplenames, nsample = read_samples(samplefile_all)\n",
    "exprmask_all = select_samples(samplenames, gx_donors)\n",
    "\n",
    "expr = gx[:, exprmask_all]\n",
    "print(expr.shape)\n",
    "expr_eur = gx[:, exprmask_eur]\n",
    "print(expr_eur.shape)\n",
    "expr_eur_noadm = gx[:, exprmask_eur_noadm]\n",
    "print(expr_eur_noadm.shape)"
   ]
  },
  {
   "cell_type": "code",
   "execution_count": 12,
   "metadata": {},
   "outputs": [
    {
     "name": "stdout",
     "output_type": "stream",
     "text": [
      "[8.42116815e+01 8.36294771e+01 8.32323660e+01 8.30317211e+01\n",
      " 8.26456798e+01 8.23039617e+01 8.18006055e+01 8.12182141e+01\n",
      " 8.03127971e+01 1.70541100e-12]\n",
      "[90.62299792 90.47406704 89.54088167 89.40163661 88.82876789 87.9948627\n",
      " 87.73281776 86.97449058 86.01666468 83.1549929 ]\n",
      "[90.69958799 90.66950481 89.70151162 89.47460756 89.04505487 88.1435419\n",
      " 87.98371186 87.08704387 86.11106459 83.36271533]\n"
     ]
    },
    {
     "data": {
      "image/png": "[encoded data removed]",
      "text/plain": [
       "<Figure size 432x432 with 1 Axes>"
      ]
     },
     "metadata": {},
     "output_type": "display_data"
    }
   ],
   "source": [
    "import matplotlib.pyplot as plt\n",
    "\n",
    "expressions = dict()\n",
    "expressions[\"all\"] = expr\n",
    "expressions[\"eur\"] = expr_eur\n",
    "expressions[\"eur_noadm\"] = expr_eur_noadm\n",
    "\n",
    "\n",
    "fig = plt.figure(figsize=(6,6))\n",
    "ax1 = fig.add_subplot(111)\n",
    "for k in expressions:\n",
    "    Yt = expressions[k].T\n",
    "    U, S, Vt = np.linalg.svd(Yt, full_matrices=False)\n",
    "    S2 = np.square(S)\n",
    "    print(S[-10:])\n",
    "    ax1.scatter(np.arange(len(S)-1), S[:-1], label = k, alpha=0.4)\n",
    "    \n",
    "ax1.legend()\n",
    "plt.show()"
   ]
  },
  {
   "cell_type": "code",
   "execution_count": 37,
   "metadata": {},
   "outputs": [
    {
     "name": "stdout",
     "output_type": "stream",
     "text": [
      "ncomp: 581\n",
      "ncomp: 415\n",
      "ncomp: 405\n",
      "ncomp: 30\n",
      "ncomp: 30\n",
      "ncomp: 30\n"
     ]
    },
    {
     "data": {
      "image/png": "[encoded data removed]",
      "text/plain": [
       "<Figure size 1152x432 with 2 Axes>"
      ]
     },
     "metadata": {},
     "output_type": "display_data"
    }
   ],
   "source": [
    "expressions = dict()\n",
    "expressions[\"all\"] = knn_correction_noDS(expr.T, K=30, pc=expr.shape[1])\n",
    "expressions[\"eur\"] = knn_correction_noDS(expr_eur.T, K=30, pc=expr_eur.shape[1])\n",
    "expressions[\"eur_noadm\"] = knn_correction_noDS(expr_eur_noadm.T, K=30, pc=expr_eur_noadm.shape[1])\n",
    "\n",
    "\n",
    "fig = plt.figure(figsize=(16,6))\n",
    "ax1 = fig.add_subplot(121)\n",
    "for k in expressions:\n",
    "    Yt = expressions[k].T\n",
    "    U, S, Vt = np.linalg.svd(Yt, full_matrices=False)\n",
    "    S2 = np.square(S)\n",
    "    ax1.scatter(np.arange(len(S)-1), S[:-1], label = k, alpha=0.4)\n",
    "\n",
    "ax1.legend()\n",
    "\n",
    "expressions = dict()\n",
    "expressions[\"all\"] = knn_correction_noDS(expr.T, K=30, pc=30)\n",
    "expressions[\"eur\"] = knn_correction_noDS(expr_eur.T, K=30, pc=30)\n",
    "expressions[\"eur_noadm\"] = knn_correction_noDS(expr_eur_noadm.T, K=30, pc=30)\n",
    "\n",
    "ax2 = fig.add_subplot(122)\n",
    "for k in expressions:\n",
    "    Yt = expressions[k].T\n",
    "    U, S, Vt = np.linalg.svd(Yt, full_matrices=False)\n",
    "    S2 = np.square(S)\n",
    "    ax2.scatter(np.arange(len(S)-1), S[:-1], label = k, alpha=0.4)\n",
    "    \n",
    "ax1.set_title(\"KNN with Nsample PCs\")\n",
    "ax2.set_title(\"KNN with 30 PCs\")\n",
    "ax1.set_ylabel(\"Singular values\")\n",
    "ax1.set_xlabel(\"Singular values rank\")\n",
    "ax2.set_ylabel(\"Singular values\")\n",
    "ax2.set_xlabel(\"Singular values rank\")\n",
    "\n",
    "ax1.set_ylim(0,700)\n",
    "ax2.set_ylim(0,700)\n",
    "\n",
    "plt.show()"
   ]
  },
  {
   "cell_type": "code",
   "execution_count": null,
   "metadata": {},
   "outputs": [],
   "source": []
  }
 ],
 "metadata": {
  "kernelspec": {
   "display_name": "Python 3",
   "language": "python",
   "name": "python3"
  },
  "language_info": {
   "codemirror_mode": {
    "name": "ipython",
    "version": 3
   },
   "file_extension": ".py",
   "mimetype": "text/x-python",
   "name": "python",
   "nbconvert_exporter": "python",
   "pygments_lexer": "ipython3",
   "version": "3.6.7"
  }
 },
 "nbformat": 4,
 "nbformat_minor": 2
}
