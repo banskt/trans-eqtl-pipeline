{
 "cells": [
  {
   "cell_type": "code",
   "execution_count": 32,
   "metadata": {},
   "outputs": [
    {
     "name": "stdout",
     "output_type": "stream",
     "text": [
      "The autoreload extension is already loaded. To reload it, use:\n",
      "  %reload_ext autoreload\n"
     ]
    }
   ],
   "source": [
    "%load_ext autoreload\n",
    "%autoreload 2\n",
    "import matplotlib.pyplot as plt\n",
    "import sys\n",
    "sys.path.append('../')\n",
    "sys.path.append('/usr/users/fsimone/tejaas')\n",
    "from iotools import readgtf\n",
    "import numpy as np\n",
    "import os\n",
    "import re\n",
    "import collections\n",
    "import time \n",
    "import gzip \n",
    "\n",
    "SNPRES_FIELDS = ['rsid', 'chrom', 'pos', 'logp', 'dbSNP', 'maf']\n",
    "class SNPRes(collections.namedtuple('_SNPRes', SNPRES_FIELDS)):\n",
    "    __slots__ = ()\n",
    "\n",
    "dbsnp_dict = collections.defaultdict(lambda: False)\n",
    "with gzip.open(\"/cbscratch/franco/datasets/gtex_v8/genotypes/GTEx_Analysis_2017-06-05_v8_WholeGenomeSeq_838Indiv_Analysis_Freeze.lookup_table.txt.gz\") as instream:\n",
    "    next(instream)\n",
    "    for line in instream:\n",
    "        arr = line.decode().rstrip().split()\n",
    "        #if len(arr[3]) == 1 and len(arr[4]) == 1:\n",
    "        dbsnp_dict[arr[2]] = arr[6]\n",
    "        \n",
    "def tejaas(filepath, dbsnp_dict):\n",
    "    res = list()\n",
    "    with open(filepath, 'r') as mfile:\n",
    "        next(mfile)\n",
    "        for line in mfile:\n",
    "            arr   = line.strip().split(\"\\t\")\n",
    "            rsid  = arr[0]\n",
    "            #chrom = rsid.split(\"_\")[0][3:]\n",
    "            chrom = int(arr[1])\n",
    "            pos   = int(arr[2])\n",
    "            p     = float(arr[7])\n",
    "            logp  = np.log10(p) if p!=0 else np.log10(10e-30)\n",
    "            maf   = float(arr[3])\n",
    "            dbsnp = dbsnp_dict[rsid]\n",
    "            res.append(SNPRes(rsid=rsid, chrom=chrom, pos=pos, logp=-logp, dbSNP=dbsnp, maf=maf))\n",
    "    return res    \n",
    "\n",
    "def tejaas_old(filepath, dbsnp_dict):\n",
    "    res = list()\n",
    "    with open(filepath, 'r') as mfile:\n",
    "        next(mfile)\n",
    "        for line in mfile:\n",
    "            arr   = line.strip().split(\"\\t\")\n",
    "            rsid  = arr[0]\n",
    "            chrom = int(rsid.split(\"_\")[0][3:])\n",
    "            pos   = int(arr[1])\n",
    "            p     = float(arr[5])\n",
    "            logp  = np.log10(p) if p!=0 else np.log10(10e-30)\n",
    "            maf   = float(arr[7])\n",
    "            res.append(SNPRes(rsid=rsid, chrom=chrom, pos=pos, logp=-logp, dbSNP=dbsnp_dict[rsid], maf=maf))\n",
    "    return res  "
   ]
  },
  {
   "cell_type": "code",
   "execution_count": 43,
   "metadata": {},
   "outputs": [
    {
     "name": "stdout",
     "output_type": "stream",
     "text": [
      "Loading  aa has 11254 trans-eqtls\n",
      "Loading  ms has 29079 trans-eqtls\n",
      "Loading  wb has 1529 trans-eqtls\n"
     ]
    }
   ],
   "source": [
    "from utils import utils\n",
    "tissue_file = \"/usr/users/fsimone/trans-eqtl-pipeline/analysis/plots/tissues.txt\"\n",
    "tissuenames, descriptions = utils.read_tissues(tissue_file)\n",
    "\n",
    "basepath = \"/cbscratch/franco/trans-eqtl/dev-pipeline/gtex_v8_dysb/\"\n",
    "trans_dict = dict()\n",
    "for tissue in tissuenames:\n",
    "    tejaas_file = os.path.join(basepath, \"summary_5e-08_k0.6\", tissue, \"tejaas\", \"trans_eqtls.txt\")\n",
    "    if not os.path.exists(tejaas_file):\n",
    "        print(\"{:s} has no trans-eqtl results\".format(tissue))\n",
    "        continue\n",
    "    print(\"Loading \", tissue, end=\"\")\n",
    "    transeqtls = tejaas_old(tejaas_file, dbsnp_dict)\n",
    "    if len(transeqtls) > 0:\n",
    "        trans_dict[tissue] = transeqtls\n",
    "        print(\" has {:d} trans-eqtls\".format(len(transeqtls)))\n",
    "    else:\n",
    "        print(\" has 0 trans-eqtls\")"
   ]
  },
  {
   "cell_type": "code",
   "execution_count": 22,
   "metadata": {},
   "outputs": [],
   "source": [
    "import gzip\n",
    "eqtlgenfile = \"/cbscratch/franco/datasets/EQTLgen/trans-eQTL_significant_20181017.txt.gz\"\n",
    "eqtlgen_dict = collections.defaultdict(lambda: False)\n",
    "eqtlgen_coord_dict = dict()\n",
    "for chrm in np.arange(1,23):\n",
    "    eqtlgen_coord_dict[chrm] = collections.defaultdict(lambda: False)\n",
    "with gzip.open(eqtlgenfile) as instream:\n",
    "    next(instream)\n",
    "    for line in instream:\n",
    "        arr = line.decode().strip().split(\"\\t\")\n",
    "        eqtlgen_dict[arr[1]] = True\n",
    "        eqtlgen_coord_dict[int(arr[2])][int(arr[3])] = True\n",
    "    "
   ]
  },
  {
   "cell_type": "code",
   "execution_count": 44,
   "metadata": {},
   "outputs": [
    {
     "name": "stdout",
     "output_type": "stream",
     "text": [
      "rs10934853\n",
      "rs4705952\n",
      "rs4646450\n",
      "rs10744777\n",
      "rs1129038\n",
      "aa: Replicated 5 trans-eQTLs\n",
      "rs670523\n",
      "rs2340727\n",
      "rs6430538\n",
      "rs1990760\n",
      "rs13098914\n",
      "rs4833095\n",
      "rs17616434\n",
      "rs10214237\n",
      "rs4705952\n",
      "rs4388254\n",
      "rs917116\n",
      "rs4646450\n",
      "rs10885122\n",
      "rs1000778\n",
      "rs10744777\n",
      "rs1129038\n",
      "rs12593813\n",
      "rs3810291\n",
      "ms: Replicated 18 trans-eQTLs\n",
      "rs4646450\n",
      "wb: Replicated 1 trans-eQTLs\n"
     ]
    }
   ],
   "source": [
    "for tissue in tissuenames:\n",
    "    counter = 0\n",
    "    for snp in trans_dict[tissue]:\n",
    "        if eqtlgen_dict[snp.dbSNP]:\n",
    "            print(snp.dbSNP)\n",
    "            counter += 1\n",
    "    print(\"{:s}: Replicated {:d} trans-eQTLs\".format(tissue, counter))"
   ]
  },
  {
   "cell_type": "code",
   "execution_count": 26,
   "metadata": {},
   "outputs": [
    {
     "name": "stdout",
     "output_type": "stream",
     "text": [
      "Loading FHS Keff 0.4 has 30 trans-eqtls\n",
      "Loading FHS Keff 0.5 has 169 trans-eqtls\n",
      "Loading FHS Keff 0.6 has 248 trans-eqtls\n",
      "Loading FHS Keff 0.7 has 401 trans-eqtls\n",
      "Loading FHS Keff 0.8 has 407 trans-eqtls\n"
     ]
    }
   ],
   "source": [
    "basepath = \"/cbscratch/franco/trans-eqtl/dev-pipeline/gtex_v8_dysb/raw_oneref/fhs/tejaas/\"\n",
    "fhs_trans_dict = dict()\n",
    "keffs = [\"0.4\", \"0.5\", \"0.6\", \"0.7\", \"0.8\"]\n",
    "for keff in keffs:\n",
    "    tejaas_file = os.path.join(basepath, \"permnull_sbDynamic{:s}_knn30\".format(keff), \"trans_eqtls_5e-08.txt\")\n",
    "    if not os.path.exists(tejaas_file):\n",
    "        print(\"File does not exist\")\n",
    "        continue\n",
    "    print(\"Loading FHS Keff {:s}\".format(keff), end=\"\")\n",
    "    transeqtls = tejaas(tejaas_file, dbsnp_dict)\n",
    "    if len(transeqtls) > 0:\n",
    "        fhs_trans_dict[keff] = transeqtls\n",
    "        print(\" has {:d} trans-eqtls\".format(len(transeqtls)))\n",
    "    else:\n",
    "        print(\" has 0 trans-eqtls\")"
   ]
  },
  {
   "cell_type": "code",
   "execution_count": 29,
   "metadata": {},
   "outputs": [
    {
     "name": "stdout",
     "output_type": "stream",
     "text": [
      "3:56849749_T_C\n",
      "6:31252396_C_A\n",
      "6:31265490_C_T\n",
      "6:31272261_T_C\n",
      "7:50427982_G_A\n",
      "0.4: Replicated 5 trans-eQTLs\n",
      "3:56849749_T_C\n",
      "6:31252396_C_A\n",
      "6:31265490_C_T\n",
      "6:31272261_T_C\n",
      "7:50427982_G_A\n",
      "7:50428445_C_T\n",
      "0.5: Replicated 6 trans-eQTLs\n",
      "3:56849749_T_C\n",
      "6:31238318_A_G\n",
      "6:31252396_C_A\n",
      "6:31265490_C_T\n",
      "6:31272261_T_C\n",
      "7:50427982_G_A\n",
      "7:50428445_C_T\n",
      "0.6: Replicated 7 trans-eQTLs\n",
      "3:56849749_T_C\n",
      "6:31238318_A_G\n",
      "6:31252396_C_A\n",
      "6:31265490_C_T\n",
      "6:31272261_T_C\n",
      "6:32664458_C_T\n",
      "7:50427982_G_A\n",
      "7:50428445_C_T\n",
      "0.7: Replicated 8 trans-eQTLs\n",
      "3:56849749_T_C\n",
      "6:31238318_A_G\n",
      "6:31252396_C_A\n",
      "6:31265490_C_T\n",
      "6:31272261_T_C\n",
      "6:32401079_G_A\n",
      "6:32664458_C_T\n",
      "7:50427982_G_A\n",
      "7:50428445_C_T\n",
      "0.8: Replicated 9 trans-eQTLs\n"
     ]
    }
   ],
   "source": [
    "for keff in keffs:\n",
    "    counter = 0\n",
    "    for snp in fhs_trans_dict[keff]:\n",
    "        if eqtlgen_coord_dict[snp.chrom][snp.pos]:\n",
    "            print(snp.rsid)\n",
    "            counter += 1\n",
    "    print(\"{:s}: Replicated {:d} trans-eQTLs\".format(keff, counter))"
   ]
  },
  {
   "cell_type": "code",
   "execution_count": 36,
   "metadata": {},
   "outputs": [],
   "source": [
    "fhs_hg38_coord_dict = dict()\n",
    "for chrom in np.arange(1,23):\n",
    "    fhs_hg38_coord_dict[chrom] = collections.defaultdict(lambda: False)\n",
    "\n",
    "liftfile=\"/cbscratch/franco/trans-eqtl/dev-pipeline/gtex_v8_dysb/raw_oneref/fhs/tejaas/permnull_sbDynamic0.8_knn30/hglft_genome_2cb9c_a305b0.bed\"\n",
    "with open(liftfile) as instream:\n",
    "    for line in instream:\n",
    "        chrom = int(line.strip().split(\":\")[0][3:])\n",
    "        pos   = int(line.strip().split(\":\")[1].split(\"-\")[0])\n",
    "        fhs_hg38_coord_dict[chrom][pos] = True    "
   ]
  },
  {
   "cell_type": "code",
   "execution_count": 45,
   "metadata": {},
   "outputs": [],
   "source": [
    "counter = 0\n",
    "for t in trans_dict['wb']:\n",
    "    if fhs_hg38_coord_dict[t.chrom][t.pos]:\n",
    "        counter += 1\n",
    "        print(t)"
   ]
  },
  {
   "cell_type": "code",
   "execution_count": null,
   "metadata": {},
   "outputs": [],
   "source": []
  }
 ],
 "metadata": {
  "kernelspec": {
   "display_name": "Python 3",
   "language": "python",
   "name": "python3"
  },
  "language_info": {
   "codemirror_mode": {
    "name": "ipython",
    "version": 3
   },
   "file_extension": ".py",
   "mimetype": "text/x-python",
   "name": "python",
   "nbconvert_exporter": "python",
   "pygments_lexer": "ipython3",
   "version": "3.6.7"
  }
 },
 "nbformat": 4,
 "nbformat_minor": 2
}
