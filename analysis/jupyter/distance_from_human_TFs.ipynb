{
 "cells": [
  {
   "cell_type": "markdown",
   "metadata": {},
   "source": [
    "## Distance of trans-eQTLs from the human TFs\n",
    "\n",
    " - How far are the trans-eQTLs from known transcription factors?\n",
    " - How does it compare to some randomly selected SNPs from the data?\n",
    " \n",
    "To Do: Extend the analysis to multiple tissues"
   ]
  },
  {
   "cell_type": "code",
   "execution_count": 68,
   "metadata": {},
   "outputs": [],
   "source": [
    "resdir = \"/scratch/sbanerj/trans-eqtl/dev-pipeline/gtex_v8\"\n",
    "tissuelist = [\"as\", \"sse\"]\n",
    "tejaas_preproc = \"raw_std\"\n",
    "tejaas_method_variant = \"permnull_sb0.1_knn\"\n",
    "rrfile = \"rr.txt\"\n",
    "chrmlist = [3, 4, 5, 6, 7, 8, 9, 10, 11, 12, 13, 14, 15, 16, 17, 18, 19, 20, 21, 22]\n",
    "#chrmlist = [x for x in range(3, 23)]\n",
    "tffile = \"../external/human_TF_annotation_gencode_v26.txt\"\n",
    "Nrand = 50000"
   ]
  },
  {
   "cell_type": "code",
   "execution_count": 13,
   "metadata": {},
   "outputs": [],
   "source": [
    "import numpy as np\n",
    "import collections\n",
    "import os\n",
    "import time\n",
    "import math\n",
    "\n",
    "import matplotlib.pyplot as plt\n",
    "#plt.switch_backend('agg')\n",
    "import matplotlib\n",
    "import sys\n",
    "sys.path.append('../')\n",
    "from utils import mpl_stylesheet\n",
    "mpl_stylesheet.banskt_presentation(fontfamily = 'latex-clearsans', fontsize = 24, colors = 'banskt', dpi = 72)"
   ]
  },
  {
   "cell_type": "code",
   "execution_count": 4,
   "metadata": {},
   "outputs": [],
   "source": [
    "GENEINFO_FIELDS = ['name', 'ensembl_id', 'chrom', 'start', 'end']\n",
    "class GeneInfo(collections.namedtuple('_GeneInfo', GENEINFO_FIELDS)):\n",
    "    __slots__ = ()\n",
    "\n",
    "tflist = list()\n",
    "with open(tffile, 'r') as instream:\n",
    "    next(instream)\n",
    "    for line in instream:\n",
    "        linesplit = line.strip().split()\n",
    "        ensembl = linesplit[0]\n",
    "        chrom = int(linesplit[1])\n",
    "        start = int(linesplit[2])\n",
    "        end = int(linesplit[3])\n",
    "        name = linesplit[4]\n",
    "        tflist.append(GeneInfo(name = name, ensembl_id = ensembl, chrom = chrom, start = start, end = end))"
   ]
  },
  {
   "cell_type": "code",
   "execution_count": 14,
   "metadata": {},
   "outputs": [],
   "source": [
    "def find_minimum_distance(spos, starts, ends):\n",
    "    diffs = zip([spos - x for x in starts], [spos - x for x in ends])\n",
    "    dists = np.array([math.copysign(min(abs(a), abs(b)), a) if a * b > 0 else 0 for a, b in diffs])\n",
    "    return dists[np.argmin(np.abs(dists))]\n",
    "\n",
    "def find_minimum_distance_from_start(spos, starts):\n",
    "    dists = np.array([spos - x for x in starts])\n",
    "    return dists[np.argmin(np.abs(dists))]"
   ]
  },
  {
   "cell_type": "code",
   "execution_count": 17,
   "metadata": {},
   "outputs": [],
   "source": [
    "def read_tejaas(filename):\n",
    "    rsidlist = list()\n",
    "    bplist   = list()\n",
    "    pvallist = list()\n",
    "    with open(filename, 'r') as instream:\n",
    "        next(instream)\n",
    "        for line in instream:\n",
    "            linesplit = line.strip().split()\n",
    "            rsid = linesplit[0]\n",
    "            bppos = int(linesplit[1])\n",
    "            pval = float(linesplit[5])\n",
    "            rsidlist.append(rsid)\n",
    "            bplist.append(bppos)\n",
    "            pvallist.append(pval)\n",
    "    return rsidlist, pvallist, bplist\n",
    "\n",
    "def read_tejaas_all_chrom(filefmt, chrmlist):\n",
    "    gwrsids = list()\n",
    "    gwpvals = list()\n",
    "    gwnsnps = dict()\n",
    "    gwbppos = dict()\n",
    "    \n",
    "    for chrm in chrmlist:\n",
    "        filepath = filefmt.format(chrm)\n",
    "        rsids, pvals, bplist = read_tejaas(filepath)\n",
    "        gwrsids += rsids\n",
    "        gwpvals += pvals\n",
    "        gwnsnps[chrm] = len(rsids)\n",
    "        gwbppos[chrm] = np.array(bplist)\n",
    "        \n",
    "    gwpvals = np.array(gwpvals)\n",
    "    pmax  = np.max(gwpvals[np.where(gwpvals > 0)])\n",
    "    nonzero_pvals = gwpvals.copy()\n",
    "    nonzero_pvals[np.where(gwpvals == 0)] = pmax\n",
    "    \n",
    "    return gwrsids, gwnsnps, gwbppos, nonzero_pvals"
   ]
  },
  {
   "cell_type": "markdown",
   "metadata": {},
   "source": [
    "#### Randomly selected SNPs"
   ]
  },
  {
   "cell_type": "code",
   "execution_count": 10,
   "metadata": {},
   "outputs": [],
   "source": [
    "snpdir = '/scratch/sbanerj/trans-eqtl/input/gtex/genotype/all_samples/'\n",
    "snppos = dict()\n",
    "for chrm in range(1, 23):\n",
    "    fname = os.path.join(snpdir, 'GTEx_v6_imput_info04_HWEp1E6_PASS_chr{:d}.annot'.format(chrm))\n",
    "    with open (fname, 'r') as instream:\n",
    "        first = next(instream).strip().split()[0]\n",
    "        for line in instream:\n",
    "            pass\n",
    "        last = line.strip().split()[0]\n",
    "    firstpos = int(first.split('_')[1])\n",
    "    lastpos = int(last.split('_')[1])\n",
    "    snppos[chrm] = list([firstpos, lastpos])"
   ]
  },
  {
   "cell_type": "code",
   "execution_count": 15,
   "metadata": {},
   "outputs": [
    {
     "name": "stdout",
     "output_type": "stream",
     "text": [
      "Selecting 1342 SNPs from chromosome 1: 0.00146747 seconds\n",
      "Finding distances: 0.506115 seconds\n",
      "Selecting 2749 SNPs from chromosome 2: 0.00233722 seconds\n",
      "Finding distances: 0.770852 seconds\n",
      "Selecting 2951 SNPs from chromosome 3: 0.00309348 seconds\n",
      "Finding distances: 0.582318 seconds\n",
      "Selecting 4027 SNPs from chromosome 4: 0.00400591 seconds\n",
      "Finding distances: 0.587867 seconds\n",
      "Selecting 1800 SNPs from chromosome 5: 0.00200295 seconds\n",
      "Finding distances: 0.257648 seconds\n",
      "Selecting 2009 SNPs from chromosome 6: 0.00179696 seconds\n",
      "Finding distances: 0.449687 seconds\n",
      "Selecting 1613 SNPs from chromosome 7: 0.00160933 seconds\n",
      "Finding distances: 0.434908 seconds\n",
      "Selecting 2839 SNPs from chromosome 8: 0.00279403 seconds\n",
      "Finding distances: 0.586942 seconds\n",
      "Selecting 2112 SNPs from chromosome 9: 0.00224495 seconds\n",
      "Finding distances: 0.400353 seconds\n",
      "Selecting 3315 SNPs from chromosome 10: 0.00306892 seconds\n",
      "Finding distances: 0.479284 seconds\n",
      "Selecting 1131 SNPs from chromosome 11: 0.0011301 seconds\n",
      "Finding distances: 0.205548 seconds\n",
      "Selecting 882 SNPs from chromosome 12: 0.00130773 seconds\n",
      "Finding distances: 0.216195 seconds\n",
      "Selecting 1200 SNPs from chromosome 13: 0.0011692 seconds\n",
      "Finding distances: 0.113409 seconds\n",
      "Selecting 1780 SNPs from chromosome 14: 0.00181484 seconds\n",
      "Finding distances: 0.232743 seconds\n",
      "Selecting 1448 SNPs from chromosome 15: 0.00373936 seconds\n",
      "Finding distances: 0.151001 seconds\n",
      "Selecting 3762 SNPs from chromosome 16: 0.00352263 seconds\n",
      "Finding distances: 0.788831 seconds\n",
      "Selecting 1943 SNPs from chromosome 17: 0.0024116 seconds\n",
      "Finding distances: 0.43083 seconds\n",
      "Selecting 2270 SNPs from chromosome 18: 0.001966 seconds\n",
      "Finding distances: 0.216414 seconds\n",
      "Selecting 3449 SNPs from chromosome 19: 0.00309753 seconds\n",
      "Finding distances: 3.03063 seconds\n",
      "Selecting 3448 SNPs from chromosome 20: 0.00388145 seconds\n",
      "Finding distances: 0.533889 seconds\n",
      "Selecting 3684 SNPs from chromosome 21: 0.00372434 seconds\n",
      "Finding distances: 0.197322 seconds\n",
      "Selecting 244 SNPs from chromosome 22: 0.000396252 seconds\n",
      "Finding distances: 0.0180559 seconds\n"
     ]
    }
   ],
   "source": [
    "mindist = list()\n",
    "ratios = np.random.rand(22)\n",
    "ndraws = [int(x) for x in np.around(Nrand * ratios / np.sum(ratios))]\n",
    "for i, N in enumerate(ndraws):\n",
    "    chrm = i + 1\n",
    "    start_time = time.time()\n",
    "    firstpos = snppos[chrm][0]\n",
    "    lastpos  = snppos[chrm][1]\n",
    "    rands = firstpos + np.random.rand(N) * (lastpos - firstpos)\n",
    "    selects = np.sort([int(x) for x in rands])\n",
    "    #selects  = firstpos + np.sort(np.random.choice(lastpos - firstpos, N, replace = False))\n",
    "    select_time = time.time()\n",
    "    print (\"Selecting {:d} SNPs from chromosome {:d}: {:g} seconds\".format(N, chrm, select_time - start_time))\n",
    "    tfchrmlist = [x for x in tflist if x.chrom == chrm]\n",
    "    tfstarts = [x.start for x in tflist if x.chrom == chrm]\n",
    "    tfends = [x.end for x in tflist if x.chrom == chrm]\n",
    "    for spos in selects:\n",
    "        xmin = find_minimum_distance(spos, tfstarts, tfends)\n",
    "        #xmin = find_minimum_distance_from_start(spos, tfends)\n",
    "        #if xmin == 0: print(chrm, spos)\n",
    "        mindist.append(xmin / 1e6)\n",
    "    dist_time = time.time()\n",
    "    print (\"Finding distances: {:g} seconds\".format(dist_time - select_time))"
   ]
  },
  {
   "cell_type": "code",
   "execution_count": 18,
   "metadata": {},
   "outputs": [],
   "source": [
    "filefmt = f'{resdir}/{tissuelist[0]}/tejaas/{tejaas_preproc}/{tejaas_method_variant}/chr' + \"{:d}\" + f'/{rrfile}'\n",
    "gwrsids, gwnsnps, gwbppos, gwpvals = read_tejaas_all_chrom(filefmt, chrmlist)\n",
    "gwlog10pvals = -np.log10(gwpvals)"
   ]
  },
  {
   "cell_type": "code",
   "execution_count": 48,
   "metadata": {},
   "outputs": [],
   "source": [
    "filefmt = f'{resdir}/{tissuelist[1]}/tejaas/{tejaas_preproc}/{tejaas_method_variant}/chr' + \"{:d}\" + f'/{rrfile}'\n",
    "gwrsids2, gwnsnps2, gwbppos2, gwpvals2 = read_tejaas_all_chrom(filefmt, chrmlist)\n",
    "gwlog10pvals2 = -np.log10(gwpvals2)"
   ]
  },
  {
   "cell_type": "code",
   "execution_count": 55,
   "metadata": {},
   "outputs": [],
   "source": [
    "log10cutoff = -np.log10(5e-8)\n",
    "nchoose = np.where(gwlog10pvals >= log10cutoff)[0]\n",
    "nchoose2 = np.where(gwlog10pvals2 >= log10cutoff)[0]"
   ]
  },
  {
   "cell_type": "code",
   "execution_count": 44,
   "metadata": {},
   "outputs": [],
   "source": [
    "transeqtls = [gwrsids[i] for i in nchoose]\n",
    "\n",
    "min_tf_dist_transeqtls = list()\n",
    "for teqtl in transeqtls:\n",
    "    chrm = int(teqtl.split('_')[0][3:])\n",
    "    spos = int(teqtl.split('_')[1])\n",
    "    firstpos = snppos[chrm][0]\n",
    "    lastpos  = snppos[chrm][1]\n",
    "    tfchrmlist = [x for x in tflist if x.chrom == chrm]\n",
    "    tfstarts = [x.start for x in tflist if x.chrom == chrm]\n",
    "    tfends = [x.end for x in tflist if x.chrom == chrm]\n",
    "    xmin = find_minimum_distance(spos, tfstarts, tfends)\n",
    "    min_tf_dist_transeqtls.append(xmin / 1e6)"
   ]
  },
  {
   "cell_type": "code",
   "execution_count": 56,
   "metadata": {},
   "outputs": [],
   "source": [
    "transeqtls2 = [gwrsids2[i] for i in nchoose2]\n",
    "\n",
    "min_tf_dist_transeqtls2 = list()\n",
    "for teqtl in transeqtls2:\n",
    "    chrm = int(teqtl.split('_')[0][3:])\n",
    "    spos = int(teqtl.split('_')[1])\n",
    "    firstpos = snppos[chrm][0]\n",
    "    lastpos  = snppos[chrm][1]\n",
    "    tfchrmlist = [x for x in tflist if x.chrom == chrm]\n",
    "    tfstarts = [x.start for x in tflist if x.chrom == chrm]\n",
    "    tfends = [x.end for x in tflist if x.chrom == chrm]\n",
    "    xmin = find_minimum_distance(spos, tfstarts, tfends)\n",
    "    min_tf_dist_transeqtls2.append(xmin / 1e6)"
   ]
  },
  {
   "cell_type": "code",
   "execution_count": 96,
   "metadata": {},
   "outputs": [
    {
     "data": {
      "image/png": "[encoded data removed]",
      "text/plain": [
       "<Figure size 864x360 with 2 Axes>"
      ]
     },
     "metadata": {
      "needs_background": "light"
     },
     "output_type": "display_data"
    }
   ],
   "source": [
    "from scipy.interpolate import interp1d\n",
    "\n",
    "fig = plt.figure(figsize = (12, 5))\n",
    "ax1 = fig.add_subplot(121)\n",
    "ax2 = fig.add_subplot(122)\n",
    "\n",
    "xmax = np.around(np.max(mindist))\n",
    "xmin = np.around(np.min(mindist))\n",
    "bins = np.linspace(xmin, xmax, 60)\n",
    "xbin = [(bins[i] + bins[i+1]) / 2 for i in range(bins.shape[0] - 1)] # centers of the bins\n",
    "x = np.linspace(xbin[0], xbin[-1], 500)\n",
    "yfreq, _ = np.histogram(mindist, bins = bins, density = True)\n",
    "#yfreq = yhist / len(mindist)\n",
    "fy = interp1d(xbin, yfreq, kind = 'cubic')\n",
    "y = fy(x)\n",
    "ax1.plot(x, y, alpha = 1)\n",
    "\n",
    "\n",
    "\n",
    "ax1.hist(mindist, bins = 100, density = True, alpha = 0.5)\n",
    "ax1.hist(min_tf_dist_transeqtls, bins = 100, density = True, alpha = 0.5)\n",
    "\n",
    "ax2.hist(mindist, bins = 100, density = True, alpha = 0.5)\n",
    "ax2.hist(min_tf_dist_transeqtls2, bins = 100, density = True, alpha = 0.5)\n",
    "\n",
    "plt.tight_layout()\n",
    "plt.show()"
   ]
  },
  {
   "cell_type": "code",
   "execution_count": 72,
   "metadata": {},
   "outputs": [
    {
     "data": {
      "image/png": "[encoded data removed]",
      "text/plain": [
       "<Figure size 576x576 with 1 Axes>"
      ]
     },
     "metadata": {
      "needs_background": "light"
     },
     "output_type": "display_data"
    }
   ],
   "source": [
    "fig = plt.figure(figsize = (8, 8))\n",
    "ax1 = fig.add_subplot(111)\n",
    "\n",
    "data = [mindist, min_tf_dist_transeqtls, min_tf_dist_transeqtls2]\n",
    "\n",
    "ax1.boxplot(data, showfliers=False)\n",
    "ax1.set_xticklabels(['Random', 'Adipose', 'Skin'])\n",
    "\n",
    "ax1.set_ylabel('Distance (in MB) from nearest TF')\n",
    "plt.tight_layout()\n",
    "plt.show()"
   ]
  },
  {
   "cell_type": "code",
   "execution_count": 84,
   "metadata": {},
   "outputs": [
    {
     "data": {
      "text/plain": [
       "0.3517740709628385"
      ]
     },
     "execution_count": 84,
     "metadata": {},
     "output_type": "execute_result"
    }
   ],
   "source": [
    "## Enrichment\n",
    "len([x for x in mindist if abs(x) < 0.5]) / len(mindist)"
   ]
  },
  {
   "cell_type": "code",
   "execution_count": 85,
   "metadata": {},
   "outputs": [
    {
     "data": {
      "text/plain": [
       "0.3512898330804249"
      ]
     },
     "execution_count": 85,
     "metadata": {},
     "output_type": "execute_result"
    }
   ],
   "source": [
    "len([x for x in min_tf_dist_transeqtls if abs(x) < 0.5]) / len(min_tf_dist_transeqtls)"
   ]
  },
  {
   "cell_type": "code",
   "execution_count": 86,
   "metadata": {},
   "outputs": [
    {
     "data": {
      "text/plain": [
       "0.44370860927152317"
      ]
     },
     "execution_count": 86,
     "metadata": {},
     "output_type": "execute_result"
    }
   ],
   "source": [
    "len([x for x in min_tf_dist_transeqtls2 if abs(x) < 0.5]) / len(min_tf_dist_transeqtls2)"
   ]
  },
  {
   "cell_type": "code",
   "execution_count": null,
   "metadata": {},
   "outputs": [],
   "source": []
  }
 ],
 "metadata": {
  "kernelspec": {
   "display_name": "Python 3",
   "language": "python",
   "name": "python3"
  },
  "language_info": {
   "codemirror_mode": {
    "name": "ipython",
    "version": 3
   },
   "file_extension": ".py",
   "mimetype": "text/x-python",
   "name": "python",
   "nbconvert_exporter": "python",
   "pygments_lexer": "ipython3",
   "version": "3.6.8"
  }
 },
 "nbformat": 4,
 "nbformat_minor": 2
}
