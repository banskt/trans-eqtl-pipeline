{
 "cells": [
  {
   "cell_type": "markdown",
   "metadata": {},
   "source": [
    "## Distance of trans-eQTLs from the human TFs\n",
    "\n",
    " - How far are the trans-eQTLs from known transcription factors?\n",
    " - How does it compare to some randomly selected SNPs from the data?"
   ]
  },
  {
   "cell_type": "code",
   "execution_count": 2,
   "metadata": {},
   "outputs": [],
   "source": [
    "resdir = \"/usr/users/sbanerj/trans_eqtl_results/gtex_v8\"\n",
    "tissuelist = [\"ms\", \"at\", \"thy\", \"nt\", \"snse\", \"lu\", \"av\", \"br\", \"hlv\", \"aa\", \"haa\", \"colt\", \"as\", \"sse\"]\n",
    "tissue_file = \"../plots/tissues.txt\"\n",
    "tejaas_preproc = \"raw_std\"\n",
    "tejaas_method_variant = \"permnull_sb0.1_knn\"\n",
    "rrfile = \"rr.txt\"\n",
    "chrmlist = [3, 4, 5, 6, 7, 8, 9, 10, 11, 12, 13, 14, 15, 16, 17, 18, 19, 20, 21, 22]\n",
    "tffile = \"../external/human_TF_annotation_gencode_v26.txt\"\n",
    "Nrand = 50000\n",
    "cis_window = 0.1 # (in Mb)\n",
    "pcutoff = 5e-8\n",
    "\n",
    "snpdir = '/usr/users/sbanerj/gtex_v8/genotype/all_samples/'\n",
    "gtfile_fmt = 'GTEX_v8_2019-07-29_WGS_838Indiv_Freeze_NoMissingGT_SNPfilter_MAF0.01_withDS_chr{:d}.snplist'\n",
    "json_file = \"../external/gtex_metadata.json\""
   ]
  },
  {
   "cell_type": "code",
   "execution_count": 3,
   "metadata": {},
   "outputs": [],
   "source": [
    "import numpy as np\n",
    "import collections\n",
    "import os\n",
    "import time\n",
    "import math\n",
    "import json\n",
    "\n",
    "import matplotlib.pyplot as plt\n",
    "#plt.switch_backend('agg')\n",
    "import matplotlib\n",
    "import sys\n",
    "sys.path.append('../')\n",
    "from utils import utils\n",
    "from utils import mpl_stylesheet\n",
    "mpl_stylesheet.banskt_presentation(fontfamily = 'latex-clearsans', fontsize = 22, colors = 'banskt', dpi = 300)\n",
    "\n",
    "log10cutoff = -np.log10(pcutoff)"
   ]
  },
  {
   "cell_type": "code",
   "execution_count": 4,
   "metadata": {},
   "outputs": [],
   "source": [
    "GENEINFO_FIELDS = ['name', 'ensembl_id', 'chrom', 'start', 'end']\n",
    "class GeneInfo(collections.namedtuple('_GeneInfo', GENEINFO_FIELDS)):\n",
    "    __slots__ = ()\n",
    "\n",
    "tflist = list()\n",
    "with open(tffile, 'r') as instream:\n",
    "    next(instream)\n",
    "    for line in instream:\n",
    "        linesplit = line.strip().split()\n",
    "        ensembl = linesplit[0]\n",
    "        chrom = int(linesplit[1])\n",
    "        start = int(linesplit[2])\n",
    "        end = int(linesplit[3])\n",
    "        name = linesplit[4]\n",
    "        tflist.append(GeneInfo(name = name, ensembl_id = ensembl, chrom = chrom, start = start, end = end))"
   ]
  },
  {
   "cell_type": "code",
   "execution_count": 5,
   "metadata": {},
   "outputs": [],
   "source": [
    "tshorts, tfulls = utils.read_tissues(tissue_file)\n",
    "with open(json_file) as instream:\n",
    "    gtex_meta = json.load(instream)\n",
    "tissue_colors = dict()\n",
    "tissue_names = dict()\n",
    "for tshort, tfull in zip(tshorts, tfulls):\n",
    "    if tshort in tissuelist:\n",
    "        tissue_names[tshort] = tfull\n",
    "        tissue_colors[tshort] = \"#\" + gtex_meta[tfull.replace(\" \", \"_\")][\"colorHex\"]"
   ]
  },
  {
   "cell_type": "code",
   "execution_count": 6,
   "metadata": {},
   "outputs": [],
   "source": [
    "def find_minimum_distance(spos, starts, ends):\n",
    "    diffs = zip([spos - x for x in starts], [spos - x for x in ends])\n",
    "    dists = np.array([math.copysign(min(abs(a), abs(b)), a) if a * b > 0 else 0 for a, b in diffs])\n",
    "    return dists[np.argmin(np.abs(dists))]\n",
    "\n",
    "def find_minimum_distance_from_start(spos, starts):\n",
    "    dists = np.array([spos - x for x in starts])\n",
    "    return dists[np.argmin(np.abs(dists))]"
   ]
  },
  {
   "cell_type": "code",
   "execution_count": 7,
   "metadata": {},
   "outputs": [],
   "source": [
    "def read_tejaas(filename):\n",
    "    rsidlist = list()\n",
    "    bplist   = list()\n",
    "    pvallist = list()\n",
    "    with open(filename, 'r') as instream:\n",
    "        next(instream)\n",
    "        for line in instream:\n",
    "            linesplit = line.strip().split()\n",
    "            rsid = linesplit[0]\n",
    "            bppos = int(linesplit[1])\n",
    "            pval = float(linesplit[5])\n",
    "            rsidlist.append(rsid)\n",
    "            bplist.append(bppos)\n",
    "            pvallist.append(pval)\n",
    "    return rsidlist, pvallist, bplist\n",
    "\n",
    "def read_tejaas_all_chrom(filefmt, chrmlist):\n",
    "    gwrsids = list()\n",
    "    gwpvals = list()\n",
    "    gwnsnps = dict()\n",
    "    gwbppos = dict()\n",
    "    \n",
    "    for chrm in chrmlist:\n",
    "        filepath = filefmt.format(chrm)\n",
    "        rsids, pvals, bplist = read_tejaas(filepath)\n",
    "        gwrsids += rsids\n",
    "        gwpvals += pvals\n",
    "        gwnsnps[chrm] = len(rsids)\n",
    "        gwbppos[chrm] = np.array(bplist)\n",
    "        \n",
    "    gwpvals = np.array(gwpvals)\n",
    "    \n",
    "    ## Sanity check of p-value\n",
    "    # Are there any nan p-values?\n",
    "    nan_mask = np.isnan(gwpvals)\n",
    "    if np.any(nan_mask):\n",
    "        print(f'SNPs with nan p-value: {np.sum(nan_mask)}')\n",
    "        gwpvals[np.where(nan_mask)[0]] = 1.0 ## just ignore this SNP\n",
    "        \n",
    "    # Are there any zero p-values\n",
    "    zero_mask = gwpvals == 0\n",
    "    if np.any(zero_mask):\n",
    "        print(f'SNPs with zero p-value: {np.sum(zero_mask)}')\n",
    "        gwpvals[np.where(zero_mask)[0]] = np.min(gwpvals[~zero_mask])    \n",
    "    \n",
    "    #pmax  = np.max(gwpvals[np.where(gwpvals > 0)])\n",
    "    #nonzero_pvals = gwpvals.copy()\n",
    "    #nonzero_pvals[np.where(gwpvals == 0)] = pmax\n",
    "    \n",
    "    return gwrsids, gwnsnps, gwbppos, gwpvals"
   ]
  },
  {
   "cell_type": "markdown",
   "metadata": {},
   "source": [
    "#### Randomly selected SNPs\n",
    "\n",
    "Select `Nrand` random SNPs, and find the distance of their nearest transcription factors. The distribution of these distances `mindist_rand` would serve as a background.\n",
    "\n",
    "To check enrichment, we select 1000 SNPs and check the distance enrichment multiple times. "
   ]
  },
  {
   "cell_type": "code",
   "execution_count": 8,
   "metadata": {},
   "outputs": [],
   "source": [
    "snppos = dict()\n",
    "for chrm in chrmlist:\n",
    "    fname = os.path.join(snpdir, gtfile_fmt.format(chrm))\n",
    "    with open (fname, 'r') as instream:\n",
    "        first = next(instream).strip().split()[0]\n",
    "        for line in instream:\n",
    "            pass\n",
    "        last = line.strip().split()[0]\n",
    "    firstpos = int(first.split('_')[1])\n",
    "    lastpos = int(last.split('_')[1])\n",
    "    snppos[chrm] = list([firstpos, lastpos])"
   ]
  },
  {
   "cell_type": "code",
   "execution_count": 9,
   "metadata": {},
   "outputs": [],
   "source": [
    "def random_mindist(Nrand, snppos, chrmlist):\n",
    "    mindist_rand = list()\n",
    "    ratios = np.random.rand(len(chrmlist))\n",
    "    ndraws = [int(x) for x in np.around(Nrand * ratios / np.sum(ratios))]\n",
    "    for i, chrm in enumerate(chrmlist):\n",
    "        N = ndraws[i]\n",
    "        firstpos = snppos[chrm][0]\n",
    "        lastpos  = snppos[chrm][1]\n",
    "        rands = firstpos + np.random.rand(N) * (lastpos - firstpos)\n",
    "        selects = np.sort([int(x) for x in rands])\n",
    "        tfchrmlist = [x for x in tflist if x.chrom == chrm]\n",
    "        tfstarts = [x.start for x in tflist if x.chrom == chrm]\n",
    "        tfends = [x.end for x in tflist if x.chrom == chrm]\n",
    "        for spos in selects:\n",
    "            xmin = find_minimum_distance(spos, tfstarts, tfends)\n",
    "            mindist_rand.append(xmin / 1e6)\n",
    "    mindist_rand = np.array(mindist_rand)\n",
    "    return mindist_rand"
   ]
  },
  {
   "cell_type": "code",
   "execution_count": 10,
   "metadata": {},
   "outputs": [
    {
     "name": "stdout",
     "output_type": "stream",
     "text": [
      "Iteration 0. Fraction of SNPs with cis TFs = 0.1066\n",
      "Iteration 1. Fraction of SNPs with cis TFs = 0.12150486019440777\n",
      "Iteration 2. Fraction of SNPs with cis TFs = 0.11844\n",
      "Iteration 3. Fraction of SNPs with cis TFs = 0.12104726283577015\n",
      "Iteration 4. Fraction of SNPs with cis TFs = 0.15268\n",
      "Iteration 5. Fraction of SNPs with cis TFs = 0.12221511139554418\n",
      "Iteration 6. Fraction of SNPs with cis TFs = 0.11141331520108794\n",
      "Iteration 7. Fraction of SNPs with cis TFs = 0.11085778284434311\n",
      "Iteration 8. Fraction of SNPs with cis TFs = 0.11286\n",
      "Iteration 9. Fraction of SNPs with cis TFs = 0.11699532018719251\n",
      "Fraction of cis TFs for randomly selected SNPs:  0.1195\n"
     ]
    }
   ],
   "source": [
    "Niter = 10\n",
    "tf_frac_rand = 0\n",
    "for i in range(Niter):\n",
    "    mindist_rand = random_mindist(Nrand, snppos, chrmlist)\n",
    "    this_tf_frac = np.sum(np.abs(mindist_rand) <= cis_window) / mindist_rand.shape[0]\n",
    "    print(f'Iteration {i}. Fraction of SNPs with cis TFs = {this_tf_frac}')\n",
    "    tf_frac_rand += this_tf_frac\n",
    "tf_frac_rand /= Niter\n",
    "\n",
    "print(f'Fraction of cis TFs for randomly selected SNPs: {tf_frac_rand :7.4f}')"
   ]
  },
  {
   "cell_type": "code",
   "execution_count": 11,
   "metadata": {},
   "outputs": [
    {
     "name": "stdout",
     "output_type": "stream",
     "text": [
      "Iteration 0\n",
      "Iteration 100\n",
      "Iteration 200\n",
      "Iteration 300\n",
      "Iteration 400\n",
      "Iteration 500\n",
      "Iteration 600\n",
      "Iteration 700\n",
      "Iteration 800\n",
      "Iteration 900\n"
     ]
    }
   ],
   "source": [
    "Niter = 1000\n",
    "Ncheck = 1000\n",
    "\n",
    "enrichment_rand = list()\n",
    "for i in range(Niter):\n",
    "    if i % 100 == 0:\n",
    "        print(f'Iteration {i}')\n",
    "    tfdist_rand = random_mindist(Ncheck, snppos, chrmlist)\n",
    "    this_tf_frac = np.where(np.abs(tfdist_rand) < cis_window)[0].shape[0] / Ncheck\n",
    "    this_tf_enrichment = this_tf_frac / tf_frac_rand\n",
    "    enrichment_rand.append(this_tf_enrichment)\n",
    "    \n",
    "enrichment_rand = np.array(enrichment_rand)"
   ]
  },
  {
   "cell_type": "code",
   "execution_count": 12,
   "metadata": {},
   "outputs": [
    {
     "data": {
      "image/png": "[encoded data removed]",
      "text/plain": [
       "<Figure size 432x432 with 1 Axes>"
      ]
     },
     "metadata": {
      "needs_background": "light"
     },
     "output_type": "display_data"
    }
   ],
   "source": [
    "fig = plt.figure(figsize = (6, 6))\n",
    "ax1 = fig.add_subplot(111)\n",
    "\n",
    "ax1.hist(enrichment_rand)\n",
    "ax1.set_xlabel('Enrichment')\n",
    "plt.tight_layout()\n",
    "plt.show()"
   ]
  },
  {
   "cell_type": "markdown",
   "metadata": {},
   "source": [
    "#### Trans-eQTLs discovered by TEJAAS"
   ]
  },
  {
   "cell_type": "code",
   "execution_count": 13,
   "metadata": {},
   "outputs": [
    {
     "name": "stdout",
     "output_type": "stream",
     "text": [
      "SNPs with zero p-value: 30\n",
      "ms: 3087 trans-eQTLs\n",
      "at: 788 trans-eQTLs\n",
      "SNPs with zero p-value: 25\n",
      "thy: 2294 trans-eQTLs\n",
      "SNPs with zero p-value: 2\n",
      "nt: 1576 trans-eQTLs\n",
      "SNPs with zero p-value: 10\n",
      "snse: 1173 trans-eQTLs\n",
      "SNPs with zero p-value: 6\n",
      "lu: 955 trans-eQTLs\n",
      "SNPs with nan p-value: 1\n",
      "av: 435 trans-eQTLs\n",
      "SNPs with nan p-value: 5\n",
      "br: 610 trans-eQTLs\n",
      "SNPs with nan p-value: 8\n",
      "hlv: 280 trans-eQTLs\n",
      "SNPs with nan p-value: 33\n",
      "SNPs with zero p-value: 89\n",
      "aa: 3289 trans-eQTLs\n",
      "SNPs with nan p-value: 15\n",
      "haa: 0 trans-eQTLs\n",
      "SNPs with nan p-value: 11\n",
      "SNPs with zero p-value: 6\n",
      "colt: 1888 trans-eQTLs\n",
      "SNPs with zero p-value: 11\n",
      "as: 1329 trans-eQTLs\n",
      "SNPs with zero p-value: 13\n",
      "sse: 315 trans-eQTLs\n"
     ]
    }
   ],
   "source": [
    "transeqtls = dict()\n",
    "\n",
    "for tissue in tissuelist:\n",
    "    filefmt = f'{resdir}/{tissue}/tejaas/{tejaas_preproc}/{tejaas_method_variant}/chr' + \"{:d}\" + f'/{rrfile}'\n",
    "    gwrsids, gwnsnps, gwbppos, gwpvals = read_tejaas_all_chrom(filefmt, chrmlist)   \n",
    "    gwlog10pvals = -np.log10(gwpvals)\n",
    "    nchoose = np.where(gwlog10pvals >= log10cutoff)[0]\n",
    "    transeqtls[tissue] = [gwrsids[i] for i in nchoose]\n",
    "    print(f'{tissue}: {len(transeqtls[tissue])} trans-eQTLs')"
   ]
  },
  {
   "cell_type": "markdown",
   "metadata": {},
   "source": [
    "#### Add the eQTLgen results"
   ]
  },
  {
   "cell_type": "code",
   "execution_count": 14,
   "metadata": {},
   "outputs": [],
   "source": [
    "eqtlgen_resfile = '/scratch/sbanerj/from_franco/EQTLgen/eqtlgen_signif_SNPs_uniq_rsid_chr_pos.txt'\n",
    "\n",
    "if not 'eqtlgen' in tshorts:\n",
    "    tshorts += ['eqtlgen']\n",
    "    tfulls += ['EQTLGen']\n",
    "    transeqtls['eqtlgen'] = list()\n",
    "    tissuelist += ['eqtlgen']\n",
    "\n",
    "    with open(eqtlgen_resfile, 'r') as infile:\n",
    "        for line in infile:\n",
    "            linesplit = line.strip().split()\n",
    "            chrm = int(linesplit[1].strip())\n",
    "            pos = linesplit[2].strip()\n",
    "            var_id = f'chr{chrm}_{pos}_eqtlgen'\n",
    "            if chrm in chrmlist:\n",
    "                transeqtls['eqtlgen'].append(var_id)\n",
    "    tissue_names['eqtlgen'] = 'EQTLGen'\n",
    "    tissue_colors['eqtlgen'] = 'gray'"
   ]
  },
  {
   "cell_type": "code",
   "execution_count": 15,
   "metadata": {},
   "outputs": [],
   "source": [
    "mindist = dict()\n",
    "\n",
    "for tissue in tissuelist:\n",
    "    mindist[tissue] = list()\n",
    "    for teqtl in transeqtls[tissue]:\n",
    "        chrm = int(teqtl.split('_')[0][3:])\n",
    "        spos = int(teqtl.split('_')[1])\n",
    "        firstpos = snppos[chrm][0]\n",
    "        lastpos  = snppos[chrm][1]\n",
    "        tfchrmlist = [x for x in tflist if x.chrom == chrm]\n",
    "        tfstarts = [x.start for x in tflist if x.chrom == chrm]\n",
    "        tfends = [x.end for x in tflist if x.chrom == chrm]\n",
    "        xmin = find_minimum_distance(spos, tfstarts, tfends)\n",
    "        mindist[tissue].append(xmin / 1e6)"
   ]
  },
  {
   "cell_type": "code",
   "execution_count": null,
   "metadata": {},
   "outputs": [],
   "source": [
    "fig = plt.figure(figsize = (8, 8))\n",
    "ax1 = fig.add_subplot(111)\n",
    "\n",
    "data = list()\n",
    "data.append(mindist_rand)\n",
    "for tissue in tissuelist:\n",
    "    data.append(mindist[tissue])\n",
    "\n",
    "ax1.boxplot(data, showfliers=False)\n",
    "#ax1.set_xticklabels(['Random', 'Adipose', 'Skin'])\n",
    "\n",
    "ax1.set_ylabel('Distance (in MB) from nearest TF')\n",
    "plt.tight_layout()\n",
    "plt.show()"
   ]
  },
  {
   "cell_type": "code",
   "execution_count": 18,
   "metadata": {},
   "outputs": [
    {
     "data": {
      "image/png": "[encoded data removed]",
      "text/plain": [
       "<Figure size 1080x864 with 1 Axes>"
      ]
     },
     "metadata": {
      "needs_background": "light"
     },
     "output_type": "display_data"
    }
   ],
   "source": [
    "objects = list()\n",
    "performance = list()\n",
    "significance = list()\n",
    "bar_colors = list()\n",
    "\n",
    "for tshort in tshorts:\n",
    "    if tshort in tissuelist:\n",
    "        nteqtl = len(transeqtls[tshort])\n",
    "        if nteqtl > 0:\n",
    "            tf_frac_tissue = len([x for x in mindist[tshort] if abs(x) <= cis_window]) / nteqtl\n",
    "            tf_enrichment = tf_frac_tissue / tf_frac_rand\n",
    "            tf_enrichment_pval = (np.sum(enrichment_rand >= tf_enrichment) + 1) / (enrichment_rand.shape[0] + 1)\n",
    "            \n",
    "            objects.append(tissue_names[tshort])\n",
    "            performance.append(tf_enrichment - 1.0)\n",
    "            if tf_enrichment_pval <= 0.001:\n",
    "                significance.append('***')\n",
    "            elif tf_enrichment_pval <= 0.01:\n",
    "                significance.append('**')\n",
    "            elif tf_enrichment_pval <= 0.05:\n",
    "                significance.append('*')\n",
    "            else:\n",
    "                significance.append('')\n",
    "            bar_colors.append(tissue_colors[tshort])\n",
    "\n",
    "        \n",
    "\n",
    "fig = plt.figure(figsize = (15, 12))\n",
    "ax1 = fig.add_subplot(111)\n",
    "\n",
    "y_pos = np.arange(len(objects))\n",
    "bar1 = ax1.barh(y_pos, performance, align='center', color = bar_colors, linewidth = 0, height = 0.6)\n",
    "\n",
    "ax1.set_yticks(y_pos)\n",
    "ax1.set_yticklabels(objects)\n",
    "ax1.set_xlabel('TF Enrichment')\n",
    "xmax = np.around(np.max(performance) + 0.05, decimals = 1)\n",
    "xmin = np.around(np.min(performance) - 0.05, decimals = 1)\n",
    "ax1.set_xlim([xmin, xmax])\n",
    "\n",
    "ax1.tick_params(bottom = True, top = False, left = False, right = False, labelleft = True, labelbottom = True)\n",
    "for side, border in ax1.spines.items():\n",
    "    if not side == 'bottom':\n",
    "        border.set_visible(False)\n",
    "        \n",
    "# Add p-values beside the bars\n",
    "for i, rect in enumerate(bar1):\n",
    "    width = rect.get_width()\n",
    "    xpos = rect.get_width() + 0.02\n",
    "    ypos = rect.get_y() + rect.get_height() / 2.0\n",
    "    ax1.text(xpos, ypos, f'{significance[i]}', ha='left', va='center')\n",
    "\n",
    "fig.canvas.draw()\n",
    "xticklabels = [f'{x.get_position()[0] + 1 :3.1f}' for x in ax1.get_xticklabels()]\n",
    "ax1.set_xticklabels(xticklabels)\n",
    "\n",
    "outfile = \"../plots/tf_enrichment_100kb.png\"\n",
    "plt.savefig(outfile, bbox_inches='tight')\n",
    "plt.show()"
   ]
  },
  {
   "cell_type": "code",
   "execution_count": null,
   "metadata": {},
   "outputs": [],
   "source": [
    "from scipy.interpolate import interp1d\n",
    "\n",
    "fig = plt.figure(figsize = (12, 5))\n",
    "ax1 = fig.add_subplot(121)\n",
    "ax2 = fig.add_subplot(122)\n",
    "\n",
    "xmax = np.around(np.max(mindist_rand))\n",
    "xmin = np.around(np.min(mindist_rand))\n",
    "bins = np.linspace(xmin, xmax, 50)\n",
    "xbin = [(bins[i] + bins[i+1]) / 2 for i in range(bins.shape[0] - 1)] # centers of the bins\n",
    "x = np.linspace(xbin[0], xbin[-1], 500)\n",
    "yfreq, _ = np.histogram(mindist_rand, bins = bins, density = True)\n",
    "#yfreq = yhist / len(mindist)\n",
    "fy = interp1d(xbin, yfreq, kind = 'cubic')\n",
    "y = fy(x)\n",
    "ax1.plot(x, y, alpha = 1)\n",
    "ax2.plot(x, y, alpha = 1)\n",
    "\n",
    "\n",
    "#ax1.hist(mindist_rand, bins = 100, density = True, alpha = 0.5)\n",
    "ax1.hist(mindist[tissuelist[0]], bins = 50, density = True, alpha = 0.5)\n",
    "ax1.set_title(tissuelist[0])\n",
    "\n",
    "#ax2.hist(mindist_rand, bins = 100, density = True, alpha = 0.5)\n",
    "ax2.hist(mindist[tissuelist[2]], bins = 50, density = True, alpha = 0.5)\n",
    "ax2.set_title(tissuelist[2])\n",
    "\n",
    "plt.tight_layout()\n",
    "plt.show()"
   ]
  }
 ],
 "metadata": {
  "kernelspec": {
   "display_name": "Python 3",
   "language": "python",
   "name": "python3"
  },
  "language_info": {
   "codemirror_mode": {
    "name": "ipython",
    "version": 3
   },
   "file_extension": ".py",
   "mimetype": "text/x-python",
   "name": "python",
   "nbconvert_exporter": "python",
   "pygments_lexer": "ipython3",
   "version": "3.6.8"
  }
 },
 "nbformat": 4,
 "nbformat_minor": 2
}
