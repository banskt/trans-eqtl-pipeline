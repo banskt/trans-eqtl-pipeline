{
 "cells": [
  {
   "cell_type": "code",
   "execution_count": 5,
   "metadata": {},
   "outputs": [
    {
     "name": "stdout",
     "output_type": "stream",
     "text": [
      "gtex-ms tejaas_rand norm 1 2 3 4 5 6 7 8 9 10 11 12 13 14 15 16 17 18 19 20 21 22 \n"
     ]
    }
   ],
   "source": [
    "import sys, os\n",
    "import numpy as np\n",
    "\n",
    "def tejaas(filepath, chrom):\n",
    "    res = list()\n",
    "    with open(filepath, 'r') as mfile:\n",
    "        next(mfile)\n",
    "        for line in mfile:\n",
    "            arr   = line.strip().split(\"\\t\")\n",
    "            rsid  = arr[0]\n",
    "            res.append(rsid)\n",
    "    return res\n",
    "\n",
    "def write_snpnexus(snp_ids, outfile):\n",
    "    with open(outfile, 'w') as outstream:\n",
    "        for s in snp_ids:\n",
    "            outstream.write(\"dbsnp\\t{:s}\\n\".format(s))\n",
    "    return\n",
    "        \n",
    "\n",
    "datadir = \"/cbscratch/franco/trans-eqtl/dev-pipeline/gtex_v6_norm\"\n",
    "chrms = np.arange(1,23)\n",
    "tissues = [\"gtex-ms\"]\n",
    "expressions = [\"norm\"] \n",
    "sbs = [\"0.05\"]\n",
    "methods = [\"tejaas_rand\"]\n",
    "for sb in sbs:\n",
    "    for expr in expressions:\n",
    "        for tissue in tissues:\n",
    "            snp_res = list()\n",
    "            for method in methods:\n",
    "                print(tissue, method, expr, end=\" \")\n",
    "                for chrom in chrms:\n",
    "                    print(chrom, end=\" \")\n",
    "                    inputfile = os.path.join(datadir,expr,tissue,method,\"permnull_sb\"+sb,\"chr\"+str(chrom),\"rr.txt.top2000\")\n",
    "                    snp_res += tejaas(inputfile, chrom)\n",
    "                print(\"\")\n",
    "            outfile = os.path.join(datadir,expr,tissue,method,\"permnull_sb\"+sb, \"top_snps_snpnexus.txt\")\n",
    "            write_snpnexus(snp_res, outfile)\n",
    "            "
   ]
  }
 ],
 "metadata": {
  "kernelspec": {
   "display_name": "Python 3",
   "language": "python",
   "name": "python3"
  },
  "language_info": {
   "codemirror_mode": {
    "name": "ipython",
    "version": 3
   },
   "file_extension": ".py",
   "mimetype": "text/x-python",
   "name": "python",
   "nbconvert_exporter": "python",
   "pygments_lexer": "ipython3",
   "version": "3.6.7"
  }
 },
 "nbformat": 4,
 "nbformat_minor": 2
}
