{
 "cells": [
  {
   "cell_type": "code",
   "execution_count": 1,
   "metadata": {},
   "outputs": [],
   "source": [
    "import numpy as np\n",
    "import pandas as pd\n",
    "import collections\n",
    "import gzip\n",
    "\n",
    "from sklearn.decomposition import PCA\n",
    "from scipy import stats\n",
    "\n",
    "import matplotlib.pyplot as plt\n",
    "#plt.switch_backend('agg')\n",
    "import matplotlib\n",
    "import sys\n",
    "sys.path.append('../../')\n",
    "from utils import mpl_stylesheet\n",
    "mpl_stylesheet.banskt_presentation(fontfamily = 'latex-clearsans', fontsize = 18, colors = 'banskt', dpi = 72)"
   ]
  },
  {
   "cell_type": "code",
   "execution_count": 2,
   "metadata": {},
   "outputs": [],
   "source": [
    "f_gx_qn= \"/scratch/sbanerj/trans-eqtl/input/gtex/expression/gtex_protein_coding_normalized_esom.txt\"\n",
    "f_rpkm = \"/scratch/sbanerj/trans-eqtl/input/gtex/preprocess_gx/rpkms/esom_rpkm.gct\"\n",
    "f_vcf = \"/scratch/sbanerj/trans-eqtl/input/gtex/genotype/all_samples/GTEx_v6_imput_info04_HWEp1E6_PASS_dbSNP135_maf1_noindels_noambig_chr5.vcf.gz\""
   ]
  },
  {
   "cell_type": "code",
   "execution_count": 3,
   "metadata": {},
   "outputs": [],
   "source": [
    "SNPINFO_FIELDS = ['chrom', 'varid', 'bp_pos', 'ref_allele', 'alt_allele', 'maf']\n",
    "class SnpInfo(collections.namedtuple('_SnpInfo', SNPINFO_FIELDS)):\n",
    "    __slots__ = ()\n",
    "\n",
    "\n",
    "def read_gtex(filename): # returns N x G gene expression\n",
    "    expr_list = list()\n",
    "    donor_list = list()\n",
    "    gene_list = list()\n",
    "    with open(filename) as mfile:\n",
    "        donor_list = mfile.readline().strip().split(\"\\t\")[1:]\n",
    "        for line in mfile:\n",
    "            linesplit = line.strip().split(\"\\t\")\n",
    "            gene = linesplit[0].strip()\n",
    "            gene_list.append(gene)\n",
    "            expr = np.array([float(x) for x in linesplit[1:]])\n",
    "            expr_list.append(expr)\n",
    "    expr = np.transpose(np.array(expr_list))\n",
    "    return expr, donor_list, gene_list\n",
    "\n",
    "def read_vcf(filename, startsnp, endsnp):\n",
    "    dosage = list()\n",
    "    snpinfo = list()\n",
    "    linenum = 0\n",
    "    with gzip.open(filename, 'r') as vcf:\n",
    "        for line in vcf:\n",
    "            linestrip = line.decode().strip()\n",
    "            if linestrip[:2] == '##': continue\n",
    "            if linestrip[:6] == '#CHROM':\n",
    "                linesplit = linestrip.split(\"\\t\")\n",
    "                donor_ids = linesplit[9:]\n",
    "            else:\n",
    "                if linenum >= startsnp and linenum < endsnp:\n",
    "                    linesplit = linestrip.split(\"\\t\")\n",
    "                    chrom = int(linesplit[0])\n",
    "                    pos   = int(linesplit[1])\n",
    "                    varid = linesplit[2]\n",
    "                    ref   = linesplit[3]\n",
    "                    alt   = linesplit[4]\n",
    "\n",
    "                    dsindx = linesplit[8].split(':').index(\"DS\")\n",
    "                    ds = [x.split(':')[dsindx] for x in linesplit[9:]]\n",
    "                    gtindx = linesplit[8].split(':').index(\"GT\")\n",
    "                    for i, x in enumerate(ds):\n",
    "                        if x == \".\":\n",
    "                            gt = linesplit[9+i].split(':')[gtindx]\n",
    "                            if len(gt) == 3 and gt[0] != \".\" and gt[2] != \".\":\n",
    "                                ds[i] = float(int(gt[0]) + int(gt[2]))\n",
    "\n",
    "                    ds_notna = [float(x) for x in ds if x != \".\"]\n",
    "                    freq = sum(ds_notna) / 2 / len(ds_notna)\n",
    "                    maf = freq\n",
    "                    snpdosage = [float(x) if x != '.' else 2 * freq for x in ds]\n",
    "\n",
    "                    this_snp = SnpInfo(chrom      = chrom,\n",
    "                                       bp_pos     = pos,\n",
    "                                       varid      = varid,\n",
    "                                       ref_allele = ref,\n",
    "                                       alt_allele = alt,\n",
    "                                       maf        = maf)\n",
    "\n",
    "                    dosage.append(snpdosage)\n",
    "                    snpinfo.append(this_snp)\n",
    "                linenum += 1\n",
    "\n",
    "    return np.array(dosage), snpinfo, donor_ids\n",
    "\n",
    "\n",
    "def normalize_expr(Y): # requires G x N input expression, returns G x N\n",
    "    newY = (Y - np.mean(Y, axis = 1).reshape(-1, 1)) / np.std(Y, axis = 1).reshape(-1, 1)\n",
    "    return newY\n",
    "\n",
    "def select_donors(vcf_donors, expr_donors):\n",
    "    ''' Make sure that donors are in the same order for both expression and genotype\n",
    "    '''\n",
    "    common_donors = [x for x in vcf_donors if x in expr_donors]\n",
    "    vcfmask = np.array([vcf_donors.index(x) for x in common_donors])\n",
    "    exprmask = np.array([expr_donors.index(x) for x in common_donors])\n",
    "    return vcfmask, exprmask\n",
    "\n",
    "#def normalize_and_center_dosage(dosage, snpinfo):\n",
    "def normalize_and_center_dosage(dosage):\n",
    "    #f = [snp.maf for snp in snpinfo]\n",
    "    #f = np.array(f).reshape(-1, 1)\n",
    "    gtcent = dosage - np.mean(dosage, axis = 1).reshape(-1, 1)\n",
    "    return gtcent\n",
    "\n",
    "def read_gct(gct_file, donor_ids, gene_names):\n",
    "    \"\"\"\n",
    "    Load GCT as DataFrame\n",
    "    \"\"\"\n",
    "    df = pd.read_csv(gct_file, sep='\\t', skiprows=2, index_col=0)\n",
    "    df.drop('Description', axis=1, inplace=True)\n",
    "    df.index.name = 'gene_id'\n",
    "    df.columns = ['-'.join(x.split('-')[:2]) for x in df.columns]\n",
    "    df_donorsorted = df[donor_ids]\n",
    "    df_donorsorted_genesorted = df_donorsorted.loc[gene_names]\n",
    "    #df = df[[x for x in df.columns if x in donor_ids]]\n",
    "    return df_donorsorted_genesorted"
   ]
  },
  {
   "cell_type": "code",
   "execution_count": 4,
   "metadata": {},
   "outputs": [],
   "source": [
    "gtfull, snp_info, gt_donors = read_vcf(f_vcf, 0, 3)"
   ]
  },
  {
   "cell_type": "code",
   "execution_count": 5,
   "metadata": {},
   "outputs": [],
   "source": [
    "gx_qn, gx_donors, gene_names = read_gtex(f_gx_qn) # reads N x G gene expression"
   ]
  },
  {
   "cell_type": "code",
   "execution_count": 6,
   "metadata": {},
   "outputs": [],
   "source": [
    "expression_df = read_gct(f_rpkm, gx_donors, gene_names) # returns G x N gene expression\n",
    "gx_rpkm = np.array(expression_df).T"
   ]
  },
  {
   "cell_type": "code",
   "execution_count": 7,
   "metadata": {},
   "outputs": [
    {
     "name": "stdout",
     "output_type": "stream",
     "text": [
      "(241, 15952)\n",
      "(241, 15952)\n"
     ]
    }
   ],
   "source": [
    "print(gx_qn.shape)\n",
    "print(gx_rpkm.shape)"
   ]
  },
  {
   "cell_type": "code",
   "execution_count": 8,
   "metadata": {},
   "outputs": [],
   "source": [
    "nsample = gx_qn.shape[0]\n",
    "ngene = gx_qn.shape[1]"
   ]
  },
  {
   "cell_type": "code",
   "execution_count": 9,
   "metadata": {},
   "outputs": [],
   "source": [
    "gx_qn_nomask = normalize_expr(gx_qn.T) / np.sqrt(nsample)"
   ]
  },
  {
   "cell_type": "code",
   "execution_count": 10,
   "metadata": {},
   "outputs": [
    {
     "data": {
      "text/plain": [
       "(3, 450)"
      ]
     },
     "execution_count": 10,
     "metadata": {},
     "output_type": "execute_result"
    }
   ],
   "source": [
    "gtfull.shape"
   ]
  },
  {
   "cell_type": "code",
   "execution_count": 11,
   "metadata": {},
   "outputs": [],
   "source": [
    "vcfmask, exprmask = select_donors(gt_donors, gx_donors)\n",
    "gx_qn_norm = gx_qn_nomask[:, exprmask] # G x N\n",
    "gx_rpkm_sort = gx_rpkm[exprmask, :] # N x G\n",
    "gt_sort = gtfull[:, vcfmask]\n",
    "gt_cent = normalize_and_center_dosage(gt_sort)\n",
    "\n",
    "# gt = normalize_and_center_dosage(gtfull[:, vcfmask], snp_info)\n",
    "# sigmax2 = np.var(gt, axis = 1)\n",
    "# print(sigmax2)"
   ]
  },
  {
   "cell_type": "code",
   "execution_count": 12,
   "metadata": {},
   "outputs": [
    {
     "name": "stdout",
     "output_type": "stream",
     "text": [
      "Original dimension:  (241, 15952)\n",
      "Reduced dimension:  (241, 200)\n"
     ]
    }
   ],
   "source": [
    "pca = PCA(n_components=200)\n",
    "print(\"Original dimension: \", gx_rpkm_sort.shape)\n",
    "pca.fit(gx_rpkm_sort) # requires N x G\n",
    "gx_rpkm_pca = pca.transform(gx_rpkm_sort)\n",
    "print(\"Reduced dimension: \", gx_rpkm_pca.shape)\n",
    "\n",
    "def gene_distance(a, b):\n",
    "    return np.linalg.norm(a - b)\n",
    "\n",
    "distance_matrix = np.zeros((nsample, nsample))\n",
    "for i in range(nsample):\n",
    "    for j in range(i+1, nsample):\n",
    "        dist = gene_distance(gx_rpkm_pca[i,:], gx_rpkm_pca[j,:])\n",
    "        distance_matrix[i, j] = dist\n",
    "        distance_matrix[j, i] = dist\n",
    "\n",
    "kneighbor = 30\n",
    "gx_knn = np.zeros_like(gx_rpkm_sort)\n",
    "gt_knn = np.zeros_like(gt_sort)\n",
    "\n",
    "for i in range(nsample):\n",
    "    #neighbors = np.argsort(distance_matrix[i, :kneighbor + 1])\n",
    "    neighbors = np.argsort(distance_matrix[i, :])[:kneighbor + 1][1:]\n",
    "    gx_knn[i, :] = gx_rpkm_sort[i, :] - np.mean(gx_rpkm_sort[neighbors, :], axis = 0)\n",
    "    gt_knn[:, i] = gt_sort[:, i] - np.mean(gt_sort[:, neighbors[1:]], axis = 1)"
   ]
  },
  {
   "cell_type": "code",
   "execution_count": 13,
   "metadata": {},
   "outputs": [
    {
     "data": {
      "text/plain": [
       "(241, 15952)"
      ]
     },
     "execution_count": 13,
     "metadata": {},
     "output_type": "execute_result"
    }
   ],
   "source": [
    "gx_knn.shape"
   ]
  },
  {
   "cell_type": "code",
   "execution_count": 14,
   "metadata": {},
   "outputs": [
    {
     "data": {
      "text/plain": [
       "(241, 15952)"
      ]
     },
     "execution_count": 14,
     "metadata": {},
     "output_type": "execute_result"
    }
   ],
   "source": [
    "gx_qn.shape"
   ]
  },
  {
   "cell_type": "code",
   "execution_count": null,
   "metadata": {},
   "outputs": [],
   "source": [
    "gx_knn_norm = normalize_expr(gx_knn.T) / np.sqrt(nsample)\n",
    "gt_knn_cent = normalize_and_center_dosage(gt_knn)"
   ]
  },
  {
   "cell_type": "code",
   "execution_count": null,
   "metadata": {},
   "outputs": [],
   "source": [
    "def pvals_perm(GT, R, W):\n",
    "    mu2, mu4 = moment_data(GT)\n",
    "    N = GT.shape[1]\n",
    "    q11 = np.sum(W)\n",
    "    q2  = np.sum(np.diag(W))\n",
    "    muQ = mu2 * (N * q2 - q11) / (N - 1)\n",
    "\n",
    "    v31 = - mu4 / (N - 1)\n",
    "    v22 = v31 + (N * mu2 * mu2 / (N - 1)) #(N*(mu2**2) - mu4)/(N-1)\n",
    "    v211 = - (v31 + v22) / (N - 2)\n",
    "    v1111 = - 3 * v211 / (N - 3)\n",
    "\n",
    "    q31 = np.dot(np.diag(W),np.sum(W,axis = 1))\n",
    "    q4 = np.sum(np.square(np.diag(W)))\n",
    "    q22 = np.sum(np.square(W))\n",
    "    q211 = np.sum(np.square(np.sum(W,axis = 1)))\n",
    "\n",
    "    sigma2 = v1111*(q11**2 - 2*q2*q11 - 4*q211 + 8*q31 + 2*q22 + q2**2 - 6*q4) + 2*v211*(q2*q11 + 2*q211 - 6*q31 - 2*q22 - q2**2 + 6*q4) + v22*(q2**2 + 2*q22 - 3*q4) + 4*v31*(q31 - q4) + mu4*q4\n",
    "\n",
    "    sigma2 = sigma2 - muQ**2\n",
    "    sigmaQ = np.sqrt(sigma2)\n",
    "    p = 1 - stats.norm.cdf(R, loc=muQ, scale=sigmaQ)\n",
    "    return p, muQ, sigmaQ\n",
    "\n",
    "def moment_data(GT):   #GT ixN\n",
    "    GT2 = np.square(GT)\n",
    "    GT4 = np.square(GT2)\n",
    "    mu2 = np.mean(GT2)\n",
    "    mu4 = np.mean(GT4)\n",
    "    return mu2, mu4"
   ]
  },
  {
   "cell_type": "code",
   "execution_count": null,
   "metadata": {},
   "outputs": [],
   "source": [
    "## Shuffle 1000 times, and get Qscore\n",
    "\n",
    "def shuffle_and_plot(GX, GT, ax, label):\n",
    "    sigmabeta2 = 0.2 * 0.2\n",
    "    niter = 20000\n",
    "    sigmax2 = np.var(GT)\n",
    "    \n",
    "    Yt = GX.T\n",
    "    U, S, Vt = np.linalg.svd(Yt, full_matrices=False)\n",
    "    S2 = np.square(S)\n",
    "    S2mod = S2 + sigmax2 / sigmabeta2\n",
    "    mrank = len(np.where(S2 > 1)[0])\n",
    "\n",
    "    W = np.dot(U, np.dot(np.diag(S2 / S2mod), U.T)) / sigmax2\n",
    "    Qscore = np.sum(np.square(np.dot(U.T, GT)) * S2 / S2mod) / sigmax2\n",
    "    pval, muQ, sigmaQ = pvals_perm(GT.reshape(1, -1), Qscore, W)\n",
    "    \n",
    "    Qiter = np.zeros(niter)\n",
    "    permgt = GT.copy()\n",
    "    for i in range(niter):\n",
    "        np.random.shuffle(permgt)\n",
    "        Qiter[i] = np.sum(np.square(np.dot(U.T, permgt)) * S2 / S2mod) / sigmax2\n",
    "    \n",
    "    print(\"====== {:s} ======\".format(label))\n",
    "    print(\"Effective rank: {:d}\".format(mrank))\n",
    "    print(\"Keff: {:g}\".format(np.sum(S2 / S2mod)) )\n",
    "    print(\"First 4 singular values: {:g} {:g} {:g} {:g}\".format(S2[0], S2[1], S2[2], S2[3]))\n",
    "    print(\"Sx2 / Sb2: {:g}\".format(sigmax2 / sigmabeta2))\n",
    "    print(\"Qscore: {:g}\".format(Qscore))\n",
    "    print(\"muQ: {:g}\".format(muQ))\n",
    "    print(\"sigmaQ: {:g}\".format(sigmaQ))\n",
    "\n",
    "    \n",
    "    #xmax = np.max(Qiter) + 1.5 * sigmaQ\n",
    "    #xmin = np.min(Qiter) - 1.5 * sigmaQ\n",
    "    xmax = muQ + 4.0 * sigmaQ\n",
    "    xmin = muQ - 4.0 * sigmaQ\n",
    "    bins = np.linspace(xmin, xmax, 50)\n",
    "    xbin = [(bins[i] + bins[i+1]) / 2 for i in range(bins.shape[0] - 1)] # centers of the bins\n",
    "    x = np.linspace(xbin[0], xbin[-1], 100)\n",
    "    ax.hist(Qiter, bins = bins, density = True, alpha = 0.3, label = '{:d} iter'.format(niter))\n",
    "    \n",
    "    rv = stats.norm(loc = muQ, scale = sigmaQ)\n",
    "    ax.plot(x, rv.pdf(x), label = 'analytical')\n",
    "    \n",
    "    ax.set_title(label)\n",
    "    \n",
    "    return Qiter\n",
    "    \n",
    "fig = plt.figure(figsize = (14, 6))\n",
    "ax1 = fig.add_subplot(121)\n",
    "ax2 = fig.add_subplot(122)\n",
    "Qiter = shuffle_and_plot(gx_qn_norm, gt_cent[0, :], ax1, \"Normalized gene expression\")\n",
    "Qiter_knn = shuffle_and_plot(gx_knn_norm, gt_knn_cent[0, :], ax2, \"After KNN correction\")\n",
    "ax1.legend()\n",
    "ax2.legend()\n",
    "plt.tight_layout()\n",
    "#plt.savefig('../plots/PCA_correction_random_gene_expression.png')\n",
    "plt.show()"
   ]
  },
  {
   "cell_type": "code",
   "execution_count": null,
   "metadata": {},
   "outputs": [],
   "source": []
  }
 ],
 "metadata": {
  "kernelspec": {
   "display_name": "Python 3",
   "language": "python",
   "name": "python3"
  },
  "language_info": {
   "codemirror_mode": {
    "name": "ipython",
    "version": 3
   },
   "file_extension": ".py",
   "mimetype": "text/x-python",
   "name": "python",
   "nbconvert_exporter": "python",
   "pygments_lexer": "ipython3",
   "version": "3.6.8"
  }
 },
 "nbformat": 4,
 "nbformat_minor": 2
}
