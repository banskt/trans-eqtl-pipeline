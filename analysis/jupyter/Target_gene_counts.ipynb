{
 "cells": [
  {
   "cell_type": "code",
   "execution_count": 1,
   "metadata": {},
   "outputs": [
    {
     "name": "stdout",
     "output_type": "stream",
     "text": [
      "Mode v26\n"
     ]
    }
   ],
   "source": [
    "%load_ext autoreload\n",
    "%autoreload 2\n",
    "import sys\n",
    "import os\n",
    "sys.path.append('../')\n",
    "sys.path.append('/usr/users/fsimone/tejaas')\n",
    "import numpy as np\n",
    "from utils import readgtf\n",
    "\n",
    "geneinfo_dict = dict()\n",
    "gencode_file = \"/cbscratch/franco/datasets/GENCODE/gencode.v26.annotation.gtf.gz\"\n",
    "geneinfo = readgtf.gencode_v12(gencode_file, biotype = [\"protein_coding\", \"lncRNA\"])\n",
    "for i,g in enumerate(geneinfo):\n",
    "    geneinfo_dict[g.ensembl_id] = (i,g)"
   ]
  },
  {
   "cell_type": "code",
   "execution_count": 5,
   "metadata": {},
   "outputs": [],
   "source": [
    "from utils import utils\n",
    "import json\n",
    "json_file = \"../gtex_v8_metadata.json\"\n",
    "with open(json_file) as instream:\n",
    "    gtex_meta = json.load(instream)\n",
    "    \n",
    "tissue_file = \"/usr/users/fsimone/trans-eqtl-pipeline/analysis/plots/tissues.txt\"\n",
    "tissues, descriptions = utils.read_tissues(tissue_file)\n",
    "tissue_names   = dict()\n",
    "tissue_colors  = dict()\n",
    "tissue_samples = dict()\n",
    "for tshort, tfull in zip(tissues, descriptions):\n",
    "    tissue_names[tshort] = tfull\n",
    "    tissue_colors[tshort] = \"#\" + gtex_meta[tfull.replace(\" \", \"_\")][\"colorHex\"]\n",
    "    tissue_samples[tshort] = gtex_meta[tfull.replace(\" \", \"_\")][\"rnaSeqAndGenotypeSampleCount\"]"
   ]
  },
  {
   "cell_type": "code",
   "execution_count": 20,
   "metadata": {},
   "outputs": [],
   "source": [
    "import mpmath\n",
    "import collections\n",
    "mpmath.mp.dps = 50\n",
    "def pvalue(x): return float(mpmath.log10(1 - 0.5 * (1 + mpmath.erf(x/mpmath.sqrt(2)))))\n",
    "\n",
    "SNPRES_FIELDS = ['rsid', 'chrom', 'pos', 'logp', 'target', 'maf']\n",
    "class SNPRes(collections.namedtuple('_SNPRes', SNPRES_FIELDS)):\n",
    "    __slots__ = ()\n",
    "    \n",
    "def tejaas(filepath, mafcutoff=0.01):\n",
    "    res = list()\n",
    "    with open(filepath, 'r') as mfile:\n",
    "        next(mfile)\n",
    "        for line in mfile:\n",
    "            arr   = line.strip().split(\"\\t\")\n",
    "            rsid  = arr[0]\n",
    "            chrom = int(arr[1])\n",
    "            pos   = int(arr[2])\n",
    "            maf   = float(arr[3])\n",
    "            if maf < mafcutoff or maf > (1-mafcutoff):\n",
    "                continue\n",
    "            q     = float(arr[4])\n",
    "            mu    = float(arr[5])\n",
    "            sigma = float(arr[6])\n",
    "            p     = float(arr[7])\n",
    "            if sigma == 0:\n",
    "                continue\n",
    "            logp  = np.log10(p) if p != 0 else pvalue( (q - mu) / sigma)\n",
    "            res.append(SNPRes(rsid=rsid, chrom=chrom, pos=pos, logp=-logp, maf=maf, target=None))\n",
    "    return res\n",
    "\n",
    "def tejaas_targets(filepath):\n",
    "    res = collections.defaultdict(list)\n",
    "    with open(filepath, 'r') as mfile:\n",
    "        next(mfile)\n",
    "        for line in mfile:\n",
    "            arr   = line.strip().split(\"\\t\")\n",
    "            geneid  = arr[0]\n",
    "            snpid   = arr[1]\n",
    "            res[snpid].append(geneid)\n",
    "    return res\n",
    "\n",
    "def tejaas_targets_lasso(filepath):\n",
    "    res = collections.defaultdict(list)\n",
    "    with open(filepath, 'r') as mfile:\n",
    "        next(mfile)\n",
    "        for line in mfile:\n",
    "            arr   = line.strip().split(\"\\t\")\n",
    "            geneid  = arr[1]\n",
    "            snpid   = arr[0]\n",
    "            res[snpid].append(geneid)\n",
    "    return res"
   ]
  },
  {
   "cell_type": "code",
   "execution_count": 38,
   "metadata": {},
   "outputs": [],
   "source": [
    "basedir = \"/cbscratch/franco/trans-eqtl/dev-pipeline/gtex_v8_lncRNA_freeze/summary_5e-08\"\n",
    "lasso_basedir = \"/cbscratch/franco/trans-eqtl/dev-pipeline/gtex_v8_lncRNA_freeze/lasso_targets\"\n",
    "basedirLD = \"/cbscratch/franco/trans-eqtl/dev-pipeline/gtex_v8_lncRNA_freeze/summary_LD_5e-08\"\n",
    "\n",
    "SNPTARGET_FIELDS = ['rsid', 'targets', 'lasso_targets']\n",
    "class SNPTargets(collections.namedtuple('_SNPTargets', SNPTARGET_FIELDS)):\n",
    "    __slots__ = ()\n",
    "\n",
    "tissue_gene_counts = dict()\n",
    "tissue_targets    = collections.defaultdict(list) \n",
    "tissue_transeqtls = dict()\n",
    "for t in tissues:\n",
    "    targetgenes_file = os.path.join(basedir, t, \"tejaas\", \"target_genes.txt\")\n",
    "    targetlasso_file = os.path.join(lasso_basedir, \"target_genes_{:s}_knn.txt\".format(t))\n",
    "    transeqtl_file = os.path.join(basedir, t, \"tejaas\", \"trans_eqtls.txt\")\n",
    "    \n",
    "    if not os.path.exists(targetlasso_file):\n",
    "        continue\n",
    "    \n",
    "    transeqtls = tejaas(transeqtl_file)\n",
    "    tissue_transeqtls[t] = transeqtls\n",
    "    \n",
    "    targets       = tejaas_targets(targetgenes_file)\n",
    "    targets_lasso = tejaas_targets_lasso(targetlasso_file)\n",
    "    \n",
    "    for s in transeqtls:\n",
    "        tissue_targets[t].append(SNPTargets(rsid=s.rsid, targets=targets[s.rsid], lasso_targets=targets_lasso[s.rsid]))"
   ]
  },
  {
   "cell_type": "code",
   "execution_count": 39,
   "metadata": {},
   "outputs": [
    {
     "name": "stdout",
     "output_type": "stream",
     "text": [
      "dict_keys(['as', 'av', 'ag', 'aa', 'ac', 'at', 'bam', 'ban', 'bca', 'bceh', 'bce', 'bco', 'bfr', 'bhi', 'bhy', 'bnu', 'bpu', 'bsp', 'bsu', 'br', 'ebv', 'fib', 'cols', 'colt', 'esog', 'esom', 'esomu', 'hlv', 'kc', 'liv', 'lu', 'msg', 'ms', 'nt', 'pit', 'snse', 'sse', 'si', 'spl', 'sto', 'thy'])\n"
     ]
    }
   ],
   "source": [
    "print(tissue_targets.keys())"
   ]
  },
  {
   "cell_type": "code",
   "execution_count": 49,
   "metadata": {},
   "outputs": [
    {
     "name": "stdout",
     "output_type": "stream",
     "text": [
      "as\t1280\t58\n",
      "av\t671\t19\n",
      "ag\t349\t2\n",
      "aa\t2615\t8\n",
      "ac\t3479\t4\n",
      "at\t920\t26\n",
      "bam\t2598\t22\n",
      "ban\t2064\t13\n",
      "bca\t18\t2\n",
      "bceh\t157\t44\n",
      "bce\t49\t12\n",
      "bco\t76\t11\n",
      "bfr\t33\t1\n",
      "bhi\t108\t1\n",
      "bhy\t207\t1\n",
      "bnu\t663\t7\n",
      "bpu\t7\t0\n",
      "bsp\t86\t1\n",
      "bsu\t40\t2\n",
      "br\t841\t11\n",
      "ebv\t514\t5\n",
      "fib\t390\t5\n",
      "cols\t138\t2\n",
      "colt\t2198\t3\n",
      "esog\t30\t6\n",
      "esom\t90\t12\n",
      "esomu\t35\t0\n",
      "haa\t0\t0\n",
      "hlv\t437\t9\n",
      "kc\t17\t0\n",
      "liv\t83\t0\n",
      "lu\t907\t8\n",
      "msg\t4\t0\n",
      "ms\t4827\t1631\n",
      "nt\t1573\t88\n",
      "pan not in targets\n",
      "pan\t0\t0\n",
      "pit\t11\t0\n",
      "snse\t1411\t4\n",
      "sse\t642\t22\n",
      "si\t133\t0\n",
      "spl\t5\t2\n",
      "sto\t453\t2\n",
      "thy\t2658\t35\n",
      "wb not in targets\n",
      "wb\t0\t0\n",
      "ov not in targets\n",
      "ov\t0\t0\n",
      "pro not in targets\n",
      "pro\t0\t0\n",
      "tes not in targets\n",
      "tes\t0\t0\n",
      "ut\t0\t0\n",
      "va not in targets\n",
      "va\t0\t0\n",
      "bl not in targets\n",
      "bl\t0\t0\n"
     ]
    }
   ],
   "source": [
    "for t in tissues:\n",
    "    if t not in tissue_targets:\n",
    "        print(f\"{t} not in targets\")\n",
    "    no0_targets = np.sum([len(x.targets) > 0 for x in tissue_targets[t]])\n",
    "    no0_lasso_targets = np.sum([len(x.lasso_targets) > 0 for x in tissue_targets[t]])\n",
    "\n",
    "    # print(\"nº of SNPs with > 0 targets: {:d}/{:d}\".format(no0_targets, len(tissue_targets[t])))\n",
    "    # print(\"nº of SNPs with > 0 lasso targets: {:d}/{:d}\".format(no0_lasso_targets, len(tissue_targets[t])))\n",
    "    print(\"{:s}\\t{:d}\\t{:d}\".format(t, len(tissue_targets[t]),  int(len(tissue_targets[t])-no0_lasso_targets)))"
   ]
  },
  {
   "cell_type": "markdown",
   "metadata": {},
   "source": [
    "# Load trans-eQTLs dosages and gene expression"
   ]
  },
  {
   "cell_type": "code",
   "execution_count": 6,
   "metadata": {
    "scrolled": true
   },
   "outputs": [
    {
     "name": "stdout",
     "output_type": "stream",
     "text": [
      "all found!\n",
      "GT Sample selection 838 samples were retained from a total of 838 samples\n"
     ]
    }
   ],
   "source": [
    "from iotools.readRPKM import ReadRPKM\n",
    "from utils.readvcf_snp import ReadVCF\n",
    "from sklearn.decomposition import PCA\n",
    "\n",
    "def knn_correction(expr, dosage, K):\n",
    "    pca = PCA(n_components=min(expr.shape[0], expr.shape[1]))\n",
    "    pca.fit(expr) # requires N x G\n",
    "    expr_pca = pca.transform(expr)\n",
    "\n",
    "    def gene_distance(a, b):\n",
    "        return np.linalg.norm(a - b)\n",
    "\n",
    "    nsample = expr.shape[0]\n",
    "    distance_matrix = np.zeros((nsample, nsample))\n",
    "    for i in range(nsample):\n",
    "        for j in range(i+1, nsample):\n",
    "            dist = gene_distance(expr_pca[i,:], expr_pca[j,:])\n",
    "            distance_matrix[i, j] = dist\n",
    "            distance_matrix[j, i] = dist\n",
    "\n",
    "    kneighbor = K\n",
    "    gx_knn = np.zeros_like(expr)\n",
    "    gt_knn = np.zeros_like(dosage)\n",
    "    neighbor_list = list()\n",
    "\n",
    "    for i in range(nsample):\n",
    "        neighbors = np.argsort(distance_matrix[i, :])[:kneighbor + 1][1:]\n",
    "        gx_knn[i, :] = expr[i, :] - np.mean(expr[neighbors, :], axis = 0)\n",
    "        # noisy_neighbors = np.random.choice(neighbors, size = int(2 * kneighbor / 3), replace = False)\n",
    "        # noisy_neighbors = np.random.choice(neighbors, size = kneighbor, replace = True )\n",
    "        noisy_neighbors = neighbors\n",
    "        gt_knn[:, i] = dosage[:, i] - np.mean(dosage[:, noisy_neighbors], axis = 1)\n",
    "        neighbor_list.append(neighbors)\n",
    "\n",
    "    return gx_knn, gt_knn\n",
    "\n",
    "t = \"as\"\n",
    "vcf_file = \"/cbscratch/franco/datasets/gtex_v8/genotypes/vcfs_0.01/GTEX_v8_2019-07-29_WGS_838Indiv_Freeze_NoMissingGT_SNPfilter_MAF0.01_chr{:d}.vcf.gz\"\n",
    "fam_file = \"/cbscratch/franco/datasets/gtex_v8/genotypes/gtex_v8.sample\"\n",
    "gx_file  = \"/cbscratch/franco/trans-eqtl/new_preprocess_aug2019/gtex_v8/expression/tpms/{:s}_tpms_qcfilter.txt.protein_coding_lncRNA_filtered\"\n",
    "gx_file_cclm  = \"/cbscratch/franco/trans-eqtl/new_preprocess_aug2019/gtex_v8/expression/tmm/{:s}_tmm_cclm.txt.protein_coding_lncRNA_filtered\"\n",
    "\n",
    "rpkm = ReadRPKM(gx_file.format(t), \"gtex\", npca = 0)\n",
    "expression = rpkm.expression\n",
    "expr_donors = rpkm.donor_ids\n",
    "gene_names = rpkm.gene_names\n",
    "\n",
    "\n",
    "rpkm_cclm = ReadRPKM(gx_file_cclm.format(t), \"gtex\", npca = 0)\n",
    "expression_cclm = rpkm_cclm.expression\n",
    "\n",
    "chrm = 1\n",
    "snplist = [x.rsid for x in tissue_transeqtls[t] if x.rsid.startswith(\"chr\"+str(chrm)+\"_\")]\n",
    "vcf = ReadVCF(vcf_file.format(chrm), snplist=snplist, samplefile=fam_file)\n",
    "dosage = vcf.dosage\n",
    "gt_donor_ids = vcf.donor_ids\n",
    "snpinfo = vcf.snpinfo"
   ]
  },
  {
   "cell_type": "code",
   "execution_count": 7,
   "metadata": {},
   "outputs": [
    {
     "name": "stdout",
     "output_type": "stream",
     "text": [
      "(51, 838)\n",
      "(15761, 581)\n",
      "(15761, 581)\n"
     ]
    }
   ],
   "source": [
    "print(dosage.shape)\n",
    "print(expression.shape)\n",
    "print(expression_cclm.shape)"
   ]
  },
  {
   "cell_type": "code",
   "execution_count": 29,
   "metadata": {},
   "outputs": [],
   "source": [
    "def select_donors(vcf_donors, expr_donors):\n",
    "    ''' Make sure that donors are in the same order for both expression and genotype\n",
    "    '''\n",
    "    common_donors = [x for x in vcf_donors if x in expr_donors]\n",
    "    vcfmask = np.array([vcf_donors.index(x) for x in common_donors])\n",
    "    exprmask = np.array([expr_donors.index(x) for x in common_donors])\n",
    "    return vcfmask, exprmask\n",
    "\n",
    "def select_genes(info, names):\n",
    "    ''' Select genes which would be analyzed. \n",
    "        Make sure the indices are not mixed up\n",
    "    '''\n",
    "    allowed = [x.ensembl_id for x in info]\n",
    "    common  = [x for x in names if x in allowed]\n",
    "    genes = [x for x in info if x.ensembl_id in common]\n",
    "    indices = [names.index(x.ensembl_id) for x in genes]\n",
    "    return genes, np.array(indices)\n",
    "\n",
    "def normalize_and_center_dosage(dosage, snpinfo):\n",
    "    f = [snp.maf for snp in snpinfo]\n",
    "    f = np.array(f).reshape(-1, 1)\n",
    "    gtnorm = (dosage - (2 * f)) / np.sqrt(2 * f * (1 - f))\n",
    "    gtcent = dosage - np.mean(dosage, axis = 1).reshape(-1, 1)\n",
    "    return gtnorm, gtcent #rr uses gtcent\n",
    "\n",
    "vcfmask, exprmask = select_donors(gt_donor_ids, expr_donors)\n",
    "genes, indices = select_genes(geneinfo, gene_names) \n",
    "\n",
    "expr_cclm = expression_cclm[:, exprmask]\n",
    "expr      = expression[:, exprmask]\n",
    "gt        = dosage[:, vcfmask]\n",
    "\n",
    "gx_corr, gt_corr = knn_correction(expr.T, gt, K=30)\n",
    "gx_corr_norm = rpkm._normalize_expr(gx_corr.T)\n",
    "gt_corr_norm, gt_corr_cent = normalize_and_center_dosage(gt_corr, snpinfo)\n",
    "\n",
    "gt_norm, gt_cent = normalize_and_center_dosage(gt, snpinfo)\n",
    "\n",
    "gx_cclm_corr, gt_cclm_corr = knn_correction(expr_cclm.T, gt, K=30)\n",
    "gx_cclm_corr_norm = rpkm._normalize_expr(gx_cclm_corr.T)\n",
    "gt_cclm_corr_norm, gt_cclm_corr_cent = normalize_and_center_dosage(gt_cclm_corr, snpinfo)"
   ]
  },
  {
   "cell_type": "code",
   "execution_count": 12,
   "metadata": {},
   "outputs": [],
   "source": [
    "def reshape_masked_betas(b, mask, ngenes):\n",
    "    _b = b.reshape(1, ngenes-len(mask.rmv_id))\n",
    "    paddedBeta = np.zeros( (1, ngenes) )\n",
    "    inv_ind = np.delete(np.arange(ngenes), mask.rmv_id)\n",
    "    paddedBeta[:, inv_ind] = _b\n",
    "    return paddedBeta.reshape(-1)"
   ]
  },
  {
   "cell_type": "code",
   "execution_count": 18,
   "metadata": {},
   "outputs": [],
   "source": [
    "def write_target_genes(filehandle, rsid, target_genes):\n",
    "    line = \"{:s}\\t{:s}\\t{:g}\\n\"\n",
    "    for b, g in target_genes:\n",
    "        filehandle.write(line.format(rsid, g.ensembl_id, b))\n",
    "        \n",
    "def RR_Lasso(gx, gt, geneinfo, snp, filehandle):\n",
    "    lm = linear_model.LassoCV()\n",
    "    lm.fit(gx.T, gt)\n",
    "    reg_score = lm.score(gx.T, gt)\n",
    "    print(\"Score: {:g}\".format(reg_score))\n",
    "    betas_reshape = reshape_masked_betas(lm.coef_, mask, EXPR.shape[0])\n",
    "    target_gene_inds = np.where(np.abs(betas_reshape) > 0)\n",
    "    target_genes = [(betas_reshape[j], geneinfo[j]) for j in target_gene_inds[0]]\n",
    "    write_target_genes(outknn, snp.varid, target_genes)\n",
    "    return target_genes"
   ]
  },
  {
   "cell_type": "code",
   "execution_count": 58,
   "metadata": {},
   "outputs": [
    {
     "name": "stderr",
     "output_type": "stream",
     "text": [
      "/usr/users/fsimone/opt/miniconda/3/envs/env3.6/lib/python3.6/site-packages/sklearn/model_selection/_split.py:2053: FutureWarning: You should specify a value for 'cv' instead of relying on the default value. The default value will change from 3 to 5 in version 0.22.\n",
      "  warnings.warn(CV_WARNING, FutureWarning)\n"
     ]
    },
    {
     "name": "stdout",
     "output_type": "stream",
     "text": [
      "Score: 0.8462\n"
     ]
    },
    {
     "name": "stderr",
     "output_type": "stream",
     "text": [
      "/usr/users/fsimone/opt/miniconda/3/envs/env3.6/lib/python3.6/site-packages/sklearn/model_selection/_split.py:2053: FutureWarning: You should specify a value for 'cv' instead of relying on the default value. The default value will change from 3 to 5 in version 0.22.\n",
      "  warnings.warn(CV_WARNING, FutureWarning)\n"
     ]
    },
    {
     "name": "stdout",
     "output_type": "stream",
     "text": [
      "Score: 0.922157\n"
     ]
    },
    {
     "name": "stderr",
     "output_type": "stream",
     "text": [
      "/usr/users/fsimone/opt/miniconda/3/envs/env3.6/lib/python3.6/site-packages/sklearn/model_selection/_split.py:2053: FutureWarning: You should specify a value for 'cv' instead of relying on the default value. The default value will change from 3 to 5 in version 0.22.\n",
      "  warnings.warn(CV_WARNING, FutureWarning)\n"
     ]
    },
    {
     "name": "stdout",
     "output_type": "stream",
     "text": [
      "Score: 0.327757\n"
     ]
    },
    {
     "name": "stderr",
     "output_type": "stream",
     "text": [
      "/usr/users/fsimone/opt/miniconda/3/envs/env3.6/lib/python3.6/site-packages/sklearn/model_selection/_split.py:2053: FutureWarning: You should specify a value for 'cv' instead of relying on the default value. The default value will change from 3 to 5 in version 0.22.\n",
      "  warnings.warn(CV_WARNING, FutureWarning)\n",
      "/usr/users/fsimone/opt/miniconda/3/envs/env3.6/lib/python3.6/site-packages/sklearn/linear_model/coordinate_descent.py:492: ConvergenceWarning: Objective did not converge. You might want to increase the number of iterations. Fitting data with very small alpha may cause precision problems.\n",
      "  ConvergenceWarning)\n",
      "/usr/users/fsimone/opt/miniconda/3/envs/env3.6/lib/python3.6/site-packages/sklearn/model_selection/_split.py:2053: FutureWarning: You should specify a value for 'cv' instead of relying on the default value. The default value will change from 3 to 5 in version 0.22.\n",
      "  warnings.warn(CV_WARNING, FutureWarning)\n"
     ]
    },
    {
     "name": "stdout",
     "output_type": "stream",
     "text": [
      "Score: 0.999936\n",
      "Score: 0.377597\n"
     ]
    },
    {
     "name": "stderr",
     "output_type": "stream",
     "text": [
      "/usr/users/fsimone/opt/miniconda/3/envs/env3.6/lib/python3.6/site-packages/sklearn/model_selection/_split.py:2053: FutureWarning: You should specify a value for 'cv' instead of relying on the default value. The default value will change from 3 to 5 in version 0.22.\n",
      "  warnings.warn(CV_WARNING, FutureWarning)\n"
     ]
    },
    {
     "name": "stdout",
     "output_type": "stream",
     "text": [
      "Score: 0.989924\n"
     ]
    },
    {
     "name": "stderr",
     "output_type": "stream",
     "text": [
      "/usr/users/fsimone/opt/miniconda/3/envs/env3.6/lib/python3.6/site-packages/sklearn/model_selection/_split.py:2053: FutureWarning: You should specify a value for 'cv' instead of relying on the default value. The default value will change from 3 to 5 in version 0.22.\n",
      "  warnings.warn(CV_WARNING, FutureWarning)\n"
     ]
    },
    {
     "name": "stdout",
     "output_type": "stream",
     "text": [
      "Score: 0.889951\n"
     ]
    },
    {
     "name": "stderr",
     "output_type": "stream",
     "text": [
      "/usr/users/fsimone/opt/miniconda/3/envs/env3.6/lib/python3.6/site-packages/sklearn/model_selection/_split.py:2053: FutureWarning: You should specify a value for 'cv' instead of relying on the default value. The default value will change from 3 to 5 in version 0.22.\n",
      "  warnings.warn(CV_WARNING, FutureWarning)\n"
     ]
    },
    {
     "name": "stdout",
     "output_type": "stream",
     "text": [
      "Score: 0.972323\n"
     ]
    },
    {
     "name": "stderr",
     "output_type": "stream",
     "text": [
      "/usr/users/fsimone/opt/miniconda/3/envs/env3.6/lib/python3.6/site-packages/sklearn/model_selection/_split.py:2053: FutureWarning: You should specify a value for 'cv' instead of relying on the default value. The default value will change from 3 to 5 in version 0.22.\n",
      "  warnings.warn(CV_WARNING, FutureWarning)\n"
     ]
    },
    {
     "name": "stdout",
     "output_type": "stream",
     "text": [
      "Score: 0.99766\n"
     ]
    },
    {
     "name": "stderr",
     "output_type": "stream",
     "text": [
      "/usr/users/fsimone/opt/miniconda/3/envs/env3.6/lib/python3.6/site-packages/sklearn/model_selection/_split.py:2053: FutureWarning: You should specify a value for 'cv' instead of relying on the default value. The default value will change from 3 to 5 in version 0.22.\n",
      "  warnings.warn(CV_WARNING, FutureWarning)\n"
     ]
    },
    {
     "name": "stdout",
     "output_type": "stream",
     "text": [
      "Score: 0.0603233\n"
     ]
    },
    {
     "name": "stderr",
     "output_type": "stream",
     "text": [
      "/usr/users/fsimone/opt/miniconda/3/envs/env3.6/lib/python3.6/site-packages/sklearn/model_selection/_split.py:2053: FutureWarning: You should specify a value for 'cv' instead of relying on the default value. The default value will change from 3 to 5 in version 0.22.\n",
      "  warnings.warn(CV_WARNING, FutureWarning)\n"
     ]
    },
    {
     "name": "stdout",
     "output_type": "stream",
     "text": [
      "Score: 0.287191\n"
     ]
    },
    {
     "name": "stderr",
     "output_type": "stream",
     "text": [
      "/usr/users/fsimone/opt/miniconda/3/envs/env3.6/lib/python3.6/site-packages/sklearn/model_selection/_split.py:2053: FutureWarning: You should specify a value for 'cv' instead of relying on the default value. The default value will change from 3 to 5 in version 0.22.\n",
      "  warnings.warn(CV_WARNING, FutureWarning)\n"
     ]
    },
    {
     "name": "stdout",
     "output_type": "stream",
     "text": [
      "Score: 0.969684\n"
     ]
    },
    {
     "name": "stderr",
     "output_type": "stream",
     "text": [
      "/usr/users/fsimone/opt/miniconda/3/envs/env3.6/lib/python3.6/site-packages/sklearn/model_selection/_split.py:2053: FutureWarning: You should specify a value for 'cv' instead of relying on the default value. The default value will change from 3 to 5 in version 0.22.\n",
      "  warnings.warn(CV_WARNING, FutureWarning)\n"
     ]
    },
    {
     "name": "stdout",
     "output_type": "stream",
     "text": [
      "Score: 0.745246\n"
     ]
    },
    {
     "name": "stderr",
     "output_type": "stream",
     "text": [
      "/usr/users/fsimone/opt/miniconda/3/envs/env3.6/lib/python3.6/site-packages/sklearn/model_selection/_split.py:2053: FutureWarning: You should specify a value for 'cv' instead of relying on the default value. The default value will change from 3 to 5 in version 0.22.\n",
      "  warnings.warn(CV_WARNING, FutureWarning)\n"
     ]
    },
    {
     "name": "stdout",
     "output_type": "stream",
     "text": [
      "Score: 0.764054\n"
     ]
    },
    {
     "name": "stderr",
     "output_type": "stream",
     "text": [
      "/usr/users/fsimone/opt/miniconda/3/envs/env3.6/lib/python3.6/site-packages/sklearn/model_selection/_split.py:2053: FutureWarning: You should specify a value for 'cv' instead of relying on the default value. The default value will change from 3 to 5 in version 0.22.\n",
      "  warnings.warn(CV_WARNING, FutureWarning)\n"
     ]
    },
    {
     "name": "stdout",
     "output_type": "stream",
     "text": [
      "Score: 0.940979\n"
     ]
    },
    {
     "name": "stderr",
     "output_type": "stream",
     "text": [
      "/usr/users/fsimone/opt/miniconda/3/envs/env3.6/lib/python3.6/site-packages/sklearn/model_selection/_split.py:2053: FutureWarning: You should specify a value for 'cv' instead of relying on the default value. The default value will change from 3 to 5 in version 0.22.\n",
      "  warnings.warn(CV_WARNING, FutureWarning)\n",
      "/usr/users/fsimone/opt/miniconda/3/envs/env3.6/lib/python3.6/site-packages/sklearn/linear_model/coordinate_descent.py:492: ConvergenceWarning: Objective did not converge. You might want to increase the number of iterations. Fitting data with very small alpha may cause precision problems.\n",
      "  ConvergenceWarning)\n",
      "/usr/users/fsimone/opt/miniconda/3/envs/env3.6/lib/python3.6/site-packages/sklearn/model_selection/_split.py:2053: FutureWarning: You should specify a value for 'cv' instead of relying on the default value. The default value will change from 3 to 5 in version 0.22.\n",
      "  warnings.warn(CV_WARNING, FutureWarning)\n"
     ]
    },
    {
     "name": "stdout",
     "output_type": "stream",
     "text": [
      "Score: 0.99997\n",
      "Score: 0.976198\n"
     ]
    },
    {
     "name": "stderr",
     "output_type": "stream",
     "text": [
      "/usr/users/fsimone/opt/miniconda/3/envs/env3.6/lib/python3.6/site-packages/sklearn/model_selection/_split.py:2053: FutureWarning: You should specify a value for 'cv' instead of relying on the default value. The default value will change from 3 to 5 in version 0.22.\n",
      "  warnings.warn(CV_WARNING, FutureWarning)\n"
     ]
    },
    {
     "name": "stdout",
     "output_type": "stream",
     "text": [
      "Score: 0.980228\n"
     ]
    },
    {
     "name": "stderr",
     "output_type": "stream",
     "text": [
      "/usr/users/fsimone/opt/miniconda/3/envs/env3.6/lib/python3.6/site-packages/sklearn/model_selection/_split.py:2053: FutureWarning: You should specify a value for 'cv' instead of relying on the default value. The default value will change from 3 to 5 in version 0.22.\n",
      "  warnings.warn(CV_WARNING, FutureWarning)\n",
      "/usr/users/fsimone/opt/miniconda/3/envs/env3.6/lib/python3.6/site-packages/sklearn/linear_model/coordinate_descent.py:492: ConvergenceWarning: Objective did not converge. You might want to increase the number of iterations. Fitting data with very small alpha may cause precision problems.\n",
      "  ConvergenceWarning)\n",
      "/usr/users/fsimone/opt/miniconda/3/envs/env3.6/lib/python3.6/site-packages/sklearn/model_selection/_split.py:2053: FutureWarning: You should specify a value for 'cv' instead of relying on the default value. The default value will change from 3 to 5 in version 0.22.\n",
      "  warnings.warn(CV_WARNING, FutureWarning)\n"
     ]
    },
    {
     "name": "stdout",
     "output_type": "stream",
     "text": [
      "Score: 0.999986\n",
      "Score: 0.793465\n"
     ]
    },
    {
     "name": "stderr",
     "output_type": "stream",
     "text": [
      "/usr/users/fsimone/opt/miniconda/3/envs/env3.6/lib/python3.6/site-packages/sklearn/model_selection/_split.py:2053: FutureWarning: You should specify a value for 'cv' instead of relying on the default value. The default value will change from 3 to 5 in version 0.22.\n",
      "  warnings.warn(CV_WARNING, FutureWarning)\n"
     ]
    },
    {
     "name": "stdout",
     "output_type": "stream",
     "text": [
      "Score: 0.892252\n"
     ]
    },
    {
     "name": "stderr",
     "output_type": "stream",
     "text": [
      "/usr/users/fsimone/opt/miniconda/3/envs/env3.6/lib/python3.6/site-packages/sklearn/model_selection/_split.py:2053: FutureWarning: You should specify a value for 'cv' instead of relying on the default value. The default value will change from 3 to 5 in version 0.22.\n",
      "  warnings.warn(CV_WARNING, FutureWarning)\n"
     ]
    },
    {
     "name": "stdout",
     "output_type": "stream",
     "text": [
      "Score: 0.00658173\n"
     ]
    },
    {
     "name": "stderr",
     "output_type": "stream",
     "text": [
      "/usr/users/fsimone/opt/miniconda/3/envs/env3.6/lib/python3.6/site-packages/sklearn/model_selection/_split.py:2053: FutureWarning: You should specify a value for 'cv' instead of relying on the default value. The default value will change from 3 to 5 in version 0.22.\n",
      "  warnings.warn(CV_WARNING, FutureWarning)\n"
     ]
    },
    {
     "name": "stdout",
     "output_type": "stream",
     "text": [
      "Score: 0.545328\n"
     ]
    },
    {
     "name": "stderr",
     "output_type": "stream",
     "text": [
      "/usr/users/fsimone/opt/miniconda/3/envs/env3.6/lib/python3.6/site-packages/sklearn/model_selection/_split.py:2053: FutureWarning: You should specify a value for 'cv' instead of relying on the default value. The default value will change from 3 to 5 in version 0.22.\n",
      "  warnings.warn(CV_WARNING, FutureWarning)\n"
     ]
    },
    {
     "name": "stdout",
     "output_type": "stream",
     "text": [
      "Score: 0.634393\n"
     ]
    },
    {
     "name": "stderr",
     "output_type": "stream",
     "text": [
      "/usr/users/fsimone/opt/miniconda/3/envs/env3.6/lib/python3.6/site-packages/sklearn/model_selection/_split.py:2053: FutureWarning: You should specify a value for 'cv' instead of relying on the default value. The default value will change from 3 to 5 in version 0.22.\n",
      "  warnings.warn(CV_WARNING, FutureWarning)\n"
     ]
    },
    {
     "name": "stdout",
     "output_type": "stream",
     "text": [
      "Score: 0.843266\n"
     ]
    },
    {
     "name": "stderr",
     "output_type": "stream",
     "text": [
      "/usr/users/fsimone/opt/miniconda/3/envs/env3.6/lib/python3.6/site-packages/sklearn/model_selection/_split.py:2053: FutureWarning: You should specify a value for 'cv' instead of relying on the default value. The default value will change from 3 to 5 in version 0.22.\n",
      "  warnings.warn(CV_WARNING, FutureWarning)\n"
     ]
    },
    {
     "name": "stdout",
     "output_type": "stream",
     "text": [
      "Score: 0.910106\n"
     ]
    },
    {
     "name": "stderr",
     "output_type": "stream",
     "text": [
      "/usr/users/fsimone/opt/miniconda/3/envs/env3.6/lib/python3.6/site-packages/sklearn/model_selection/_split.py:2053: FutureWarning: You should specify a value for 'cv' instead of relying on the default value. The default value will change from 3 to 5 in version 0.22.\n",
      "  warnings.warn(CV_WARNING, FutureWarning)\n"
     ]
    },
    {
     "name": "stdout",
     "output_type": "stream",
     "text": [
      "Score: 0.672729\n"
     ]
    },
    {
     "name": "stderr",
     "output_type": "stream",
     "text": [
      "/usr/users/fsimone/opt/miniconda/3/envs/env3.6/lib/python3.6/site-packages/sklearn/model_selection/_split.py:2053: FutureWarning: You should specify a value for 'cv' instead of relying on the default value. The default value will change from 3 to 5 in version 0.22.\n",
      "  warnings.warn(CV_WARNING, FutureWarning)\n"
     ]
    },
    {
     "name": "stdout",
     "output_type": "stream",
     "text": [
      "Score: 0.343972\n"
     ]
    },
    {
     "name": "stderr",
     "output_type": "stream",
     "text": [
      "/usr/users/fsimone/opt/miniconda/3/envs/env3.6/lib/python3.6/site-packages/sklearn/model_selection/_split.py:2053: FutureWarning: You should specify a value for 'cv' instead of relying on the default value. The default value will change from 3 to 5 in version 0.22.\n",
      "  warnings.warn(CV_WARNING, FutureWarning)\n"
     ]
    },
    {
     "name": "stdout",
     "output_type": "stream",
     "text": [
      "Score: 0.247109\n"
     ]
    },
    {
     "name": "stderr",
     "output_type": "stream",
     "text": [
      "/usr/users/fsimone/opt/miniconda/3/envs/env3.6/lib/python3.6/site-packages/sklearn/model_selection/_split.py:2053: FutureWarning: You should specify a value for 'cv' instead of relying on the default value. The default value will change from 3 to 5 in version 0.22.\n",
      "  warnings.warn(CV_WARNING, FutureWarning)\n"
     ]
    },
    {
     "name": "stdout",
     "output_type": "stream",
     "text": [
      "Score: 0.539364\n"
     ]
    },
    {
     "name": "stderr",
     "output_type": "stream",
     "text": [
      "/usr/users/fsimone/opt/miniconda/3/envs/env3.6/lib/python3.6/site-packages/sklearn/model_selection/_split.py:2053: FutureWarning: You should specify a value for 'cv' instead of relying on the default value. The default value will change from 3 to 5 in version 0.22.\n",
      "  warnings.warn(CV_WARNING, FutureWarning)\n"
     ]
    },
    {
     "name": "stdout",
     "output_type": "stream",
     "text": [
      "Score: 0.0529472\n"
     ]
    },
    {
     "name": "stderr",
     "output_type": "stream",
     "text": [
      "/usr/users/fsimone/opt/miniconda/3/envs/env3.6/lib/python3.6/site-packages/sklearn/model_selection/_split.py:2053: FutureWarning: You should specify a value for 'cv' instead of relying on the default value. The default value will change from 3 to 5 in version 0.22.\n",
      "  warnings.warn(CV_WARNING, FutureWarning)\n"
     ]
    },
    {
     "name": "stdout",
     "output_type": "stream",
     "text": [
      "Score: 0.510266\n"
     ]
    },
    {
     "name": "stderr",
     "output_type": "stream",
     "text": [
      "/usr/users/fsimone/opt/miniconda/3/envs/env3.6/lib/python3.6/site-packages/sklearn/model_selection/_split.py:2053: FutureWarning: You should specify a value for 'cv' instead of relying on the default value. The default value will change from 3 to 5 in version 0.22.\n",
      "  warnings.warn(CV_WARNING, FutureWarning)\n"
     ]
    },
    {
     "name": "stdout",
     "output_type": "stream",
     "text": [
      "Score: 0.56667\n"
     ]
    },
    {
     "name": "stderr",
     "output_type": "stream",
     "text": [
      "/usr/users/fsimone/opt/miniconda/3/envs/env3.6/lib/python3.6/site-packages/sklearn/model_selection/_split.py:2053: FutureWarning: You should specify a value for 'cv' instead of relying on the default value. The default value will change from 3 to 5 in version 0.22.\n",
      "  warnings.warn(CV_WARNING, FutureWarning)\n"
     ]
    },
    {
     "name": "stdout",
     "output_type": "stream",
     "text": [
      "Score: 0.939329\n"
     ]
    },
    {
     "name": "stderr",
     "output_type": "stream",
     "text": [
      "/usr/users/fsimone/opt/miniconda/3/envs/env3.6/lib/python3.6/site-packages/sklearn/model_selection/_split.py:2053: FutureWarning: You should specify a value for 'cv' instead of relying on the default value. The default value will change from 3 to 5 in version 0.22.\n",
      "  warnings.warn(CV_WARNING, FutureWarning)\n"
     ]
    },
    {
     "name": "stdout",
     "output_type": "stream",
     "text": [
      "Score: 0.550679\n"
     ]
    },
    {
     "name": "stderr",
     "output_type": "stream",
     "text": [
      "/usr/users/fsimone/opt/miniconda/3/envs/env3.6/lib/python3.6/site-packages/sklearn/model_selection/_split.py:2053: FutureWarning: You should specify a value for 'cv' instead of relying on the default value. The default value will change from 3 to 5 in version 0.22.\n",
      "  warnings.warn(CV_WARNING, FutureWarning)\n"
     ]
    },
    {
     "name": "stdout",
     "output_type": "stream",
     "text": [
      "Score: 0.211422\n"
     ]
    },
    {
     "name": "stderr",
     "output_type": "stream",
     "text": [
      "/usr/users/fsimone/opt/miniconda/3/envs/env3.6/lib/python3.6/site-packages/sklearn/model_selection/_split.py:2053: FutureWarning: You should specify a value for 'cv' instead of relying on the default value. The default value will change from 3 to 5 in version 0.22.\n",
      "  warnings.warn(CV_WARNING, FutureWarning)\n"
     ]
    },
    {
     "name": "stdout",
     "output_type": "stream",
     "text": [
      "Score: 0.239468\n"
     ]
    },
    {
     "name": "stderr",
     "output_type": "stream",
     "text": [
      "/usr/users/fsimone/opt/miniconda/3/envs/env3.6/lib/python3.6/site-packages/sklearn/model_selection/_split.py:2053: FutureWarning: You should specify a value for 'cv' instead of relying on the default value. The default value will change from 3 to 5 in version 0.22.\n",
      "  warnings.warn(CV_WARNING, FutureWarning)\n"
     ]
    },
    {
     "name": "stdout",
     "output_type": "stream",
     "text": [
      "Score: 0.302197\n"
     ]
    },
    {
     "name": "stderr",
     "output_type": "stream",
     "text": [
      "/usr/users/fsimone/opt/miniconda/3/envs/env3.6/lib/python3.6/site-packages/sklearn/model_selection/_split.py:2053: FutureWarning: You should specify a value for 'cv' instead of relying on the default value. The default value will change from 3 to 5 in version 0.22.\n",
      "  warnings.warn(CV_WARNING, FutureWarning)\n"
     ]
    },
    {
     "name": "stdout",
     "output_type": "stream",
     "text": [
      "Score: 0.271846\n"
     ]
    },
    {
     "name": "stderr",
     "output_type": "stream",
     "text": [
      "/usr/users/fsimone/opt/miniconda/3/envs/env3.6/lib/python3.6/site-packages/sklearn/model_selection/_split.py:2053: FutureWarning: You should specify a value for 'cv' instead of relying on the default value. The default value will change from 3 to 5 in version 0.22.\n",
      "  warnings.warn(CV_WARNING, FutureWarning)\n"
     ]
    },
    {
     "name": "stdout",
     "output_type": "stream",
     "text": [
      "Score: 0.876564\n"
     ]
    },
    {
     "name": "stderr",
     "output_type": "stream",
     "text": [
      "/usr/users/fsimone/opt/miniconda/3/envs/env3.6/lib/python3.6/site-packages/sklearn/model_selection/_split.py:2053: FutureWarning: You should specify a value for 'cv' instead of relying on the default value. The default value will change from 3 to 5 in version 0.22.\n",
      "  warnings.warn(CV_WARNING, FutureWarning)\n"
     ]
    },
    {
     "name": "stdout",
     "output_type": "stream",
     "text": [
      "Score: 0.0461355\n"
     ]
    },
    {
     "name": "stderr",
     "output_type": "stream",
     "text": [
      "/usr/users/fsimone/opt/miniconda/3/envs/env3.6/lib/python3.6/site-packages/sklearn/model_selection/_split.py:2053: FutureWarning: You should specify a value for 'cv' instead of relying on the default value. The default value will change from 3 to 5 in version 0.22.\n",
      "  warnings.warn(CV_WARNING, FutureWarning)\n"
     ]
    },
    {
     "name": "stdout",
     "output_type": "stream",
     "text": [
      "Score: 0\n"
     ]
    },
    {
     "name": "stderr",
     "output_type": "stream",
     "text": [
      "/usr/users/fsimone/opt/miniconda/3/envs/env3.6/lib/python3.6/site-packages/sklearn/model_selection/_split.py:2053: FutureWarning: You should specify a value for 'cv' instead of relying on the default value. The default value will change from 3 to 5 in version 0.22.\n",
      "  warnings.warn(CV_WARNING, FutureWarning)\n"
     ]
    },
    {
     "name": "stdout",
     "output_type": "stream",
     "text": [
      "Score: 0.517336\n"
     ]
    },
    {
     "name": "stderr",
     "output_type": "stream",
     "text": [
      "/usr/users/fsimone/opt/miniconda/3/envs/env3.6/lib/python3.6/site-packages/sklearn/model_selection/_split.py:2053: FutureWarning: You should specify a value for 'cv' instead of relying on the default value. The default value will change from 3 to 5 in version 0.22.\n",
      "  warnings.warn(CV_WARNING, FutureWarning)\n"
     ]
    },
    {
     "name": "stdout",
     "output_type": "stream",
     "text": [
      "Score: 0.0917697\n"
     ]
    },
    {
     "name": "stderr",
     "output_type": "stream",
     "text": [
      "/usr/users/fsimone/opt/miniconda/3/envs/env3.6/lib/python3.6/site-packages/sklearn/model_selection/_split.py:2053: FutureWarning: You should specify a value for 'cv' instead of relying on the default value. The default value will change from 3 to 5 in version 0.22.\n",
      "  warnings.warn(CV_WARNING, FutureWarning)\n"
     ]
    },
    {
     "name": "stdout",
     "output_type": "stream",
     "text": [
      "Score: 0.631509\n"
     ]
    },
    {
     "name": "stderr",
     "output_type": "stream",
     "text": [
      "/usr/users/fsimone/opt/miniconda/3/envs/env3.6/lib/python3.6/site-packages/sklearn/model_selection/_split.py:2053: FutureWarning: You should specify a value for 'cv' instead of relying on the default value. The default value will change from 3 to 5 in version 0.22.\n",
      "  warnings.warn(CV_WARNING, FutureWarning)\n"
     ]
    },
    {
     "name": "stdout",
     "output_type": "stream",
     "text": [
      "Score: 0.821477\n"
     ]
    },
    {
     "name": "stderr",
     "output_type": "stream",
     "text": [
      "/usr/users/fsimone/opt/miniconda/3/envs/env3.6/lib/python3.6/site-packages/sklearn/model_selection/_split.py:2053: FutureWarning: You should specify a value for 'cv' instead of relying on the default value. The default value will change from 3 to 5 in version 0.22.\n",
      "  warnings.warn(CV_WARNING, FutureWarning)\n"
     ]
    },
    {
     "name": "stdout",
     "output_type": "stream",
     "text": [
      "Score: 0.10715\n"
     ]
    },
    {
     "name": "stderr",
     "output_type": "stream",
     "text": [
      "/usr/users/fsimone/opt/miniconda/3/envs/env3.6/lib/python3.6/site-packages/sklearn/model_selection/_split.py:2053: FutureWarning: You should specify a value for 'cv' instead of relying on the default value. The default value will change from 3 to 5 in version 0.22.\n",
      "  warnings.warn(CV_WARNING, FutureWarning)\n"
     ]
    },
    {
     "name": "stdout",
     "output_type": "stream",
     "text": [
      "Score: 0.315099\n"
     ]
    },
    {
     "name": "stderr",
     "output_type": "stream",
     "text": [
      "/usr/users/fsimone/opt/miniconda/3/envs/env3.6/lib/python3.6/site-packages/sklearn/model_selection/_split.py:2053: FutureWarning: You should specify a value for 'cv' instead of relying on the default value. The default value will change from 3 to 5 in version 0.22.\n",
      "  warnings.warn(CV_WARNING, FutureWarning)\n"
     ]
    },
    {
     "name": "stdout",
     "output_type": "stream",
     "text": [
      "Score: 0.999554\n"
     ]
    },
    {
     "name": "stderr",
     "output_type": "stream",
     "text": [
      "/usr/users/fsimone/opt/miniconda/3/envs/env3.6/lib/python3.6/site-packages/sklearn/model_selection/_split.py:2053: FutureWarning: You should specify a value for 'cv' instead of relying on the default value. The default value will change from 3 to 5 in version 0.22.\n",
      "  warnings.warn(CV_WARNING, FutureWarning)\n"
     ]
    },
    {
     "name": "stdout",
     "output_type": "stream",
     "text": [
      "Score: 0.997636\n"
     ]
    },
    {
     "name": "stderr",
     "output_type": "stream",
     "text": [
      "/usr/users/fsimone/opt/miniconda/3/envs/env3.6/lib/python3.6/site-packages/sklearn/model_selection/_split.py:2053: FutureWarning: You should specify a value for 'cv' instead of relying on the default value. The default value will change from 3 to 5 in version 0.22.\n",
      "  warnings.warn(CV_WARNING, FutureWarning)\n"
     ]
    },
    {
     "name": "stdout",
     "output_type": "stream",
     "text": [
      "Score: 0.0362304\n"
     ]
    }
   ],
   "source": [
    "from sklearn import linear_model\n",
    "EXPR  = gx_corr_norm\n",
    "EXPR2 = gx_cclm_corr_norm# expr_cclm\n",
    "\n",
    "outknn  = open(\"target_genes_{:s}_knn.txt\".format(t), 'w') \n",
    "# outcclm = open(\"target_genes_{:s}_cclm.txt\".format(t), 'w') \n",
    "for mask in cismaskcomp:\n",
    "    usegenes = np.ones(EXPR.shape[0], dtype=bool)\n",
    "    if mask.rmv_id.shape[0] > 0: usegenes[mask.rmv_id] = False\n",
    "    gx_masked      = EXPR[usegenes]\n",
    "    gx_masked_cclm = EXPR2[usegenes]\n",
    "    for i in mask.apply2:\n",
    "        GT1 = gt_corr_cent[i,:]\n",
    "        GT2 = gt_cclm_corr_cent[i,:]\n",
    "        targets1 = RR_Lasso(gx_masked, GT1, genes, snpinfo[i], outknn)      \n",
    "        # targets2 = RR_Lasso(gx_masked_cclm, GT2, genes, snpinfo[i], outcclm)      \n",
    "outknn.close()\n",
    "# outcclm.close()\n",
    "        "
   ]
  },
  {
   "cell_type": "code",
   "execution_count": null,
   "metadata": {},
   "outputs": [],
   "source": [
    "lasso_knn_targets   = [g.ensembl_id for i,g in targets1]\n",
    "lasso_cclm_targets  = [g.ensembl_id for i,g in targets2]\n",
    "tejaas_targets = [g for s,g in tissue_targets[t] if s == snpinfo[0].varid]\n",
    "\n",
    "common_knn  = set.intersection(set(lasso_knn_targets), set(tejaas_targets))\n",
    "common_cclm = set.intersection(set(lasso_cclm_targets), set(tejaas_targets))\n",
    "common_knn_cclm = set.intersection(set(lasso_knn_targets), set(lasso_cclm_targets))"
   ]
  },
  {
   "cell_type": "code",
   "execution_count": null,
   "metadata": {},
   "outputs": [],
   "source": [
    "print(common_knn)\n",
    "print(common_cclm)\n",
    "print(len(lasso_knn_targets), len(lasso_cclm_targets), len(common_knn))"
   ]
  },
  {
   "cell_type": "code",
   "execution_count": 24,
   "metadata": {},
   "outputs": [
    {
     "name": "stdout",
     "output_type": "stream",
     "text": [
      "90\n"
     ]
    }
   ],
   "source": [
    "print(len(common_knn))"
   ]
  },
  {
   "cell_type": "code",
   "execution_count": 54,
   "metadata": {},
   "outputs": [],
   "source": [
    "ind = [i for i,e in enumerate(genes) if e.ensembl_id == \"ENSG00000169291.9\"]"
   ]
  },
  {
   "cell_type": "code",
   "execution_count": 55,
   "metadata": {},
   "outputs": [
    {
     "data": {
      "text/plain": [
       "SnpInfo(chrom=1, varid='chr1_1170732_A_G_b38', bp_pos=1170732, ref_allele='A', alt_allele='G', maf=0.10560859188544153)"
      ]
     },
     "execution_count": 55,
     "metadata": {},
     "output_type": "execute_result"
    }
   ],
   "source": [
    "snpinfo[0]"
   ]
  },
  {
   "cell_type": "code",
   "execution_count": 56,
   "metadata": {},
   "outputs": [
    {
     "data": {
      "image/png": "[encoded data removed]",
      "text/plain": [
       "<Figure size 432x288 with 1 Axes>"
      ]
     },
     "metadata": {},
     "output_type": "display_data"
    }
   ],
   "source": [
    "import matplotlib.pyplot as plt\n",
    "\n",
    "plt.scatter(GT1, EXPR[ind,:])\n",
    "plt.show()"
   ]
  },
  {
   "cell_type": "code",
   "execution_count": 57,
   "metadata": {},
   "outputs": [
    {
     "data": {
      "image/png": "[encoded data removed]",
      "text/plain": [
       "<Figure size 432x288 with 1 Axes>"
      ]
     },
     "metadata": {},
     "output_type": "display_data"
    }
   ],
   "source": [
    "\n",
    "plt.scatter(GT2, EXPR2[ind,:])\n",
    "plt.show()"
   ]
  },
  {
   "cell_type": "code",
   "execution_count": null,
   "metadata": {},
   "outputs": [],
   "source": [
    "## It works\n",
    "# masked_geneinfo = [g for i,g in enumerate(geneinfo) if i not in mask.rmv_id]\n",
    "# target_gene_inds = np.where(np.abs(betas) > 0)\n",
    "# [masked_geneinfo[i] for i in target_gene_inds[0]]"
   ]
  },
  {
   "cell_type": "code",
   "execution_count": null,
   "metadata": {},
   "outputs": [],
   "source": [
    "print(len(gene_names))\n",
    "tcounts = list()\n",
    "for g in gene_names:\n",
    "    tcounts.append(tissue_gene_counts[tissues[0]][g])"
   ]
  },
  {
   "cell_type": "code",
   "execution_count": null,
   "metadata": {},
   "outputs": [],
   "source": [
    "tissue_gene_counts[tissues[0]]"
   ]
  },
  {
   "cell_type": "code",
   "execution_count": null,
   "metadata": {},
   "outputs": [],
   "source": [
    "np.histogram(tcounts, bins=100)"
   ]
  },
  {
   "cell_type": "code",
   "execution_count": null,
   "metadata": {},
   "outputs": [],
   "source": []
  }
 ],
 "metadata": {
  "kernelspec": {
   "display_name": "Python 3",
   "language": "python",
   "name": "python3"
  },
  "language_info": {
   "codemirror_mode": {
    "name": "ipython",
    "version": 3
   },
   "file_extension": ".py",
   "mimetype": "text/x-python",
   "name": "python",
   "nbconvert_exporter": "python",
   "pygments_lexer": "ipython3",
   "version": "3.6.7"
  }
 },
 "nbformat": 4,
 "nbformat_minor": 2
}
