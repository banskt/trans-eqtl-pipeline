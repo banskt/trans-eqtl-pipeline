{
 "cells": [
  {
   "cell_type": "code",
   "execution_count": 3,
   "metadata": {},
   "outputs": [],
   "source": [
    "import sys\n",
    "sys.path.append('../')\n",
    "sys.path.append('/usr/users/fsimone/tejaas')\n",
    "import numpy as np\n",
    "import scipy.stats as ss\n",
    "import random\n",
    "import os\n",
    "from iotools.readvcf import ReadVCF\n",
    "\n",
    "\n",
    "vcf_file=\"/cbscratch/franco/datasets/gtex_v8/genotypes/vcfs_0.01/GTEX_v8_2019-07-29_WGS_838Indiv_Freeze_NoMissingGT_SNPfilter_MAF0.01_chr22.vcf.gz\"\n",
    "startsnp=0\n",
    "endsnp=10\n",
    "fam_file=\"/cbscratch/franco/datasets/gtex_v8/genotypes/gtex_v8.sample\"\n",
    "\n",
    "vcf = ReadVCF(vcf_file, startsnp, endsnp, samplefile=fam_file)\n",
    "dosage = vcf.dosage\n",
    "gt_donor_ids = vcf.donor_ids\n",
    "snpinfo = vcf.snpinfo\n",
    "\n",
    "def HWEcheck(x):\n",
    "    gt = x.tolist()\n",
    "    f = np.array([0] * 3)\n",
    "    f[0] = gt.count(0)\n",
    "    f[1] = gt.count(1)\n",
    "    f[2] = gt.count(2)\n",
    "    n = sum(f)\n",
    "    #p_A = (2 * f[0] + f[1]) / (2 * n)\n",
    "    #p_a = (2 * f[2] + f[1]) / (2 * n)\n",
    "    X2 = n * ( (4 * f[0] * f[2] - f[1] ** 2) / ((2 * f[0] + f[1]) * (2 * f[2] + f[1])) )**2\n",
    "    pval = 1 - ss.chi2.cdf(X2, 1)\n",
    "    return pval"
   ]
  },
  {
   "cell_type": "code",
   "execution_count": 8,
   "metadata": {},
   "outputs": [],
   "source": [
    "fam_file_eur=\"/cbscratch/franco/datasets/gtex_v8/genotypes/gtex_v8_eur.sample\"\n",
    "vcf_eur = ReadVCF(vcf_file, startsnp, endsnp, samplefile=fam_file_eur)\n",
    "dosage_eur = vcf_eur.dosage\n",
    "gt_donor_ids_eur = vcf_eur.donor_ids\n",
    "snpinfo_eur = vcf_eur.snpinfo"
   ]
  },
  {
   "cell_type": "code",
   "execution_count": 9,
   "metadata": {},
   "outputs": [
    {
     "name": "stdout",
     "output_type": "stream",
     "text": [
      "chr22_11212448_C_T_b38 0.7266266763094025 0.7567150248348234\n"
     ]
    }
   ],
   "source": [
    "i = 0\n",
    "pval = HWEcheck(dosage[i])\n",
    "pval_eur = HWEcheck(dosage_eur[i])\n",
    "print(snpinfo[i].varid, pval, pval_eur)"
   ]
  },
  {
   "cell_type": "code",
   "execution_count": 10,
   "metadata": {},
   "outputs": [
    {
     "name": "stdout",
     "output_type": "stream",
     "text": [
      "0.8309481891464123 0.3619984934750926\n"
     ]
    }
   ],
   "source": [
    "# wikipedia example of HWE\n",
    "f = np.array([0] * 3)\n",
    "f[0] = 1469\n",
    "f[1] = 138\n",
    "f[2] = 5\n",
    "n = sum(f)\n",
    "X2 = n * ( (4 * f[0] * f[2] - f[1] ** 2) / ((2 * f[0] + f[1]) * (2 * f[2] + f[1])) )**2\n",
    "pval = 1 - ss.chi2.cdf(X2, 1)\n",
    "print(X2, pval)"
   ]
  },
  {
   "cell_type": "code",
   "execution_count": null,
   "metadata": {},
   "outputs": [],
   "source": [
    "# Everything is correct, the difference is that most programs nowadays implement the mid-pvalue correction\n",
    "# https://www.degruyter.com/view/j/sagmb.2013.12.issue-4/sagmb-2012-0039/sagmb-2012-0039.xml\n",
    "# let's not implement it right now"
   ]
  }
 ],
 "metadata": {
  "kernelspec": {
   "display_name": "Python 3",
   "language": "python",
   "name": "python3"
  },
  "language_info": {
   "codemirror_mode": {
    "name": "ipython",
    "version": 3
   },
   "file_extension": ".py",
   "mimetype": "text/x-python",
   "name": "python",
   "nbconvert_exporter": "python",
   "pygments_lexer": "ipython3",
   "version": "3.6.7"
  }
 },
 "nbformat": 4,
 "nbformat_minor": 2
}
