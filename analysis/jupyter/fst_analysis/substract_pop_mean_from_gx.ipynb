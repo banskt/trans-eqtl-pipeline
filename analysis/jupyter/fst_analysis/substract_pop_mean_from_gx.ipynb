{
 "cells": [
  {
   "cell_type": "code",
   "execution_count": 3,
   "metadata": {},
   "outputs": [],
   "source": [
    "%load_ext autoreload\n",
    "%autoreload 2\n",
    "import os, sys\n",
    "sys.path.append(\"../../\")\n",
    "import collections\n",
    "import re\n",
    "import numpy as np\n",
    "import pandas as pd\n",
    "#from utils.readvcf_snp import ReadVCF\n",
    "#from utils import fst as Fst_calc\n",
    "\n",
    "#pheno_file = \"/cbscratch/franco/datasets/gtex_v8/phenotypes/gtex_v8_basic_phenotypes.txt\"\n",
    "#admix_file = \"/cbscratch/franco/datasets/gtex_v8/genotypes/gtex-admixed0.9.txt\"\n",
    "eur_file = \"/cbscratch/franco/datasets/gtex_v8/genotypes/gtex_v8_eur.sample\"\n",
    "afr_file = \"/cbscratch/franco/datasets/gtex_v8/genotypes/gtex_v8_afr.sample\"\n",
    "oth_file = \"/cbscratch/franco/datasets/gtex_v8/genotypes/gtex_v8_oth.sample\"\n",
    "all_file = \"/cbscratch/franco/datasets/gtex_v8/genotypes/gtex_v8.sample\"\n",
    "\n",
    "def centerscale_expr(Y):\n",
    "    if isinstance(Y, pd.DataFrame):\n",
    "        Y_cent = (Y.values - np.mean(Y.values, axis = 1).reshape(-1, 1)) / np.std(Y.values, axis = 1).reshape(-1, 1)\n",
    "        Y_cent = pd.DataFrame(Y_cent, index=Y.index, columns=Y.columns)\n",
    "        Y_cent.index.name = Y.index.name\n",
    "    else:\n",
    "        Y_cent = (Y - np.mean(Y, axis = 1).reshape(-1, 1)) / np.std(Y, axis = 1).reshape(-1, 1)\n",
    "    return Y_cent\n",
    "\n",
    "def read_samples(samplefile):\n",
    "    if os.path.exists(samplefile):\n",
    "        with open(samplefile, 'r') as samfile:\n",
    "            sample = 0\n",
    "            samplenames = list()\n",
    "            next(samfile)\n",
    "            next(samfile)\n",
    "            for line in samfile:\n",
    "                if re.search('^#', line):\n",
    "                    continue\n",
    "                sample += 1\n",
    "                samplenames.append(line.strip().split()[0])\n",
    "        nsample = sample\n",
    "        samplenames = samplenames\n",
    "        return samplenames, nsample\n",
    "    \n",
    "all_samples, nall = read_samples(all_file)\n",
    "eur_samples, neur = read_samples(eur_file)\n",
    "afr_samples, nafr = read_samples(afr_file)\n",
    "oth_samples, noth = read_samples(oth_file)"
   ]
  },
  {
   "cell_type": "code",
   "execution_count": 4,
   "metadata": {},
   "outputs": [
    {
     "name": "stdout",
     "output_type": "stream",
     "text": [
      "838 715 103 20\n"
     ]
    }
   ],
   "source": [
    "print(nall, neur, nafr, noth)"
   ]
  },
  {
   "cell_type": "code",
   "execution_count": 5,
   "metadata": {},
   "outputs": [],
   "source": [
    "# read the samples for each tissue\n",
    "tissue=\"as\"\n",
    "expr_dir = \"/cbscratch/franco/trans-eqtl/new_preprocess_feb2020_freeze/gtex_v8/expression/tpms\"\n",
    "expr_file = os.path.join(expr_dir, \"{:s}_tpms_qcfilter.txt\".format(tissue))\n",
    "\n",
    "df_expr = pd.read_csv(expr_file, header=0, sep=\"\\t\", index_col=0)"
   ]
  },
  {
   "cell_type": "code",
   "execution_count": 18,
   "metadata": {
    "scrolled": true
   },
   "outputs": [],
   "source": [
    "import random\n",
    "\n",
    "def subtract_pop_means(df_expr, samples=[[], []]):\n",
    "    expr_samples = df_expr.columns\n",
    "    df_expr_sub = df_expr.copy()\n",
    "    in_expr_sum = 0\n",
    "    to_rmv = list()\n",
    "    for sample_set in samples:\n",
    "        if len(sample_set) == 0:\n",
    "            print(\"sample set is empty\")\n",
    "            raise\n",
    "        in_expr = [x for x in sample_set if x in expr_samples]\n",
    "        if len(in_expr) == 0:\n",
    "            continue\n",
    "        in_expr_sum += len(in_expr)\n",
    "        pop_mean = df_expr[in_expr].mean(axis=1)\n",
    "        # print(pop_mean.iloc[:10])\n",
    "        df_expr_sub[in_expr] = df_expr[in_expr].sub(pop_mean, axis=0)\n",
    "        \n",
    "        # randomly select one sample from this pop\n",
    "        to_rmv.append(random.sample(in_expr, 2)[0])\n",
    "    if in_expr_sum != df_expr_sub.shape[1]:\n",
    "        print(\"Some samples were not found!\")\n",
    "        print(in_expr_sum, df_expr_sub.shape)\n",
    "        raise\n",
    "    return df_expr_sub.drop(to_rmv, axis=1)"
   ]
  },
  {
   "cell_type": "code",
   "execution_count": 19,
   "metadata": {},
   "outputs": [
    {
     "name": "stdout",
     "output_type": "stream",
     "text": [
      "(16353, 578) (16353, 581)\n"
     ]
    }
   ],
   "source": [
    "df_expr_corr = subtract_pop_means(df_expr, samples=[eur_samples, afr_samples, oth_samples])\n",
    "df_expr_corr = centerscale_expr(df_expr_corr)\n",
    "print(df_expr_corr.shape, df_expr.shape)"
   ]
  },
  {
   "cell_type": "code",
   "execution_count": 20,
   "metadata": {},
   "outputs": [
    {
     "name": "stdout",
     "output_type": "stream",
     "text": [
      "[8.60174202e+01 8.57479376e+01 8.50897805e+01 8.49288818e+01\n",
      " 8.45775736e+01 8.42969420e+01 8.37196974e+01 8.31646654e+01\n",
      " 8.23313475e+01 1.74811020e-12]\n",
      "[8.64354314e+01 8.61025060e+01 8.57723083e+01 8.53023973e+01\n",
      " 8.48589069e+01 8.43034680e+01 8.31684337e+01 3.42557189e+01\n",
      " 1.13967667e+01 1.81204098e-13]\n"
     ]
    }
   ],
   "source": [
    "U, S, Vt     = np.linalg.svd(df_expr.values, full_matrices=False)\n",
    "U, Scorr, Vt = np.linalg.svd(df_expr_corr.values, full_matrices=False)\n",
    "print(S[-10:])\n",
    "print(Scorr[-10:])"
   ]
  },
  {
   "cell_type": "code",
   "execution_count": 21,
   "metadata": {},
   "outputs": [
    {
     "name": "stdout",
     "output_type": "stream",
     "text": [
      "(16353, 578) (578,) (578, 578)\n"
     ]
    }
   ],
   "source": [
    "print(U.shape, Scorr.shape, Vt.shape)"
   ]
  },
  {
   "cell_type": "code",
   "execution_count": 23,
   "metadata": {},
   "outputs": [
    {
     "data": {
      "image/png": "[encoded data removed]",
      "text/plain": [
       "<Figure size 576x432 with 1 Axes>"
      ]
     },
     "metadata": {},
     "output_type": "display_data"
    }
   ],
   "source": [
    "import matplotlib.pyplot as plt\n",
    "\n",
    "fig = plt.figure(figsize=(8,6))\n",
    "ax  = fig.add_subplot(111)\n",
    "ax.scatter(np.arange(len(S)), S, label=\"orig\", alpha=0.3)\n",
    "ax.scatter(np.arange(len(Scorr)), Scorr, label=\"corr\", alpha=0.3)\n",
    "ax.legend()\n",
    "plt.show()"
   ]
  },
  {
   "cell_type": "code",
   "execution_count": null,
   "metadata": {},
   "outputs": [],
   "source": []
  },
  {
   "cell_type": "markdown",
   "metadata": {},
   "source": [
    "## Process all tissues"
   ]
  },
  {
   "cell_type": "code",
   "execution_count": 65,
   "metadata": {},
   "outputs": [],
   "source": [
    "from utils import utils\n",
    "\n",
    "tissue_file = \"../../plots/tissue_table.txt\"\n",
    "json_file   = \"../../gtex_v8_metadata.json\"\n",
    "tshorts, tfulls, tstrings = utils.read_tissues_str(tissue_file)"
   ]
  },
  {
   "cell_type": "code",
   "execution_count": 72,
   "metadata": {},
   "outputs": [
    {
     "name": "stdout",
     "output_type": "stream",
     "text": [
      "processing as\n",
      "processing av\n",
      "processing ag\n",
      "processing aa\n",
      "processing ac\n",
      "processing at\n",
      "processing bam\n",
      "processing ban\n",
      "processing bca\n",
      "processing bceh\n",
      "processing bce\n",
      "processing bco\n",
      "processing bfr\n",
      "processing bhi\n",
      "processing bhy\n",
      "processing bnu\n",
      "processing bpu\n",
      "processing bsp\n",
      "processing bsu\n",
      "processing br\n",
      "processing ebv\n",
      "processing fib\n",
      "processing cols\n",
      "processing colt\n",
      "processing esog\n",
      "processing esom\n",
      "processing esomu\n",
      "processing haa\n",
      "processing hlv\n",
      "processing kc\n",
      "processing liv\n",
      "processing lu\n",
      "processing msg\n",
      "processing ms\n",
      "processing nt\n",
      "processing ov\n",
      "processing pan\n",
      "processing pit\n",
      "processing pro\n",
      "processing snse\n",
      "processing sse\n",
      "processing si\n",
      "processing spl\n",
      "processing sto\n",
      "processing tes\n",
      "processing thy\n",
      "processing ut\n",
      "processing va\n",
      "processing wb\n"
     ]
    }
   ],
   "source": [
    "expr_dir     = \"/cbscratch/franco/trans-eqtl/new_preprocess_feb2020_freeze/gtex_v8/expression/tpms\"\n",
    "expr_outdir  = \"/cbscratch/franco/trans-eqtl/new_preprocess_feb2020_freeze/gtex_v8/expression/tpms/popcorr\"\n",
    "\n",
    "if not os.path.exists(expr_outdir):\n",
    "    os.makedirs(expr_outdir)\n",
    "\n",
    "for tissue in tshorts:\n",
    "    print(f\"processing {tissue}\")\n",
    "    expr_file    = os.path.join(expr_dir, \"{:s}_tpms_qcfilter.txt.protein_coding_lncRNA_filtered\".format(tissue))\n",
    "    expr_outfile = os.path.join(expr_outdir, \"{:s}_tpms_qcfilter_popcorr.txt.protein_coding_lncRNA_filtered\".format(tissue))\n",
    "\n",
    "    df_expr = pd.read_csv(expr_file, header=0, sep=\"\\t\", index_col=0)\n",
    "    df_expr_corr = subtract_pop_means(df_expr, samples=[eur_samples, afr_samples, oth_samples])\n",
    "    df_expr_corr = centerscale_expr(df_expr_corr)\n",
    "    df_expr_corr.to_csv(expr_outfile, header=True, index=True, sep=\"\\t\")"
   ]
  },
  {
   "cell_type": "code",
   "execution_count": null,
   "metadata": {},
   "outputs": [],
   "source": []
  }
 ],
 "metadata": {
  "kernelspec": {
   "display_name": "Python 3",
   "language": "python",
   "name": "python3"
  },
  "language_info": {
   "codemirror_mode": {
    "name": "ipython",
    "version": 3
   },
   "file_extension": ".py",
   "mimetype": "text/x-python",
   "name": "python",
   "nbconvert_exporter": "python",
   "pygments_lexer": "ipython3",
   "version": "3.6.7"
  }
 },
 "nbformat": 4,
 "nbformat_minor": 2
}
