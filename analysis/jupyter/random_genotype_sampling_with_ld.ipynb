{
 "cells": [
  {
   "cell_type": "code",
   "execution_count": 1,
   "metadata": {},
   "outputs": [],
   "source": [
    "import collections\n",
    "import os\n",
    "import numpy as np"
   ]
  },
  {
   "cell_type": "code",
   "execution_count": 2,
   "metadata": {},
   "outputs": [],
   "source": [
    "def read_ldfile(ldfile):\n",
    "    ldict = collections.defaultdict(lambda: False)\n",
    "    with open(ldfile) as instream:\n",
    "        next(instream)\n",
    "        for line in instream:\n",
    "            arr = line.rstrip().split()\n",
    "            chrm = arr[0]\n",
    "            if chrm.startswith(\"chr\"):\n",
    "                chrm = int(chrm[3:])\n",
    "            else:\n",
    "                chrm = int(chrm)\n",
    "            pos1 = str(arr[1])\n",
    "            pos2 = str(arr[2])\n",
    "            n = int(arr[3])\n",
    "            r2 = float(arr[4])\n",
    "            if ldict[pos1]:\n",
    "                ldict[pos1][pos2] = r2\n",
    "            else:\n",
    "                ldict[pos1] = collections.defaultdict(lambda: False)\n",
    "                ldict[pos1][pos2] = r2\n",
    "                \n",
    "            if ldict[pos2]:\n",
    "                ldict[pos2][pos1] = r2\n",
    "            else:\n",
    "                ldict[pos2] = collections.defaultdict(lambda: False)\n",
    "                ldict[pos2][pos1] = r2\n",
    "    return ldict"
   ]
  },
  {
   "cell_type": "code",
   "execution_count": null,
   "metadata": {},
   "outputs": [],
   "source": []
  }
 ],
 "metadata": {
  "kernelspec": {
   "display_name": "Python 3",
   "language": "python",
   "name": "python3"
  },
  "language_info": {
   "codemirror_mode": {
    "name": "ipython",
    "version": 3
   },
   "file_extension": ".py",
   "mimetype": "text/x-python",
   "name": "python",
   "nbconvert_exporter": "python",
   "pygments_lexer": "ipython3",
   "version": "3.6.8"
  }
 },
 "nbformat": 4,
 "nbformat_minor": 2
}
