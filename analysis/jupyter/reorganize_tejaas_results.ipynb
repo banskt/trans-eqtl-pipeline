{
 "cells": [
  {
   "cell_type": "code",
   "execution_count": 4,
   "metadata": {
    "scrolled": true
   },
   "outputs": [
    {
     "name": "stdout",
     "output_type": "stream",
     "text": [
      "The autoreload extension is already loaded. To reload it, use:\n",
      "  %reload_ext autoreload\n",
      "ag raw 0.005\n",
      "haa raw 0.005\n",
      "msg raw 0.005\n"
     ]
    }
   ],
   "source": [
    "%load_ext autoreload\n",
    "%autoreload 2\n",
    "import numpy as np\n",
    "import matplotlib.pyplot as plt\n",
    "import os\n",
    "import sys\n",
    "sys.path.append('../')\n",
    "sys.path.append('/usr/users/fsimone/tejaas')\n",
    "import os\n",
    "from utils import utils\n",
    "import collections\n",
    "from shutil import copyfile\n",
    "\n",
    "tissue_file = \"/usr/users/fsimone/trans-eqtl-pipeline/main/tissues.txt\"\n",
    "tissuenames, descriptions = utils.read_tissues(tissue_file)\n",
    "\n",
    "expressions = [\"raw\"]\n",
    "sbetas = [\"0.005\"]\n",
    "sourcedir = \"/cbscratch/franco/trans-eqtl/dev-pipeline/gtex_v8_a2s_lncRNA/\"\n",
    "K = \"30\"\n",
    "pcutoff = 5e-08\n",
    "\n",
    "for t in tissuenames:\n",
    "    for expr in expressions:\n",
    "        for sb2 in sbetas:\n",
    "            print(t, expr, sb2)\n",
    "            preproc = \"permnull_sb{:s}_knn{:s}\".format(sb2, K)\n",
    "            basedir = sourcedir+\"/{:s}/gtex_v8-{:s}/tejaas/{:s}\".format(expr, t, preproc)\n",
    "            destdir = sourcedir+\"/{:s}/summary_{:g}/{:s}/tejaas/{:s}\".format(expr, pcutoff, t, preproc)\n",
    "            if not os.path.exists(destdir): os.makedirs(destdir)\n",
    "            if os.path.exists(basedir):\n",
    "                filelist = [x for x in os.listdir(basedir) if x.startswith(\"t\")]\n",
    "                for file in filelist:\n",
    "                    if file == \"target_genes_{:g}.txt\".format(pcutoff): \n",
    "                        destfile = \"target_genes.txt\"\n",
    "                        copyfile(os.path.join(basedir, file), os.path.join(destdir, destfile))\n",
    "                    if file == \"trans_eqtls_{:g}.txt\".format(pcutoff): \n",
    "                        destfile = \"trans_eqtls.txt\"\n",
    "                        copyfile(os.path.join(basedir, file), os.path.join(destdir, destfile))\n",
    "                file = \"snps_list.txt\"\n",
    "                copyfile(os.path.join(basedir, file), os.path.join(destdir, file))\n",
    "        #     basedir = sourcedir+\"/tmm_cclm/gtex_v8-{:s}/matrixeqtl\".format(t)\n",
    "        #     destdir = sourcedir+\"/summary/{:s}/matrixeqtl\".format(t)\n",
    "        #     os.makedirs(destdir)\n",
    "        #     if os.path.exists(basedir):\n",
    "        #         filelist = [x for x in os.listdir(basedir) if x.endswith(\"txt\")]\n",
    "        #         print(filelist)\n",
    "        #         for file in filelist:\n",
    "        #             copyfile(os.path.join(basedir, file), os.path.join(destdir, file))\n",
    "    "
   ]
  },
  {
   "cell_type": "code",
   "execution_count": 4,
   "metadata": {},
   "outputs": [
    {
     "name": "stdout",
     "output_type": "stream",
     "text": [
      "wb raw_lasso 0.4\n",
      "wb raw 0.4\n",
      "wb raw_lasso 0.6\n",
      "wb raw 0.6\n",
      "wb raw_lasso 0.95\n",
      "wb raw 0.95\n"
     ]
    }
   ],
   "source": [
    "### For Keff results\n",
    "\n",
    "tissue_file = \"/usr/users/fsimone/trans-eqtl-pipeline/main/tissues.txt\"\n",
    "tissuenames, descriptions = utils.read_tissues(tissue_file)\n",
    "\n",
    "Keffs = [\"0.4\", \"0.6\", \"0.95\"]\n",
    "expressions = [\"raw_lasso\", \"raw\"]\n",
    "sourcedir = \"/cbscratch/franco/trans-eqtl/dev-pipeline/gtex_v8_jan2020_tryouts/\"\n",
    "K = \"30\"\n",
    "pcutoff = 1e-06\n",
    "newdir = sourcedir+\"/summary_{:g}\".format(pcutoff)\n",
    "if not os.path.exists(newdir):\n",
    "    os.makedirs(newdir)\n",
    "\n",
    "for keff in Keffs:\n",
    "    for t in tissuenames:\n",
    "        for expr in expressions:\n",
    "            print(t, expr, keff)\n",
    "            preproc = \"permnull_sbDynamic{:s}_knn{:s}\".format(keff, K)\n",
    "            basedir = sourcedir+\"/{:s}/gtex_v8-{:s}/tejaas/{:s}\".format(expr, t, preproc)\n",
    "            destdir = sourcedir+\"/{:s}/summary_{:g}/{:s}/tejaas/{:s}\".format(expr, pcutoff, t, preproc)\n",
    "            if not os.path.exists(destdir): os.makedirs(destdir)\n",
    "            if os.path.exists(basedir):\n",
    "                filelist = [x for x in os.listdir(basedir) if x.startswith(\"t\")]\n",
    "                for file in filelist:\n",
    "                    if file == \"target_genes_{:g}.txt\".format(pcutoff): \n",
    "                        destfile = \"target_genes.txt\"\n",
    "                        copyfile(os.path.join(basedir, file), os.path.join(destdir, destfile))\n",
    "                    if file == \"trans_eqtls_{:g}.txt\".format(pcutoff): \n",
    "                        destfile = \"trans_eqtls.txt\"\n",
    "                        copyfile(os.path.join(basedir, file), os.path.join(destdir, destfile))\n",
    "                file = \"snps_list.txt\"\n",
    "                copyfile(os.path.join(basedir, file), os.path.join(destdir, file))"
   ]
  },
  {
   "cell_type": "code",
   "execution_count": 16,
   "metadata": {
    "scrolled": true
   },
   "outputs": [
    {
     "name": "stdout",
     "output_type": "stream",
     "text": [
      "as\n",
      "av\n",
      "ag\n",
      "aa\n",
      "ac\n",
      "at\n",
      "bam\n",
      "ban\n",
      "bca\n",
      "bceh\n",
      "bce\n",
      "bco\n",
      "bfr\n",
      "bhi\n",
      "bhy\n",
      "bnu\n",
      "bpu\n",
      "bsp\n",
      "bsu\n",
      "br\n",
      "ebv\n",
      "fib\n",
      "cols\n",
      "colt\n",
      "esog\n",
      "esom\n",
      "esomu\n",
      "haa\n",
      "hlv\n",
      "kc\n",
      "liv\n",
      "lu\n",
      "msg\n",
      "ms\n",
      "nt\n",
      "pan\n",
      "pit\n",
      "snse\n",
      "sse\n",
      "si\n",
      "spl\n",
      "sto\n",
      "thy\n",
      "wb\n",
      "ov\n",
      "pro\n",
      "tes\n",
      "ut\n",
      "va\n",
      "bl\n"
     ]
    }
   ],
   "source": [
    "# # For LD filtered results\n",
    "# newdir = sourcedir+\"/summary_LD_{:g}\".format(pcutoff)\n",
    "# if not os.path.exists(newdir):\n",
    "#     os.makedirs(newdir)\n",
    "\n",
    "# for t in tissuenames:\n",
    "#     print(t)\n",
    "#     basedir = sourcedir+\"/raw/gtex_v8-{:s}/tejaas/permnull_sb0.1_knn{:s}\".format(t, K)\n",
    "#     destdir = sourcedir+\"/summary_LD_{:g}\".format(pcutoff)+\"/{:s}/tejaas\".format(t)\n",
    "#     if not os.path.exists(destdir): os.makedirs(destdir)\n",
    "#     if os.path.exists(basedir):\n",
    "#         filelist = [x for x in os.listdir(basedir) if x.startswith(\"t\")]\n",
    "#         for file in filelist:\n",
    "#             if file == \"trans_eqtls_{:g}.txt.ld_prune\".format(pcutoff): \n",
    "#                 destfile = \"trans_eqtls.txt\"\n",
    "#                 copyfile(os.path.join(basedir, file), os.path.join(destdir, destfile))\n",
    "#             if file == \"trans_eqtls_{:g}.txt.ld_regions\".format(pcutoff): \n",
    "#                 destfile = \"ld_regions.txt\"\n",
    "#                 copyfile(os.path.join(basedir, file), os.path.join(destdir, destfile))"
   ]
  },
  {
   "cell_type": "code",
   "execution_count": null,
   "metadata": {},
   "outputs": [],
   "source": []
  }
 ],
 "metadata": {
  "kernelspec": {
   "display_name": "Python 3",
   "language": "python",
   "name": "python3"
  },
  "language_info": {
   "codemirror_mode": {
    "name": "ipython",
    "version": 3
   },
   "file_extension": ".py",
   "mimetype": "text/x-python",
   "name": "python",
   "nbconvert_exporter": "python",
   "pygments_lexer": "ipython3",
   "version": "3.6.7"
  }
 },
 "nbformat": 4,
 "nbformat_minor": 2
}
