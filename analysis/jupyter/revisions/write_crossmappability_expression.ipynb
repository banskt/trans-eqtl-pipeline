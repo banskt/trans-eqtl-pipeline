{
 "cells": [
  {
   "cell_type": "code",
   "execution_count": 1,
   "metadata": {},
   "outputs": [],
   "source": [
    "%load_ext autoreload\n",
    "%autoreload 2\n",
    "import os\n",
    "import numpy as np\n",
    "import pandas as pd\n",
    "import gzip\n",
    "import collections\n",
    "import sys\n",
    "sys.path.append('/usr/users/fsimone/tejaas')\n",
    "from iotools import readgtf\n",
    "from utils import cismasking\n",
    "\n",
    "sys.path.append('../../')\n",
    "import operator\n",
    "import json\n",
    "from utils import utils\n",
    "json_file = \"../../gtex_v8_metadata.json\"\n",
    "tissue_file = \"/usr/users/fsimone/trans-eqtl-pipeline/analysis/plots/tissue_table.txt\"\n",
    "tshorts, tfulls_plain = utils.read_tissues(tissue_file, plain=True)\n",
    "_, tfulls = utils.read_tissues(tissue_file)\n",
    "with open(json_file) as instream:\n",
    "    gtex_meta = json.load(instream)\n",
    "tissue_colors  = dict()\n",
    "tissue_names   = dict()\n",
    "tissue_samples = dict()\n",
    "for tshort, tfull in zip(tshorts, tfulls_plain):\n",
    "    tissue_names[tshort] = tfull\n",
    "for tshort, tfull in zip(tshorts, tfulls):\n",
    "    tissue_colors[tshort] = \"#\" + gtex_meta[tfull.replace(\" \", \"_\")][\"colorHex\"]\n",
    "    tissue_samples[tshort] = gtex_meta[tfull.replace(\" \", \"_\")][\"rnaSeqAndGenotypeSampleCount\"]\n",
    "\n",
    "brain_tissues = ['bam','ban','bca','bceh','bce','bco','bfr','bhi','bhy','bnu','bpu','bsp','bsu']   \n",
    "optim_tissues = ['haa', 'pan', 'spl', 'wb']\n"
   ]
  },
  {
   "cell_type": "code",
   "execution_count": 2,
   "metadata": {},
   "outputs": [],
   "source": [
    "base_dir = \"/cbscratch/franco/datasets\"\n",
    "gtffile = os.path.join(base_dir, \"GENCODE/gencode.v26.annotation.gtf.gz\")\n",
    "genemapfile  = os.path.join(base_dir, \"crossmappability/hg38_gene_mappability.txt.gz\")\n",
    "crossmapfile = os.path.join(base_dir, \"crossmappability/hg38_cross_mappability_strength.txt.gz\")"
   ]
  },
  {
   "cell_type": "code",
   "execution_count": 3,
   "metadata": {},
   "outputs": [],
   "source": [
    "SNPINFO_FIELDS = ['chrom', 'varid', 'bp_pos', 'ref_allele', 'alt_allele', 'maf']\n",
    "class SnpInfo(collections.namedtuple('_SnpInfo', SNPINFO_FIELDS)):\n",
    "    __slots__ = ()\n",
    "\n",
    "    \n",
    "def Snp2info(snps_list):\n",
    "    snpinfo = list()\n",
    "    for snpid in snps_list:\n",
    "        arr = snpid.split(\"_\")\n",
    "        chrom = int(arr[0][3:])\n",
    "        pos = int(arr[1])\n",
    "        this_snp = SnpInfo(chrom      = chrom,\n",
    "                           bp_pos     = pos,\n",
    "                           varid      = snpid,\n",
    "                           ref_allele = \"X\",\n",
    "                           alt_allele = \"Y\",\n",
    "                           maf        = None)\n",
    "        snpinfo.append(this_snp)\n",
    "    return snpinfo\n",
    "\n",
    "def knn_correction(expr, dosage, K, f=1):\n",
    "    assert (expr.shape[0] == dosage.shape[1])\n",
    "    pca = PCA(n_components=int(f * min(expr.shape[0], expr.shape[1]) ))\n",
    "#     print(\"Original dimension: {:d} x {:d}\".format(expr.shape[0], expr.shape[1]))\n",
    "    pca.fit(expr) # requires N x G\n",
    "    expr_pca = pca.transform(expr)\n",
    "#     print(\"Reduced dimension: {:d} x {:d}\".format(expr_pca.shape[0], expr_pca.shape[1]))\n",
    "\n",
    "    def gene_distance(a, b):\n",
    "        return np.linalg.norm(a - b)\n",
    "\n",
    "    nsample = expr.shape[0]\n",
    "    distance_matrix = np.zeros((nsample, nsample))\n",
    "    for i in range(nsample):\n",
    "        for j in range(i+1, nsample):\n",
    "            dist = gene_distance(expr_pca[i,:], expr_pca[j,:])\n",
    "            distance_matrix[i, j] = dist\n",
    "            distance_matrix[j, i] = dist\n",
    "\n",
    "    kneighbor = K\n",
    "    gx_knn = np.zeros_like(expr)\n",
    "    gt_knn = np.zeros_like(dosage)\n",
    "    neighbor_list = list()\n",
    "\n",
    "    for i in range(nsample):\n",
    "        neighbors = np.argsort(distance_matrix[i, :])[:kneighbor + 1][1:]\n",
    "        gx_knn[i, :] = expr[i, :] - np.mean(expr[neighbors, :], axis = 0)\n",
    "        # noisy_neighbors = np.random.choice(neighbors, size = int(2 * kneighbor / 3), replace = False)\n",
    "        # noisy_neighbors = np.random.choice(neighbors, size = kneighbor, replace = True )\n",
    "        noisy_neighbors = neighbors\n",
    "        gt_knn[:, i] = dosage[:, i] - np.mean(dosage[:, noisy_neighbors], axis = 1)\n",
    "        neighbor_list.append(neighbors)\n",
    "\n",
    "    return gx_knn, gt_knn\n",
    "    \n",
    "def extend_cismask(genes, cismaskcomp, cross_gene_dict):\n",
    "    # cross_gene_dict = read_crossmap(crossmapfile)\n",
    "    genes_ix_dict = dict(zip([x.ensembl_id for x in genes], np.arange(len(genes))))\n",
    "    crossmap_cismaskcomp = list()\n",
    "    for cismask in cismaskcomp:\n",
    "        gene_list = list()  # list of crossmapped genes for the cismask\n",
    "        for gene in [genes[i] for i in cismask.rmv_id]:\n",
    "            gene_list += cross_gene_dict[gene.ensembl_id]\n",
    "        uniq_gene_list = list(set(gene_list))\n",
    "        ugene_dict = collections.defaultdict(lambda: False) # significant speed-up by making a dict\n",
    "        for g in uniq_gene_list:\n",
    "            ugene_dict[g] = True\n",
    "        cm_gene2rmv_ix = [genes_ix_dict[x.ensembl_id] for x in genes if ugene_dict[x.ensembl_id]]\n",
    "        if len(cm_gene2rmv_ix) > 0:\n",
    "            new_mask_genes = sorted(list(set(list(cismask.rmv_id) + cm_gene2rmv_ix)))\n",
    "            new_cismask = cismask._replace(rmv_id = np.array(new_mask_genes))\n",
    "            crossmap_cismaskcomp.append(new_cismask)\n",
    "        else:\n",
    "            crossmap_cismaskcomp.append(cismask)\n",
    "    return crossmap_cismaskcomp\n",
    "\n",
    "def read_tissue_genes(gx_file, geneinfo_dict):\n",
    "    genes = list()\n",
    "    with open(gx_file) as inst:\n",
    "        next(inst)\n",
    "        for line in inst:\n",
    "            ensembl_id = line.split()[0]\n",
    "            genes.append(geneinfo_dict[ensembl_id])\n",
    "    return genes\n",
    "\n",
    "def read_crossmap(crossmapfile):\n",
    "    gene_pairs = collections.defaultdict(list)\n",
    "    with gzip.open(crossmapfile, 'r') as instream:\n",
    "        for line in instream:\n",
    "            arr = line.rstrip().split()\n",
    "            gene_pairs[arr[0].decode('utf-8')].append(arr[1].decode('utf-8'))\n",
    "    return gene_pairs\n",
    "\n",
    "cross_gene_dict = read_crossmap(crossmapfile) "
   ]
  },
  {
   "cell_type": "code",
   "execution_count": 4,
   "metadata": {},
   "outputs": [],
   "source": [
    "geneinfo = readgtf.gencode(gtffile, trim=False)\n",
    "\n",
    "### reformat gene info\n",
    "geneinfo_dict = dict()\n",
    "for g in geneinfo:\n",
    "    geneinfo_dict[g.ensembl_id] = g"
   ]
  },
  {
   "cell_type": "code",
   "execution_count": 5,
   "metadata": {},
   "outputs": [],
   "source": [
    "import mpmath\n",
    "mpmath.mp.dps = 50\n",
    "def pvalue(x): return float(mpmath.log10(1 - 0.5 * (1 + mpmath.erf(x/mpmath.sqrt(2)))))\n",
    "\n",
    "SNPRES_FIELDS = ['rsid', 'chrom', 'pos', 'logp', 'maf']\n",
    "class SNPRes(collections.namedtuple('_SNPRes', SNPRES_FIELDS)):\n",
    "    __slots__ = ()\n",
    "    \n",
    "def tejaas(filepath):\n",
    "    res = list()\n",
    "    with open(filepath, 'r') as mfile:\n",
    "        next(mfile)\n",
    "        for line in mfile:\n",
    "            arr   = line.strip().split(\"\\t\")\n",
    "            rsid  = arr[0]\n",
    "            chrom = int(arr[1])\n",
    "            pos   = int(arr[2])\n",
    "            maf   = float(arr[3])\n",
    "            q     = float(arr[4])\n",
    "            mu    = float(arr[5])\n",
    "            sigma = float(arr[6])\n",
    "            p     = float(arr[7])\n",
    "            if sigma == 0:\n",
    "                continue\n",
    "            logp  = np.log10(p) if p != 0 else pvalue( (q - mu) / sigma)\n",
    "            res.append(SNPRes(rsid=rsid, chrom=chrom, pos=pos, logp=-logp, maf=maf))\n",
    "    return res\n",
    "\n",
    "base_resdir = \"/cbscratch/franco/trans-eqtl/dev-pipeline/gtex_v8_SHAPEIT2/raw/gtex_v8-aa/tejaas/permnull_sb0.1_knn30_crossmap/chr1/rr.txt\"\n",
    "\n",
    "target_file    = \"trans_eqtls.txt.ld_prune\"\n",
    "\n",
    "## SHAPEIT 2 data\n",
    "path_sb01    = \"/cbscratch/franco/trans-eqtl/protein_coding_lncRNA_gamma01_knn30_cut5e-8/\"\n",
    "path_sb0006  = \"/cbscratch/franco/trans-eqtl/protein_coding_lncRNA_gamma0006_knn30_cut5e-8/\"\n",
    "path_raw     = \"/cbscratch/franco/trans-eqtl/dev-pipeline/gtex_v8_SHAPEIT2/raw/summary_5e-08/\"\n",
    "\n",
    "\n",
    "teqtls        = os.path.join(path_sb01, \"{:s}/trans_eqtls_ldpruned.txt\") \n",
    "teqtls_cm     = os.path.join(path_raw, \"{:s}/tejaas\", \"permnull_sb0.1_knn30_crossmap\", target_file)\n",
    "alt_teqtls    = os.path.join(path_sb0006, \"{:s}/trans_eqtls_ldpruned.txt\") \n",
    "alt_teqtls_cm = os.path.join(path_raw, \"{:s}/tejaas\", \"permnull_sb0.006_knn30_crossmap\", target_file)\n",
    "\n",
    "teqtl_dict = collections.defaultdict(dict)\n",
    "for ts in tshorts:\n",
    "    if ts not in brain_tissues:\n",
    "        if ts in optim_tissues:\n",
    "            teqtl_dict[\"sb\"][ts] = tejaas(alt_teqtls.format(ts))\n",
    "            teqtl_dict[\"cm\"][ts] = tejaas(alt_teqtls_cm.format(ts))\n",
    "        else:\n",
    "            teqtl_dict[\"sb\"][ts] = tejaas(teqtls.format(ts))\n",
    "            teqtl_dict[\"cm\"][ts] = tejaas(teqtls_cm.format(ts))\n"
   ]
  },
  {
   "cell_type": "code",
   "execution_count": 6,
   "metadata": {},
   "outputs": [
    {
     "name": "stdout",
     "output_type": "stream",
     "text": [
      "Loading all results\n",
      "Loading crossmap results - 4 optims\n",
      "Loading crossmap results - 4 good tissues\n"
     ]
    }
   ],
   "source": [
    "import pandas as pd\n",
    "\n",
    "# cm_allpval_file = \"/cbscratch/franco/trans-eqtl/dev-pipeline/gtex_v8_SHAPEIT2/all_variants_pvalues_tejaas_4optims_crossmap.txt\"\n",
    "# pval_df_cm = pd.read_csv(cm_allpval_file, header=0, index_col=0, sep=\"\\t\")\n",
    "\n",
    "print(\"Loading all results\")\n",
    "allpval_file = \"/cbscratch/franco/from_saikat/gtex_v8_202003/all_variants_pvalues_tejaas_4optims.txt\"\n",
    "pval_df = pd.read_csv(allpval_file, header=0, index_col=0, sep=\"\\t\")\n",
    "\n",
    "# ## Subset tissue dataframes of pvalues\n",
    "# print(pval_df_cm.shape)\n",
    "# print(pval_df.shape)\n",
    "\n",
    "# tissues_set = [x for x in tshorts if x not in brain_tissues]\n",
    "# pval_df_cm_subset = pval_df_cm[tissues_set]\n",
    "# pval_df_subset = pval_df[tissues_set]\n",
    "\n",
    "# print(pval_df_cm_subset.shape)\n",
    "# print(pval_df_subset.shape)\n",
    "\n",
    "\n",
    "### Load only the 4 optims tissues\n",
    "# print(\"Loading all results\")\n",
    "# pval_file = \"/cbscratch/franco/from_saikat/gtex_v8_202003/all_variants_pvalues_tejaas_only4optims.txt\"\n",
    "# pval_df   = pd.read_csv(pval_file, header=0, index_col=0, sep=\"\\t\")\n",
    "\n",
    "print(\"Loading crossmap results - 4 optims\")\n",
    "cm0006_pval_file = \"/cbscratch/franco/trans-eqtl/dev-pipeline/gtex_v8_SHAPEIT2/all_variants_pvalues_tejaas_only4optims_crossmap_sb0006.txt\"\n",
    "pval_df_cm0006   = pd.read_csv(cm0006_pval_file, header=0, index_col=0, sep=\"\\t\")\n",
    "\n",
    "# cm001_pval_file  = \"/cbscratch/franco/trans-eqtl/dev-pipeline/gtex_v8_SHAPEIT2_022021/all_variants_pvalues_tejaas_only4optims_crossmap_sb001.txt\"\n",
    "# pval_df_cm001    = pd.read_csv(cm001_pval_file, header=0, index_col=0, sep=\"\\t\")\n",
    "\n",
    "print(\"Loading crossmap results - 4 good tissues\")\n",
    "cm_pval_file     = \"/cbscratch/franco/trans-eqtl/dev-pipeline/gtex_v8_SHAPEIT2/all_variants_pvalues_tejaas_only4tissues_test_crossmap.txt\"\n",
    "pval_df_cm       = pd.read_csv(cm_pval_file, header=0, index_col=0, sep=\"\\t\")"
   ]
  },
  {
   "cell_type": "code",
   "execution_count": 7,
   "metadata": {},
   "outputs": [
    {
     "data": {
      "text/html": [
       "<div>\n",
       "<style scoped>\n",
       "    .dataframe tbody tr th:only-of-type {\n",
       "        vertical-align: middle;\n",
       "    }\n",
       "\n",
       "    .dataframe tbody tr th {\n",
       "        vertical-align: top;\n",
       "    }\n",
       "\n",
       "    .dataframe thead th {\n",
       "        text-align: right;\n",
       "    }\n",
       "</style>\n",
       "<table border=\"1\" class=\"dataframe\">\n",
       "  <thead>\n",
       "    <tr style=\"text-align: right;\">\n",
       "      <th></th>\n",
       "      <th>as</th>\n",
       "      <th>aa</th>\n",
       "      <th>ms</th>\n",
       "      <th>sse</th>\n",
       "    </tr>\n",
       "    <tr>\n",
       "      <th>tissues</th>\n",
       "      <th></th>\n",
       "      <th></th>\n",
       "      <th></th>\n",
       "      <th></th>\n",
       "    </tr>\n",
       "  </thead>\n",
       "  <tbody>\n",
       "    <tr>\n",
       "      <th>chr10_100000235_C_T_b38</th>\n",
       "      <td>0.334391</td>\n",
       "      <td>0.118680</td>\n",
       "      <td>0.531391</td>\n",
       "      <td>0.964654</td>\n",
       "    </tr>\n",
       "    <tr>\n",
       "      <th>chr10_100000943_G_A_b38</th>\n",
       "      <td>0.119109</td>\n",
       "      <td>0.179888</td>\n",
       "      <td>0.858760</td>\n",
       "      <td>0.077776</td>\n",
       "    </tr>\n",
       "    <tr>\n",
       "      <th>chr10_100000979_T_C_b38</th>\n",
       "      <td>0.106356</td>\n",
       "      <td>0.104938</td>\n",
       "      <td>0.898848</td>\n",
       "      <td>0.312808</td>\n",
       "    </tr>\n",
       "    <tr>\n",
       "      <th>chr10_100002012_T_C_b38</th>\n",
       "      <td>0.392354</td>\n",
       "      <td>0.169437</td>\n",
       "      <td>0.618659</td>\n",
       "      <td>0.057971</td>\n",
       "    </tr>\n",
       "    <tr>\n",
       "      <th>chr10_100002038_G_A_b38</th>\n",
       "      <td>0.587871</td>\n",
       "      <td>NaN</td>\n",
       "      <td>0.111461</td>\n",
       "      <td>NaN</td>\n",
       "    </tr>\n",
       "  </tbody>\n",
       "</table>\n",
       "</div>"
      ],
      "text/plain": [
       "                               as        aa        ms       sse\n",
       "tissues                                                        \n",
       "chr10_100000235_C_T_b38  0.334391  0.118680  0.531391  0.964654\n",
       "chr10_100000943_G_A_b38  0.119109  0.179888  0.858760  0.077776\n",
       "chr10_100000979_T_C_b38  0.106356  0.104938  0.898848  0.312808\n",
       "chr10_100002012_T_C_b38  0.392354  0.169437  0.618659  0.057971\n",
       "chr10_100002038_G_A_b38  0.587871       NaN  0.111461       NaN"
      ]
     },
     "execution_count": 7,
     "metadata": {},
     "output_type": "execute_result"
    }
   ],
   "source": [
    "pval_df_cm.head()"
   ]
  },
  {
   "cell_type": "markdown",
   "metadata": {},
   "source": [
    "## Write maskes expression files for a few tissues\n",
    "### Uses only the first mask or some defined mask"
   ]
  },
  {
   "cell_type": "code",
   "execution_count": 8,
   "metadata": {
    "scrolled": true
   },
   "outputs": [
    {
     "name": "stdout",
     "output_type": "stream",
     "text": [
      "Tissue: as\n",
      "SNPs before cm: 586\n",
      "SNPs after cm:  383\n",
      "SNPs brought in 15\n",
      "masked crossmap-genes: 5981\n",
      "masked cis-genes: 7\n",
      "Tissue: ms\n",
      "SNPs before cm: 2253\n",
      "SNPs after cm:  1645\n",
      "SNPs brought in 39\n",
      "masked crossmap-genes: 6371\n",
      "masked cis-genes: 31\n",
      "Tissue: sse\n",
      "SNPs before cm: 400\n",
      "SNPs after cm:  296\n",
      "SNPs brought in 26\n",
      "masked crossmap-genes: 7415\n",
      "masked cis-genes: 17\n",
      "Tissue: aa\n",
      "SNPs before cm: 1298\n",
      "SNPs after cm:  908\n",
      "SNPs brought in 22\n",
      "masked crossmap-genes: 6386\n",
      "masked cis-genes: 7\n",
      "Tissue: haa\n",
      "SNPs before cm: 64\n",
      "SNPs after cm:  236\n",
      "SNPs brought in 173\n",
      "masked crossmap-genes: 6985\n",
      "masked cis-genes: 43\n",
      "Tissue: pan\n",
      "SNPs before cm: 179\n",
      "SNPs after cm:  356\n",
      "SNPs brought in 178\n",
      "masked crossmap-genes: 5738\n",
      "masked cis-genes: 6\n",
      "Tissue: spl\n",
      "SNPs before cm: 1354\n",
      "SNPs after cm:  1666\n",
      "SNPs brought in 371\n",
      "masked crossmap-genes: 7608\n",
      "masked cis-genes: 40\n",
      "Tissue: wb\n",
      "SNPs before cm: 6269\n",
      "SNPs after cm:  11482\n",
      "SNPs brought in 5264\n",
      "masked crossmap-genes: 5706\n",
      "masked cis-genes: 25\n"
     ]
    }
   ],
   "source": [
    "global_cutoff = -np.log10(5e-8)\n",
    "\n",
    "# for ts in optim_tissues:\n",
    "for ts in [\"as\", \"ms\", \"sse\", \"aa\"]+optim_tissues:\n",
    "    print(f\"Tissue: {ts}\")\n",
    "\n",
    "    # gx_file = f\"/cbscratch/franco/trans-eqtl/new_preprocess_feb2020_freeze/gtex_v8/expression/tpms/{ts}_tpms_qcfilter.txt.protein_coding_lncRNA_filtered\"\n",
    "    gx_file = f\"/cbscratch/franco/trans-eqtl/new_preprocess_feb2020_freeze/gtex_v8/expression/tpms/{ts}_knn30_norm.txt.protein_coding_lncRNA_filtered\"\n",
    "    df = pd.read_csv(gx_file, header=0, index_col=0, sep=\"\\t\")\n",
    "\n",
    "    snpids    = [x.rsid for x in teqtl_dict[\"sb\"][ts]]\n",
    "    snpids_cm = [x.rsid for x in teqtl_dict[\"cm\"][ts]]\n",
    "\n",
    "    both_sets = list(set(snpids + snpids_cm))  \n",
    "\n",
    "    logpvals    = pval_df_subset[ts][both_sets]\n",
    "    logpvals_cm = pval_df_cm_subset[ts][both_sets]\n",
    "\n",
    "    # Find snps that become significant after crossmap filter\n",
    "    sig_after_cm_ix      = logpvals < global_cutoff\n",
    "    snpinfo_tissue       = Snp2info(both_sets)\n",
    "    snpinfo_sig_after_cm = [snp for i, snp in enumerate(snpinfo_tissue) if sig_after_cm_ix[i]]\n",
    "\n",
    "    print(f\"SNPs before cm: {len(snpids)}\")\n",
    "    print(f\"SNPs after cm:  {len(snpids_cm)}\")\n",
    "    print(f\"SNPs brought in {np.sum(sig_after_cm_ix)}\")\n",
    "\n",
    "    ts_genes = read_tissue_genes(gx_file, geneinfo_dict)\n",
    "\n",
    "    #### Obtain cismasks and add crossmappable genes\n",
    "    cismasklist = cismasking.get_cismasklist(snpinfo_sig_after_cm, ts_genes, None, window=1e6)\n",
    "    cismaskcomp = cismasking.compress_cismasklist(cismasklist)\n",
    "    crossmap_cismaskcomp = extend_cismask(ts_genes, cismaskcomp, cross_gene_dict)\n",
    "    \n",
    "    mask_i = 10\n",
    "            \n",
    "    if len(crossmap_cismaskcomp) < mask_i:\n",
    "        mask_i = len(crossmap_cismaskcomp)\n",
    "    print(f\"masked crossmap-genes: {len(crossmap_cismaskcomp[mask_i].rmv_id)}\")\n",
    "    print(f\"masked cis-genes: {len(cismaskcomp[mask_i].rmv_id)}\")\n",
    "\n",
    "    usegenes_cm = np.ones(df.shape[0], dtype=bool)\n",
    "    thismask_cm = crossmap_cismaskcomp[mask_i]\n",
    "    if thismask_cm.rmv_id.shape[0] > 0: usegenes_cm[thismask_cm.rmv_id] = False      \n",
    "    df_cm = df[usegenes_cm]\n",
    "\n",
    "    usegenes = np.ones(df.shape[0], dtype=bool)\n",
    "    thismask = cismaskcomp[mask_i]\n",
    "    if thismask.rmv_id.shape[0] > 0: usegenes[thismask.rmv_id] = False   \n",
    "    df_cis = df[usegenes]\n",
    "\n",
    "    ## Write down these expressions to find out if there are differences in the sigma beta optimization\n",
    "    df_cm.to_csv(f\"{ts}_knn30_crossmap_filtered_{mask_i}.txt\", sep=\"\\t\", header=True, index=True)\n",
    "    df_cis.to_csv(f\"{ts}_knn30_cismask_filtered_{mask_i}.txt\", sep=\"\\t\", header=True, index=True)"
   ]
  },
  {
   "cell_type": "code",
   "execution_count": 294,
   "metadata": {},
   "outputs": [
    {
     "name": "stdout",
     "output_type": "stream",
     "text": [
      "Tissue: haa\n",
      "Tissue: pan\n",
      "Tissue: spl\n",
      "Tissue: wb\n"
     ]
    }
   ],
   "source": [
    "## Copy original expressions to facilitate calculations\n",
    "import shutil\n",
    "\n",
    "for ts in optim_tissues:\n",
    "# for ts in [\"as\", \"ms\", \"sse\", \"aa\"]+optim_tissues:\n",
    "    print(f\"Tissue: {ts}\")\n",
    "\n",
    "    # gx_file = f\"/cbscratch/franco/trans-eqtl/new_preprocess_feb2020_freeze/gtex_v8/expression/tpms/{ts}_tpms_qcfilter.txt.protein_coding_lncRNA_filtered\"\n",
    "    # dest_file = f\"{ts}_tpms_qcfilter.txt\"\n",
    "    gx_file = f\"/cbscratch/franco/trans-eqtl/new_preprocess_feb2020_freeze/gtex_v8/expression/tpms/{ts}_knn30_norm.txt.protein_coding_lncRNA_filtered\"\n",
    "    dest_file = f\"{ts}_knn30_norm.txt\"\n",
    "    shutil.copy(gx_file, dest_file)"
   ]
  },
  {
   "cell_type": "markdown",
   "metadata": {},
   "source": [
    "## Separate cismasks of brought in and filtered out SNPs"
   ]
  },
  {
   "cell_type": "code",
   "execution_count": 10,
   "metadata": {},
   "outputs": [
    {
     "name": "stdout",
     "output_type": "stream",
     "text": [
      "Tissue: as\n",
      "SNPs before cm: 586\n",
      "SNPs after cm:  383\n",
      "SNPs brought in   15\n",
      "SNPs filtered out 219\n",
      "brough in masks: 15\n",
      "filtered out masks: 219\n",
      "Tissue: ms\n",
      "SNPs before cm: 2253\n",
      "SNPs after cm:  1645\n",
      "SNPs brought in   39\n",
      "SNPs filtered out 655\n",
      "brough in masks: 39\n",
      "filtered out masks: 654\n",
      "Tissue: sse\n",
      "SNPs before cm: 400\n",
      "SNPs after cm:  296\n",
      "SNPs brought in   26\n",
      "SNPs filtered out 132\n",
      "brough in masks: 26\n",
      "filtered out masks: 132\n",
      "Tissue: aa\n",
      "SNPs before cm: 1298\n",
      "SNPs after cm:  908\n",
      "SNPs brought in   22\n",
      "SNPs filtered out 412\n",
      "brough in masks: 22\n",
      "filtered out masks: 412\n",
      "Tissue: haa\n",
      "SNPs before cm: 64\n",
      "SNPs after cm:  236\n",
      "SNPs brought in   173\n",
      "SNPs filtered out 1\n",
      "brough in masks: 173\n",
      "filtered out masks: 1\n",
      "Tissue: pan\n",
      "SNPs before cm: 179\n",
      "SNPs after cm:  356\n",
      "SNPs brought in   178\n",
      "SNPs filtered out 1\n",
      "brough in masks: 178\n",
      "filtered out masks: 1\n",
      "Tissue: spl\n",
      "SNPs before cm: 1354\n",
      "SNPs after cm:  1666\n",
      "SNPs brought in   371\n",
      "SNPs filtered out 58\n",
      "brough in masks: 371\n",
      "filtered out masks: 58\n",
      "Tissue: wb\n",
      "SNPs before cm: 6269\n",
      "SNPs after cm:  11482\n",
      "SNPs brought in   5264\n",
      "SNPs filtered out 8\n",
      "brough in masks: 5264\n",
      "filtered out masks: 8\n"
     ]
    }
   ],
   "source": [
    "global_cutoff = -np.log10(5e-8)\n",
    "\n",
    "# for ts in optim_tissues:\n",
    "tissue_masks = dict()\n",
    "for ts in [\"as\", \"ms\", \"sse\", \"aa\"]+optim_tissues:\n",
    "    print(f\"Tissue: {ts}\")\n",
    "\n",
    "    # gx_file = f\"/cbscratch/franco/trans-eqtl/new_preprocess_feb2020_freeze/gtex_v8/expression/tpms/{ts}_tpms_qcfilter.txt.protein_coding_lncRNA_filtered\"\n",
    "    gx_file = f\"/cbscratch/franco/trans-eqtl/new_preprocess_feb2020_freeze/gtex_v8/expression/tpms/{ts}_knn30_norm.txt.protein_coding_lncRNA_filtered\"\n",
    "    df = pd.read_csv(gx_file, header=0, index_col=0, sep=\"\\t\")\n",
    "\n",
    "    snpids    = [x.rsid for x in teqtl_dict[\"sb\"][ts]]\n",
    "    snpids_cm = [x.rsid for x in teqtl_dict[\"cm\"][ts]]\n",
    "\n",
    "    both_sets      = list(set(snpids + snpids_cm))  \n",
    "    snpinfo_tissue = Snp2info(both_sets)\n",
    "    \n",
    "    logpvals = pval_df[ts][both_sets]\n",
    "    if ts in optim_tissues: \n",
    "        logpvals_cm = pval_df_cm0006[ts][both_sets]\n",
    "    else:\n",
    "        logpvals_cm = pval_df_cm[ts][both_sets]\n",
    "\n",
    "    # Find snps that become significant after crossmap filter\n",
    "    sig_after_cm_ix      = logpvals < global_cutoff\n",
    "    snpinfo_sig_after_cm = [snp for i, snp in enumerate(snpinfo_tissue) if sig_after_cm_ix[i]]\n",
    "\n",
    "    print(f\"SNPs before cm: {len(snpids)}\")\n",
    "    print(f\"SNPs after cm:  {len(snpids_cm)}\")\n",
    "    print(f\"SNPs brought in   {np.sum(sig_after_cm_ix)}\")\n",
    "    print(f\"SNPs filtered out {np.sum(logpvals_cm < global_cutoff)}\")\n",
    "\n",
    "    ts_genes = read_tissue_genes(gx_file, geneinfo_dict)\n",
    "\n",
    "    #### Obtain cismasks and add crossmappable genes\n",
    "    cismasklist = cismasking.get_cismasklist(snpinfo_tissue, ts_genes, None, window=1e6)\n",
    "    cismaskcomp = cismasking.compress_cismasklist(cismasklist)\n",
    "    crossmap_cismaskcomp = extend_cismask(ts_genes, cismaskcomp, cross_gene_dict)\n",
    "\n",
    "    masks_bi = list()\n",
    "    masks_fo = list()\n",
    "    for mask_i in range(len(crossmap_cismaskcomp)):\n",
    "        targ_snp    = both_sets[cismaskcomp[mask_i].apply2[0]]\n",
    "        snp_logp    = pval_df[ts][targ_snp]\n",
    "        if ts in optim_tissues:\n",
    "            snp_logp_cm = pval_df_cm0006[ts][targ_snp]\n",
    "        else:\n",
    "            snp_logp_cm = pval_df_cm[ts][targ_snp]\n",
    "\n",
    "        if snp_logp >= global_cutoff and snp_logp_cm < global_cutoff: # filtered out\n",
    "            masks_fo.append(crossmap_cismaskcomp[mask_i])\n",
    "        if snp_logp < global_cutoff and snp_logp_cm >= global_cutoff: # brought in\n",
    "            masks_bi.append(crossmap_cismaskcomp[mask_i])\n",
    "    print(f\"brough in masks: {len(masks_bi)}\")\n",
    "    print(f\"filtered out masks: {len(masks_fo)}\")\n",
    "        \n",
    "    tissue_masks[ts] = dict()\n",
    "    tissue_masks[ts][\"bi\"] = masks_bi\n",
    "    tissue_masks[ts][\"fo\"] = masks_fo\n",
    "    "
   ]
  },
  {
   "cell_type": "code",
   "execution_count": 360,
   "metadata": {},
   "outputs": [
    {
     "name": "stdout",
     "output_type": "stream",
     "text": [
      "mask bi: (5587,)\n",
      "mask fo: (6845,)\n"
     ]
    }
   ],
   "source": [
    "ts = \"spl\"\n",
    "gx_file = f\"/cbscratch/franco/trans-eqtl/new_preprocess_feb2020_freeze/gtex_v8/expression/tpms/{ts}_knn30_norm.txt.protein_coding_lncRNA_filtered\"\n",
    "df = pd.read_csv(gx_file, header=0, index_col=0, sep=\"\\t\")\n",
    "\n",
    "mask_bi = tissue_masks[ts][\"bi\"][0]\n",
    "mask_fo = tissue_masks[ts][\"fo\"][0]\n",
    "\n",
    "usegenes_bi = np.ones(df.shape[0], dtype=bool)\n",
    "print(f\"mask bi: {mask_bi.rmv_id.shape}\")\n",
    "if mask_bi.rmv_id.shape[0] > 0: usegenes_bi[mask_bi.rmv_id] = False      \n",
    "df_cm_bi = df[usegenes_bi]\n",
    "\n",
    "usegenes_fo = np.ones(df.shape[0], dtype=bool)\n",
    "print(f\"mask fo: {mask_fo.rmv_id.shape}\")\n",
    "if mask_fo.rmv_id.shape[0] > 0: usegenes_fo[mask_fo.rmv_id] = False   \n",
    "df_cm_fo = df[usegenes_fo]"
   ]
  },
  {
   "cell_type": "code",
   "execution_count": 361,
   "metadata": {},
   "outputs": [
    {
     "data": {
      "text/plain": [
       "(16395, 227)"
      ]
     },
     "execution_count": 361,
     "metadata": {},
     "output_type": "execute_result"
    }
   ],
   "source": [
    "df.shape"
   ]
  },
  {
   "cell_type": "code",
   "execution_count": 362,
   "metadata": {},
   "outputs": [],
   "source": [
    "U, S, Vt    = np.linalg.svd(df.values.T, full_matrices=False)\n",
    "U, S_bi, Vt = np.linalg.svd(df_cm_bi.values.T, full_matrices=False)\n",
    "U, S_fo, Vt = np.linalg.svd(df_cm_fo.values.T, full_matrices=False)"
   ]
  },
  {
   "cell_type": "code",
   "execution_count": 363,
   "metadata": {},
   "outputs": [
    {
     "data": {
      "image/png": "[encoded data removed]",
      "text/plain": [
       "<Figure size 1152x504 with 2 Axes>"
      ]
     },
     "metadata": {
      "needs_background": "light"
     },
     "output_type": "display_data"
    }
   ],
   "source": [
    "fig = plt.figure(figsize=(16,7))\n",
    "ax1 = fig.add_subplot(121)\n",
    "ax2 = fig.add_subplot(122)\n",
    "\n",
    "ax1.scatter(np.arange(len(S)), S)\n",
    "ax1.scatter(np.arange(len(S)), S_bi, label=\"brought in\")\n",
    "\n",
    "b, y0 = fit_line(S)\n",
    "abline(ax1, b, y0)\n",
    "\n",
    "ax2.scatter(np.arange(len(S)), S)\n",
    "ax2.scatter(np.arange(len(S)), S_fo, label=\"filtered out\")\n",
    "\n",
    "ax1.legend()\n",
    "ax2.legend()\n",
    "plt.savefig(f\"{ts}_singular_values_crossmaps.png\")\n",
    "plt.show()"
   ]
  },
  {
   "cell_type": "code",
   "execution_count": 364,
   "metadata": {},
   "outputs": [
    {
     "name": "stdout",
     "output_type": "stream",
     "text": [
      "spl\n"
     ]
    },
    {
     "data": {
      "image/png": "[encoded data removed]",
      "text/plain": [
       "<Figure size 1152x504 with 2 Axes>"
      ]
     },
     "metadata": {
      "needs_background": "light"
     },
     "output_type": "display_data"
    }
   ],
   "source": [
    "import matplotlib.pyplot as plt\n",
    "from scipy.optimize import curve_fit\n",
    "from sklearn.linear_model import LinearRegression\n",
    "\n",
    "def fit_line(S):\n",
    "    rank = len(S)\n",
    "    start= int(rank*55/100)\n",
    "    end  = int(rank*55/100+3)\n",
    "    x    = np.arange(rank)[start:end].reshape(-1, 1)\n",
    "    y    = S[start:end].reshape(-1, 1)\n",
    "    reg = LinearRegression().fit(x, y)\n",
    "    b  = reg.coef_[0]\n",
    "    y0 = reg.intercept_\n",
    "    return b, y0\n",
    "\n",
    "def func(x, a, b):\n",
    "    return a * x**4 + b\n",
    "\n",
    "def correct_S(S):\n",
    "    rank = len(S)\n",
    "    x_vals = np.arange(rank/2, rank)\n",
    "    b, y0 = fit_line(S)\n",
    "    y_vals = y0 + b * x_vals\n",
    "    err  = np.abs(y_vals - S[int(rank/2): rank])\n",
    "    popt, pcov = curve_fit(func, x_vals, err/np.max(err), bounds=(0,[1,1]))\n",
    "    corr = np.zeros(len(S))\n",
    "    corr[:int(rank/2)] = S[:int(rank/2)]\n",
    "    corr[int(rank/2):] = S[int(rank/2): rank] + err*func(x_vals, *popt)\n",
    "    corr[-1] = S[-1]\n",
    "    return corr, popt, err\n",
    "\n",
    "def abline(ax, slope, intercept):\n",
    "    \"\"\"Plot a line from slope and intercept\"\"\"\n",
    "    x_vals = np.array(ax.get_xlim())\n",
    "    y_vals = intercept + slope * x_vals\n",
    "    ax.plot(x_vals, y_vals, '--', zorder=10, color=\"red\", label=\"line fit\")\n",
    "\n",
    "print(ts)\n",
    "rank = len(S)\n",
    "fig = plt.figure(figsize=(16,7))\n",
    "ax1 = fig.add_subplot(121)\n",
    "ax2 = fig.add_subplot(122)\n",
    "\n",
    "ax1.scatter(np.arange(len(S)), S, label=\"S\")\n",
    "\n",
    "b, y0 = fit_line(S)\n",
    "abline(ax1, b, y0)\n",
    "corrS, popt, err = correct_S(S)\n",
    "ax1.scatter(np.arange(len(S)), corrS, label=\"S corr\", alpha=0.2)\n",
    "\n",
    "x_vals = np.arange(int(rank/2), rank)\n",
    "ax2.scatter(x_vals, func(x_vals, *popt))\n",
    "ax2.scatter(x_vals, err/np.max(err), label=\"err\")\n",
    "\n",
    "ax1.legend()\n",
    "ax2.legend()\n",
    "ax1.set_xlim(rank/2, rank)\n",
    "ax1.set_ylim(0, S[int(rank/2)])\n",
    "# plt.savefig(f\"{ts}_singular_values_corrected.png\")\n",
    "plt.show()"
   ]
  },
  {
   "cell_type": "code",
   "execution_count": 374,
   "metadata": {},
   "outputs": [
    {
     "data": {
      "text/plain": [
       "array([ 0,  1,  2,  3,  4,  5,  6,  7,  8,  9, 10, 11, 12, 13, 14, 15, 16,\n",
       "       17, 18, 19, 20, 21, 22, 23, 24, 25, 26, 27, 28, 29, 30, 31, 32, 33,\n",
       "       34, 35, 36, 37, 38, 39, 40, 41, 42, 43, 44, 45, 46, 47, 48, 49, 50,\n",
       "       51, 52, 53, 54, 55, 56, 57, 58, 59, 60, 61, 62, 63, 64, 65, 66, 67,\n",
       "       68,  2,  2,  2,  2,  2,  2,  2,  2,  2,  2,  2,  2,  2,  2,  2,  2,\n",
       "        2,  2,  2,  2,  2,  2,  2,  2,  2,  2,  2,  2,  2,  2,  0])"
      ]
     },
     "execution_count": 374,
     "metadata": {},
     "output_type": "execute_result"
    }
   ],
   "source": [
    "a = np.arange(0,100)\n",
    "b = np.repeat(1, 100)\n",
    "\n",
    "a[-31:-1] = np.repeat(2,30)\n",
    "a[-1] = 0\n",
    "a\n"
   ]
  },
  {
   "cell_type": "code",
   "execution_count": 375,
   "metadata": {},
   "outputs": [
    {
     "name": "stdout",
     "output_type": "stream",
     "text": [
      "spl\n"
     ]
    },
    {
     "data": {
      "image/png": "[encoded data removed]",
      "text/plain": [
       "<Figure size 648x504 with 1 Axes>"
      ]
     },
     "metadata": {
      "needs_background": "light"
     },
     "output_type": "display_data"
    }
   ],
   "source": [
    "import matplotlib.pyplot as plt\n",
    "from scipy.optimize import curve_fit\n",
    "from sklearn.linear_model import LinearRegression\n",
    "\n",
    "def fit_line(S):\n",
    "    rank = len(S)\n",
    "    start= int(rank*55/100)\n",
    "    end  = int(rank*55/100+3)\n",
    "    x    = np.arange(rank)[start:end].reshape(-1, 1)\n",
    "    y    = S[start:end].reshape(-1, 1)\n",
    "    reg = LinearRegression().fit(x, y)\n",
    "    b  = reg.coef_[0]\n",
    "    y0 = reg.intercept_\n",
    "    return b, y0\n",
    "\n",
    "def func(x, a, b):\n",
    "    return a * x**4 + b\n",
    "\n",
    "def correct_S30(S):\n",
    "    rank = len(S)\n",
    "    corr = np.zeros(len(S))\n",
    "    if rank > 32:\n",
    "        corr[:-31] = S[:-31]\n",
    "        corr[-31:-1] = np.repeat(S[-32], 30)\n",
    "    corr[-1] = S[-1]\n",
    "    return corr\n",
    "\n",
    "\n",
    "print(ts)\n",
    "rank = len(S)\n",
    "fig = plt.figure(figsize=(9,7))\n",
    "ax1 = fig.add_subplot(111)\n",
    "\n",
    "\n",
    "ax1.scatter(np.arange(len(S)), S, label=\"S\")\n",
    "corrS = correct_S30(S)\n",
    "ax1.scatter(np.arange(len(S)), corrS, label=\"S corr\", alpha=0.2)\n",
    "\n",
    "ax1.legend()\n",
    "ax1.set_xlim(rank/2, rank)\n",
    "ax1.set_ylim(0, S[int(rank/2)])\n",
    "# plt.savefig(f\"{ts}_singular_values_corrected.png\")\n",
    "plt.show()"
   ]
  },
  {
   "cell_type": "code",
   "execution_count": 343,
   "metadata": {
    "scrolled": false
   },
   "outputs": [
    {
     "name": "stdout",
     "output_type": "stream",
     "text": [
      "spl\n"
     ]
    },
    {
     "data": {
      "image/png": "[encoded data removed]",
      "text/plain": [
       "<Figure size 1152x504 with 2 Axes>"
      ]
     },
     "metadata": {
      "needs_background": "light"
     },
     "output_type": "display_data"
    },
    {
     "data": {
      "image/png": "[encoded data removed]",
      "text/plain": [
       "<Figure size 432x288 with 1 Axes>"
      ]
     },
     "metadata": {
      "needs_background": "light"
     },
     "output_type": "display_data"
    }
   ],
   "source": [
    "for ts in [\"spl\"]: #[\"as\", \"ms\", \"sse\", \"aa\"]+optim_tissues:\n",
    "    gx_file = f\"/cbscratch/franco/trans-eqtl/new_preprocess_feb2020_freeze/gtex_v8/expression/tpms/{ts}_knn30_norm.txt.protein_coding_lncRNA_filtered\"\n",
    "    df = pd.read_csv(gx_file, header=0, index_col=0, sep=\"\\t\")\n",
    "\n",
    "    U, S, Vt    = np.linalg.svd(df.values.T, full_matrices=False)\n",
    "\n",
    "    print(ts)\n",
    "    rank = len(S)\n",
    "    fig = plt.figure(figsize=(16,7))\n",
    "    ax1 = fig.add_subplot(121)\n",
    "    ax2 = fig.add_subplot(122)\n",
    "\n",
    "    ax1.scatter(np.arange(len(S)), S, label=\"S\")\n",
    "\n",
    "    b, y0 = fit_line(S)\n",
    "    abline(ax1, b, y0)\n",
    "    corrS, popt, err = correct_S(S)\n",
    "    ax1.scatter(np.arange(len(S)), corrS, label=\"S corr\", alpha=0.2)\n",
    "\n",
    "    x_vals = np.arange(int(rank/2), rank)\n",
    "    ax2.scatter(x_vals, func(x_vals, *popt))\n",
    "    ax2.scatter(x_vals, err/np.max(err), label=\"err\")\n",
    "\n",
    "    ax1.legend()\n",
    "    ax2.legend()\n",
    "    ax1.set_xlim(rank/2, rank)\n",
    "    ax1.set_ylim(0, S[int(rank/2)])\n",
    "    plt.savefig(f\"{ts}_singular_values_corrected.png\")\n",
    "    plt.show()\n",
    "    \n",
    "    plt.plot(S - corrS)\n",
    "    plt.show()\n",
    "    "
   ]
  },
  {
   "cell_type": "code",
   "execution_count": 113,
   "metadata": {},
   "outputs": [
    {
     "data": {
      "image/png": "[encoded data removed]",
      "text/plain": [
       "<Figure size 432x288 with 1 Axes>"
      ]
     },
     "metadata": {
      "needs_background": "light"
     },
     "output_type": "display_data"
    }
   ],
   "source": [
    "import scipy\n",
    "from scipy.optimize import curve_fit\n",
    "\n",
    "test = scipy.stats.norm.cdf(np.arange(rank)/rank, loc=0.5, scale=.1)\n",
    "plt.plot(test[::-1], np.arange(rank)/rank)\n",
    "plt.show()\n",
    "   "
   ]
  },
  {
   "cell_type": "markdown",
   "metadata": {},
   "source": [
    "# Avg number of masked genes for cis and crossmap"
   ]
  },
  {
   "cell_type": "code",
   "execution_count": 7,
   "metadata": {},
   "outputs": [
    {
     "name": "stdout",
     "output_type": "stream",
     "text": [
      "1000\n",
      "Tissue: wb\n"
     ]
    }
   ],
   "source": [
    "############# used to test a single tissue with random ld-pruned SNPs\n",
    "\n",
    "snp_file = \"/cbscratch/franco/trans-eqtl/dev-pipeline/gtex_v8_SHAPEIT2/raw/gtex_v8-wb/tejaas/permnull_sb0.006_knn30_crossmap/snps_list.txt\"\n",
    "snp_list = list()\n",
    "nsubset  = 1000\n",
    "with open(snp_file) as inst:\n",
    "    next(inst)\n",
    "    for line in inst:\n",
    "        snp_list.append(line.split(\"\\t\")[0])\n",
    "\n",
    "sampled_snps = list(np.random.choice((snp_list), size = nsubset, replace = False))\n",
    "print(len(sampled_snps))\n",
    "snpinfo = Snp2info(sampled_snps)\n",
    "\n",
    "for ts in [\"wb\"]:\n",
    "    print(f\"Tissue: {ts}\")\n",
    "\n",
    "    # gx_file = f\"/cbscratch/franco/trans-eqtl/new_preprocess_feb2020_freeze/gtex_v8/expression/tpms/{ts}_tpms_qcfilter.txt.protein_coding_lncRNA_filtered\"\n",
    "    gx_file = f\"/cbscratch/franco/trans-eqtl/new_preprocess_feb2020_freeze/gtex_v8/expression/tpms/{ts}_knn30_norm.txt.protein_coding_lncRNA_filtered\"\n",
    "    df = pd.read_csv(gx_file, header=0, index_col=0, sep=\"\\t\")\n",
    "\n",
    "    ts_genes = read_tissue_genes(gx_file, geneinfo_dict)\n",
    "\n",
    "    #### Obtain cismasks and add crossmappable genes\n",
    "    cismasklist = cismasking.get_cismasklist(snpinfo, ts_genes, None, window=1e6)\n",
    "    cismaskcomp = cismasking.compress_cismasklist(cismasklist)\n",
    "    crossmap_cismaskcomp = extend_cismask(ts_genes, cismaskcomp, cross_gene_dict)"
   ]
  },
  {
   "cell_type": "code",
   "execution_count": 23,
   "metadata": {},
   "outputs": [
    {
     "name": "stdout",
     "output_type": "stream",
     "text": [
      "Avg crossmap masksize: 3508.092914506455\n",
      "Avg cis masksize: 9.019823116803904\n"
     ]
    }
   ],
   "source": [
    "cm_masksizes  = np.array([len(x.rmv_id) for x in crossmap_cismaskcomp])\n",
    "cis_masksizes = np.array([len(x.rmv_id) for x in cismaskcomp])\n",
    "avg_masksize_cm  = np.mean(cm_masksizes)\n",
    "avg_masksize_cis = np.mean(cis_masksizes)\n",
    "print(f\"Avg crossmap masksize: {avg_masksize_cm}\")\n",
    "print(f\"Avg cis masksize: {avg_masksize_cis}\")"
   ]
  },
  {
   "cell_type": "code",
   "execution_count": 8,
   "metadata": {},
   "outputs": [
    {
     "data": {
      "text/plain": [
       "[array([2427, 2428, 2429]),\n",
       " array([4986, 4987, 4988, 4989, 4990, 4991, 4992, 4993, 4994, 4995, 4996]),\n",
       " array([8791, 8792, 8793, 8794, 8795, 8796, 8797, 8798, 8799, 8800, 8801]),\n",
       " array([2931, 2932, 2933, 2934, 2935, 2936, 2937, 2938, 2939, 2940]),\n",
       " array([5081, 5082, 5083, 5084]),\n",
       " array([1747, 1748, 1749, 1750, 1751, 1752]),\n",
       " array([], dtype=float64),\n",
       " array([], dtype=float64),\n",
       " array([], dtype=float64),\n",
       " array([9396, 9397, 9398, 9399, 9400, 9401, 9402])]"
      ]
     },
     "execution_count": 8,
     "metadata": {},
     "output_type": "execute_result"
    }
   ],
   "source": [
    "cismasklist[:10]"
   ]
  },
  {
   "cell_type": "code",
   "execution_count": null,
   "metadata": {},
   "outputs": [],
   "source": []
  }
 ],
 "metadata": {
  "kernelspec": {
   "display_name": "pyenv37",
   "language": "python",
   "name": "pyenv37"
  },
  "language_info": {
   "codemirror_mode": {
    "name": "ipython",
    "version": 3
   },
   "file_extension": ".py",
   "mimetype": "text/x-python",
   "name": "python",
   "nbconvert_exporter": "python",
   "pygments_lexer": "ipython3",
   "version": "3.7.9"
  }
 },
 "nbformat": 4,
 "nbformat_minor": 2
}
