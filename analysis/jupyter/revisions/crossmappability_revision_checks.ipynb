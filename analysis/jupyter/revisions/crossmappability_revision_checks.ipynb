{
 "cells": [
  {
   "cell_type": "code",
   "execution_count": 1,
   "metadata": {},
   "outputs": [],
   "source": [
    "import os\n",
    "import numpy as np\n",
    "import gzip\n",
    "import collections\n",
    "import sys\n",
    "sys.path.append('/usr/users/fsimone/tejaas')\n",
    "from iotools import readgtf\n",
    "from utils import cismasking\n",
    "\n",
    "sys.path.append('../../')\n",
    "import operator\n",
    "import json\n",
    "from utils import utils\n",
    "json_file = \"../../gtex_v8_metadata.json\"\n",
    "tissue_file = \"/usr/users/fsimone/trans-eqtl-pipeline/analysis/plots/tissue_table.txt\"\n",
    "tshorts, tfulls_plain = utils.read_tissues(tissue_file, plain=True)\n",
    "_, tfulls = utils.read_tissues(tissue_file)\n",
    "with open(json_file) as instream:\n",
    "    gtex_meta = json.load(instream)\n",
    "tissue_colors  = dict()\n",
    "tissue_names   = dict()\n",
    "tissue_samples = dict()\n",
    "for tshort, tfull in zip(tshorts, tfulls_plain):\n",
    "    tissue_names[tshort] = tfull\n",
    "for tshort, tfull in zip(tshorts, tfulls):\n",
    "    tissue_colors[tshort] = \"#\" + gtex_meta[tfull.replace(\" \", \"_\")][\"colorHex\"]\n",
    "    tissue_samples[tshort] = gtex_meta[tfull.replace(\" \", \"_\")][\"rnaSeqAndGenotypeSampleCount\"]\n",
    "\n",
    "brain_tissues = ['bam','ban','bca','bceh','bce','bco','bfr','bhi','bhy','bnu','bpu','bsp','bsu']   \n",
    "optim_tissues = ['haa', 'pan', 'spl', 'wb']\n",
    "\n"
   ]
  },
  {
   "cell_type": "code",
   "execution_count": 2,
   "metadata": {},
   "outputs": [],
   "source": [
    "base_dir = \"/cbscratch/franco/datasets\"\n",
    "gtffile = os.path.join(base_dir, \"GENCODE/gencode.v26.annotation.gtf.gz\")\n",
    "genemapfile  = os.path.join(base_dir, \"crossmappability/hg38_gene_mappability.txt.gz\")\n",
    "crossmapfile = os.path.join(base_dir, \"crossmappability/hg38_cross_mappability_strength.txt.gz\")"
   ]
  },
  {
   "cell_type": "code",
   "execution_count": 3,
   "metadata": {},
   "outputs": [],
   "source": [
    "SNPINFO_FIELDS = ['chrom', 'varid', 'bp_pos', 'ref_allele', 'alt_allele', 'maf']\n",
    "class SnpInfo(collections.namedtuple('_SnpInfo', SNPINFO_FIELDS)):\n",
    "    __slots__ = ()\n",
    "\n",
    "    \n",
    "def Snp2info(snps_list):\n",
    "    snpinfo = list()\n",
    "    for snpid in snps_list:\n",
    "        arr = snpid.split(\"_\")\n",
    "        chrom = int(arr[0][3:])\n",
    "        pos = int(arr[1])\n",
    "        this_snp = SnpInfo(chrom      = chrom,\n",
    "                           bp_pos     = pos,\n",
    "                           varid      = snpid,\n",
    "                           ref_allele = \"X\",\n",
    "                           alt_allele = \"Y\",\n",
    "                           maf        = None)\n",
    "        snpinfo.append(this_snp)\n",
    "    return snpinfo\n",
    "    \n",
    "def extend_cismask(genes, cismaskcomp, cross_gene_dict):\n",
    "    # cross_gene_dict = read_crossmap(crossmapfile)\n",
    "    genes_ix_dict = dict(zip([x.ensembl_id for x in genes], np.arange(len(genes))))\n",
    "    crossmap_cismaskcomp = list()\n",
    "    for cismask in cismaskcomp:\n",
    "        gene_list = list()  # list of crossmapped genes for the cismask\n",
    "        for gene in [genes[i] for i in cismask.rmv_id]:\n",
    "            gene_list += cross_gene_dict[gene.ensembl_id]\n",
    "        uniq_gene_list = list(set(gene_list))\n",
    "        ugene_dict = collections.defaultdict(lambda: False) # significant speed-up by making a dict\n",
    "        for g in uniq_gene_list:\n",
    "            ugene_dict[g] = True\n",
    "        cm_gene2rmv_ix = [genes_ix_dict[x.ensembl_id] for x in genes if ugene_dict[x.ensembl_id]]\n",
    "        if len(cm_gene2rmv_ix) > 0:\n",
    "            new_mask_genes = sorted(list(set(list(cismask.rmv_id) + cm_gene2rmv_ix)))\n",
    "            new_cismask = cismask._replace(rmv_id = np.array(new_mask_genes))\n",
    "            crossmap_cismaskcomp.append(new_cismask)\n",
    "        else:\n",
    "            crossmap_cismaskcomp.append(cismask)\n",
    "    return crossmap_cismaskcomp\n",
    "\n",
    "def read_tissue_genes(gx_file, geneinfo_dict):\n",
    "    genes = list()\n",
    "    with open(gx_file) as inst:\n",
    "        next(inst)\n",
    "        for line in inst:\n",
    "            ensembl_id = line.split()[0]\n",
    "            genes.append(geneinfo_dict[ensembl_id])\n",
    "    return genes\n",
    "\n",
    "def read_crossmap(crossmapfile):\n",
    "    gene_pairs = collections.defaultdict(list)\n",
    "    with gzip.open(crossmapfile, 'r') as instream:\n",
    "        for line in instream:\n",
    "            arr = line.rstrip().split()\n",
    "            gene_pairs[arr[0].decode('utf-8')].append(arr[1].decode('utf-8'))\n",
    "    return gene_pairs\n",
    "\n",
    "cross_gene_dict = read_crossmap(crossmapfile) "
   ]
  },
  {
   "cell_type": "code",
   "execution_count": 4,
   "metadata": {},
   "outputs": [],
   "source": [
    "geneinfo = readgtf.gencode(gtffile, trim=False)"
   ]
  },
  {
   "cell_type": "code",
   "execution_count": 5,
   "metadata": {},
   "outputs": [],
   "source": [
    "import mpmath\n",
    "mpmath.mp.dps = 50\n",
    "def pvalue(x): return float(mpmath.log10(1 - 0.5 * (1 + mpmath.erf(x/mpmath.sqrt(2)))))\n",
    "\n",
    "SNPRES_FIELDS = ['rsid', 'chrom', 'pos', 'logp', 'maf']\n",
    "class SNPRes(collections.namedtuple('_SNPRes', SNPRES_FIELDS)):\n",
    "    __slots__ = ()\n",
    "    \n",
    "def tejaas(filepath):\n",
    "    res = list()\n",
    "    with open(filepath, 'r') as mfile:\n",
    "        next(mfile)\n",
    "        for line in mfile:\n",
    "            arr   = line.strip().split(\"\\t\")\n",
    "            rsid  = arr[0]\n",
    "            chrom = int(arr[1])\n",
    "            pos   = int(arr[2])\n",
    "            maf   = float(arr[3])\n",
    "            q     = float(arr[4])\n",
    "            mu    = float(arr[5])\n",
    "            sigma = float(arr[6])\n",
    "            p     = float(arr[7])\n",
    "            if sigma == 0:\n",
    "                continue\n",
    "            logp  = np.log10(p) if p != 0 else pvalue( (q - mu) / sigma)\n",
    "            res.append(SNPRes(rsid=rsid, chrom=chrom, pos=pos, logp=-logp, maf=maf))\n",
    "    return res\n",
    "\n",
    "base_resdir = \"/cbscratch/franco/trans-eqtl/dev-pipeline/gtex_v8_SHAPEIT2/raw/gtex_v8-aa/tejaas/permnull_sb0.1_knn30_crossmap/chr1/rr.txt\"\n",
    "\n",
    "target_file    = \"trans_eqtls.txt.ld_prune\"\n",
    "\n",
    "## SHAPEIT 2 data\n",
    "path_sb01    = \"/cbscratch/franco/trans-eqtl/protein_coding_lncRNA_gamma01_knn30_cut5e-8/\"\n",
    "path_sb0006  = \"/cbscratch/franco/trans-eqtl/protein_coding_lncRNA_gamma0006_knn30_cut5e-8/\"\n",
    "path_raw     = \"/cbscratch/franco/trans-eqtl/dev-pipeline/gtex_v8_SHAPEIT2/raw/summary_5e-08/\"\n",
    "\n",
    "\n",
    "teqtls        = os.path.join(path_sb01, \"{:s}/trans_eqtls_ldpruned.txt\") \n",
    "teqtls_cm     = os.path.join(path_raw, \"{:s}/tejaas\", \"permnull_sb0.1_knn30_crossmap\", target_file)\n",
    "alt_teqtls        = os.path.join(path_sb0006, \"{:s}/trans_eqtls_ldpruned.txt\") \n",
    "alt_teqtls_cm     = os.path.join(path_raw, \"{:s}/tejaas\", \"permnull_sb0.006_knn30_crossmap\", target_file)\n",
    "\n",
    "teqtl_dict = collections.defaultdict(dict)\n",
    "for ts in tshorts:\n",
    "    if ts not in brain_tissues:\n",
    "        if ts in optim_tissues:\n",
    "            teqtl_dict[\"sb\"][ts] = tejaas(alt_teqtls.format(ts))\n",
    "            teqtl_dict[\"cm\"][ts] = tejaas(alt_teqtls_cm.format(ts))\n",
    "        else:\n",
    "            teqtl_dict[\"sb\"][ts] = tejaas(teqtls.format(ts))\n",
    "            teqtl_dict[\"cm\"][ts] = tejaas(teqtls_cm.format(ts))\n"
   ]
  },
  {
   "cell_type": "markdown",
   "metadata": {},
   "source": [
    "# Set of total trans-eQTLs discovered across tissues"
   ]
  },
  {
   "cell_type": "code",
   "execution_count": 6,
   "metadata": {},
   "outputs": [
    {
     "name": "stdout",
     "output_type": "stream",
     "text": [
      "sb: 11161\n",
      "cm: 8324\n"
     ]
    }
   ],
   "source": [
    "unique_set = collections.defaultdict(set)\n",
    "for ts in tshorts:\n",
    "    if ts not in brain_tissues:\n",
    "        if ts not in optim_tissues:\n",
    "            unique_set[\"sb\"].update(set([x.rsid for x in teqtl_dict[\"sb\"][ts]]))\n",
    "            unique_set[\"cm\"].update(set([x.rsid for x in teqtl_dict[\"cm\"][ts]]))\n",
    "            \n",
    "configs = list(unique_set.keys())\n",
    "for conf in configs:\n",
    "    print(f\"{conf}: {len(unique_set[conf])}\")"
   ]
  },
  {
   "cell_type": "markdown",
   "metadata": {},
   "source": [
    "# Read p-vals for all tissues for all SNPs, subset tissues"
   ]
  },
  {
   "cell_type": "code",
   "execution_count": 7,
   "metadata": {},
   "outputs": [],
   "source": [
    "import pandas as pd\n",
    "\n",
    "cm_allpval_file = \"/cbscratch/franco/trans-eqtl/dev-pipeline/gtex_v8_SHAPEIT2/all_variants_pvalues_tejaas_4optims_crossmap.txt\"\n",
    "pval_df_cm = pd.read_csv(cm_allpval_file, header=0, index_col=0, sep=\"\\t\")\n",
    "\n",
    "allpval_file = \"/cbscratch/franco/from_saikat/gtex_v8_202003/all_variants_pvalues_tejaas_4optims.txt\"\n",
    "pval_df = pd.read_csv(allpval_file, header=0, index_col=0, sep=\"\\t\")"
   ]
  },
  {
   "cell_type": "code",
   "execution_count": 8,
   "metadata": {},
   "outputs": [
    {
     "name": "stdout",
     "output_type": "stream",
     "text": [
      "(8048655, 38)\n",
      "(8048655, 49)\n",
      "(8048655, 36)\n",
      "(8048655, 36)\n"
     ]
    }
   ],
   "source": [
    "print(pval_df_cm.shape)\n",
    "print(pval_df.shape)\n",
    "\n",
    "tissues_set = [x for x in tshorts if x not in brain_tissues]\n",
    "pval_df_cm_subset = pval_df_cm[tissues_set]\n",
    "pval_df_subset = pval_df[tissues_set]\n",
    "\n",
    "print(pval_df_cm_subset.shape)\n",
    "print(pval_df_subset.shape)\n"
   ]
  },
  {
   "cell_type": "markdown",
   "metadata": {},
   "source": [
    "# Read genes expressed in a tissue and calculate cismasks\n",
    "## Cismasks with and without crossmappability filter"
   ]
  },
  {
   "cell_type": "code",
   "execution_count": 9,
   "metadata": {},
   "outputs": [],
   "source": [
    "### reformat gene info\n",
    "geneinfo_dict = dict()\n",
    "for g in geneinfo:\n",
    "    geneinfo_dict[g.ensembl_id] = g"
   ]
  },
  {
   "cell_type": "markdown",
   "metadata": {},
   "source": [
    "# Obtain data for each tissue\n",
    "## Nº filtered, brought in, average nº genes filtered in both sets"
   ]
  },
  {
   "cell_type": "code",
   "execution_count": 16,
   "metadata": {
    "scrolled": true
   },
   "outputs": [
    {
     "name": "stdout",
     "output_type": "stream",
     "text": [
      "as\n",
      "av\n",
      "ag\n",
      "aa\n",
      "ac\n",
      "at\n",
      "br\n",
      "ebv\n",
      "fib\n",
      "cols\n"
     ]
    },
    {
     "name": "stderr",
     "output_type": "stream",
     "text": [
      "/usr/users/fsimone/opt/miniconda/3/envs/pyenv37/lib/python3.7/site-packages/numpy/core/fromnumeric.py:3373: RuntimeWarning: Mean of empty slice.\n",
      "  out=out, **kwargs)\n",
      "/usr/users/fsimone/opt/miniconda/3/envs/pyenv37/lib/python3.7/site-packages/numpy/core/_methods.py:170: RuntimeWarning: invalid value encountered in double_scalars\n",
      "  ret = ret.dtype.type(ret / rcount)\n"
     ]
    },
    {
     "name": "stdout",
     "output_type": "stream",
     "text": [
      "colt\n",
      "esog\n",
      "esom\n",
      "esomu\n",
      "haa\n",
      "hlv\n",
      "kc\n",
      "liv\n",
      "lu\n",
      "msg\n"
     ]
    },
    {
     "name": "stderr",
     "output_type": "stream",
     "text": [
      "/usr/users/fsimone/opt/miniconda/3/envs/pyenv37/lib/python3.7/site-packages/numpy/core/fromnumeric.py:3373: RuntimeWarning: Mean of empty slice.\n",
      "  out=out, **kwargs)\n",
      "/usr/users/fsimone/opt/miniconda/3/envs/pyenv37/lib/python3.7/site-packages/numpy/core/_methods.py:170: RuntimeWarning: invalid value encountered in double_scalars\n",
      "  ret = ret.dtype.type(ret / rcount)\n"
     ]
    },
    {
     "name": "stdout",
     "output_type": "stream",
     "text": [
      "ms\n",
      "nt\n",
      "ov\n",
      "pan\n",
      "pit\n"
     ]
    },
    {
     "name": "stderr",
     "output_type": "stream",
     "text": [
      "/usr/users/fsimone/opt/miniconda/3/envs/pyenv37/lib/python3.7/site-packages/numpy/core/fromnumeric.py:3373: RuntimeWarning: Mean of empty slice.\n",
      "  out=out, **kwargs)\n",
      "/usr/users/fsimone/opt/miniconda/3/envs/pyenv37/lib/python3.7/site-packages/numpy/core/_methods.py:170: RuntimeWarning: invalid value encountered in double_scalars\n",
      "  ret = ret.dtype.type(ret / rcount)\n"
     ]
    },
    {
     "name": "stdout",
     "output_type": "stream",
     "text": [
      "pro\n",
      "snse\n",
      "sse\n",
      "si\n",
      "spl\n",
      "sto\n",
      "tes\n",
      "thy\n",
      "ut\n",
      "va\n"
     ]
    },
    {
     "name": "stderr",
     "output_type": "stream",
     "text": [
      "/usr/users/fsimone/opt/miniconda/3/envs/pyenv37/lib/python3.7/site-packages/numpy/core/fromnumeric.py:3373: RuntimeWarning: Mean of empty slice.\n",
      "  out=out, **kwargs)\n",
      "/usr/users/fsimone/opt/miniconda/3/envs/pyenv37/lib/python3.7/site-packages/numpy/core/_methods.py:170: RuntimeWarning: invalid value encountered in double_scalars\n",
      "  ret = ret.dtype.type(ret / rcount)\n"
     ]
    },
    {
     "name": "stdout",
     "output_type": "stream",
     "text": [
      "wb\n"
     ]
    }
   ],
   "source": [
    "# import matplotlib.pyplot as plt\n",
    "# from utils import mpl_stylesheet\n",
    "# mpl_stylesheet.banskt_presentation(fontfamily = 'latex-clearsans', fontsize = 18, colors = 'banskt')\n",
    "\n",
    "global_cutoff = -np.log10(5e-8)\n",
    "\n",
    "with open(\"crossmappability_teqtls_results_summary.txt\", 'w') as outst:\n",
    "    outst.write(f\"tissue\\ttotal_before\\ttotal_after\\tfiltered_out\\tbrought_in\\tmean_gdiff_filtered_out\\tmean_gdiff_brought_in\\n\")\n",
    "    for ts in tissues_set:\n",
    "        print(ts)\n",
    "        gx_file = f\"/cbscratch/franco/trans-eqtl/new_preprocess_feb2020_freeze/gtex_v8/expression/tpms/{ts}_tpms_qcfilter.txt.protein_coding_lncRNA_filtered\"\n",
    "        snpids    = [x.rsid for x in teqtl_dict[\"sb\"][ts]]\n",
    "        snpids_cm = [x.rsid for x in teqtl_dict[\"cm\"][ts]]\n",
    "\n",
    "        both_sets = list(set(snpids + snpids_cm))\n",
    "\n",
    "        logpvals    = pval_df_subset[ts][both_sets]\n",
    "        logpvals_cm = pval_df_cm_subset[ts][both_sets]\n",
    "\n",
    "        snpinfo_tissue = Snp2info(both_sets)\n",
    "        ts_genes       = read_tissue_genes(gx_file, geneinfo_dict)\n",
    "\n",
    "        #### Obtain cismasks and add crossmappable genes\n",
    "        cismasklist = cismasking.get_cismasklist(snpinfo_tissue, ts_genes, None, window=1e6)\n",
    "        cismaskcomp = cismasking.compress_cismasklist(cismasklist)\n",
    "        crossmap_cismaskcomp = extend_cismask(ts_genes, cismaskcomp, cross_gene_dict)\n",
    "\n",
    "        gene_diffs = np.zeros(len(snpinfo_tissue))\n",
    "        for i in range(len(cismaskcomp)):\n",
    "            gene_diffs[cismaskcomp[i].apply2] = len(crossmap_cismaskcomp[i].rmv_id) - len(cismaskcomp[i].rmv_id)\n",
    "\n",
    "        notsig_after_cm    = np.sum(logpvals_cm < global_cutoff)\n",
    "        sig_after_cm       = np.sum(logpvals < global_cutoff)\n",
    "        total_teqtl_before = np.sum(logpvals > global_cutoff)\n",
    "        total_teqtl_after  = np.sum(logpvals_cm > global_cutoff)\n",
    "        bar_heights        = [total_teqtl_before, total_teqtl_after, notsig_after_cm, sig_after_cm]\n",
    "        notsig_after_cm_ix = logpvals_cm < global_cutoff\n",
    "        sig_after_cm_ix    = logpvals < global_cutoff\n",
    "        mean_gdiffs_notsig = np.mean(gene_diffs[notsig_after_cm_ix])\n",
    "        mean_gdiffs_sig    = np.mean(gene_diffs[sig_after_cm_ix])\n",
    "\n",
    "        outst.write(f\"{ts}\\t{bar_heights[0]}\\t{bar_heights[1]}\\t{bar_heights[2]}\\t{bar_heights[3]}\\t{mean_gdiffs_notsig:.2f}\\t{mean_gdiffs_sig:.2f}\\n\")"
   ]
  },
  {
   "cell_type": "code",
   "execution_count": 44,
   "metadata": {},
   "outputs": [],
   "source": [
    "# import pandas as pd\n",
    "# test = [[\"as\", 1000, 800, 200, 10, 6000, 5000], [\"aa\", 2000, 400, 300, 20, 7000, 4000],[\"wb\", 2000, 4000, 5, 1800, 7000, 4000]]\n",
    "# headerstr =\"tissue\\ttotal_before\\ttotal_after\\tfiltered_out\\tbrought_in\\tmean_gdiff_filtered_out\\tmean_gdiff_brought_in\"\n",
    "# res_dict = dict()\n",
    "# for l in test:\n",
    "#     res_dict[l[0]] = dict(zip(headerstr.split(\"\\t\")[1:], l[1:]))\n",
    "# res_dict"
   ]
  },
  {
   "cell_type": "code",
   "execution_count": 17,
   "metadata": {},
   "outputs": [
    {
     "data": {
      "text/plain": [
       "{'as': {'total_before': 612.0,\n",
       "  'total_after': 408.0,\n",
       "  'filtered_out': 219.0,\n",
       "  'brought_in': 15.0,\n",
       "  'mean_gdiff_filtered_out': 6467.57,\n",
       "  'mean_gdiff_brought_in': 6036.07},\n",
       " 'av': {'total_before': 487.0,\n",
       "  'total_after': 306.0,\n",
       "  'filtered_out': 198.0,\n",
       "  'brought_in': 17.0,\n",
       "  'mean_gdiff_filtered_out': 6464.1,\n",
       "  'mean_gdiff_brought_in': 5964.94},\n",
       " 'ag': {'total_before': 192.0,\n",
       "  'total_after': 142.0,\n",
       "  'filtered_out': 52.0,\n",
       "  'brought_in': 2.0,\n",
       "  'mean_gdiff_filtered_out': 6465.62,\n",
       "  'mean_gdiff_brought_in': 5153.0},\n",
       " 'aa': {'total_before': 1376.0,\n",
       "  'total_after': 986.0,\n",
       "  'filtered_out': 412.0,\n",
       "  'brought_in': 22.0,\n",
       "  'mean_gdiff_filtered_out': 6279.07,\n",
       "  'mean_gdiff_brought_in': 5312.86},\n",
       " 'ac': {'total_before': 1618.0,\n",
       "  'total_after': 1271.0,\n",
       "  'filtered_out': 372.0,\n",
       "  'brought_in': 25.0,\n",
       "  'mean_gdiff_filtered_out': 6417.63,\n",
       "  'mean_gdiff_brought_in': 5767.88},\n",
       " 'at': {'total_before': 424.0,\n",
       "  'total_after': 355.0,\n",
       "  'filtered_out': 99.0,\n",
       "  'brought_in': 30.0,\n",
       "  'mean_gdiff_filtered_out': 6111.06,\n",
       "  'mean_gdiff_brought_in': 5844.0},\n",
       " 'br': {'total_before': 525.0,\n",
       "  'total_after': 353.0,\n",
       "  'filtered_out': 188.0,\n",
       "  'brought_in': 16.0,\n",
       "  'mean_gdiff_filtered_out': 6707.06,\n",
       "  'mean_gdiff_brought_in': 6413.69},\n",
       " 'ebv': {'total_before': 303.0,\n",
       "  'total_after': 205.0,\n",
       "  'filtered_out': 101.0,\n",
       "  'brought_in': 3.0,\n",
       "  'mean_gdiff_filtered_out': 5776.55,\n",
       "  'mean_gdiff_brought_in': 4299.0},\n",
       " 'fib': {'total_before': 217.0,\n",
       "  'total_after': 103.0,\n",
       "  'filtered_out': 118.0,\n",
       "  'brought_in': 4.0,\n",
       "  'mean_gdiff_filtered_out': 5985.19,\n",
       "  'mean_gdiff_brought_in': 6000.5},\n",
       " 'cols': {'total_before': 76.0,\n",
       "  'total_after': 45.0,\n",
       "  'filtered_out': 31.0,\n",
       "  'brought_in': 0.0,\n",
       "  'mean_gdiff_filtered_out': 6511.1,\n",
       "  'mean_gdiff_brought_in': nan},\n",
       " 'colt': {'total_before': 1237.0,\n",
       "  'total_after': 927.0,\n",
       "  'filtered_out': 328.0,\n",
       "  'brought_in': 18.0,\n",
       "  'mean_gdiff_filtered_out': 6685.02,\n",
       "  'mean_gdiff_brought_in': 5014.17},\n",
       " 'esog': {'total_before': 17.0,\n",
       "  'total_after': 4.0,\n",
       "  'filtered_out': 14.0,\n",
       "  'brought_in': 1.0,\n",
       "  'mean_gdiff_filtered_out': 6216.36,\n",
       "  'mean_gdiff_brought_in': 6461.0},\n",
       " 'esom': {'total_before': 9.0,\n",
       "  'total_after': 9.0,\n",
       "  'filtered_out': 2.0,\n",
       "  'brought_in': 2.0,\n",
       "  'mean_gdiff_filtered_out': 6701.5,\n",
       "  'mean_gdiff_brought_in': 6012.0},\n",
       " 'esomu': {'total_before': 21.0,\n",
       "  'total_after': 14.0,\n",
       "  'filtered_out': 9.0,\n",
       "  'brought_in': 2.0,\n",
       "  'mean_gdiff_filtered_out': 6888.44,\n",
       "  'mean_gdiff_brought_in': 6869.0},\n",
       " 'haa': {'total_before': 69.0,\n",
       "  'total_after': 241.0,\n",
       "  'filtered_out': 1.0,\n",
       "  'brought_in': 173.0,\n",
       "  'mean_gdiff_filtered_out': 6648.0,\n",
       "  'mean_gdiff_brought_in': 6451.99},\n",
       " 'hlv': {'total_before': 255.0,\n",
       "  'total_after': 155.0,\n",
       "  'filtered_out': 107.0,\n",
       "  'brought_in': 7.0,\n",
       "  'mean_gdiff_filtered_out': 5718.19,\n",
       "  'mean_gdiff_brought_in': 5758.57},\n",
       " 'kc': {'total_before': 14.0,\n",
       "  'total_after': 6.0,\n",
       "  'filtered_out': 9.0,\n",
       "  'brought_in': 1.0,\n",
       "  'mean_gdiff_filtered_out': 6000.78,\n",
       "  'mean_gdiff_brought_in': 7347.0},\n",
       " 'liv': {'total_before': 38.0,\n",
       "  'total_after': 24.0,\n",
       "  'filtered_out': 15.0,\n",
       "  'brought_in': 1.0,\n",
       "  'mean_gdiff_filtered_out': 6163.13,\n",
       "  'mean_gdiff_brought_in': 6809.0},\n",
       " 'lu': {'total_before': 492.0,\n",
       "  'total_after': 317.0,\n",
       "  'filtered_out': 197.0,\n",
       "  'brought_in': 22.0,\n",
       "  'mean_gdiff_filtered_out': 6658.88,\n",
       "  'mean_gdiff_brought_in': 5986.45},\n",
       " 'msg': {'total_before': 4.0,\n",
       "  'total_after': 4.0,\n",
       "  'filtered_out': 0.0,\n",
       "  'brought_in': 0.0,\n",
       "  'mean_gdiff_filtered_out': nan,\n",
       "  'mean_gdiff_brought_in': nan},\n",
       " 'ms': {'total_before': 2369.0,\n",
       "  'total_after': 1753.0,\n",
       "  'filtered_out': 655.0,\n",
       "  'brought_in': 39.0,\n",
       "  'mean_gdiff_filtered_out': 5629.29,\n",
       "  'mean_gdiff_brought_in': 5264.31},\n",
       " 'nt': {'total_before': 750.0,\n",
       "  'total_after': 580.0,\n",
       "  'filtered_out': 194.0,\n",
       "  'brought_in': 24.0,\n",
       "  'mean_gdiff_filtered_out': 6676.1,\n",
       "  'mean_gdiff_brought_in': 5239.0},\n",
       " 'ov': {'total_before': 86.0,\n",
       "  'total_after': 46.0,\n",
       "  'filtered_out': 41.0,\n",
       "  'brought_in': 1.0,\n",
       "  'mean_gdiff_filtered_out': 6336.76,\n",
       "  'mean_gdiff_brought_in': 7348.0},\n",
       " 'pan': {'total_before': 185.0,\n",
       "  'total_after': 362.0,\n",
       "  'filtered_out': 1.0,\n",
       "  'brought_in': 178.0,\n",
       "  'mean_gdiff_filtered_out': 6742.0,\n",
       "  'mean_gdiff_brought_in': 6422.06},\n",
       " 'pit': {'total_before': 10.0,\n",
       "  'total_after': 6.0,\n",
       "  'filtered_out': 4.0,\n",
       "  'brought_in': 0.0,\n",
       "  'mean_gdiff_filtered_out': 6462.25,\n",
       "  'mean_gdiff_brought_in': nan},\n",
       " 'pro': {'total_before': 922.0,\n",
       "  'total_after': 575.0,\n",
       "  'filtered_out': 354.0,\n",
       "  'brought_in': 7.0,\n",
       "  'mean_gdiff_filtered_out': 6887.13,\n",
       "  'mean_gdiff_brought_in': 4163.0},\n",
       " 'snse': {'total_before': 764.0,\n",
       "  'total_after': 594.0,\n",
       "  'filtered_out': 200.0,\n",
       "  'brought_in': 30.0,\n",
       "  'mean_gdiff_filtered_out': 6551.61,\n",
       "  'mean_gdiff_brought_in': 6723.4},\n",
       " 'sse': {'total_before': 425.0,\n",
       "  'total_after': 319.0,\n",
       "  'filtered_out': 132.0,\n",
       "  'brought_in': 26.0,\n",
       "  'mean_gdiff_filtered_out': 6312.11,\n",
       "  'mean_gdiff_brought_in': 6441.04},\n",
       " 'si': {'total_before': 82.0,\n",
       "  'total_after': 70.0,\n",
       "  'filtered_out': 14.0,\n",
       "  'brought_in': 2.0,\n",
       "  'mean_gdiff_filtered_out': 7008.79,\n",
       "  'mean_gdiff_brought_in': 6902.0},\n",
       " 'spl': {'total_before': 1424.0,\n",
       "  'total_after': 1737.0,\n",
       "  'filtered_out': 58.0,\n",
       "  'brought_in': 371.0,\n",
       "  'mean_gdiff_filtered_out': 6365.24,\n",
       "  'mean_gdiff_brought_in': 6717.82},\n",
       " 'sto': {'total_before': 263.0,\n",
       "  'total_after': 185.0,\n",
       "  'filtered_out': 84.0,\n",
       "  'brought_in': 6.0,\n",
       "  'mean_gdiff_filtered_out': 6496.29,\n",
       "  'mean_gdiff_brought_in': 3577.83},\n",
       " 'tes': {'total_before': 1352.0,\n",
       "  'total_after': 1297.0,\n",
       "  'filtered_out': 199.0,\n",
       "  'brought_in': 144.0,\n",
       "  'mean_gdiff_filtered_out': 7420.46,\n",
       "  'mean_gdiff_brought_in': 7200.03},\n",
       " 'thy': {'total_before': 1059.0,\n",
       "  'total_after': 840.0,\n",
       "  'filtered_out': 236.0,\n",
       "  'brought_in': 17.0,\n",
       "  'mean_gdiff_filtered_out': 6793.96,\n",
       "  'mean_gdiff_brought_in': 6565.0},\n",
       " 'ut': {'total_before': 1772.0,\n",
       "  'total_after': 1316.0,\n",
       "  'filtered_out': 481.0,\n",
       "  'brought_in': 25.0,\n",
       "  'mean_gdiff_filtered_out': 6500.79,\n",
       "  'mean_gdiff_brought_in': 5845.88},\n",
       " 'va': {'total_before': 0.0,\n",
       "  'total_after': 0.0,\n",
       "  'filtered_out': 0.0,\n",
       "  'brought_in': 0.0,\n",
       "  'mean_gdiff_filtered_out': nan,\n",
       "  'mean_gdiff_brought_in': nan},\n",
       " 'wb': {'total_before': 6683.0,\n",
       "  'total_after': 11939.0,\n",
       "  'filtered_out': 8.0,\n",
       "  'brought_in': 5264.0,\n",
       "  'mean_gdiff_filtered_out': 4012.25,\n",
       "  'mean_gdiff_brought_in': 5242.9}}"
      ]
     },
     "execution_count": 17,
     "metadata": {},
     "output_type": "execute_result"
    }
   ],
   "source": [
    "### Read data file above\n",
    "\n",
    "res_dict = dict()\n",
    "with open(\"crossmappability_teqtls_results_summary.txt\") as inst:\n",
    "    headerstr = inst.readline()\n",
    "    headers   = headerstr.rstrip().split(\"\\t\")[1:]\n",
    "    for line in inst:\n",
    "        l = line.rstrip().split(\"\\t\")\n",
    "        res_dict[l[0]] = dict(zip(headers, [float(x) for x in l[1:]]))\n",
    "res_dict"
   ]
  },
  {
   "cell_type": "code",
   "execution_count": 37,
   "metadata": {},
   "outputs": [
    {
     "data": {
      "image/png": "[encoded data removed]",
      "text/plain": [
       "<Figure size 576x576 with 1 Axes>"
      ]
     },
     "metadata": {
      "needs_background": "light"
     },
     "output_type": "display_data"
    },
    {
     "data": {
      "image/png": "[encoded data removed]",
      "text/plain": [
       "<Figure size 576x576 with 1 Axes>"
      ]
     },
     "metadata": {
      "needs_background": "light"
     },
     "output_type": "display_data"
    }
   ],
   "source": [
    "import matplotlib.pyplot as plt\n",
    "from utils import mpl_stylesheet\n",
    "mpl_stylesheet.banskt_presentation(fontfamily = 'latex-clearsans', fontsize = 18, colors = 'banskt')\n",
    "\n",
    "\n",
    "res_dict ## will contain a dict with the table above\n",
    "x_frac_brin = list()\n",
    "y_frac_fout = list()\n",
    "ts_indata = list()\n",
    "for ts in tshorts:\n",
    "    if ts not in brain_tissues:\n",
    "        if ts not in res_dict:\n",
    "            print(f\"{ts} not in dataset\")\n",
    "            continue\n",
    "        else:\n",
    "            if res_dict[ts][\"total_before\"] != 0:\n",
    "                x_frac_brin.append(res_dict[ts][\"brought_in\"]  /res_dict[ts][\"total_before\"])\n",
    "                y_frac_fout.append(res_dict[ts][\"filtered_out\"]/res_dict[ts][\"total_before\"])\n",
    "                ts_indata.append(ts)\n",
    "\n",
    "ts_color = dict()\n",
    "ed_color = dict()\n",
    "ts_alpha = dict()\n",
    "ts_size  = dict()\n",
    "pval_c = 0.05\n",
    "for ts in ts_indata:\n",
    "    ts_color[ts] = tissue_colors[ts]\n",
    "    ts_alpha[ts] = 0.9\n",
    "    ed_color[ts] = \"face\"\n",
    "    ts_size[ts]  = res_dict[ts][\"total_before\"] * 0.3\n",
    "    \n",
    "fig = plt.figure(figsize=(8,8))\n",
    "ax1 = fig.add_subplot(111)\n",
    "for i, ts in enumerate(ts_indata):\n",
    "    ax1.scatter(x_frac_brin[i], y_frac_fout[i], s=ts_size[ts], color=ts_color[ts], edgecolor = 'black', alpha = 0.8)\n",
    "ax1.plot([0,max(x_frac_brin+y_frac_fout)],[0,max(x_frac_brin+y_frac_fout)], linestyle=\"--\")\n",
    "ax1.set_xlabel(\"Fraction of teqtls brought in\")\n",
    "ax1.set_ylabel(\"Fraction of teqtls filtered out\")\n",
    "ax1.set_ylim(bottom=None,top=1)\n",
    "\n",
    "plt.tight_layout()\n",
    "plt.show()\n",
    "\n",
    "\n",
    "fig = plt.figure(figsize=(8,8))\n",
    "ax1 = fig.add_subplot(111)\n",
    "for i, ts in enumerate(ts_indata):\n",
    "    ax1.scatter(res_dict[ts][\"brought_in\"], res_dict[ts][\"total_before\"], s=ts_size[ts], color=ts_color[ts], edgecolor = 'black', alpha = 0.8)\n",
    "ax1.set_xlabel(\"teqtls brought in\")\n",
    "ax1.set_ylabel(\"total trans-eqtls\")\n",
    "\n",
    "plt.tight_layout()\n",
    "plt.show()\n"
   ]
  },
  {
   "cell_type": "code",
   "execution_count": 28,
   "metadata": {},
   "outputs": [
    {
     "data": {
      "text/plain": [
       "497"
      ]
     },
     "execution_count": 28,
     "metadata": {},
     "output_type": "execute_result"
    }
   ],
   "source": [
    "tissue_samples['esom']"
   ]
  },
  {
   "cell_type": "markdown",
   "metadata": {},
   "source": [
    "## Generate plots for each tissue"
   ]
  },
  {
   "cell_type": "code",
   "execution_count": 131,
   "metadata": {
    "scrolled": false
   },
   "outputs": [
    {
     "name": "stderr",
     "output_type": "stream",
     "text": [
      "/usr/users/fsimone/tejaas/utils/mpl_stylesheet.py:26: MatplotlibDeprecationWarning: Support for setting the 'text.latex.preamble' or 'pgf.preamble' rcParam to a list of strings is deprecated since 3.3 and will be removed two minor releases later; set it to a single string instead.\n",
      "  r'\\usepackage{microtype}',\n"
     ]
    },
    {
     "data": {
      "image/png": "[encoded data removed]",
      "text/plain": [
       "<Figure size 1152x648 with 3 Axes>"
      ]
     },
     "metadata": {
      "needs_background": "light"
     },
     "output_type": "display_data"
    }
   ],
   "source": [
    "import matplotlib.pyplot as plt\n",
    "from utils import mpl_stylesheet\n",
    "mpl_stylesheet.banskt_presentation(fontfamily = 'latex-clearsans', fontsize = 18, colors = 'banskt')\n",
    "\n",
    "global_cutoff = -np.log10(5e-8)\n",
    "# for ts in tissues_set:\n",
    "for ts in ['wb']:\n",
    "    gx_file   = f\"/cbscratch/franco/trans-eqtl/new_preprocess_feb2020_freeze/gtex_v8/expression/tpms/{ts}_tpms_qcfilter.txt.protein_coding_lncRNA_filtered\"\n",
    "    snpids    = [x.rsid for x in teqtl_dict[\"sb\"][ts]]\n",
    "    snpids_cm = [x.rsid for x in teqtl_dict[\"cm\"][ts]]\n",
    "    \n",
    "    both_sets = list(set(snpids + snpids_cm))\n",
    "    \n",
    "    logpvals    = pval_df_subset[ts][both_sets]\n",
    "    logpvals_cm = pval_df_cm_subset[ts][both_sets]\n",
    "    \n",
    "    snpinfo_tissue = Snp2info(both_sets)\n",
    "    ts_genes       = read_tissue_genes(gx_file, geneinfo_dict)\n",
    "    \n",
    "    #### Obtain cismasks and add crossmappable genes\n",
    "    cismasklist = cismasking.get_cismasklist(snpinfo_tissue, ts_genes, None, window=1e6)\n",
    "    cismaskcomp = cismasking.compress_cismasklist(cismasklist)\n",
    "    crossmap_cismaskcomp = extend_cismask(ts_genes, cismaskcomp, cross_gene_dict)\n",
    "    \n",
    "    gene_diffs = np.zeros(len(snpinfo_tissue))\n",
    "    for i in range(len(cismaskcomp)):\n",
    "        gene_diffs[cismaskcomp[i].apply2] = len(crossmap_cismaskcomp[i].rmv_id) - len(cismaskcomp[i].rmv_id)\n",
    "            \n",
    "    cmap = plt.cm.get_cmap('RdYlBu')\n",
    "    fig = plt.figure(figsize=(16,9))\n",
    "    ax1 = fig.add_subplot(121)\n",
    "    p1 = ax1.scatter(logpvals, logpvals_cm, c=gene_diffs, cmap=cmap, alpha=0.6, s=25)\n",
    "    ax1.set_xlabel(\"RR $-log_{10} pvals$\")\n",
    "    ax1.set_ylabel(\"RR crossmap $-log_{10} pvals$\")\n",
    "    if len(logpvals_cm) > 0 or len(logpvals) > 0:\n",
    "        m = np.min([logpvals_cm, logpvals])\n",
    "        M = np.max([logpvals_cm, logpvals])\n",
    "    else:\n",
    "        m = 0\n",
    "        M = 0\n",
    "    ax1.plot([m,M], [m,M], color='gray', linestyle='dashed')\n",
    "    ax1.vlines(global_cutoff, m, M, color='gray', linestyle=\"dashed\")\n",
    "    ax1.hlines(global_cutoff, m, M, color='gray', linestyle=\"dashed\")\n",
    "    ax1.set_title(f\"{ts} - {tissue_names[ts]}\")\n",
    "    fig.colorbar(p1, ax=ax1)\n",
    "    \n",
    "    ax2 = fig.add_subplot(122)\n",
    "    notsig_after_cm = np.sum(logpvals_cm < global_cutoff)\n",
    "    sig_after_cm = np.sum(logpvals < global_cutoff)\n",
    "    bar_heights = [np.sum(logpvals > global_cutoff), np.sum(logpvals_cm > global_cutoff), notsig_after_cm, sig_after_cm]\n",
    "    ax2.bar([1,2,3,4], bar_heights) #, tick_label=)\n",
    "    ax2.set_xticks([1,2,3,4])\n",
    "    ax2.set_xticklabels(labels=[\"trans-eQTLs\", \"trans-eQTLs crossmap\", \"filtered\", \"brought in\"], rotation = 45, ha=\"right\")\n",
    "\n",
    "    plt.tight_layout()\n",
    "    plt.savefig(f\"plots/{ts}_crossmap_pvalues.jpg\", dpi=300)\n",
    "    plt.show()"
   ]
  },
  {
   "cell_type": "markdown",
   "metadata": {},
   "source": [
    "# For wb tissue, selects SNPs that are brought in\n",
    "## How many genes are filtered by cross-mappability?\n",
    "## "
   ]
  },
  {
   "cell_type": "code",
   "execution_count": 227,
   "metadata": {},
   "outputs": [],
   "source": [
    "ts = 'as'\n",
    "snpids =    [x.rsid for x in teqtl_dict[\"sb\"][ts]]\n",
    "snpids_cm = [x.rsid for x in teqtl_dict[\"cm\"][ts]]\n",
    "both_sets = list(set(snpids + snpids_cm))\n",
    "snpinfo_tissue = Snp2info(both_sets)\n",
    "\n",
    "gx_file = f\"/cbscratch/franco/trans-eqtl/new_preprocess_feb2020_freeze/gtex_v8/expression/tpms/{ts}_tpms_qcfilter.txt.protein_coding_lncRNA_filtered\"\n",
    "ts_genes = read_tissue_genes(gx_file, geneinfo_dict)\n",
    "\n",
    "cismasklist = cismasking.get_cismasklist(snpinfo_tissue, ts_genes, None, window=1e6)\n",
    "cismaskcomp = cismasking.compress_cismasklist(cismasklist)\n",
    "crossmap_cismaskcomp = extend_cismask(ts_genes, cismaskcomp, cross_gene_dict)"
   ]
  },
  {
   "cell_type": "code",
   "execution_count": 228,
   "metadata": {},
   "outputs": [],
   "source": [
    "gene_diffs = list()\n",
    "gene_diffs = np.zeros(len(snpinfo_tissue))\n",
    "for i in range(len(cismaskcomp)):\n",
    "    for j in cismaskcomp[i].apply2:\n",
    "        gene_diffs_dict[both_sets[j]] = len(crossmap_cismaskcomp[i].rmv_id) - len(cismaskcomp[i].rmv_id)"
   ]
  },
  {
   "cell_type": "code",
   "execution_count": 229,
   "metadata": {},
   "outputs": [],
   "source": [
    "logpvals = pval_df_subset[ts][both_sets]\n",
    "logpvals_cm = pval_df_cm_subset[ts][both_sets]\n",
    "sig_after_cm_bool = logpvals < global_cutoff\n"
   ]
  },
  {
   "cell_type": "code",
   "execution_count": 230,
   "metadata": {
    "scrolled": true
   },
   "outputs": [],
   "source": [
    "snps_sig_after_cm = [x for i,x in enumerate(both_sets) if sig_after_cm_bool[i]]\n",
    "pvals_before = [x for i,x in enumerate(logpvals) if sig_after_cm_bool[i]]\n",
    "pvals_after  = [x for i,x in enumerate(logpvals_cm) if sig_after_cm_bool[i]]\n",
    "for i in range(len(snps_sig_after_cm)):\n",
    "    if gene_diffs_dict[snps_sig_after_cm[i]] < 100:\n",
    "        print(snps_sig_after_cm[i], pvals_before[i], pvals_after[i], gene_diffs_dict[snps_sig_after_cm[i]])"
   ]
  },
  {
   "cell_type": "code",
   "execution_count": 234,
   "metadata": {},
   "outputs": [],
   "source": [
    "chrm = 12\n",
    "chr_snps = sorted([x for x in snps_sig_after_cm if x.split(\"_\")[0] == f\"chr{chrm}\"])\n",
    "with open(f\"{ts}_crossmap_chr{chrm}_snps_brought_in.txt\", 'w') as outst:\n",
    "    for snp in chr_snps:\n",
    "        outst.write(f\"{snp}\\n\")"
   ]
  },
  {
   "cell_type": "markdown",
   "metadata": {},
   "source": [
    "# Get masked gene expressions\n"
   ]
  },
  {
   "cell_type": "code",
   "execution_count": 38,
   "metadata": {},
   "outputs": [
    {
     "data": {
      "text/plain": [
       "['haa', 'pan', 'spl', 'wb']"
      ]
     },
     "execution_count": 38,
     "metadata": {},
     "output_type": "execute_result"
    }
   ],
   "source": [
    "optim_tissues"
   ]
  },
  {
   "cell_type": "code",
   "execution_count": 180,
   "metadata": {},
   "outputs": [],
   "source": [
    "ts = optim_tissues[3]\n",
    "\n",
    "gx_file = f\"/cbscratch/franco/trans-eqtl/new_preprocess_feb2020_freeze/gtex_v8/expression/tpms/{ts}_tpms_qcfilter.txt.protein_coding_lncRNA_filtered\"\n",
    "df = pd.read_csv(gx_file, header=0, index_col=0, sep=\"\\t\")"
   ]
  },
  {
   "cell_type": "code",
   "execution_count": 223,
   "metadata": {},
   "outputs": [
    {
     "name": "stdout",
     "output_type": "stream",
     "text": [
      "4207\n",
      "6\n"
     ]
    }
   ],
   "source": [
    "print(f\"masked crossmap-genes: {len(crossmap_cismaskcomp[1].rmv_id)}\")\n",
    "print(f\"masked cis-genes: {len(cismaskcomp[1].rmv_id)}\")"
   ]
  },
  {
   "cell_type": "code",
   "execution_count": 224,
   "metadata": {
    "scrolled": true
   },
   "outputs": [
    {
     "name": "stdout",
     "output_type": "stream",
     "text": [
      "(7788, 670)\n",
      "(11989, 670)\n"
     ]
    }
   ],
   "source": [
    "usegenes_cm = np.ones(df.shape[0], dtype=bool)\n",
    "thismask_cm = crossmap_cismaskcomp[1]\n",
    "if thismask_cm.rmv_id.shape[0] > 0: usegenes_cm[thismask_cm.rmv_id] = False      \n",
    "df_cm = df[usegenes_cm]\n",
    "\n",
    "usegenes = np.ones(df.shape[0], dtype=bool)\n",
    "thismask = cismaskcomp[1]\n",
    "if thismask.rmv_id.shape[0] > 0: usegenes[thismask.rmv_id] = False   \n",
    "df_cis = df[usegenes]\n",
    "\n",
    "print(df_cm.shape)\n",
    "print(df_cis.shape)"
   ]
  },
  {
   "cell_type": "markdown",
   "metadata": {},
   "source": [
    "## Mean and gx variance are almost the same after cross-mappability filter\n",
    "## nothing to worry"
   ]
  },
  {
   "cell_type": "code",
   "execution_count": 225,
   "metadata": {},
   "outputs": [
    {
     "name": "stdout",
     "output_type": "stream",
     "text": [
      "3.3854090009459462e-18\n",
      "1.0\n",
      "1.9971612654891465e-18\n",
      "1.0\n"
     ]
    }
   ],
   "source": [
    "print(np.mean(np.mean(df_cm.values, axis=1)))\n",
    "print(np.mean(np.std(df_cm.values, axis=1)))\n",
    "\n",
    "print(np.mean(np.mean(df_cis.values, axis=1)))\n",
    "print(np.mean(np.std(df_cis.values, axis=1)))"
   ]
  },
  {
   "cell_type": "code",
   "execution_count": 40,
   "metadata": {},
   "outputs": [
    {
     "name": "stdout",
     "output_type": "stream",
     "text": [
      "masked crossmap-genes: 4050\n",
      "masked cis-genes: 26\n"
     ]
    },
    {
     "ename": "RuntimeError",
     "evalue": "No active exception to reraise",
     "output_type": "error",
     "traceback": [
      "\u001b[0;31m---------------------------------------------------------------------------\u001b[0m",
      "\u001b[0;31mRuntimeError\u001b[0m                              Traceback (most recent call last)",
      "\u001b[0;32m<ipython-input-40-7b17fcc826eb>\u001b[0m in \u001b[0;36m<module>\u001b[0;34m\u001b[0m\n\u001b[1;32m     23\u001b[0m \u001b[0mprint\u001b[0m\u001b[0;34m(\u001b[0m\u001b[0;34mf\"masked cis-genes: {len(cismaskcomp[0].rmv_id)}\"\u001b[0m\u001b[0;34m)\u001b[0m\u001b[0;34m\u001b[0m\u001b[0;34m\u001b[0m\u001b[0m\n\u001b[1;32m     24\u001b[0m \u001b[0;34m\u001b[0m\u001b[0m\n\u001b[0;32m---> 25\u001b[0;31m \u001b[0;32mraise\u001b[0m\u001b[0;34m\u001b[0m\u001b[0;34m\u001b[0m\u001b[0m\n\u001b[0m\u001b[1;32m     26\u001b[0m \u001b[0;34m\u001b[0m\u001b[0m\n\u001b[1;32m     27\u001b[0m \u001b[0musegenes_cm\u001b[0m \u001b[0;34m=\u001b[0m \u001b[0mnp\u001b[0m\u001b[0;34m.\u001b[0m\u001b[0mones\u001b[0m\u001b[0;34m(\u001b[0m\u001b[0mdf\u001b[0m\u001b[0;34m.\u001b[0m\u001b[0mshape\u001b[0m\u001b[0;34m[\u001b[0m\u001b[0;36m0\u001b[0m\u001b[0;34m]\u001b[0m\u001b[0;34m,\u001b[0m \u001b[0mdtype\u001b[0m\u001b[0;34m=\u001b[0m\u001b[0mbool\u001b[0m\u001b[0;34m)\u001b[0m\u001b[0;34m\u001b[0m\u001b[0;34m\u001b[0m\u001b[0m\n",
      "\u001b[0;31mRuntimeError\u001b[0m: No active exception to reraise"
     ]
    }
   ],
   "source": [
    "ts = optim_tissues[0]\n",
    "\n",
    "print(\"Tissue: {ts}\")\n",
    "\n",
    "gx_file = f\"/cbscratch/franco/trans-eqtl/new_preprocess_feb2020_freeze/gtex_v8/expression/tpms/{ts}_tpms_qcfilter.txt.protein_coding_lncRNA_filtered\"\n",
    "df = pd.read_csv(gx_file, header=0, index_col=0, sep=\"\\t\")\n",
    "\n",
    "snpids    = [x.rsid for x in teqtl_dict[\"sb\"][ts]]\n",
    "snpids_cm = [x.rsid for x in teqtl_dict[\"cm\"][ts]]\n",
    "\n",
    "print(\"SNPs before cm: {len(snpids)}\")\n",
    "print(\"SNPs after cm:  {len(snpids_cm)}\")\n",
    "print(\"\")\n",
    "\n",
    "both_sets = list(set(snpids + snpids_cm))\n",
    "\n",
    "logpvals    = pval_df_subset[ts][both_sets]\n",
    "logpvals_cm = pval_df_cm_subset[ts][both_sets]\n",
    "\n",
    "snpinfo_tissue = Snp2info(both_sets)\n",
    "ts_genes       = read_tissue_genes(gx_file, geneinfo_dict)\n",
    "\n",
    "#### Obtain cismasks and add crossmappable genes\n",
    "cismasklist = cismasking.get_cismasklist(snpinfo_tissue, ts_genes, None, window=1e6)\n",
    "cismaskcomp = cismasking.compress_cismasklist(cismasklist)\n",
    "crossmap_cismaskcomp = extend_cismask(ts_genes, cismaskcomp, cross_gene_dict)\n",
    "\n",
    "print(f\"masked crossmap-genes: {len(crossmap_cismaskcomp[0].rmv_id)}\")\n",
    "print(f\"masked cis-genes: {len(cismaskcomp[0].rmv_id)}\")\n",
    "\n",
    "sig_after_cm = np.sum(logpvals < global_cutoff)\n",
    "\n",
    "raise\n",
    "\n",
    "usegenes_cm = np.ones(df.shape[0], dtype=bool)\n",
    "thismask_cm = crossmap_cismaskcomp[1]\n",
    "if thismask_cm.rmv_id.shape[0] > 0: usegenes_cm[thismask_cm.rmv_id] = False      \n",
    "df_cm = df[usegenes_cm]\n",
    "\n",
    "usegenes = np.ones(df.shape[0], dtype=bool)\n",
    "thismask = cismaskcomp[1]\n",
    "if thismask.rmv_id.shape[0] > 0: usegenes[thismask.rmv_id] = False   \n",
    "df_cis = df[usegenes]"
   ]
  },
  {
   "cell_type": "code",
   "execution_count": 226,
   "metadata": {},
   "outputs": [],
   "source": [
    "## Write down these expressions to find out if there are differences in the sigma beta optimization\n",
    "\n",
    "df_cm.to_csv(\"wb_tpms_crossmap_filtered.txt\", sep=\"\\t\", header=True, index=True)\n",
    "df_cis.to_csv(\"wb_tpms_cismask_filtered.txt\", sep=\"\\t\", header=True, index=True)"
   ]
  },
  {
   "cell_type": "code",
   "execution_count": null,
   "metadata": {},
   "outputs": [],
   "source": []
  }
 ],
 "metadata": {
  "kernelspec": {
   "display_name": "pyenv37",
   "language": "python",
   "name": "pyenv37"
  },
  "language_info": {
   "codemirror_mode": {
    "name": "ipython",
    "version": 3
   },
   "file_extension": ".py",
   "mimetype": "text/x-python",
   "name": "python",
   "nbconvert_exporter": "python",
   "pygments_lexer": "ipython3",
   "version": "3.7.9"
  }
 },
 "nbformat": 4,
 "nbformat_minor": 2
}
