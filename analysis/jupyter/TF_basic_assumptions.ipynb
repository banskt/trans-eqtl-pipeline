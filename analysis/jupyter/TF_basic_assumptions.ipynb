{
 "cells": [
  {
   "cell_type": "code",
   "execution_count": 1,
   "metadata": {},
   "outputs": [],
   "source": [
    "%load_ext autoreload\n",
    "%autoreload 2\n",
    "import numpy as np\n",
    "import matplotlib.pyplot as plt\n",
    "import os\n",
    "import sys\n",
    "sys.path.append('../')\n",
    "sys.path.append('/usr/users/fsimone/tejaas')\n",
    "from iotools import readgtf\n",
    "\n",
    "base_dir = \"/cbscratch/franco/datasets\"\n",
    "\n",
    "import collections\n",
    "\n",
    "GENEINFO_FIELDS = ['name', 'ensembl_id', 'chrom', 'start', 'end']\n",
    "class GeneInfo(collections.namedtuple('_GeneInfo', GENEINFO_FIELDS)):\n",
    "    __slots__ = ()\n",
    "\n",
    "def read_TFannot(infile):\n",
    "    TF_list = list()\n",
    "    with open(infile) as instream:\n",
    "        next(instream)\n",
    "        for line in instream:\n",
    "            arr = line.rstrip().split()\n",
    "            TF_list.append(GeneInfo(ensembl_id=arr[0], chrom=int(arr[1]), start=int(arr[2]), end=int(arr[3]), name=arr[4]))\n",
    "    return TF_list\n",
    "\n",
    "TF_annot = read_TFannot(\"../TF_annotation.txt\")\n",
    "\n",
    "import collections\n",
    "TF_dict = collections.defaultdict(dict)\n",
    "for g in TF_annot:\n",
    "    TF_dict[g.chrom][g.ensembl_id] = g.start\n",
    "    \n",
    "def search_TF(TF_dict, chrom, pos):\n",
    "    TSS_distance = 1e10\n",
    "    cisTF = None\n",
    "    found = False\n",
    "    for TF in TF_dict[chrom].keys():\n",
    "        dist = pos - TF_dict[chrom][TF]\n",
    "        if np.abs(dist) < TSS_distance:\n",
    "            TSS_distance = dist\n",
    "            cisTF = TF\n",
    "            found = True\n",
    "    if not found:\n",
    "        print(chrom, pos)\n",
    "    return TSS_distance, cisTF"
   ]
  },
  {
   "cell_type": "code",
   "execution_count": 28,
   "metadata": {},
   "outputs": [
    {
     "data": {
      "image/png": "[encoded data removed]",
      "text/plain": [
       "<Figure size 432x288 with 1 Axes>"
      ]
     },
     "metadata": {},
     "output_type": "display_data"
    }
   ],
   "source": [
    "# Distances between contiguous TFs\n",
    "import matplotlib.pyplot as plt\n",
    "\n",
    "dists = list()\n",
    "prev = TF_annot[0]\n",
    "for e in TF_annot[1:]:\n",
    "    if prev.chrom == e.chrom:\n",
    "        dists.append(e.start - prev.start)\n",
    "    prev = e \n",
    "dists = np.array(dists)\n",
    "\n",
    "plt.hist(dists / 1000000, bins=100)\n",
    "plt.xlim(0,5)\n",
    "plt.title(\"Distance distribution between TFs (in Mbp)\")\n",
    "plt.show()"
   ]
  },
  {
   "cell_type": "code",
   "execution_count": 14,
   "metadata": {},
   "outputs": [],
   "source": [
    "import mpmath\n",
    "\n",
    "mpmath.mp.dps = 500\n",
    "def pval(x): return float(mpmath.log10(1 - 0.5 * (1 + mpmath.erf(x/mpmath.sqrt(2)))))\n",
    "\n",
    "SNPRES_FIELDS = ['rsid', 'chrom', 'pos', 'pval', 'TFdist', 'TFname']\n",
    "class SNPRes(collections.namedtuple('_SNPRes', SNPRES_FIELDS)):\n",
    "    __slots__ = ()\n",
    "        \n",
    "def tejaas(filepath, chrom):\n",
    "    res = list()\n",
    "    with open(filepath, 'r') as mfile:\n",
    "        next(mfile)\n",
    "        for line in mfile:\n",
    "            arr   = line.strip().split(\"\\t\")\n",
    "            rsid  = arr[0]\n",
    "            pos   = int(arr[1])\n",
    "            p     = float(arr[5])\n",
    "            q     = float(arr[2])\n",
    "            mu    = float(arr[3])\n",
    "            sigma = float(arr[4])\n",
    "            res.append(SNPRes(rsid=rsid, chrom=chrom, pos=pos, pval=p, TFdist=None, TFname=None))\n",
    "    return res"
   ]
  },
  {
   "cell_type": "code",
   "execution_count": 15,
   "metadata": {},
   "outputs": [
    {
     "name": "stdout",
     "output_type": "stream",
     "text": [
      "gtex-ms tejaas norm 1 2 3 4 5 6 7 8 9 10 11 12 13 14 15 16 17 18 19 20 21 22 \n"
     ]
    }
   ],
   "source": [
    "datadir = \"/cbscratch/franco/trans-eqtl/dev-pipeline/gtex_v6_norm\"\n",
    "chrms = np.arange(1,23)\n",
    "snp_res_dict = collections.defaultdict(dict)\n",
    "snp_res_dict_top = collections.defaultdict(dict)\n",
    "tissues = [\"gtex-ms\"]\n",
    "expressions = [\"norm\"] #, \"lmcorrected_age\", \"peer/20/covar_withage\"]\n",
    "sbs = [\"0.05\"]\n",
    "methods = [\"tejaas\"]\n",
    "for sb in sbs:\n",
    "    for expr in expressions:\n",
    "        snp_res_dict[sb][expr] = collections.defaultdict(dict)\n",
    "        snp_res_dict_top[sb][expr] = collections.defaultdict(dict)\n",
    "        for tissue in tissues:\n",
    "            snp_res_dict[sb][expr][tissue] = collections.defaultdict(dict)\n",
    "            snp_res_dict_top[sb][expr][tissue] = collections.defaultdict(dict)\n",
    "            for method in methods:\n",
    "                snp_res = list()\n",
    "                snp_res_top = list()\n",
    "                print(tissue, method, expr, end=\" \")\n",
    "                for chrom in chrms:\n",
    "                    print(chrom, end=\" \")\n",
    "                    inputfile = datadir+\"/\"+expr+\"/\"+tissue+\"/\"+method+\"/permnull_sb\"+sb+\"/chr\"+str(chrom)+\"/rr.txt\"\n",
    "                    snp_res += tejaas(inputfile, chrom)\n",
    "\n",
    "                    # inputfile = datadir+\"/\"+expr+\"/\"+tissue+\"/\"+method+\"/permnull_sb\"+sb+\"/chr\"+str(chrom)+\"/rr.txt.top2000\"\n",
    "                    # snp_res_top += tejaas(inputfile, chrom)\n",
    "                print(\"\")\n",
    "                snp_res_dict[sb][expr][tissue][method] = snp_res\n",
    "                # snp_res_dict_top[sb][expr][tissue][method] = snp_res_top"
   ]
  },
  {
   "cell_type": "code",
   "execution_count": 17,
   "metadata": {},
   "outputs": [
    {
     "name": "stdout",
     "output_type": "stream",
     "text": [
      "Nº of SNPs: 4109737\n"
     ]
    }
   ],
   "source": [
    "nsnps = 1000\n",
    "window = 1e6\n",
    "Numbins = 50\n",
    "mymethod = \"tejaas\"\n",
    "myexpr   = \"norm\" # \"peer/20/covar_withage\" #\n",
    "mytissue = \"gtex-ms\"\n",
    "mysb = \"0.05\"\n",
    "allsnplist = snp_res_dict[mysb][myexpr][mytissue][mymethod]\n",
    "print(\"Nº of SNPs: {:d}\".format(len(allsnplist)))"
   ]
  },
  {
   "cell_type": "code",
   "execution_count": 29,
   "metadata": {},
   "outputs": [],
   "source": [
    "allTSSdists = list()\n",
    "for snp in allsnplist:\n",
    "    TSS_distance, cisTF = search_TF(TF_dict, snp.chrom, snp.pos)\n",
    "    np.append(allTSSdists, TSS_distance)"
   ]
  },
  {
   "cell_type": "code",
   "execution_count": null,
   "metadata": {},
   "outputs": [],
   "source": [
    "allTSSdists"
   ]
  },
  {
   "cell_type": "code",
   "execution_count": null,
   "metadata": {},
   "outputs": [],
   "source": []
  }
 ],
 "metadata": {
  "kernelspec": {
   "display_name": "Python 3",
   "language": "python",
   "name": "python3"
  },
  "language_info": {
   "codemirror_mode": {
    "name": "ipython",
    "version": 3
   },
   "file_extension": ".py",
   "mimetype": "text/x-python",
   "name": "python",
   "nbconvert_exporter": "python",
   "pygments_lexer": "ipython3",
   "version": "3.6.7"
  }
 },
 "nbformat": 4,
 "nbformat_minor": 2
}
