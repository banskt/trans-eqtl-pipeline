{
 "cells": [
  {
   "cell_type": "code",
   "execution_count": 3,
   "metadata": {},
   "outputs": [
    {
     "name": "stdout",
     "output_type": "stream",
     "text": [
      "The autoreload extension is already loaded. To reload it, use:\n",
      "  %reload_ext autoreload\n"
     ]
    }
   ],
   "source": [
    "%load_ext autoreload\n",
    "%autoreload 2\n",
    "import matplotlib.pyplot as plt\n",
    "import sys\n",
    "sys.path.append('../../')\n",
    "sys.path.append('/usr/users/fsimone/tejaas')\n",
    "from iotools import readgtf\n",
    "import numpy as np\n",
    "import os\n",
    "import re\n",
    "import collections\n",
    "import time \n",
    "import gzip \n",
    "\n",
    "SNPRES_FIELDS = ['rsid', 'chrom', 'pos', 'logp', 'dbSNP', 'maf']\n",
    "class SNPRes(collections.namedtuple('_SNPRes', SNPRES_FIELDS)):\n",
    "    __slots__ = ()\n",
    "\n",
    "dbsnp_dict = collections.defaultdict(lambda: False)\n",
    "with gzip.open(\"/cbscratch/franco/datasets/gtex_v8/genotypes/GTEx_Analysis_2017-06-05_v8_WholeGenomeSeq_838Indiv_Analysis_Freeze.lookup_table.txt.gz\") as instream:\n",
    "    next(instream)\n",
    "    for line in instream:\n",
    "        arr = line.decode().rstrip().split()\n",
    "        #if len(arr[3]) == 1 and len(arr[4]) == 1:\n",
    "        dbsnp_dict[arr[2]] = arr[6]\n",
    "        \n",
    "def tejaas(filepath, dbsnp_dict):\n",
    "    res = list()\n",
    "    with open(filepath, 'r') as mfile:\n",
    "        next(mfile)\n",
    "        for line in mfile:\n",
    "            arr   = line.strip().split(\"\\t\")\n",
    "            rsid  = arr[0]\n",
    "            #chrom = rsid.split(\"_\")[0][3:]\n",
    "            chrom = int(arr[1])\n",
    "            pos   = int(arr[2])\n",
    "            p     = float(arr[7])\n",
    "            logp  = np.log10(p) if p!=0 else np.log10(10e-30)\n",
    "            maf   = float(arr[3])\n",
    "            dbsnp = dbsnp_dict[rsid]\n",
    "            res.append(SNPRes(rsid=rsid, chrom=chrom, pos=pos, logp=-logp, dbSNP=dbsnp, maf=maf))\n",
    "    return res    \n",
    "\n",
    "# special_tissues = ['ag', 'haa', 'liv', 'msg', 'pan', 'pit', 'si', 'spl', 'va', 'wb']\n",
    "special_tissues = ['haa', 'pan', 'spl', 'wb']"
   ]
  },
  {
   "cell_type": "code",
   "execution_count": 4,
   "metadata": {},
   "outputs": [],
   "source": [
    "from utils import utils\n",
    "# tissue_file = \"/usr/users/fsimone/trans-eqtl-pipeline/analysis/plots/tissues.txt\"\n",
    "tissue_file = \"/usr/users/fsimone/trans-eqtl-pipeline/analysis/plots/tissue_table.txt\"\n",
    "tissuenames, descriptions = utils.read_tissues(tissue_file)\n",
    "tissue_names = dict(zip(tissuenames, descriptions))"
   ]
  },
  {
   "cell_type": "code",
   "execution_count": 9,
   "metadata": {
    "scrolled": true
   },
   "outputs": [
    {
     "name": "stdout",
     "output_type": "stream",
     "text": [
      "Loading  as has 2011 trans-eqtls\n",
      "Loading  av has 1664 trans-eqtls\n",
      "Loading  ag has 822 trans-eqtls\n",
      "Loading  aa has 5760 trans-eqtls\n",
      "Loading  ac has 7551 trans-eqtls\n",
      "Loading  at has 1463 trans-eqtls\n",
      "Loading  bam has 4780 trans-eqtls\n",
      "Loading  ban has 3890 trans-eqtls\n",
      "Loading  bca has 27 trans-eqtls\n",
      "Loading  bceh has 270 trans-eqtls\n",
      "Loading  bce has 96 trans-eqtls\n",
      "Loading  bco has 113 trans-eqtls\n",
      "Loading  bfr has 58 trans-eqtls\n",
      "Loading  bhi has 170 trans-eqtls\n",
      "Loading  bhy has 325 trans-eqtls\n",
      "Loading  bnu has 1451 trans-eqtls\n",
      "Loading  bpu has 14 trans-eqtls\n",
      "Loading  bsp has 186 trans-eqtls\n",
      "Loading  bsu has 202 trans-eqtls\n",
      "Loading  br has 1764 trans-eqtls\n",
      "Loading  ebv has 1241 trans-eqtls\n",
      "Loading  fib has 767 trans-eqtls\n",
      "Loading  cols has 320 trans-eqtls\n",
      "Loading  colt has 5282 trans-eqtls\n",
      "Loading  esog has 71 trans-eqtls\n",
      "Loading  esom has 343 trans-eqtls\n",
      "Loading  esomu has 68 trans-eqtls\n",
      "Loading  haa has 0 trans-eqtls\n",
      "Loading  hlv has 953 trans-eqtls\n",
      "Loading  kc has 39 trans-eqtls\n",
      "Loading  liv has 189 trans-eqtls\n",
      "Loading  lu has 1975 trans-eqtls\n",
      "Loading  msg has 17 trans-eqtls\n",
      "Loading  ms has 11347 trans-eqtls\n",
      "Loading  nt has 2457 trans-eqtls\n",
      "Loading  ov has 321 trans-eqtls\n",
      "Loading  pan has 0 trans-eqtls\n",
      "Loading  pit has 39 trans-eqtls\n",
      "Loading  pro has 4193 trans-eqtls\n",
      "Loading  snse has 3010 trans-eqtls\n",
      "Loading  sse has 1548 trans-eqtls\n",
      "Loading  si has 286 trans-eqtls\n",
      "Loading  spl has 9 trans-eqtls\n",
      "Loading  sto has 905 trans-eqtls\n",
      "Loading  tes has 5452 trans-eqtls\n",
      "Loading  thy has 4097 trans-eqtls\n",
      "Loading  ut has 8563 trans-eqtls\n",
      "Loading  va has 0 trans-eqtls\n",
      "Loading  wb has 0 trans-eqtls\n",
      "Loading  haa has 340 trans-eqtls\n",
      "Loading  pan has 624 trans-eqtls\n",
      "Loading  spl has 5706 trans-eqtls\n",
      "Loading  wb has 33706 trans-eqtls\n"
     ]
    }
   ],
   "source": [
    "basepath = \"/cbscratch/franco/trans-eqtl\"\n",
    "trans_dict = dict()\n",
    "trans_dict0006 = dict()\n",
    "for tissue in tissuenames:\n",
    "    tejaas_file = os.path.join(basepath, \"protein_coding_lncRNA_gamma01_knn30_cut5e-8\", tissue, \"trans_eqtls.txt\")\n",
    "    if not os.path.exists(tejaas_file):\n",
    "        print(\"{:s} has no trans-eqtl results\".format(tissue))\n",
    "        continue\n",
    "    print(\"Loading \", tissue, end=\"\")\n",
    "    transeqtls = tejaas(tejaas_file, dbsnp_dict)\n",
    "    if len(transeqtls) > 0:\n",
    "        trans_dict[tissue] = transeqtls\n",
    "        print(\" has {:d} trans-eqtls\".format(len(transeqtls)))\n",
    "    else:\n",
    "        trans_dict[tissue] = []\n",
    "        print(\" has 0 trans-eqtls\")\n",
    "        \n",
    "for tissue in special_tissues:\n",
    "    tejaas_file = os.path.join(basepath, \"protein_coding_lncRNA_gamma0006_knn30_cut5e-8\", tissue, \"trans_eqtls.txt\")\n",
    "    if not os.path.exists(tejaas_file):\n",
    "        print(\"{:s} has no trans-eqtl results\".format(tissue))\n",
    "        continue\n",
    "    print(\"Loading \", tissue, end=\"\")\n",
    "    transeqtls = tejaas(tejaas_file, dbsnp_dict)\n",
    "    if len(transeqtls) > 0:\n",
    "        trans_dict0006[tissue] = transeqtls\n",
    "        print(\" has {:d} trans-eqtls\".format(len(transeqtls)))\n",
    "    else:\n",
    "        trans_dict0006[tissue] = []\n",
    "        print(\" has 0 trans-eqtls\")"
   ]
  },
  {
   "cell_type": "code",
   "execution_count": 10,
   "metadata": {},
   "outputs": [
    {
     "name": "stdout",
     "output_type": "stream",
     "text": [
      "reported trans-eqtls: 59786\n",
      "unique trans-eqtls: 3853\n"
     ]
    }
   ],
   "source": [
    "import gzip\n",
    "eqtlgenfile = \"/cbscratch/franco/datasets/EQTLgen/trans-eQTL_significant_20181017.txt.gz\"\n",
    "eqtlgenfile = \"/cbscratch/franco/datasets/EQTLgen/2018-09-04-trans-eQTLsFDR0.05-CohortInfoRemoved-BonferroniAdded.txt.gz\"\n",
    "eqtlgen_dict = collections.defaultdict(lambda: False)\n",
    "eqtlgen_coord_dict = dict()\n",
    "eqtlgen_list = list()\n",
    "for chrm in np.arange(1,23):\n",
    "    eqtlgen_coord_dict[chrm] = collections.defaultdict(lambda: False)\n",
    "with gzip.open(eqtlgenfile) as instream:\n",
    "    next(instream)\n",
    "    for line in instream:\n",
    "        arr = line.decode().strip().split(\"\\t\")\n",
    "        eqtlgen_dict[arr[1]] = True   #SNP rsid\n",
    "        eqtlgen_coord_dict[int(arr[2])][int(arr[3])] = True   # SNPchr and SNPpos\n",
    "        eqtlgen_list.append(arr[1])\n",
    "print(f\"reported trans-eqtls: {len(eqtlgen_list)}\")\n",
    "print(f\"unique trans-eqtls: {len(set(eqtlgen_list))}\")\n",
    "eqtlgen_list = list(set(eqtlgen_list))"
   ]
  },
  {
   "cell_type": "code",
   "execution_count": 16,
   "metadata": {},
   "outputs": [],
   "source": [
    "snpdatafile = \"/cbscratch/franco/datasets/gtex_v8/genotypes/vcfs_SHAPEIT2/0.01/gtex_v8_snpinfo_SHAPEIT2.txt\"\n",
    "variants_list = list()\n",
    "rsids_list = list()\n",
    "with open (snpdatafile) as infmt:\n",
    "    for line in infmt:\n",
    "        arr = line.strip().split()\n",
    "        variants_list.append(arr[1])\n",
    "        if arr[1] in dbsnp_dict:\n",
    "            rsids_list.append(dbsnp_dict[arr[1]])\n",
    "        else:\n",
    "            print(f\"fail {arr[1]}\")"
   ]
  },
  {
   "cell_type": "code",
   "execution_count": 26,
   "metadata": {},
   "outputs": [
    {
     "name": "stdout",
     "output_type": "stream",
     "text": [
      "0 10 20 30 40 50 60 70 80 90 as | 0.57 | 0.00028344107409249126\n",
      "0 10 20 30 40 50 60 70 80 90 av | 0.69 | 0.0004146634615384615\n",
      "0 10 20 30 40 50 60 70 80 90 ag | 0.36 | 0.00043795620437956203\n",
      "0 10 20 30 40 50 60 70 80 90 aa | 1.94 | 0.0003368055555555555\n",
      "0 10 20 30 40 50 60 70 80 90 ac | 2.78 | 0.00036816315719772214\n",
      "0 10 20 30 40 50 60 70 80 90 at | 0.75 | 0.0005126452494873548\n",
      "0 10 20 30 40 50 60 70 80 90 bam | 1.62 | 0.0003389121338912134\n",
      "0 10 20 30 40 50 60 70 80 90 ban | 1.42 | 0.00036503856041131104\n",
      "0 10 20 30 40 50 60 70 80 90 bca | 0.01 | 0.00037037037037037035\n",
      "0 10 20 30 40 50 60 70 80 90 bceh | 0.11 | 0.00040740740740740744\n",
      "0 10 20 30 40 50 60 70 80 90 bce | 0.03 | 0.0003125\n",
      "0 10 20 30 40 50 60 70 80 90 bco | 0.07 | 0.0006194690265486726\n",
      "0 10 20 30 40 50 60 70 80 90 bfr | 0.02 | 0.0003448275862068966\n",
      "0 10 20 30 40 50 60 70 80 90 bhi | 0.04 | 0.00023529411764705883\n",
      "0 10 20 30 40 50 60 70 80 90 bhy | 0.05 | 0.00015384615384615385\n",
      "0 10 20 30 40 50 60 70 80 90 bnu | 0.56 | 0.00038594073053066855\n",
      "0 10 20 30 40 50 60 70 80 90 bpu | 0.0 | 0.0\n",
      "0 10 20 30 40 50 60 70 80 90 bsp | 0.05 | 0.00026881720430107527\n",
      "0 10 20 30 40 50 60 70 80 90 bsu | 0.04 | 0.00019801980198019803\n",
      "0 10 20 30 40 50 60 70 80 90 br | 0.66 | 0.0003741496598639456\n",
      "0 10 20 30 40 50 60 70 80 90 ebv | 0.4 | 0.00032232070910556004\n",
      "0 10 20 30 40 50 60 70 80 90 fib | 0.2 | 0.0002607561929595828\n",
      "0 10 20 30 40 50 60 70 80 90 cols | 0.14 | 0.00043750000000000006\n",
      "0 10 20 30 40 50 60 70 80 90 colt | 2.1 | 0.0003975766755017039\n",
      "0 10 20 30 40 50 60 70 80 90 esog | 0.04 | 0.0005633802816901409\n",
      "0 10 20 30 40 50 60 70 80 90 esom | 0.1 | 0.0002915451895043732\n",
      "0 10 20 30 40 50 60 70 80 90 esomu | 0.03 | 0.00044117647058823526\n",
      "0 10 20 30 40 50 60 70 80 90 haa | 0.17 | 0.0005\n",
      "0 10 20 30 40 50 60 70 80 90 hlv | 0.28 | 0.00029380902413431273\n",
      "0 10 20 30 40 50 60 70 80 90 kc | 0.03 | 0.0007692307692307692\n",
      "0 10 20 30 40 50 60 70 80 90 liv | 0.07 | 0.0003703703703703704\n",
      "0 10 20 30 40 50 60 70 80 90 lu | 0.71 | 0.0003594936708860759\n",
      "0 10 20 30 40 50 60 70 80 90 msg | 0.01 | 0.0005882352941176471\n",
      "0 10 20 30 40 50 60 70 80 90 ms | 4.34 | 0.0003824799506477483\n",
      "0 10 20 30 40 50 60 70 80 90 nt | 0.93 | 0.0003785103785103785\n",
      "0 10 20 30 40 50 60 70 80 90 ov | 0.08 | 0.00024922118380062304\n",
      "0 10 20 30 40 50 60 70 80 90 pan | 0.36 | 0.0005769230769230769\n",
      "0 10 20 30 40 50 60 70 80 90 pit | 0.02 | 0.0005128205128205128\n",
      "0 10 20 30 40 50 60 70 80 90 pro | 1.44 | 0.0003434295253994753\n",
      "0 10 20 30 40 50 60 70 80 90 snse | 0.96 | 0.00031893687707641196\n",
      "0 10 20 30 40 50 60 70 80 90 sse | 0.55 | 0.00035529715762273905\n",
      "0 10 20 30 40 50 60 70 80 90 si | 0.11 | 0.0003846153846153846\n",
      "0 10 20 30 40 50 60 70 80 90 spl | 2.14 | 0.00037504381352961795\n",
      "0 10 20 30 40 50 60 70 80 90 sto | 0.34 | 0.0003756906077348067\n",
      "0 10 20 30 40 50 60 70 80 90 tes | 2.09 | 0.0003833455612619222\n",
      "0 10 20 30 40 50 60 70 80 90 thy | 1.48 | 0.00036123993165731023\n",
      "0 10 20 30 40 50 60 70 80 90 ut | 3.21 | 0.0003748686208104636\n",
      "0 10 20 30 40 50 60 70 80 90 "
     ]
    },
    {
     "name": "stderr",
     "output_type": "stream",
     "text": [
      "/usr/users/fsimone/opt/miniconda/3/envs/env3.6/lib/python3.6/site-packages/ipykernel_launcher.py:25: RuntimeWarning: invalid value encountered in double_scalars\n"
     ]
    },
    {
     "name": "stdout",
     "output_type": "stream",
     "text": [
      "va | 0.0 | nan\n",
      "0 10 20 30 40 50 60 70 80 90 wb | 11.72 | 0.0003477125734290631\n"
     ]
    }
   ],
   "source": [
    "### Obtain random enrichment in EQTLgen\n",
    "\n",
    "backgrounds = collections.defaultdict(dict)\n",
    "all_transeqtls = list()\n",
    "for tissue in tissuenames:\n",
    "    if tissue in special_tissues:\n",
    "        res_dict = trans_dict0006\n",
    "    else:\n",
    "        res_dict = trans_dict\n",
    "    nteqtl = len(res_dict[tissue]) # nº of discoveries in that tissue, so sample accordingly\n",
    "    nchoose = nteqtl\n",
    "    ntimes  = 100\n",
    "    counter_list = list()\n",
    "    # sample randomly here <----\n",
    "    for i in range(ntimes):\n",
    "        counter = 0\n",
    "        if i%10 == 0:\n",
    "            print(f\"{i} \", end=\"\")\n",
    "        chooseidx = np.sort(np.random.choice(len(rsids_list), nchoose, replace = False))\n",
    "        for idx in chooseidx:\n",
    "            if eqtlgen_dict[rsids_list[idx]]:\n",
    "                counter += 1\n",
    "        counter_list.append(counter)\n",
    "    avg_hits = np.mean( np.array(counter_list) )\n",
    "    bg_freq  = avg_hits / nchoose \n",
    "    backgrounds[tissue][\"avg_hits\"] = avg_hits\n",
    "    backgrounds[tissue][\"bg_freq\"]  = bg_freq\n",
    "    print(f\"{tissue} | {avg_hits} | {bg_freq}\")"
   ]
  },
  {
   "cell_type": "code",
   "execution_count": 27,
   "metadata": {},
   "outputs": [],
   "source": [
    "with open(\"eqtlgen_backgrounds.txt\", 'w') as outfmt:\n",
    "    for tissue in tissuenames:\n",
    "        outfmt.write(f\"{tissue}\\t{backgrounds[tissue]['avg_hits']}\\t{backgrounds[tissue]['bg_freq']}\\n\")"
   ]
  },
  {
   "cell_type": "code",
   "execution_count": 41,
   "metadata": {
    "scrolled": true
   },
   "outputs": [
    {
     "name": "stdout",
     "output_type": "stream",
     "text": [
      "Adipose Subcutaneous  &  0 (0.00\\%) & - \\\\\n",
      "Adipose Visceral Omentum  &  1 (0.03\\%) & 1.45 ($p=0.498496$) \\\\\n",
      "Adrenal Gland  &  3 (0.08\\%) & 8.33 ($p=0.00593454$) \\\\\n",
      "Artery Aorta  &  2 (0.05\\%) & 1.03 ($p=0.577555$) \\\\\n",
      "Artery Coronary  &  3 (0.08\\%) & 1.08 ($p=0.5258$) \\\\\n",
      "Artery Tibial  &  0 (0.00\\%) & - \\\\\n",
      "Brain Amygdala  &  0 (0.00\\%) & - \\\\\n",
      "Brain Anterior cingulate cortex BA24  &  2 (0.05\\%) & 1.41 ($p=0.415078$) \\\\\n",
      "Brain Caudate basal ganglia  &  0 (0.00\\%) & - \\\\\n",
      "Brain Cerebellar Hemisphere  &  0 (0.00\\%) & - \\\\\n",
      "Brain Cerebellum  &  0 (0.00\\%) & - \\\\\n",
      "Brain Cortex  &  0 (0.00\\%) & - \\\\\n",
      "Brain Frontal Cortex BA9  &  0 (0.00\\%) & - \\\\\n",
      "Brain Hippocampus  &  0 (0.00\\%) & - \\\\\n",
      "Brain Hypothalamus  &  0 (0.00\\%) & - \\\\\n",
      "Brain Nucleus accumbens basal ganglia  &  0 (0.00\\%) & - \\\\\n",
      "Brain Putamen basal ganglia  &  0 (0.00\\%) & - \\\\\n",
      "Brain Spinal cord cervical c-1  &  0 (0.00\\%) & - \\\\\n",
      "Brain Substantia nigra  &  0 (0.00\\%) & - \\\\\n",
      "Breast Mammary Tissue  &  3 (0.08\\%) & 4.55 ($p=0.0294283$) \\\\\n",
      "Cells EBV-transformed lymphocytes  &  2 (0.05\\%) & 5.00 ($p=0.061526$) \\\\\n",
      "Cells Cultured fibroblasts  &  1 (0.03\\%) & 5.00 ($p=0.181291$) \\\\\n",
      "Colon Sigmoid  &  1 (0.03\\%) & 7.14 ($p=0.130668$) \\\\\n",
      "Colon Transverse  &  9 (0.23\\%) & 4.29 ($p=0.00033596$) \\\\\n",
      "Esophagus Gastroesophageal Junction  &  0 (0.00\\%) & - \\\\\n",
      "Esophagus Mucosa  &  0 (0.00\\%) & - \\\\\n",
      "Esophagus Muscularis  &  0 (0.00\\%) & - \\\\\n",
      "Heart Atrial Appendage  &  1 (0.03\\%) & 5.88 ($p=0.156371$) \\\\\n",
      "Heart Left Ventricle  &  2 (0.05\\%) & 7.14 ($p=0.0325744$) \\\\\n",
      "Kidney Cortex  &  0 (0.00\\%) & - \\\\\n",
      "Liver  &  0 (0.00\\%) & - \\\\\n",
      "Lung  &  2 (0.05\\%) & 2.82 ($p=0.15927$) \\\\\n",
      "Minor Salivary Gland  &  0 (0.00\\%) & - \\\\\n",
      "Muscle Skeletal  &  4 (0.10\\%) & 0.92 ($p=0.63004$) \\\\\n",
      "Nerve Tibial  &  0 (0.00\\%) & - \\\\\n",
      "Ovary  &  1 (0.03\\%) & 12.50 ($p=0.0768929$) \\\\\n",
      "Pancreas  &  0 (0.00\\%) & - \\\\\n",
      "Pituitary  &  0 (0.00\\%) & - \\\\\n",
      "Prostate  &  2 (0.05\\%) & 1.39 ($p=0.421922$) \\\\\n",
      "Skin Not Sun Exposed Suprapubic  &  3 (0.08\\%) & 3.12 ($p=0.0730636$) \\\\\n",
      "Skin Sun Exposed Lower leg  &  3 (0.08\\%) & 5.45 ($p=0.0184417$) \\\\\n",
      "Small Intestine Terminal Ileum  &  1 (0.03\\%) & 9.09 ($p=0.104185$) \\\\\n",
      "Spleen  &  1 (0.03\\%) & 0.47 ($p=0.882392$) \\\\\n",
      "Stomach  &  1 (0.03\\%) & 2.94 ($p=0.288275$) \\\\\n",
      "Testis  &  2 (0.05\\%) & 0.96 ($p=0.617861$) \\\\\n",
      "Thyroid  &  0 (0.00\\%) & - \\\\\n",
      "Uterus  &  3 (0.08\\%) & 0.93 ($p=0.622227$) \\\\\n",
      "Vagina  &  0 (0.00\\%) & - \\\\\n",
      "Whole Blood  &  37 (0.96\\%) & 3.16 ($p=2.99012e-09$) \\\\\n",
      "---> ALL: Replicated 45 trans-eQTLs (1.16792 %)\n"
     ]
    }
   ],
   "source": [
    "import scipy.stats as ss\n",
    "\n",
    "all_transeqtls = list()\n",
    "for tissue in tissuenames:\n",
    "    counter = 0\n",
    "    if tissue in special_tissues:\n",
    "        res_dict = trans_dict0006\n",
    "    else:\n",
    "        res_dict = trans_dict\n",
    "    neqtls = len(res_dict[tissue])\n",
    "    for snp in res_dict[tissue]:\n",
    "        all_transeqtls.append(snp.dbSNP)\n",
    "        if eqtlgen_dict[snp.dbSNP]:\n",
    "            #print(snp.dbSNP)\n",
    "            counter += 1\n",
    "    # print(f\"{tissue}: Replicated {counter} trans-eQTLs ({100 * counter/len(eqtlgen_list):g} %)\")\n",
    "    replication_frac = 100 * counter/len(eqtlgen_list)\n",
    "    if backgrounds[tissue]['bg_freq'] > 0:\n",
    "        enrich = (counter / neqtls ) / backgrounds[tissue]['bg_freq']\n",
    "    else:\n",
    "        enrich = 0\n",
    "    pval = ss.binom_test(counter, neqtls, backgrounds[tissue]['bg_freq'], alternative='greater')\n",
    "    if counter > 0:\n",
    "        print(f\"{tissue_names[tissue]}  &  {counter} ({replication_frac :.2f}\\%) & {enrich :.2f} ($p={pval :g}$) \\\\\\\\\")\n",
    "    else:\n",
    "        print(f\"{tissue_names[tissue]}  &  {counter} ({replication_frac :.2f}\\%) & - \\\\\\\\\")\n",
    "    \n",
    "all_transeqtls = list(set(all_transeqtls))\n",
    "counter = 0\n",
    "for snp in all_transeqtls:\n",
    "    if eqtlgen_dict[snp]:\n",
    "        #print(snp.dbSNP)\n",
    "        counter += 1\n",
    "print(f\"---> ALL: Replicated {counter} trans-eQTLs ({100 * counter/len(eqtlgen_list):g} %)\")"
   ]
  },
  {
   "cell_type": "markdown",
   "metadata": {},
   "source": [
    "# Framingham replication in eQTLGEN"
   ]
  },
  {
   "cell_type": "markdown",
   "metadata": {},
   "source": [
    "# Framingham is broken, needs to be fixed"
   ]
  },
  {
   "cell_type": "code",
   "execution_count": 10,
   "metadata": {},
   "outputs": [
    {
     "name": "stdout",
     "output_type": "stream",
     "text": [
      "Loading FHS Keff 0.4 has 30 trans-eqtls\n",
      "Loading FHS Keff 0.5 has 169 trans-eqtls\n",
      "Loading FHS Keff 0.6 has 248 trans-eqtls\n",
      "Loading FHS Keff 0.7 has 401 trans-eqtls\n",
      "Loading FHS Keff 0.8 has 407 trans-eqtls\n"
     ]
    }
   ],
   "source": [
    "basepath = \"/cbscratch/franco/trans-eqtl/dev-pipeline/gtex_v8_dysb/raw_oneref/fhs/tejaas/\"\n",
    "fhs_trans_dict = dict()\n",
    "keffs = [\"0.4\", \"0.5\", \"0.6\", \"0.7\", \"0.8\"]\n",
    "for keff in keffs:\n",
    "    tejaas_file = os.path.join(basepath, \"permnull_sbDynamic{:s}_knn30\".format(keff), \"trans_eqtls_5e-08.txt\")\n",
    "    if not os.path.exists(tejaas_file):\n",
    "        print(\"File does not exist\")\n",
    "        continue\n",
    "    print(\"Loading FHS Keff {:s}\".format(keff), end=\"\")\n",
    "    transeqtls = tejaas(tejaas_file, dbsnp_dict)\n",
    "    if len(transeqtls) > 0:\n",
    "        fhs_trans_dict[keff] = transeqtls\n",
    "        print(\" has {:d} trans-eqtls\".format(len(transeqtls)))\n",
    "    else:\n",
    "        print(\" has 0 trans-eqtls\")"
   ]
  },
  {
   "cell_type": "code",
   "execution_count": 11,
   "metadata": {},
   "outputs": [
    {
     "name": "stdout",
     "output_type": "stream",
     "text": [
      "3:56849749_T_C\n",
      "6:31252396_C_A\n",
      "6:31265490_C_T\n",
      "6:31272261_T_C\n",
      "7:50427982_G_A\n",
      "0.4: Replicated 5 trans-eQTLs\n",
      "3:56849749_T_C\n",
      "6:31252396_C_A\n",
      "6:31265490_C_T\n",
      "6:31272261_T_C\n",
      "7:50427982_G_A\n",
      "7:50428445_C_T\n",
      "0.5: Replicated 6 trans-eQTLs\n",
      "3:56849749_T_C\n",
      "6:31238318_A_G\n",
      "6:31252396_C_A\n",
      "6:31265490_C_T\n",
      "6:31272261_T_C\n",
      "7:50427982_G_A\n",
      "7:50428445_C_T\n",
      "0.6: Replicated 7 trans-eQTLs\n",
      "3:56849749_T_C\n",
      "6:31238318_A_G\n",
      "6:31252396_C_A\n",
      "6:31265490_C_T\n",
      "6:31272261_T_C\n",
      "6:32664458_C_T\n",
      "7:50427982_G_A\n",
      "7:50428445_C_T\n",
      "0.7: Replicated 8 trans-eQTLs\n",
      "3:56849749_T_C\n",
      "6:31238318_A_G\n",
      "6:31252396_C_A\n",
      "6:31265490_C_T\n",
      "6:31272261_T_C\n",
      "6:32401079_G_A\n",
      "6:32664458_C_T\n",
      "7:50427982_G_A\n",
      "7:50428445_C_T\n",
      "0.8: Replicated 9 trans-eQTLs\n"
     ]
    }
   ],
   "source": [
    "for keff in keffs:\n",
    "    counter = 0\n",
    "    for snp in fhs_trans_dict[keff]:\n",
    "        if eqtlgen_coord_dict[snp.chrom][snp.pos]:\n",
    "            print(snp.rsid)\n",
    "            counter += 1\n",
    "    print(\"{:s}: Replicated {:d} trans-eQTLs\".format(keff, counter))"
   ]
  },
  {
   "cell_type": "code",
   "execution_count": 13,
   "metadata": {},
   "outputs": [
    {
     "data": {
      "text/plain": [
       "0.15"
      ]
     },
     "execution_count": 13,
     "metadata": {},
     "output_type": "execute_result"
    }
   ],
   "source": [
    "1500* 400/4000000 "
   ]
  },
  {
   "cell_type": "code",
   "execution_count": 36,
   "metadata": {},
   "outputs": [],
   "source": [
    "fhs_hg38_coord_dict = dict()\n",
    "for chrom in np.arange(1,23):\n",
    "    fhs_hg38_coord_dict[chrom] = collections.defaultdict(lambda: False)\n",
    "\n",
    "liftfile=\"/cbscratch/franco/trans-eqtl/dev-pipeline/gtex_v8_dysb/raw_oneref/fhs/tejaas/permnull_sbDynamic0.8_knn30/hglft_genome_2cb9c_a305b0.bed\"\n",
    "with open(liftfile) as instream:\n",
    "    for line in instream:\n",
    "        chrom = int(line.strip().split(\":\")[0][3:])\n",
    "        pos   = int(line.strip().split(\":\")[1].split(\"-\")[0])\n",
    "        fhs_hg38_coord_dict[chrom][pos] = True    "
   ]
  },
  {
   "cell_type": "code",
   "execution_count": 45,
   "metadata": {},
   "outputs": [],
   "source": [
    "counter = 0\n",
    "for t in trans_dict['wb']:\n",
    "    if fhs_hg38_coord_dict[t.chrom][t.pos]:\n",
    "        counter += 1\n",
    "        print(t)"
   ]
  },
  {
   "cell_type": "code",
   "execution_count": null,
   "metadata": {},
   "outputs": [],
   "source": []
  }
 ],
 "metadata": {
  "kernelspec": {
   "display_name": "Python 3",
   "language": "python",
   "name": "python3"
  },
  "language_info": {
   "codemirror_mode": {
    "name": "ipython",
    "version": 3
   },
   "file_extension": ".py",
   "mimetype": "text/x-python",
   "name": "python",
   "nbconvert_exporter": "python",
   "pygments_lexer": "ipython3",
   "version": "3.6.7"
  }
 },
 "nbformat": 4,
 "nbformat_minor": 2
}
