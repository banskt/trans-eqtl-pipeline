{
 "cells": [
  {
   "cell_type": "code",
   "execution_count": 3,
   "metadata": {},
   "outputs": [],
   "source": [
    "import os, sys\n",
    "import numpy as np\n",
    "import pandas as pd\n",
    "import collections\n",
    "import matplotlib.pyplot as plt\n",
    "import json\n",
    "# import mpl_stylesheet\n",
    "sys.path.append(\"../../utils\")\n",
    "import utils\n",
    "# mpl_stylesheet.banskt_presentation(fontfamily = 'latex-clearsans', fontsize = 14, \n",
    "#                                    colors = 'banskt', dpi = 300, black = '#9ea8ad')"
   ]
  },
  {
   "cell_type": "code",
   "execution_count": 17,
   "metadata": {},
   "outputs": [],
   "source": [
    "tissue_file = '../../plots/tissue_table.txt'\n",
    "json_file = '../../gtex_v8_metadata.json'\n",
    "#nsample_file = '../results/gtex/tissue_nsamples.txt'\n",
    "\n",
    "runtypes = [\"gtex_v8_eur_noADM_30pc\", \"gtex_v8_eur_noADM\"]\n",
    "runtype  = runtypes[1]\n",
    "a2t_dir = f'../../../sb_optimization/{runtype}'"
   ]
  },
  {
   "cell_type": "code",
   "execution_count": 18,
   "metadata": {},
   "outputs": [],
   "source": [
    "tshorts, tfulls, tstrings = utils.read_tissues_str(tissue_file)\n",
    "with open(json_file) as instream:\n",
    "    gtex_meta = json.load(instream)\n",
    "tissue_colors = dict()\n",
    "tissue_names = dict()\n",
    "tissue_nsamples = dict()\n",
    "\n",
    "for tshort, tfull, tstring in zip(tshorts, tfulls, tstrings):\n",
    "    if tshort in tshorts:\n",
    "        tissue_names[tshort] = tstring\n",
    "        tissue_colors[tshort] = \"#\" + gtex_meta[tfull][\"colorHex\"]\n",
    "        tissue_nsamples[tshort] = gtex_meta[tfull][\"rnaSeqSampleCount\"]\n",
    "        \n",
    "brain_tissues = ['bam', 'ban', 'bca', 'bceh', 'bce', 'bco', 'bfr', 'bhi', 'bhy', 'bnu', 'bpu', 'bsp', 'bsu']\n",
    "# sb006_tissues = ['ag', 'colt', 'haa', 'liv', 'msg', 'pan', 'pit', 'pro', 'si', 'spl', 'va', 'wb']\n",
    "sb006_tissues = ['ag', 'haa', 'liv', 'msg', 'pan', 'pit', 'si', 'spl', 'va', 'wb']\n",
    "sb006_tissues = ['haa', 'pan', 'spl', 'wb']"
   ]
  },
  {
   "cell_type": "code",
   "execution_count": 19,
   "metadata": {},
   "outputs": [],
   "source": [
    "OPTPATH_FIELDS = ['sbeta', 'ngp', 'qvar']\n",
    "class OptPath(collections.namedtuple('_OptPath', OPTPATH_FIELDS)):\n",
    "    __slots__ = ()\n",
    "    \n",
    "def read_sboptim_results(infile):\n",
    "    sbpath = list()\n",
    "    with open(infile, 'r') as instream:\n",
    "        #sboptim = float(instream.readline().strip().split()[0])\n",
    "        for line in instream:\n",
    "            lsplit = line.strip().split('\\t')\n",
    "            sbeta = float(lsplit[0].strip())\n",
    "            kurt = float(lsplit[1].strip())\n",
    "            qvar = float(lsplit[2].strip())\n",
    "            sbinstance = OptPath(sbeta = sbeta, ngp = abs(kurt), qvar = qvar)\n",
    "            sbpath.append(sbinstance)\n",
    "    return sbpath\n",
    "\n",
    "def optimum_sigbeta(res, shift = 0.05):\n",
    "    ngp = np.array([x.ngp for x in res])\n",
    "    qvar = np.array([x.qvar for x in res])\n",
    "    sbeta = np.array([x.sbeta for x in res])\n",
    "    ngp_diff = ngp - np.min(ngp)\n",
    "    min_sbeta = sbeta[np.argmin(ngp)]\n",
    "    \n",
    "    maskngp = ngp_diff <= shift\n",
    "    maskqvr = qvar >= 0.005\n",
    "    mask = np.logical_and(maskngp, maskqvr)\n",
    "    if np.sum(mask) > 0:\n",
    "        opt_sbeta = np.max(sbeta[mask])\n",
    "    else:\n",
    "        opt_sbeta = np.nan\n",
    "        \n",
    "    return opt_sbeta"
   ]
  },
  {
   "cell_type": "code",
   "execution_count": 20,
   "metadata": {},
   "outputs": [],
   "source": [
    "res = dict()\n",
    "for t in tshorts:\n",
    "    tfile = os.path.join(a2t_dir, f'{t}_sboptim.txt')\n",
    "    if os.path.exists(tfile):\n",
    "        res[t] = read_sboptim_results(tfile)"
   ]
  },
  {
   "cell_type": "code",
   "execution_count": 21,
   "metadata": {},
   "outputs": [],
   "source": [
    "whichtissues = [x for x in tshorts if x in res.keys() and x not in sb006_tissues]\n",
    "fileprefix = f'gtex_alpha2t_sb01_tissues_{runtype}'\n",
    "subplot_h = 1.8\n",
    "\n",
    "# whichtissues = [x for x in tshorts if x in res.keys() and x in sb006_tissues]\n",
    "# fileprefix = f'gtex_alpha2t_sb006_tissues_{runtype}'\n",
    "# subplot_h = 1.8\n",
    "\n",
    "bgcolor = '#F0F0F0'\n",
    "highlight_color = '#EE6868'\n",
    "subdue_color = '#848f94'\n",
    "text_color = '#69767c'\n",
    "\n",
    "nplot = len(whichtissues)\n",
    "ncol  = 6\n",
    "nrow  = int(nplot / ncol + 1) if nplot%ncol != 0 else int(nplot / ncol)\n",
    "figw  = ncol * subplot_h + (ncol - 1) * 0.3 + 1.2\n",
    "figh  = nrow * subplot_h + (nrow - 1) * 0.3 + 1.5"
   ]
  },
  {
   "cell_type": "code",
   "execution_count": 22,
   "metadata": {},
   "outputs": [
    {
     "data": {
      "image/png": "[encoded data removed]",
      "text/plain": [
       "<Figure size 972x237.6 with 4 Axes>"
      ]
     },
     "metadata": {},
     "output_type": "display_data"
    }
   ],
   "source": [
    "fig = plt.figure(figsize = (figw, figh))\n",
    "# sigbeta_choices = [0.1, 0.006]\n",
    "# tlist_sb = [list() for x in sigbeta_choices]\n",
    "axmain = fig.add_subplot(111)\n",
    "\n",
    "for i, tshort in enumerate(whichtissues):\n",
    "    ax = fig.add_subplot(nrow, ncol, i + 1)\n",
    "    sbeta = [np.log10(x.sbeta) for x in res[tshort]]\n",
    "    ngp   = [x.ngp for x in res[tshort]]\n",
    "    ax.plot(sbeta, ngp, lw = 2, color = highlight_color, zorder = 5)\n",
    "    \n",
    "#     opt_sbeta = optimum_sigbeta(res[tshort], shift = 0.05)\n",
    "#     if not np.isnan(opt_sbeta):\n",
    "#         sbeta_choose_idx = np.argmin(np.array([abs(x - opt_sbeta) for x in sigbeta_choices]))\n",
    "#         tlist_sb[sbeta_choose_idx].append(tshort)\n",
    "#         ax.axvline(np.log10(sigbeta_choices[sbeta_choose_idx]), ymax = 0.6, color = subdue_color, ls = 'dashed')\n",
    "\n",
    "    opt_sbeta = 0.1 if tshort not in sb006_tissues else 0.006\n",
    "    ax.axvline(np.log10(opt_sbeta), ymax = 0.6, color = subdue_color, ls = 'dashed')\n",
    "    \n",
    "    ax.text(0.95, 0.95, tissue_names[tshort], va='top', ha='right', transform=ax.transAxes, color = text_color)\n",
    "    ax.tick_params(bottom = False, top = False, left = False, right = False,\n",
    "                   labelbottom = False, labeltop = False, labelleft = False, labelright = False)\n",
    "    \n",
    "    ax.set_facecolor(bgcolor)\n",
    "    for side, border in ax.spines.items():\n",
    "        border.set_visible(False)\n",
    "    if i < ncol:\n",
    "        ax.tick_params(top = True, labeltop = True, color = bgcolor, width = 5)\n",
    "        ax.set_xticks(np.log10([0.001, 0.01, 0.1, 1.0]))\n",
    "    if i%ncol == 0:\n",
    "        ax.tick_params(left = True, labelleft = True, color = bgcolor, width = 5)\n",
    "    ax.set_ylim(-0.1, 2.1)\n",
    "    \n",
    "axmain.tick_params(bottom = False, top = False, left = False, right = False,\n",
    "                   labelbottom = False, labeltop = False, labelleft = False, labelright = False)\n",
    "for side, border in axmain.spines.items():\n",
    "    border.set_visible(False)\n",
    "axmain.set_ylabel(r'$\\alpha(\\gamma)$', labelpad = 40, color = text_color)\n",
    "axmain.set_xlabel('$\\log_{10}(\\gamma)$', labelpad = 50, color = text_color)\n",
    "axmain.xaxis.set_label_position('top') \n",
    "\n",
    "\n",
    "plt.tight_layout()\n",
    "plt.savefig(f'{fileprefix}.pdf', bbox_inches='tight')\n",
    "plt.savefig(f'{fileprefix}.png', bbox_inches='tight')\n",
    "plt.show()"
   ]
  },
  {
   "cell_type": "code",
   "execution_count": 23,
   "metadata": {},
   "outputs": [
    {
     "name": "stdout",
     "output_type": "stream",
     "text": [
      "[OptPath(sbeta=0.004977023564332114, ngp=0.0018341105130091906, qvar=0.6672129031938117), OptPath(sbeta=0.004641588833612782, ngp=0.00392728112262497, qvar=0.722535767383328), OptPath(sbeta=0.005336699231206312, ngp=0.006425417386160426, qvar=0.6370935388838573)]\n",
      "[OptPath(sbeta=0.8697490026177834, ngp=0.041878518939846066, qvar=4.063030278012632e-05), OptPath(sbeta=0.8111308307896873, ngp=0.04204127311957606, qvar=4.6712322301261515e-05), OptPath(sbeta=0.5336699231206312, ngp=0.04207390485005735, qvar=0.00010790595885389265)]\n"
     ]
    }
   ],
   "source": [
    "from operator import attrgetter\n",
    "print(sorted(res['ms'], key=attrgetter('ngp'))[:3])\n",
    "print(sorted(res['as'], key=attrgetter('ngp'))[:3])"
   ]
  },
  {
   "cell_type": "markdown",
   "metadata": {},
   "source": [
    "#### Legacy plot below, do not delete.\n",
    "On the y-axis we plotted NGP (left axis, red) and std of the Var<Qscale> (right axis, black dotted)"
   ]
  },
  {
   "cell_type": "code",
   "execution_count": null,
   "metadata": {},
   "outputs": [],
   "source": [
    "fig = plt.figure(figsize = (figw, figh))\n",
    "\n",
    "for i, tshort in enumerate(whichtissues):\n",
    "    ax = fig.add_subplot(nrow, ncol, i + 1)\n",
    "    sbeta = [np.log10(x.sbeta) for x in res[tshort]]\n",
    "    ngp   = [x.ngp for x in res[tshort]]\n",
    "    qvar  = [np.log10(x.qvar) for x in res[tshort]]\n",
    "    ax.plot(sbeta, ngp, lw = 2, color = highlight_color, zorder = 5)\n",
    "    axt = ax.twinx()\n",
    "    axt.plot(sbeta, qvar, lw = 1, color = subdue_color, zorder = 0, ls = ':')\n",
    "    axt.axhline(np.log10(0.005), color = subdue_color, lw = 1, zorder = 0, ls = 'dashed')\n",
    "    \n",
    "    opt_sbeta = optimum_sigbeta(res[tshort])\n",
    "    #ax.scatter(sbeta, ngp, s = 5, color = '#367dc4', zorder = 10)\n",
    "    if not np.isnan(opt_sbeta):\n",
    "        ax.axvline(np.log10(opt_sbeta), ymax = 0.6, color = highlight_color, ls = 'dashed')\n",
    "    #ax.axvline(np.log10(0.1), color = '#d5dadc', ls = 'dashed')\n",
    "    \n",
    "    ax.text(0.95, 0.95, tissue_names[tshort], va='top', ha='right', transform=ax.transAxes, color = text_color)\n",
    "    ax.tick_params(bottom = False, top = False, left = False, right = False,\n",
    "                   labelbottom = False, labeltop = False, labelleft = False, labelright = False)\n",
    "    axt.tick_params(bottom = False, top = False, left = False, right = False,\n",
    "                   labelbottom = False, labeltop = False, labelleft = False, labelright = False)\n",
    "    \n",
    "    ax.set_facecolor(bgcolor)\n",
    "    for side, border in ax.spines.items():\n",
    "        border.set_visible(False)\n",
    "    for side, border in axt.spines.items():\n",
    "        border.set_visible(False)\n",
    "    \n",
    "    if i < ncol:\n",
    "        ax.tick_params(top = True, labeltop = True, color = bgcolor, width = 5)\n",
    "        ax.set_xticks(np.log10([0.001, 0.01, 0.1, 1.0]))\n",
    "    if i%ncol == 0:\n",
    "        ax.tick_params(left = True, labelleft = True, color = bgcolor, width = 5)\n",
    "    if i%ncol == (ncol - 1):\n",
    "        axt.tick_params(right = True, labelright = True, color = bgcolor, width = 5)\n",
    "        #axt.set_yticks([-10, -5, 0])\n",
    "    ax.set_ylim(-0.1, 2.1)\n",
    "    axt.set_ylim(-4.2, 0.2)\n",
    "    \n",
    "\n",
    "plt.tight_layout()\n",
    "# plt.savefig('../gtex_protein_coding_sbeta_optimization.pdf', bbox_inches='tight')\n",
    "# plt.savefig('../gtex_protein_coding_sbeta_optimization.png', bbox_inches='tight')\n",
    "plt.show()"
   ]
  },
  {
   "cell_type": "code",
   "execution_count": null,
   "metadata": {},
   "outputs": [],
   "source": []
  }
 ],
 "metadata": {
  "kernelspec": {
   "display_name": "Python 3",
   "language": "python",
   "name": "python3"
  },
  "language_info": {
   "codemirror_mode": {
    "name": "ipython",
    "version": 3
   },
   "file_extension": ".py",
   "mimetype": "text/x-python",
   "name": "python",
   "nbconvert_exporter": "python",
   "pygments_lexer": "ipython3",
   "version": "3.6.7"
  }
 },
 "nbformat": 4,
 "nbformat_minor": 2
}
