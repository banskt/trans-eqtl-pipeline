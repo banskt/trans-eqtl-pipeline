{
 "cells": [
  {
   "cell_type": "markdown",
   "metadata": {},
   "source": [
    "## Reverse Regression on GTEx to calculate Q-scores"
   ]
  },
  {
   "cell_type": "markdown",
   "metadata": {},
   "source": [
    "This notebook contains a minimal implementation of the reverse regression method. We apply the method on Adipose Subcutaneous tissue in GTEx v8 for 200 SNPs in chr1. \n",
    "\n",
    "#### Note: Running this notebook requires access to preprocessed GTEx data.\n",
    "\n",
    "For 200 SNPs over a range of MAFs, we compare analytical calculations of $\\mu_q$ and $\\sigma_q$ with their empirical values.\n",
    "For each of those SNPs, we shuffle the genotype multiple times to obtain empirical $\\mu_q$ and $\\sigma_q$."
   ]
  },
  {
   "cell_type": "code",
   "execution_count": 1,
   "metadata": {},
   "outputs": [],
   "source": [
    "import numpy as np\n",
    "import collections\n",
    "import gzip\n",
    "import random\n",
    "\n",
    "from scipy import stats\n",
    "from scipy.interpolate import interp1d\n",
    "\n",
    "import matplotlib.pyplot as plt\n",
    "#plt.switch_backend('agg')\n",
    "import matplotlib\n",
    "import sys\n",
    "sys.path.append('../')\n",
    "from utils import mpl_stylesheet\n",
    "mpl_stylesheet.banskt_presentation(fontfamily = 'latex-clearsans', fontsize = 18, colors = 'banskt', dpi = 72)"
   ]
  },
  {
   "cell_type": "code",
   "execution_count": 2,
   "metadata": {},
   "outputs": [],
   "source": [
    "f_gx = \"/scratch/sbanerj/trans-eqtl/input/gtex_v8/expression/gtex_as_raw_std_protein_coding_lncRNA.txt\"\n",
    "f_vcf = \"/scratch/sbanerj/trans-eqtl/input/gtex_v8/genotype/all_samples/GTEX_v8_2020-02-21_WGS_838Indiv_Freeze_SHAPEIT2_phased_NoMissingGT_SNPfilter_MAF0.01_chr1.vcf.gz\"\n",
    "f_gtf = \"/scratch/sbanerj/data/GENCODE/gencode.v26.annotation.gtf.gz\"\n",
    "nread = 5000\n",
    "nchoose = 200"
   ]
  },
  {
   "cell_type": "code",
   "execution_count": 3,
   "metadata": {},
   "outputs": [],
   "source": [
    "SNPINFO_FIELDS = ['chrom', 'varid', 'bp_pos', 'ref_allele', 'alt_allele', 'maf']\n",
    "class SnpInfo(collections.namedtuple('_SnpInfo', SNPINFO_FIELDS)):\n",
    "    __slots__ = ()\n",
    "\n",
    "\n",
    "def read_gtex(rpkmfile):\n",
    "    expr_list = list()\n",
    "    donor_list = list()\n",
    "    gene_list = list()\n",
    "    with open(rpkmfile) as mfile:\n",
    "        donor_list = mfile.readline().strip().split(\"\\t\")[1:]\n",
    "        for line in mfile:\n",
    "            linesplit = line.strip().split(\"\\t\")\n",
    "            gene = linesplit[0].strip()\n",
    "            gene_list.append(gene)\n",
    "            expr = np.array([float(x) for x in linesplit[1:]])\n",
    "            expr_list.append(expr)\n",
    "    expr_list = np.transpose(np.array(expr_list))\n",
    "    expr = np.transpose(np.array(expr_list)) ## see line 137 of iotools/readRPKM.py\n",
    "    return expr, gene_list, donor_list\n",
    "\n",
    "def read_vcf(filename, startsnp, endsnp):\n",
    "    dosage = list()\n",
    "    snpinfo = list()\n",
    "    linenum = 0\n",
    "    with gzip.open(filename, 'r') as vcf:\n",
    "        for line in vcf:\n",
    "            linestrip = line.decode().strip()\n",
    "            if linestrip[:2] == '##': continue\n",
    "            if linestrip[:6] == '#CHROM':\n",
    "                linesplit = linestrip.split(\"\\t\")\n",
    "                donor_ids = linesplit[9:]\n",
    "            else:\n",
    "                if linenum >= startsnp and linenum < endsnp:\n",
    "                    linesplit = linestrip.split(\"\\t\")\n",
    "                    if linesplit[0].startswith('chr'):\n",
    "                        chrom = int(linesplit[0][3:])\n",
    "                    else:\n",
    "                        chrom = int(linesplit[0])\n",
    "                    pos   = int(linesplit[1])\n",
    "                    varid = linesplit[2]\n",
    "                    ref   = linesplit[3]\n",
    "                    alt   = linesplit[4]\n",
    "\n",
    "                    #dsindx = linesplit[8].split(':').index(\"DS\")\n",
    "                    #ds = [x.split(':')[dsindx] for x in linesplit[9:]]\n",
    "                    #gtindx = linesplit[8].split(':').index(\"GT\")\n",
    "                    #for i, x in enumerate(ds):\n",
    "                    #    if x == \".\":\n",
    "                    #        gt = linesplit[9+i].split(':')[gtindx]\n",
    "                    #        if len(gt) == 3 and gt[0] != \".\" and gt[2] != \".\":\n",
    "                    #            ds[i] = float(int(gt[0]) + int(gt[2]))\n",
    "                    gtindx = linesplit[8].split(':').index(\"GT\")\n",
    "                    gt = [x.split(':')[gtindx] for x in linesplit[9:]]\n",
    "                    ds = [ float(int(x[0]) + int(x[2])) if len(x) == 3 and x[0] != \".\" and x[2] != \".\" else \".\" for x in gt ]                    \n",
    "\n",
    "                    ds_notna = [float(x) for x in ds if x != \".\"]\n",
    "                    freq = sum(ds_notna) / 2 / len(ds_notna)\n",
    "                    maf = freq\n",
    "                    snpdosage = [float(x) if x != '.' else 2 * freq for x in ds]\n",
    "\n",
    "                    this_snp = SnpInfo(chrom      = chrom,\n",
    "                                       bp_pos     = pos,\n",
    "                                       varid      = varid,\n",
    "                                       ref_allele = ref,\n",
    "                                       alt_allele = alt,\n",
    "                                       maf        = maf)\n",
    "\n",
    "                    dosage.append(snpdosage)\n",
    "                    snpinfo.append(this_snp)\n",
    "                if linenum > endsnp: break\n",
    "                linenum += 1\n",
    "\n",
    "    return np.array(dosage), snpinfo, donor_ids\n",
    "\n",
    "\n",
    "def normalize_expr(Y):\n",
    "    newY = (Y - np.mean(Y, axis = 1).reshape(-1, 1)) / np.std(Y, axis = 1).reshape(-1, 1)\n",
    "    return newY\n",
    "\n",
    "def select_donors(vcf_donors, expr_donors):\n",
    "    ''' Make sure that donors are in the same order for both expression and genotype\n",
    "    '''\n",
    "    common_donors = [x for x in vcf_donors if x in expr_donors]\n",
    "    vcfmask = np.array([vcf_donors.index(x) for x in common_donors])\n",
    "    exprmask = np.array([expr_donors.index(x) for x in common_donors])\n",
    "    return vcfmask, exprmask"
   ]
  },
  {
   "cell_type": "code",
   "execution_count": 4,
   "metadata": {},
   "outputs": [],
   "source": [
    "from sklearn.decomposition import PCA\n",
    "\n",
    "def knn_correction(expr, dosage, K, f=0.1):\n",
    "    pca = PCA(n_components=min(expr.shape[0], expr.shape[1]) )\n",
    "    pca.fit(expr) # requires N x G\n",
    "    expr_pca = pca.transform(expr)\n",
    "\n",
    "    def gene_distance(a, b):\n",
    "        return np.linalg.norm(a - b)\n",
    "\n",
    "    nsample = expr.shape[0]\n",
    "    distance_matrix = np.zeros((nsample, nsample))\n",
    "    for i in range(nsample):\n",
    "        for j in range(i+1, nsample):\n",
    "            dist = gene_distance(expr_pca[i,:], expr_pca[j,:])\n",
    "            distance_matrix[i, j] = dist\n",
    "            distance_matrix[j, i] = dist\n",
    "\n",
    "    kneighbor = K\n",
    "    gx_knn = np.zeros_like(expr)\n",
    "    gt_knn = np.zeros_like(dosage)\n",
    "    neighbor_list = list()\n",
    "\n",
    "    for i in range(nsample):\n",
    "        neighbors = np.argsort(distance_matrix[i, :])[:kneighbor + 1][1:]\n",
    "        gx_knn[i, :] = expr[i, :] - np.mean(expr[neighbors, :], axis = 0)\n",
    "        # noisy_neighbors = np.random.choice(neighbors, size = int(2 * kneighbor / 3), replace = False)\n",
    "        # noisy_neighbors = np.random.choice(neighbors, size = kneighbor, replace = True )\n",
    "        noisy_neighbors = neighbors\n",
    "        gt_knn[:, i] = dosage[:, i] - np.mean(dosage[:, noisy_neighbors], axis = 1)\n",
    "        neighbor_list.append(neighbors)\n",
    "\n",
    "    return gx_knn, gt_knn\n",
    "\n",
    "def normalize_and_center_dosage(dosage, snpinfo):\n",
    "    f = [snp.maf for snp in snpinfo]\n",
    "    f = np.array(f).reshape(-1, 1)\n",
    "    gtcent = dosage - np.mean(dosage, axis = 1).reshape(-1, 1)\n",
    "    return gtcent"
   ]
  },
  {
   "cell_type": "code",
   "execution_count": 5,
   "metadata": {},
   "outputs": [],
   "source": [
    "def pvals_perm(GT, R, W):\n",
    "    mu2, mu4 = moment_data(GT)\n",
    "    N = GT.shape[1]\n",
    "    q11 = np.sum(W)\n",
    "    q2  = np.sum(np.diag(W))\n",
    "    muQ = mu2 * (N * q2 - q11) / (N - 1)\n",
    "\n",
    "    v31 = - mu4 / (N - 1)\n",
    "    v22 = v31 + (N * mu2 * mu2 / (N - 1)) #(N*(mu2**2) - mu4)/(N-1)\n",
    "    v211 = - (v31 + v22) / (N - 2)\n",
    "    v1111 = - 3 * v211 / (N - 3)\n",
    "\n",
    "    q31 = np.dot(np.diag(W),np.sum(W,axis = 1))\n",
    "    q4 = np.sum(np.square(np.diag(W)))\n",
    "    q22 = np.sum(np.square(W))\n",
    "    q211 = np.sum(np.square(np.sum(W,axis = 1)))\n",
    "\n",
    "    sigma2 = v1111*(q11**2 - 2*q2*q11 - 4*q211 + 8*q31 + 2*q22 + q2**2 - 6*q4) \\\n",
    "                    + 2*v211*(q2*q11 + 2*q211 - 6*q31 - 2*q22 - q2**2 + 6*q4) \\\n",
    "                    + v22*(q2**2 + 2*q22 - 3*q4) \\\n",
    "                    + 4*v31*(q31 - q4) \\\n",
    "                    + mu4*q4\n",
    "    \n",
    "    sigma2 = sigma2 - muQ**2\n",
    "\n",
    "    sigmaQ = np.sqrt(sigma2)\n",
    "    p = 1 - stats.norm.cdf(R, loc=muQ, scale=sigmaQ)\n",
    "    return p, muQ, sigmaQ\n",
    "\n",
    "def moment_data(GT):   #GT ixN\n",
    "    GT2 = np.square(GT)\n",
    "    GT4 = np.square(GT2)\n",
    "    mu2 = np.mean(GT2)\n",
    "    mu4 = np.mean(GT4)\n",
    "    return mu2, mu4"
   ]
  },
  {
   "cell_type": "code",
   "execution_count": 6,
   "metadata": {},
   "outputs": [],
   "source": [
    "def format_matrix(header, matrix, rownames,\n",
    "                  top_format, left_format, cell_format, row_delim, col_delim):\n",
    "    table = [[''] + header] + [[name] + row for name, row in zip(rownames, matrix)]\n",
    "    table_format = [['{:^{}}'] + len(header) * [top_format]] \\\n",
    "                 + len(matrix) * [[left_format] + len(header) * [cell_format]]\n",
    "    col_widths = [max(\n",
    "                      len(format.format(cell, 0))\n",
    "                      for format, cell in zip(col_format, col))\n",
    "                  for col_format, col in zip(zip(*table_format), zip(*table))]\n",
    "    return row_delim.join(\n",
    "               col_delim.join(\n",
    "                   format.format(cell, width)\n",
    "                   for format, cell, width in zip(row_format, row, col_widths))\n",
    "               for row_format, row in zip(table_format, table))"
   ]
  },
  {
   "cell_type": "code",
   "execution_count": 7,
   "metadata": {},
   "outputs": [],
   "source": [
    "gtfull, snp_info, gt_donors = read_vcf(f_vcf, 0, nread)"
   ]
  },
  {
   "cell_type": "code",
   "execution_count": 8,
   "metadata": {},
   "outputs": [],
   "source": [
    "maflist = np.array([x.maf for x in snp_info])\n",
    "snpindices = random.sample(list(range(nread)), nchoose)\n",
    "snpindices.sort()"
   ]
  },
  {
   "cell_type": "code",
   "execution_count": 9,
   "metadata": {},
   "outputs": [],
   "source": [
    "#### Look at the MAF of the selected SNPs."
   ]
  },
  {
   "cell_type": "code",
   "execution_count": 10,
   "metadata": {},
   "outputs": [
    {
     "data": {
      "image/png": "[encoded data removed]",
      "text/plain": [
       "<Figure size 432x432 with 1 Axes>"
      ]
     },
     "metadata": {
      "needs_background": "light"
     },
     "output_type": "display_data"
    }
   ],
   "source": [
    "fig = plt.figure(figsize = (6, 6))\n",
    "ax1 = fig.add_subplot(111)\n",
    "ax1.hist(maflist[snpindices])\n",
    "plt.show()"
   ]
  },
  {
   "cell_type": "code",
   "execution_count": 11,
   "metadata": {},
   "outputs": [],
   "source": [
    "gx_full, _, gx_donors = read_gtex(f_gx)"
   ]
  },
  {
   "cell_type": "code",
   "execution_count": 12,
   "metadata": {},
   "outputs": [],
   "source": [
    "vcfmask, exprmask = select_donors(gt_donors, gx_donors)\n",
    "gx_norm = normalize_expr(gx_full[:, exprmask])\n",
    "gtmask = gtfull[:, vcfmask]\n",
    "gt_cent = normalize_and_center_dosage(gtmask, snp_info)\n",
    "sigmax2 = np.var(gt_cent, axis = 1)"
   ]
  },
  {
   "cell_type": "code",
   "execution_count": 13,
   "metadata": {},
   "outputs": [],
   "source": [
    "nsample = gx_norm.shape[1]\n",
    "\n",
    "gx_corr, gt_corr = knn_correction(gx_norm.T, gtmask, 30)\n",
    "gx_knn = normalize_expr(gx_corr.T) #/ np.sqrt(nsample)\n",
    "gt_knn = normalize_and_center_dosage(gt_corr, snp_info)"
   ]
  },
  {
   "cell_type": "code",
   "execution_count": 14,
   "metadata": {},
   "outputs": [],
   "source": [
    "def empirical_shuffling(GX, GT, snpindices, sigmabeta = 0.1, niter = 250):\n",
    "    sigmabeta2 = sigmabeta * sigmabeta\n",
    "    Yt = GX.T\n",
    "    U, S, Vt = np.linalg.svd(Yt, full_matrices=False)\n",
    "    S2 = np.square(S)\n",
    "    \n",
    "    muQlist = list()\n",
    "    sigmaQlist = list()\n",
    "    muQemprlist = list()\n",
    "    sigmaQemprlist = list()\n",
    "    \n",
    "    for ix in snpindices:\n",
    "        mGT = GT[ix, :]\n",
    "        sigmax2 = np.var(mGT)\n",
    "        S2mod = S2 + sigmax2 / sigmabeta2\n",
    "    \n",
    "        W = np.dot(U, np.dot(np.diag(S2 / S2mod), U.T)) / sigmax2\n",
    "        Qscore = np.sum(np.square(np.dot(U.T, mGT)) * S2 / S2mod) / sigmax2\n",
    "        pval, muQ, sigmaQ = pvals_perm(mGT.reshape(1, -1), Qscore, W)\n",
    "    \n",
    "        Qiter = np.zeros(niter)\n",
    "        permgt = mGT.copy()\n",
    "        for j in range(niter):\n",
    "            np.random.shuffle(permgt)\n",
    "            Qiter[j] = np.sum(np.square(np.dot(U.T, permgt)) * S2 / S2mod) / sigmax2\n",
    "        muQ_empr = np.mean(Qiter)\n",
    "        sigmaQ_empr = np.std(Qiter)\n",
    "        \n",
    "        muQlist.append(muQ)\n",
    "        sigmaQlist.append(sigmaQ)\n",
    "        muQemprlist.append(muQ_empr)\n",
    "        sigmaQemprlist.append(sigmaQ_empr)\n",
    "        \n",
    "    return np.array(muQlist), np.array(muQemprlist), np.array(sigmaQlist), np.array(sigmaQemprlist)"
   ]
  },
  {
   "cell_type": "code",
   "execution_count": 20,
   "metadata": {},
   "outputs": [],
   "source": [
    "muQ, muQ_empr, sigmaQ, sigmaQ_empr = empirical_shuffling(gx_knn, gt_knn, snpindices, sigmabeta = 0.01, niter = 500)"
   ]
  },
  {
   "cell_type": "markdown",
   "metadata": {},
   "source": [
    "#### Are the mean and variance correctly estimated?\n",
    "\n",
    "Shuffle the genotype and calculate Q-score 250 times. Compare the mean and variance of these empirical Q-scores with the analytical values obtained from our method."
   ]
  },
  {
   "cell_type": "code",
   "execution_count": 77,
   "metadata": {},
   "outputs": [
    {
     "data": {
      "image/png": "[encoded data removed]",
      "text/plain": [
       "<Figure size 864x432 with 2 Axes>"
      ]
     },
     "metadata": {
      "needs_background": "light"
     },
     "output_type": "display_data"
    }
   ],
   "source": [
    "fig = plt.figure(figsize = (12, 6))\n",
    "ax1 = fig.add_subplot(1,2,1)\n",
    "ax2 = fig.add_subplot(1,2,2)\n",
    "\n",
    "xval = muQ\n",
    "yval = muQ_empr\n",
    "fact = 10\n",
    "\n",
    "ax1.scatter(xval, yval, s=100, edgecolor = '#00538A', color = '#A6BDD7', zorder = 10, alpha = 0.8)\n",
    "xmax = np.ceil(max(np.max(xval), np.max(yval)) / fact) * fact - fact\n",
    "xmin = np.floor(min(np.min(xval), np.min(yval)) / fact) * fact + fact\n",
    "ax1.set_xlim(xmin - fact, xmax + fact)\n",
    "ax1.plot([xmin, xmax], [xmin, xmax], color = 'gray', zorder = 5)\n",
    "ax1.axis('equal')\n",
    "ax1.set_yticks(ax1.get_xticks())\n",
    "ax1.set_xlabel('Empirical $\\mu_q$')\n",
    "ax1.set_ylabel('Analytical $\\mu_q$')\n",
    "\n",
    "xval = sigmaQ\n",
    "yval = sigmaQ_empr\n",
    "fact = 1\n",
    "\n",
    "ax2.scatter(xval, yval, s=100, edgecolor = '#00538A', color = '#A6BDD7', zorder = 10, alpha = 0.8)\n",
    "xmax = np.ceil(max(np.max(xval), np.max(yval)) / fact) * fact - fact\n",
    "xmin = np.floor(min(np.min(xval), np.min(yval)) / fact) * fact + fact\n",
    "ax2.set_xlim(xmin - fact, xmax + fact)\n",
    "ax2.plot([xmin, xmax], [xmin, xmax], color = 'black', lw = 1, zorder = 15)\n",
    "ax2.axis('equal')\n",
    "ax2.set_yticks(ax2.get_xticks())\n",
    "ax2.set_xlabel('Empirical $\\sigma_q$')\n",
    "ax2.set_ylabel('Analytical $\\sigma_q$')\n",
    "\n",
    "\n",
    "plt.tight_layout()\n",
    "plt.show()"
   ]
  },
  {
   "cell_type": "code",
   "execution_count": 71,
   "metadata": {},
   "outputs": [],
   "source": [
    "data_arr = np.zeros((nchoose, 4))\n",
    "data_arr[:, 0] = muQ\n",
    "data_arr[:, 1] = muQ_empr\n",
    "data_arr[:, 2] = sigmaQ\n",
    "data_arr[:, 3] = sigmaQ_empr\n",
    "np.savetxt(\"muQ_sigmaQ_check.txt\", data_arr)"
   ]
  },
  {
   "cell_type": "code",
   "execution_count": null,
   "metadata": {},
   "outputs": [],
   "source": []
  }
 ],
 "metadata": {
  "kernelspec": {
   "display_name": "Python 3",
   "language": "python",
   "name": "python3"
  },
  "language_info": {
   "codemirror_mode": {
    "name": "ipython",
    "version": 3
   },
   "file_extension": ".py",
   "mimetype": "text/x-python",
   "name": "python",
   "nbconvert_exporter": "python",
   "pygments_lexer": "ipython3",
   "version": "3.7.5"
  }
 },
 "nbformat": 4,
 "nbformat_minor": 2
}
