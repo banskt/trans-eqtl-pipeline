{
 "cells": [
  {
   "cell_type": "code",
   "execution_count": 1,
   "metadata": {},
   "outputs": [],
   "source": [
    "import numpy as np\n",
    "import os\n",
    "import collections\n",
    "import precision_recall_scores as roc\n",
    "import matplotlib.pyplot as plt\n",
    "import mpl_stylesheet\n",
    "import subprocess\n",
    "\n",
    "mpl_stylesheet.banskt_presentation(fontfamily = 'system')\n",
    "\n",
    "chrm = 6\n",
    "\n",
    "nsnp = {'chr1': 301817,\n",
    "        'chr2': 324735,\n",
    "        'chr3': 283158,\n",
    "        'chr6': 272252}\n",
    "\n",
    "key = f\"chr{chrm}\"\n",
    "ntop = int(nsnp[key] * 0.01)\n",
    "\n",
    "outdir = os.path.realpath(f\"cardiogenics_mono_macro/matrixeqtl/chr{chrm}\")\n",
    "mapfile = os.path.realpath(f\"/scratch/sbanerj/data/Cardiogenics/genotype_qc/CG_filtered_imputed_{chrm}.map\")\n",
    "mqtl1 = os.path.realpath(f\"/scratch/sbanerj/trans-eqtl/dev-pipeline/cardio-mono/matrixeqtl/chr{chrm}/trans_eqtl.txt\")\n",
    "mqtl2 = os.path.realpath(f\"/scratch/sbanerj/trans-eqtl/dev-pipeline/cardio-macro/matrixeqtl/chr{chrm}/trans_eqtl.txt\")\n",
    "rand1 = os.path.realpath(f\"/scratch/sbanerj/trans-eqtl/dev-pipeline/cardio-mono/matrixeqtl_rand/chr{chrm}/trans_eqtl.txt\")\n",
    "rand2 = os.path.realpath(f\"/scratch/sbanerj/trans-eqtl/dev-pipeline/cardio-macro/matrixeqtl_rand/chr{chrm}/trans_eqtl.txt\")\n",
    "bgenfile = os.path.realpath(f\"/scratch/sbanerj/data/Cardiogenics/genotype_qc/CG_filtered_imputed_{chrm}.bgen\")\n",
    "\n",
    "ldstore = os.path.realpath(f\"/usr/users/sbanerj/packages/ldstore/ldstore_v1.1_x86_64/ldstore\")\n",
    "ldmapscript = os.path.realpath(f\"../scripts/create_ldmatrix_from_snps.sh\")\n",
    "plotscript = os.path.realpath(f\"../scripts/plot_ldmap_validated_snps.py\")"
   ]
  },
  {
   "cell_type": "code",
   "execution_count": 2,
   "metadata": {},
   "outputs": [],
   "source": [
    "RESULT_FIELDS = ['rsid', 'target_genes', 'pvals', 'fdrs']\n",
    "class MeQTLResult(collections.namedtuple('_MeQTLResult', RESULT_FIELDS)):\n",
    "    __slots__ = ()\n",
    "    \n",
    "    @property\n",
    "    def best_pval(self):\n",
    "        return min(self.pvals)\n",
    "    \n",
    "    @property\n",
    "    def best_fdr(self):\n",
    "        return min(self.fdrs)\n",
    "    \n",
    "    def __repr__(self):\n",
    "        parent_string = super(MeQTLResult, self).__repr__()\n",
    "        return '{:s}, best_pval = {:g}, best_fdr = {:g}'.format(parent_string, self.best_pval, self.best_fdr)\n",
    "    \n",
    "SNPINFO_FIELDS = ['rsid', 'bp_location', 'ref_allele', 'alt_allele']\n",
    "class SnpInfo(collections.namedtuple('_SnpInfo', SNPINFO_FIELDS)):\n",
    "    __slots__ = ()\n",
    "\n",
    "def load_snpinfo(input_file):\n",
    "    res = list()\n",
    "    with open(input_file, 'r') as instream:\n",
    "        for line in instream:\n",
    "            mline = line.split()\n",
    "            this_snp = SnpInfo(rsid = mline[1],\n",
    "                               bp_location = int(mline[3]),\n",
    "                               alt_allele = mline[4],\n",
    "                               ref_allele = mline[5])\n",
    "            res.append(this_snp)\n",
    "    return res\n",
    "\n",
    "def load_matrixeqtl_results(input_file):\n",
    "    res = list()\n",
    "    rsid_list = list()\n",
    "    print( \"Reading matrixEQTL from {:s}\".format(input_file))\n",
    "    with open(input_file) as instream:\n",
    "        _ = instream.readline()\n",
    "        for line in instream:\n",
    "            arr  = line.rstrip().split(\"\\t\")\n",
    "            rsid = arr[0]\n",
    "            target_gene = arr[1]\n",
    "            pval = float(arr[4])\n",
    "            fdr  = float(arr[5])\n",
    "            if rsid not in rsid_list:\n",
    "                thisres = MeQTLResult(rsid = rsid,\n",
    "                                      target_genes = [target_gene],\n",
    "                                      pvals = [pval],\n",
    "                                      fdrs = [fdr])\n",
    "                res.append(thisres)\n",
    "                rsid_list.append(rsid)\n",
    "            else:\n",
    "                lindex = rsid_list.index(rsid)\n",
    "                target_genes = res[lindex].target_genes + [target_gene]\n",
    "                #print(target_genes)\n",
    "                pvals = res[lindex].pvals + [pval]\n",
    "                fdrs = res[lindex].fdrs + [fdr]\n",
    "                res[lindex] = res[lindex]._replace(target_genes = target_genes, pvals = pvals, fdrs = fdrs)\n",
    "                #print(\"Replaced: \", res[lindex])\n",
    "    return res"
   ]
  },
  {
   "cell_type": "code",
   "execution_count": 3,
   "metadata": {},
   "outputs": [
    {
     "name": "stdout",
     "output_type": "stream",
     "text": [
      "Reading matrixEQTL from /scratch/sbanerj/trans-eqtl/dev-pipeline/cardio-mono/matrixeqtl/chr6/trans_eqtl.txt\n",
      "Reading matrixEQTL from /scratch/sbanerj/trans-eqtl/dev-pipeline/cardio-macro/matrixeqtl/chr6/trans_eqtl.txt\n",
      "Reading matrixEQTL from /scratch/sbanerj/trans-eqtl/dev-pipeline/cardio-mono/matrixeqtl_rand/chr6/trans_eqtl.txt\n",
      "Reading matrixEQTL from /scratch/sbanerj/trans-eqtl/dev-pipeline/cardio-macro/matrixeqtl_rand/chr6/trans_eqtl.txt\n"
     ]
    }
   ],
   "source": [
    "snpinfo = load_snpinfo(mapfile)\n",
    "\n",
    "meqtl_dis = load_matrixeqtl_results(mqtl1)\n",
    "meqtl_val = load_matrixeqtl_results(mqtl2)\n",
    "rand_dis = load_matrixeqtl_results(rand1)\n",
    "rand_val = load_matrixeqtl_results(rand2)"
   ]
  },
  {
   "cell_type": "code",
   "execution_count": 4,
   "metadata": {},
   "outputs": [
    {
     "data": {
      "image/png": "[encoded data removed]",
      "text/plain": [
       "<Figure size 432x288 with 1 Axes>"
      ]
     },
     "metadata": {
      "needs_background": "light"
     },
     "output_type": "display_data"
    }
   ],
   "source": [
    "fdr = [x.best_fdr for x in meqtl_dis if x.best_fdr < 0.7]\n",
    "plt.hist(fdr)\n",
    "plt.show()"
   ]
  },
  {
   "cell_type": "code",
   "execution_count": 5,
   "metadata": {},
   "outputs": [],
   "source": [
    "meqtl_dis_sorted = sorted(meqtl_dis, key=lambda x: x.best_pval)\n",
    "meqtl_val_sorted = sorted(meqtl_val, key=lambda x: x.best_pval)\n",
    "rand_dis_sorted  = sorted(rand_dis, key=lambda x: x.best_pval)\n",
    "rand_val_sorted  = sorted(rand_val, key=lambda x: x.best_pval)"
   ]
  },
  {
   "cell_type": "code",
   "execution_count": 6,
   "metadata": {},
   "outputs": [],
   "source": [
    "VALIDATION_FIELDS = ['rsid', 'target_genes', 'stat', 'causality']\n",
    "class ValidationResult(collections.namedtuple('_ValidationResult', VALIDATION_FIELDS)):\n",
    "    __slots__ = ()\n",
    "\n",
    "def validate(dis, val, ntop=1000):\n",
    "    res = list()\n",
    "    valsnps = [x.rsid for x in val[:ntop]]\n",
    "    for x in dis:\n",
    "        thisres = None\n",
    "        if x.rsid in valsnps:\n",
    "            thisres = ValidationResult(rsid = x.rsid,\n",
    "                                       target_genes = x.target_genes,\n",
    "                                       stat = -np.log10(x.best_pval),\n",
    "                                       causality = 1)\n",
    "        else:\n",
    "            thisres = ValidationResult(rsid = x.rsid,\n",
    "                                       target_genes = x.target_genes,\n",
    "                                       stat = -np.log10(x.best_pval),\n",
    "                                       causality = 0)\n",
    "        res.append(thisres)\n",
    "    return res"
   ]
  },
  {
   "cell_type": "code",
   "execution_count": 7,
   "metadata": {},
   "outputs": [],
   "source": [
    "valres = validate(meqtl_dis_sorted, meqtl_val_sorted, ntop)\n",
    "fpr, tpr, ppv, nsel, fdr, tplist = roc.confusion_matrix(valres)\n",
    "valres_r = validate(rand_dis_sorted, rand_val_sorted, ntop)\n",
    "fpr_r, tpr_r, ppv_r, nsel_r, fdr, tplist_r = roc.confusion_matrix(valres_r)"
   ]
  },
  {
   "cell_type": "code",
   "execution_count": 8,
   "metadata": {},
   "outputs": [
    {
     "data": {
      "image/png": "[encoded data removed]",
      "text/plain": [
       "<Figure size 576x576 with 1 Axes>"
      ]
     },
     "metadata": {
      "needs_background": "light"
     },
     "output_type": "display_data"
    }
   ],
   "source": [
    "fig = plt.figure(figsize=(8,8))\n",
    "ax1 = fig.add_subplot(111)\n",
    "ax1.plot(nsel, tplist, label=\"Real\")\n",
    "ax1.plot(nsel_r, tplist_r, label=\"Random\")\n",
    "plt.legend()\n",
    "plt.show()"
   ]
  },
  {
   "cell_type": "code",
   "execution_count": 9,
   "metadata": {},
   "outputs": [
    {
     "name": "stdout",
     "output_type": "stream",
     "text": [
      "We found 2722 trans-eQTLs targeting 94 genes\n",
      "of which 2519 trans-eQTLs target more than 5 gene\n"
     ]
    }
   ],
   "source": [
    "target_genes = list()\n",
    "tp = 0\n",
    "for res in valres:\n",
    "    if res.causality == 1:\n",
    "        tp += 1\n",
    "        target_genes += res.target_genes\n",
    "muldef = [x for x in valres if len(x.target_genes) > 2 and x.causality == 1]\n",
    "print(f\"We found {tp} trans-eQTLs targeting {len(set(target_genes))} genes\")\n",
    "print(f\"of which {len(muldef)} trans-eQTLs target more than 5 gene\")"
   ]
  },
  {
   "cell_type": "code",
   "execution_count": 10,
   "metadata": {},
   "outputs": [],
   "source": [
    "# Print list of rsids associated with the top target genes \n",
    "# \"Top\" target genes := controlled by maximum number of SNPs\n",
    "\n",
    "target_genes = collections.defaultdict(lambda: 0)\n",
    "tp = 0\n",
    "for res in valres:\n",
    "    if res.causality == 1:\n",
    "        tp += 1\n",
    "        this_target = res.target_genes\n",
    "        for gene in this_target:\n",
    "            target_genes[gene] += 1\n",
    "\n",
    "top_genes = sorted(target_genes.items(), key=lambda x: x[1], reverse = True)[:10]\n",
    "\n",
    "if not os.path.isdir(outdir): os.makedirs(outdir)\n",
    "for gene in top_genes:\n",
    "    gene_name = gene[0]\n",
    "    rsid_list = [x.rsid for x in valres if gene_name in x.target_genes and x.causality == 1]\n",
    "    outfile = os.path.join(outdir, f\"{gene_name}.txt\")\n",
    "    with open(outfile, 'w') as ofile:\n",
    "        for rsid in rsid_list:\n",
    "            snp = [x for x in snpinfo if x.rsid == rsid][0]\n",
    "            ofile.write(f\"{snp.rsid} {snp.bp_location} {chrm} {snp.alt_allele} {snp.ref_allele} \\n\")"
   ]
  },
  {
   "cell_type": "code",
   "execution_count": 11,
   "metadata": {},
   "outputs": [
    {
     "name": "stdout",
     "output_type": "stream",
     "text": [
      "/home/mpg08/sbanerj/trans-eQTL/dev-pipeline/scripts/create_ldmatrix_from_snps.sh /home/mpg08/sbanerj/packages/ldstore/ldstore_v1.1_x86_64/ldstore /home/mpg08/sbanerj/trans-eQTL/dev-pipeline/scripts/plot_ldmap_validated_snps.py 6 1 /scratch/sbanerj/data/Cardiogenics/genotype_qc/CG_filtered_imputed_6.bgen /scratch/sbanerj/trans-eqtl/dev-pipeline/cardio-mono/matrixeqtl/chr6/trans_eqtl.txt /home/mpg08/sbanerj/trans-eQTL/dev-pipeline/devtools/cardiogenics_mono_macro/matrixeqtl/chr6  ENSG00000157404 ENSG00000169756 ENSG00000186470 ENSG00000023228 ENSG00000136250 ENSG00000204525 ENSG00000196735 ENSG00000101150 ENSG00000140995 ENSG00000157554\n"
     ]
    }
   ],
   "source": [
    "glist = f\"\"\n",
    "for gene in top_genes:\n",
    "    glist = f\"{glist} {gene[0]}\"\n",
    "\n",
    "myproc = (f\"{ldmapscript} {ldstore} {plotscript} {chrm} 1 {bgenfile} {mqtl1} {outdir} {glist}\")\n",
    "print(myproc)\n",
    "# subprocess.call(myproc, shell=True)"
   ]
  },
  {
   "cell_type": "code",
   "execution_count": null,
   "metadata": {},
   "outputs": [],
   "source": []
  }
 ],
 "metadata": {
  "kernelspec": {
   "display_name": "Python 3",
   "language": "python",
   "name": "python3"
  },
  "language_info": {
   "codemirror_mode": {
    "name": "ipython",
    "version": 3
   },
   "file_extension": ".py",
   "mimetype": "text/x-python",
   "name": "python",
   "nbconvert_exporter": "python",
   "pygments_lexer": "ipython3",
   "version": "3.6.6"
  }
 },
 "nbformat": 4,
 "nbformat_minor": 2
}
